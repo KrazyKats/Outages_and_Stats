{
 "cells": [
  {
   "cell_type": "code",
   "execution_count": 98,
   "metadata": {},
   "outputs": [
    {
     "name": "stdout",
     "output_type": "stream",
     "text": [
      "The autoreload extension is already loaded. To reload it, use:\n",
      "  %reload_ext autoreload\n"
     ]
    }
   ],
   "source": [
    "%load_ext autoreload\n",
    "%autoreload 2\n"
   ]
  },
  {
   "cell_type": "code",
   "execution_count": 99,
   "metadata": {},
   "outputs": [],
   "source": [
    "# %pip install tabulate"
   ]
  },
  {
   "cell_type": "markdown",
   "metadata": {},
   "source": [
    "# Outage Severity and People Affected\n",
    "\n",
    "**Name(s)**: Quy-Dzu Do\n",
    "\n",
    "**Website Link**: https://krazykats.github.io/Outages_and_Stats/"
   ]
  },
  {
   "cell_type": "code",
   "execution_count": 100,
   "metadata": {
    "ExecuteTime": {
     "end_time": "2019-10-31T23:36:28.652554Z",
     "start_time": "2019-10-31T23:36:27.180520Z"
    }
   },
   "outputs": [],
   "source": [
    "import pandas as pd\n",
    "import numpy as np\n",
    "import os\n",
    "\n",
    "import plotly.express as px\n",
    "pd.options.plotting.backend = 'plotly'\n",
    "\n",
    "from dsc80_utils import * # Feel free to uncomment and use this.\n",
    "\n",
    "LOCAL_DIR = os.getcwd()\n",
    "website_folder = os.path.join(LOCAL_DIR, \"..\", \"Website_Resources\")"
   ]
  },
  {
   "cell_type": "code",
   "execution_count": 101,
   "metadata": {},
   "outputs": [],
   "source": [
    "from final_proj import *"
   ]
  },
  {
   "cell_type": "markdown",
   "metadata": {},
   "source": [
    "## Step 1: Introduction"
   ]
  },
  {
   "cell_type": "markdown",
   "metadata": {},
   "source": [
    "I chose to do the Outage Dataset as I felt the data to be more relevant to me as I hav lived in California for most of my life have gone through many outages due to High Winds, fires and other reasons. The League data does not interest me since I have no experience with the game so I have no expertise in the field and any conclusions I couls draw would most likely lack context needed to properly extrapolate the data. As for the recepies, I would not be opposed to working with it but I find the subject of outages to be more compelling than data on cooking and nutritional facts. \n",
    "\n",
    "For the outages dataset, I am most interested in looking at the relation between frequency and duration of outages with the corresponding population affected. I expect there to be a difference as most companies would be more concerned with population centers and centers of commerce getting an outage than a rural population but I would like to see how disproporionate is the result. "
   ]
  },
  {
   "cell_type": "markdown",
   "metadata": {},
   "source": [
    "## Step 2: Data Cleaning and Exploratory Data Analysis"
   ]
  },
  {
   "cell_type": "markdown",
   "metadata": {},
   "source": [
    "We shall begin by pulling the data into a Pandas Dataframe skipping the first 5 rows and the seventh row as they do not contain data and we set the ```\"OBV\"``` Column to the index as it IDs the rows of data. We will also convert the ```\"OUTAGE.START.TIME\"``` and ```\"OUTAGE.RESTORATION.TIME\"``` to timedelta objects, and ```\"OUTAGE.START.DATE\"``` and ```\"OUTAGE.RESTORATION.DATE\"``` to timestamp objects so they can be combined into a single date-time value stores as a Pandas Timestamp in a new dataframe with ```\"OUTAGE.START.DATE\"``` and ```\"OUTAGE.RESTORATION.DATE\"``` containing the new objects and the Time columns dropped."
   ]
  },
  {
   "cell_type": "code",
   "execution_count": 102,
   "metadata": {},
   "outputs": [
    {
     "data": {
      "text/html": [
       "<div>\n",
       "<style scoped>\n",
       "    .dataframe tbody tr th:only-of-type {\n",
       "        vertical-align: middle;\n",
       "    }\n",
       "\n",
       "    .dataframe tbody tr th {\n",
       "        vertical-align: top;\n",
       "    }\n",
       "\n",
       "    .dataframe thead th {\n",
       "        text-align: right;\n",
       "    }\n",
       "</style>\n",
       "<table border=\"1\" class=\"dataframe\">\n",
       "  <thead>\n",
       "    <tr style=\"text-align: right;\">\n",
       "      <th></th>\n",
       "      <th>YEAR</th>\n",
       "      <th>MONTH</th>\n",
       "      <th>U.S._STATE</th>\n",
       "      <th>POSTAL.CODE</th>\n",
       "      <th>...</th>\n",
       "      <th>AREAPCT_UC</th>\n",
       "      <th>PCT_LAND</th>\n",
       "      <th>PCT_WATER_TOT</th>\n",
       "      <th>PCT_WATER_INLAND</th>\n",
       "    </tr>\n",
       "    <tr>\n",
       "      <th>OBS</th>\n",
       "      <th></th>\n",
       "      <th></th>\n",
       "      <th></th>\n",
       "      <th></th>\n",
       "      <th></th>\n",
       "      <th></th>\n",
       "      <th></th>\n",
       "      <th></th>\n",
       "      <th></th>\n",
       "    </tr>\n",
       "  </thead>\n",
       "  <tbody>\n",
       "    <tr>\n",
       "      <th>1</th>\n",
       "      <td>2011</td>\n",
       "      <td>7.0</td>\n",
       "      <td>Minnesota</td>\n",
       "      <td>MN</td>\n",
       "      <td>...</td>\n",
       "      <td>0.6</td>\n",
       "      <td>91.59</td>\n",
       "      <td>8.41</td>\n",
       "      <td>5.48</td>\n",
       "    </tr>\n",
       "    <tr>\n",
       "      <th>2</th>\n",
       "      <td>2014</td>\n",
       "      <td>5.0</td>\n",
       "      <td>Minnesota</td>\n",
       "      <td>MN</td>\n",
       "      <td>...</td>\n",
       "      <td>0.6</td>\n",
       "      <td>91.59</td>\n",
       "      <td>8.41</td>\n",
       "      <td>5.48</td>\n",
       "    </tr>\n",
       "    <tr>\n",
       "      <th>3</th>\n",
       "      <td>2010</td>\n",
       "      <td>10.0</td>\n",
       "      <td>Minnesota</td>\n",
       "      <td>MN</td>\n",
       "      <td>...</td>\n",
       "      <td>0.6</td>\n",
       "      <td>91.59</td>\n",
       "      <td>8.41</td>\n",
       "      <td>5.48</td>\n",
       "    </tr>\n",
       "    <tr>\n",
       "      <th>4</th>\n",
       "      <td>2012</td>\n",
       "      <td>6.0</td>\n",
       "      <td>Minnesota</td>\n",
       "      <td>MN</td>\n",
       "      <td>...</td>\n",
       "      <td>0.6</td>\n",
       "      <td>91.59</td>\n",
       "      <td>8.41</td>\n",
       "      <td>5.48</td>\n",
       "    </tr>\n",
       "    <tr>\n",
       "      <th>5</th>\n",
       "      <td>2015</td>\n",
       "      <td>7.0</td>\n",
       "      <td>Minnesota</td>\n",
       "      <td>MN</td>\n",
       "      <td>...</td>\n",
       "      <td>0.6</td>\n",
       "      <td>91.59</td>\n",
       "      <td>8.41</td>\n",
       "      <td>5.48</td>\n",
       "    </tr>\n",
       "  </tbody>\n",
       "</table>\n",
       "<p>5 rows × 55 columns</p>\n",
       "</div>"
      ],
      "text/plain": [
       "     YEAR  MONTH U.S._STATE POSTAL.CODE  ... AREAPCT_UC PCT_LAND  \\\n",
       "OBS                                      ...                       \n",
       "1    2011    7.0  Minnesota          MN  ...        0.6    91.59   \n",
       "2    2014    5.0  Minnesota          MN  ...        0.6    91.59   \n",
       "3    2010   10.0  Minnesota          MN  ...        0.6    91.59   \n",
       "4    2012    6.0  Minnesota          MN  ...        0.6    91.59   \n",
       "5    2015    7.0  Minnesota          MN  ...        0.6    91.59   \n",
       "\n",
       "     PCT_WATER_TOT PCT_WATER_INLAND  \n",
       "OBS                                  \n",
       "1             8.41             5.48  \n",
       "2             8.41             5.48  \n",
       "3             8.41             5.48  \n",
       "4             8.41             5.48  \n",
       "5             8.41             5.48  \n",
       "\n",
       "[5 rows x 55 columns]"
      ]
     },
     "execution_count": 102,
     "metadata": {},
     "output_type": "execute_result"
    }
   ],
   "source": [
    "data_set = os.path.join(LOCAL_DIR, \"outage.xlsx\")\n",
    "data = pd.read_excel(data_set, skiprows=lambda x: x in [0,1,2,3,4,6],\n",
    "                     dtype={\"OUTAGE.START.TIME\": str,\n",
    "                            \"OUTAGE.RESTORATION.TIME\": str})\n",
    "data = data.drop(\"variables\", axis=1).set_index(\"OBS\")\n",
    "data_time= time_to_datetime(data)\n",
    "data_time.head()"
   ]
  },
  {
   "cell_type": "code",
   "execution_count": null,
   "metadata": {},
   "outputs": [],
   "source": []
  },
  {
   "cell_type": "code",
   "execution_count": 103,
   "metadata": {},
   "outputs": [
    {
     "data": {
      "text/html": [
       "<div>                            <div id=\"3b68e9a0-48af-4cc9-92d6-daa6721823eb\" class=\"plotly-graph-div\" style=\"height:600px; width:800px;\"></div>            <script type=\"text/javascript\">                require([\"plotly\"], function(Plotly) {                    window.PLOTLYENV=window.PLOTLYENV || {};                                    if (document.getElementById(\"3b68e9a0-48af-4cc9-92d6-daa6721823eb\")) {                    Plotly.newPlot(                        \"3b68e9a0-48af-4cc9-92d6-daa6721823eb\",                        [{\"alignmentgroup\":\"True\",\"bingroup\":\"x\",\"hovertemplate\":\"variable=OUTAGE.DURATION\\u003cbr\\u003eDuration (minutes)=%{x}\\u003cbr\\u003ecount=%{y}\\u003cextra\\u003e\\u003c\\u002fextra\\u003e\",\"legendgroup\":\"OUTAGE.DURATION\",\"marker\":{\"color\":\"#1F77B4\",\"pattern\":{\"shape\":\"\"}},\"name\":\"OUTAGE.DURATION\",\"offsetgroup\":\"OUTAGE.DURATION\",\"orientation\":\"v\",\"showlegend\":true,\"x\":[3060.0,1.0,3000.0,2550.0,1740.0,1860.0,2970.0,3960.0,155.0,3621.0,7740.0,8880.0,0.0,1322.0,60.0,19.0,0.0,21.0,196.0,840.0,935.0,1260.0,null,619.0,150.0,762.0,0.0,660.0,1.0,2700.0,1.0,4921.0,95.0,251.0,4125.0,2550.0,null,1200.0,310.0,2818.0,5054.0,136.0,528.0,150.0,46.0,1.0,1920.0,null,32.0,null,135.0,3000.0,32.0,108653.0,8468.0,960.0,44.0,1605.0,4410.0,388.0,480.0,1219.0,90.0,18660.0,538.0,104.0,60.0,1272.0,60.0,1.0,1000.0,17339.0,9576.0,3090.0,6510.0,5820.0,1078.0,1513.0,4830.0,3051.0,4200.0,2085.0,5730.0,4290.0,2670.0,3540.0,3637.0,1710.0,4320.0,3915.0,3120.0,4590.0,7530.0,5034.0,8160.0,3300.0,4320.0,1770.0,9857.0,4080.0,5670.0,5700.0,1995.0,300.0,5115.0,2670.0,7650.0,4338.0,761.0,5760.0,2820.0,4110.0,3360.0,3015.0,232.0,11525.0,6420.0,46080.0,5700.0,5610.0,78377.0,270.0,4050.0,5865.0,1.0,2325.0,4170.0,4485.0,2694.0,168.0,5580.0,705.0,11850.0,3494.0,4560.0,2760.0,5760.0,8922.0,6030.0,7800.0,4242.0,3120.0,5700.0,900.0,1046.0,7620.0,3630.0,1260.0,5840.0,5790.0,2820.0,600.0,4259.0,2939.0,7080.0,3600.0,1588.0,4260.0,2700.0,200.0,8430.0,85.0,9150.0,1019.0,420.0,1140.0,7440.0,4458.0,373.0,1203.0,868.0,1455.0,206.0,1195.0,1559.0,900.0,2690.0,5115.0,5.0,189.0,2142.0,360.0,null,225.0,2340.0,480.0,9486.0,480.0,3000.0,300.0,3020.0,766.0,null,1335.0,197.0,245.0,3255.0,12180.0,1077.0,600.0,186.0,690.0,27698.0,402.0,2420.0,327.0,1.0,1860.0,220.0,455.0,318.0,757.0,847.0,410.0,215.0,5.0,570.0,12124.0,2655.0,20160.0,1440.0,600.0,39.0,181.0,1185.0,1500.0,0.0,271.0,1860.0,1200.0,2159.0,6300.0,null,1620.0,224.0,70.0,1697.0,95.0,2220.0,null,7809.0,1200.0,121.0,63.0,5595.0,1.0,557.0,240.0,3360.0,685.0,2280.0,210.0,167.0,1920.0,3569.0,3300.0,10.0,1560.0,840.0,240.0,990.0,6000.0,17865.0,1282.0,1080.0,7540.0,1320.0,1110.0,27698.0,130.0,3040.0,394.0,10140.0,20160.0,21540.0,45.0,1.0,1200.0,550.0,900.0,885.0,940.0,null,3050.0,1830.0,6000.0,1500.0,150.0,1955.0,2220.0,330.0,74.0,420.0,1440.0,255.0,1060.0,12240.0,5250.0,4320.0,120.0,233.0,null,65.0,2120.0,96.0,3.0,4320.0,65.0,2146.0,96.0,4032.0,2580.0,6.0,569.0,0.0,15950.0,200.0,1980.0,4045.0,2730.0,3314.0,7319.0,1.0,47.0,1440.0,276.0,0.0,0.0,3646.0,1130.0,2880.0,513.0,35.0,23773.0,10.0,3872.0,23187.0,12240.0,390.0,null,3264.0,1230.0,803.0,77.0,30.0,300.0,1.0,5.0,1450.0,2680.0,null,7609.0,150.0,3000.0,420.0,479.0,1680.0,2700.0,149.0,1110.0,2790.0,659.0,1320.0,1830.0,3000.0,null,870.0,810.0,1336.0,1695.0,360.0,360.0,120.0,3000.0,1290.0,1530.0,2370.0,1200.0,1200.0,90.0,120.0,1200.0,2761.0,720.0,1120.0,2100.0,960.0,450.0,1440.0,1020.0,0.0,2010.0,120.0,9230.0,1240.0,465.0,0.0,2460.0,1183.0,8880.0,394.0,219.0,487.0,19.0,28.0,0.0,1.0,5340.0,8940.0,467.0,0.0,1920.0,0.0,25.0,420.0,2040.0,0.0,1.0,1423.0,60.0,1620.0,3300.0,385.0,663.0,123.0,1276.0,1919.0,null,440.0,6690.0,null,0.0,null,717.0,1204.0,292.0,313.0,1.0,5.0,6276.0,0.0,74.0,0.0,null,248.0,1.0,2700.0,25.0,126.0,1.0,255.0,1207.0,0.0,0.0,245.0,476.0,null,null,null,1.0,2639.0,502.0,548.0,369.0,6480.0,15.0,5.0,null,1.0,0.0,432.0,21.0,1697.0,0.0,2615.0,9630.0,3507.0,2820.0,314.0,5855.0,0.0,0.0,1.0,22769.0,70.0,4285.0,355.0,0.0,2520.0,0.0,180.0,554.0,50.0,70.0,180.0,3842.0,35.0,1.0,189.0,49320.0,4200.0,353.0,1.0,87.0,66.0,null,1.0,227.0,null,1440.0,1.0,2700.0,null,49320.0,2.0,215.0,451.0,418.0,100.0,2021.0,1671.0,3938.0,4470.0,2279.0,4440.0,2760.0,0.0,1.0,0.0,1.0,1840.0,428.0,331.0,1980.0,1.0,1.0,1950.0,3037.0,1.0,1.0,1196.0,5628.0,1440.0,7700.0,2.0,12890.0,4232.0,95.0,2610.0,4320.0,17.0,113.0,0.0,2507.0,0.0,1.0,4920.0,1.0,4080.0,0.0,960.0,185.0,1320.0,1673.0,2855.0,3060.0,565.0,1.0,1.0,7298.0,5790.0,3040.0,11700.0,7987.0,304.0,4517.0,0.0,3058.0,13381.0,2865.0,152.0,380.0,9450.0,7803.0,5579.0,8979.0,4800.0,3060.0,4792.0,3894.0,1757.0,2880.0,2985.0,164.0,3232.0,2319.0,4338.0,2880.0,1714.0,90.0,59.0,4139.0,10530.0,6938.0,930.0,278.0,299.0,5320.0,2880.0,1.0,4260.0,6713.0,5160.0,1440.0,78.0,7523.0,2668.0,1.0,376.0,1324.0,6940.0,2684.0,54.0,100.0,720.0,2880.0,3189.0,2790.0,13679.0,2843.0,13488.0,1642.0,7709.0,7080.0,1440.0,1.0,1680.0,1579.0,652.0,108.0,300.0,1020.0,3570.0,6492.0,23700.0,10499.0,15180.0,0.0,120.0,1.0,1.0,1.0,1.0,1.0,1.0,60.0,113.0,204.0,31.0,57.0,13.0,2.0,11.0,283.0,0.0,1.0,871.0,1631.0,56.0,15.0,15.0,20.0,60.0,1.0,95.0,300.0,1.0,3186.0,575.0,2275.0,15.0,1.0,44.0,21.0,1.0,114.0,1.0,60.0,4920.0,null,4920.0,420.0,0.0,7.0,21.0,340.0,4200.0,805.0,5040.0,7430.0,5490.0,165.0,3630.0,11640.0,1590.0,3137.0,1440.0,7920.0,360.0,0.0,1440.0,1372.0,6480.0,2190.0,285.0,75.0,1843.0,1.0,11531.0,1420.0,0.0,930.0,11420.0,0.0,352.0,0.0,960.0,1733.0,3690.0,10619.0,634.0,11280.0,1440.0,180.0,1574.0,45.0,563.0,388.0,373.0,4510.0,290.0,1950.0,270.0,1355.0,1318.0,2490.0,1265.0,195.0,3120.0,3388.0,1025.0,990.0,240.0,1485.0,129.0,0.0,1528.0,1890.0,2551.0,985.0,405.0,1698.0,167.0,1460.0,182.0,4113.0,null,885.0,15.0,42.0,1050.0,1.0,132.0,4140.0,2880.0,null,11430.0,3599.0,0.0,2941.0,null,6090.0,1365.0,375.0,2520.0,10080.0,76.0,0.0,3720.0,333.0,0.0,353.0,11337.0,0.0,0.0,7020.0,11058.0,null,9360.0,3300.0,3339.0,2880.0,11580.0,9600.0,13201.0,9719.0,488.0,2415.0,180.0,4177.0,7440.0,3480.0,6600.0,300.0,1526.0,60.0,210.0,2.0,1350.0,73.0,1.0,200.0,0.0,null,4380.0,0.0,120.0,2680.0,840.0,989.0,4313.0,214.0,4.0,164.0,91.0,1050.0,838.0,60.0,1.0,1.0,9886.0,2425.0,390.0,14500.0,6660.0,159.0,54.0,30.0,8077.0,855.0,65.0,810.0,4150.0,4740.0,25.0,0.0,null,2070.0,870.0,12652.0,2880.0,120.0,1199.0,null,1470.0,4140.0,15420.0,50.0,0.0,1.0,1.0,0.0,0.0,0.0,457.0,1.0,1.0,0.0,30.0,1.0,1.0,65.0,1.0,0.0,0.0,0.0,1.0,null,1.0,0.0,1.0,1.0,110.0,39.0,1.0,1.0,1.0,1.0,1.0,1.0,507.0,213.0,4254.0,1.0,1.0,53.0,0.0,0.0,251.0,347.0,1637.0,21360.0,2161.0,2880.0,1044.0,8670.0,56.0,93.0,13.0,2089.0,20280.0,14639.0,2880.0,681.0,494.0,1.0,5355.0,0.0,3943.0,3300.0,191.0,0.0,73.0,4680.0,17310.0,10080.0,10726.0,1.0,5.0,2515.0,25920.0,2730.0,9480.0,5400.0,30.0,3584.0,3600.0,5850.0,4710.0,1.0,1732.0,0.0,23040.0,1800.0,6074.0,null,49.0,2299.0,5760.0,420.0,7320.0,2880.0,448.0,2520.0,18717.0,5513.0,21.0,2100.0,3120.0,8221.0,3240.0,2880.0,255.0,2355.0,161.0,50.0,258.0,13140.0,8640.0,18240.0,15492.0,8268.0,0.0,300.0,14400.0,7962.0,2400.0,11296.0,48.0,60480.0,28170.0,300.0,8054.0,2775.0,2775.0,2160.0,2100.0,2775.0,3180.0,2775.0,1440.0,430.0,2129.0,1755.0,null,692.0,732.0,7.0,510.0,420.0,13215.0,557.0,300.0,17812.0,20416.0,6240.0,467.0,3067.0,3060.0,355.0,430.0,300.0,227.0,52.0,null,2880.0,18804.0,1867.0,1690.0,295.0,17.0,240.0,17520.0,8189.0,182.0,5820.0,83.0,230.0,2009.0,720.0,155.0,4320.0,4320.0,480.0,1005.0,221.0,372.0,13430.0,4320.0,91.0,1419.0,3600.0,10080.0,5071.0,152.0,6840.0,221.0,24780.0,38.0,61.0,7560.0,90.0,10380.0,396.0,2040.0,12060.0,1080.0,1680.0,13920.0,14101.0,1099.0,2460.0,540.0,52.0,816.0,420.0,155.0,437.0,247.0,540.0,1135.0,437.0,180.0,171.0,656.0,84.0,202.0,255.0,1054.0,1.0,1254.0,1456.0,177.0,106.0,32.0,2464.0,55.0,144.0,70.0,64.0,8873.0,945.0,null,523.0,56.0,3.0,8472.0,155.0,33.0,749.0,159.0,null,270.0,2790.0,224.0,1470.0,334.0,2050.0,370.0,26.0,797.0,12.0,195.0,1.0,230.0,125.0,15.0,316.0,365.0,1560.0,4740.0,294.0,455.0,2878.0,336.0,295.0,480.0,25.0,null,223.0,2645.0,2016.0,7371.0,360.0,3408.0,3698.0,4890.0,1.0,871.0,2759.0,250.0,3301.0,249.0,164.0,435.0,420.0,854.0,5160.0,133.0,15180.0,2055.0,451.0,140.0,199.0,721.0,179.0,1524.0,78.0,268.0,39.0,1.0,14190.0,47.0,161.0,900.0,6070.0,697.0,234.0,14.0,5910.0,null,34390.0,40.0,166.0,182.0,829.0,15.0,64.0,13.0,245.0,1080.0,null,390.0,47.0,269.0,null,400.0,660.0,213.0,null,761.0,8100.0,180.0,124.0,4320.0,2820.0,3100.0,49427.0,989.0,125.0,44.0,26.0,245.0,null,98.0,1.0,0.0,135.0,50.0,1008.0,53.0,554.0,1260.0,2895.0,89.0,98.0,865.0,128.0,230.0,252.0,130.0,5.0,157.0,6914.0,11.0,13.0,2880.0,270.0,962.0,47.0,null,20.0,108.0,9855.0,75.0,17.0,21.0,1950.0,11867.0,141.0,959.0,1035.0,617.0,1230.0,572.0,324.0,1835.0,6780.0,900.0,null,37.0,72.0,1.0,251.0,620.0,89.0,909.0,236.0,326.0,300.0,751.0,122.0,214.0,193.0,8.0,5227.0,null,1414.0,448.0,4605.0,4080.0,null,1914.0,759.0,1.0,10274.0,3.0,2700.0,105.0,240.0,210.0,1.0,1201.0,30.0,2806.0,1226.0,300.0,206.0,270.0,2880.0,513.0,8160.0,3314.0,414.0,126.0,60.0,285.0,110.0,62.0,2363.0,424.0,180.0,0.0,448.0,2.0,624.0,2435.0,131.0,null,208.0,103.0,1355.0,1523.0,90.0,1205.0,385.0,144.0,235.0,241.0,6787.0,1337.0,1673.0,3366.0,2640.0,1826.0,570.0,1565.0,2691.0,1072.0,115.0,816.0,168.0,30.0,160.0,485.0,1508.0,1301.0,159.0,60.0,4.0,9600.0,106.0,0.0,0.0,1.0,32.0,61.0,314.0,30.0,0.0,92.0,390.0,161.0,60.0,76.0,1.0,1.0,160.0,20.0,1.0,1.0,70.0,50.0,15.0,810.0,1380.0,1800.0,1560.0,2054.0,1452.0,1865.0,1999.0,120.0,1950.0,360.0,1087.0,1200.0,4122.0,360.0,645.0,108.0,0.0,1.0,1440.0,4560.0,1.0,1.0,110.0,210.0,120.0,0.0,4260.0,76.0,210.0,3305.0,5880.0,145.0,60.0,2640.0,1042.0,110.0,11880.0,2245.0,984.0,7200.0,1381.0,148.0,13972.0,null,796.0,300.0,null,2612.0,3000.0,431.0,5310.0,1732.0,0.0,6685.0,3300.0,280.0,117.0,2895.0,480.0,31.0,1.0,0.0,0.0,103.0,4745.0,307.0,1656.0,3525.0,374.0,1068.0,1569.0,114.0,115.0,15.0,2891.0,1.0,1676.0,0.0,0.0,3604.0,195.0,1.0,0.0,2108.0,198.0,3667.0,1037.0,673.0,null,2652.0,300.0,881.0,618.0,1187.0,950.0,2535.0,27.0,108.0,73.0,200.0,5.0,75.0,0.0,77.0,660.0,0.0,92.0,30.0,33.0,1895.0,274.0,1.0,1534.0,1.0,60.0,108.0,2.0,175.0,null,2040.0,2710.0,284.0,105.0,4019.0,1.0,391.0,439.0,5.0,201.0,2140.0,103.0,null,187.0,1406.0,348.0,13650.0,90.0,913.0,null,14040.0,1367.0,174.0,543.0,237.0,1906.0,224.0,0.0,95.0,360.0,1548.0,870.0,0.0,null,220.0,720.0,null,59.0,181.0,null],\"xaxis\":\"x\",\"yaxis\":\"y\",\"type\":\"histogram\"}],                        {\"template\":{\"data\":{\"barpolar\":[{\"marker\":{\"line\":{\"color\":\"white\",\"width\":0.5},\"pattern\":{\"fillmode\":\"overlay\",\"size\":10,\"solidity\":0.2}},\"type\":\"barpolar\"}],\"bar\":[{\"error_x\":{\"color\":\"rgb(36,36,36)\"},\"error_y\":{\"color\":\"rgb(36,36,36)\"},\"marker\":{\"line\":{\"color\":\"white\",\"width\":0.5},\"pattern\":{\"fillmode\":\"overlay\",\"size\":10,\"solidity\":0.2}},\"type\":\"bar\"}],\"carpet\":[{\"aaxis\":{\"endlinecolor\":\"rgb(36,36,36)\",\"gridcolor\":\"white\",\"linecolor\":\"white\",\"minorgridcolor\":\"white\",\"startlinecolor\":\"rgb(36,36,36)\"},\"baxis\":{\"endlinecolor\":\"rgb(36,36,36)\",\"gridcolor\":\"white\",\"linecolor\":\"white\",\"minorgridcolor\":\"white\",\"startlinecolor\":\"rgb(36,36,36)\"},\"type\":\"carpet\"}],\"choropleth\":[{\"colorbar\":{\"outlinewidth\":1,\"tickcolor\":\"rgb(36,36,36)\",\"ticks\":\"outside\"},\"type\":\"choropleth\"}],\"contourcarpet\":[{\"colorbar\":{\"outlinewidth\":1,\"tickcolor\":\"rgb(36,36,36)\",\"ticks\":\"outside\"},\"type\":\"contourcarpet\"}],\"contour\":[{\"colorbar\":{\"outlinewidth\":1,\"tickcolor\":\"rgb(36,36,36)\",\"ticks\":\"outside\"},\"colorscale\":[[0.0,\"#440154\"],[0.1111111111111111,\"#482878\"],[0.2222222222222222,\"#3e4989\"],[0.3333333333333333,\"#31688e\"],[0.4444444444444444,\"#26828e\"],[0.5555555555555556,\"#1f9e89\"],[0.6666666666666666,\"#35b779\"],[0.7777777777777778,\"#6ece58\"],[0.8888888888888888,\"#b5de2b\"],[1.0,\"#fde725\"]],\"type\":\"contour\"}],\"heatmapgl\":[{\"colorbar\":{\"outlinewidth\":1,\"tickcolor\":\"rgb(36,36,36)\",\"ticks\":\"outside\"},\"colorscale\":[[0.0,\"#440154\"],[0.1111111111111111,\"#482878\"],[0.2222222222222222,\"#3e4989\"],[0.3333333333333333,\"#31688e\"],[0.4444444444444444,\"#26828e\"],[0.5555555555555556,\"#1f9e89\"],[0.6666666666666666,\"#35b779\"],[0.7777777777777778,\"#6ece58\"],[0.8888888888888888,\"#b5de2b\"],[1.0,\"#fde725\"]],\"type\":\"heatmapgl\"}],\"heatmap\":[{\"colorbar\":{\"outlinewidth\":1,\"tickcolor\":\"rgb(36,36,36)\",\"ticks\":\"outside\"},\"colorscale\":[[0.0,\"#440154\"],[0.1111111111111111,\"#482878\"],[0.2222222222222222,\"#3e4989\"],[0.3333333333333333,\"#31688e\"],[0.4444444444444444,\"#26828e\"],[0.5555555555555556,\"#1f9e89\"],[0.6666666666666666,\"#35b779\"],[0.7777777777777778,\"#6ece58\"],[0.8888888888888888,\"#b5de2b\"],[1.0,\"#fde725\"]],\"type\":\"heatmap\"}],\"histogram2dcontour\":[{\"colorbar\":{\"outlinewidth\":1,\"tickcolor\":\"rgb(36,36,36)\",\"ticks\":\"outside\"},\"colorscale\":[[0.0,\"#440154\"],[0.1111111111111111,\"#482878\"],[0.2222222222222222,\"#3e4989\"],[0.3333333333333333,\"#31688e\"],[0.4444444444444444,\"#26828e\"],[0.5555555555555556,\"#1f9e89\"],[0.6666666666666666,\"#35b779\"],[0.7777777777777778,\"#6ece58\"],[0.8888888888888888,\"#b5de2b\"],[1.0,\"#fde725\"]],\"type\":\"histogram2dcontour\"}],\"histogram2d\":[{\"colorbar\":{\"outlinewidth\":1,\"tickcolor\":\"rgb(36,36,36)\",\"ticks\":\"outside\"},\"colorscale\":[[0.0,\"#440154\"],[0.1111111111111111,\"#482878\"],[0.2222222222222222,\"#3e4989\"],[0.3333333333333333,\"#31688e\"],[0.4444444444444444,\"#26828e\"],[0.5555555555555556,\"#1f9e89\"],[0.6666666666666666,\"#35b779\"],[0.7777777777777778,\"#6ece58\"],[0.8888888888888888,\"#b5de2b\"],[1.0,\"#fde725\"]],\"type\":\"histogram2d\"}],\"histogram\":[{\"marker\":{\"line\":{\"color\":\"white\",\"width\":0.6}},\"type\":\"histogram\"}],\"mesh3d\":[{\"colorbar\":{\"outlinewidth\":1,\"tickcolor\":\"rgb(36,36,36)\",\"ticks\":\"outside\"},\"type\":\"mesh3d\"}],\"parcoords\":[{\"line\":{\"colorbar\":{\"outlinewidth\":1,\"tickcolor\":\"rgb(36,36,36)\",\"ticks\":\"outside\"}},\"type\":\"parcoords\"}],\"pie\":[{\"automargin\":true,\"type\":\"pie\"}],\"scatter3d\":[{\"line\":{\"colorbar\":{\"outlinewidth\":1,\"tickcolor\":\"rgb(36,36,36)\",\"ticks\":\"outside\"}},\"marker\":{\"colorbar\":{\"outlinewidth\":1,\"tickcolor\":\"rgb(36,36,36)\",\"ticks\":\"outside\"}},\"type\":\"scatter3d\"}],\"scattercarpet\":[{\"marker\":{\"colorbar\":{\"outlinewidth\":1,\"tickcolor\":\"rgb(36,36,36)\",\"ticks\":\"outside\"}},\"type\":\"scattercarpet\"}],\"scattergeo\":[{\"marker\":{\"colorbar\":{\"outlinewidth\":1,\"tickcolor\":\"rgb(36,36,36)\",\"ticks\":\"outside\"}},\"type\":\"scattergeo\"}],\"scattergl\":[{\"marker\":{\"colorbar\":{\"outlinewidth\":1,\"tickcolor\":\"rgb(36,36,36)\",\"ticks\":\"outside\"}},\"type\":\"scattergl\"}],\"scattermapbox\":[{\"marker\":{\"colorbar\":{\"outlinewidth\":1,\"tickcolor\":\"rgb(36,36,36)\",\"ticks\":\"outside\"}},\"type\":\"scattermapbox\"}],\"scatterpolargl\":[{\"marker\":{\"colorbar\":{\"outlinewidth\":1,\"tickcolor\":\"rgb(36,36,36)\",\"ticks\":\"outside\"}},\"type\":\"scatterpolargl\"}],\"scatterpolar\":[{\"marker\":{\"colorbar\":{\"outlinewidth\":1,\"tickcolor\":\"rgb(36,36,36)\",\"ticks\":\"outside\"}},\"type\":\"scatterpolar\"}],\"scatter\":[{\"fillpattern\":{\"fillmode\":\"overlay\",\"size\":10,\"solidity\":0.2},\"type\":\"scatter\"}],\"scatterternary\":[{\"marker\":{\"colorbar\":{\"outlinewidth\":1,\"tickcolor\":\"rgb(36,36,36)\",\"ticks\":\"outside\"}},\"type\":\"scatterternary\"}],\"surface\":[{\"colorbar\":{\"outlinewidth\":1,\"tickcolor\":\"rgb(36,36,36)\",\"ticks\":\"outside\"},\"colorscale\":[[0.0,\"#440154\"],[0.1111111111111111,\"#482878\"],[0.2222222222222222,\"#3e4989\"],[0.3333333333333333,\"#31688e\"],[0.4444444444444444,\"#26828e\"],[0.5555555555555556,\"#1f9e89\"],[0.6666666666666666,\"#35b779\"],[0.7777777777777778,\"#6ece58\"],[0.8888888888888888,\"#b5de2b\"],[1.0,\"#fde725\"]],\"type\":\"surface\"}],\"table\":[{\"cells\":{\"fill\":{\"color\":\"rgb(237,237,237)\"},\"line\":{\"color\":\"white\"}},\"header\":{\"fill\":{\"color\":\"rgb(217,217,217)\"},\"line\":{\"color\":\"white\"}},\"type\":\"table\"}]},\"layout\":{\"annotationdefaults\":{\"arrowhead\":0,\"arrowwidth\":1},\"autotypenumbers\":\"strict\",\"coloraxis\":{\"colorbar\":{\"outlinewidth\":1,\"tickcolor\":\"rgb(36,36,36)\",\"ticks\":\"outside\"}},\"colorscale\":{\"diverging\":[[0.0,\"rgb(103,0,31)\"],[0.1,\"rgb(178,24,43)\"],[0.2,\"rgb(214,96,77)\"],[0.3,\"rgb(244,165,130)\"],[0.4,\"rgb(253,219,199)\"],[0.5,\"rgb(247,247,247)\"],[0.6,\"rgb(209,229,240)\"],[0.7,\"rgb(146,197,222)\"],[0.8,\"rgb(67,147,195)\"],[0.9,\"rgb(33,102,172)\"],[1.0,\"rgb(5,48,97)\"]],\"sequential\":[[0.0,\"#440154\"],[0.1111111111111111,\"#482878\"],[0.2222222222222222,\"#3e4989\"],[0.3333333333333333,\"#31688e\"],[0.4444444444444444,\"#26828e\"],[0.5555555555555556,\"#1f9e89\"],[0.6666666666666666,\"#35b779\"],[0.7777777777777778,\"#6ece58\"],[0.8888888888888888,\"#b5de2b\"],[1.0,\"#fde725\"]],\"sequentialminus\":[[0.0,\"#440154\"],[0.1111111111111111,\"#482878\"],[0.2222222222222222,\"#3e4989\"],[0.3333333333333333,\"#31688e\"],[0.4444444444444444,\"#26828e\"],[0.5555555555555556,\"#1f9e89\"],[0.6666666666666666,\"#35b779\"],[0.7777777777777778,\"#6ece58\"],[0.8888888888888888,\"#b5de2b\"],[1.0,\"#fde725\"]]},\"colorway\":[\"#1F77B4\",\"#FF7F0E\",\"#2CA02C\",\"#D62728\",\"#9467BD\",\"#8C564B\",\"#E377C2\",\"#7F7F7F\",\"#BCBD22\",\"#17BECF\"],\"font\":{\"color\":\"rgb(36,36,36)\"},\"geo\":{\"bgcolor\":\"white\",\"lakecolor\":\"white\",\"landcolor\":\"white\",\"showlakes\":true,\"showland\":true,\"subunitcolor\":\"white\"},\"hoverlabel\":{\"align\":\"left\"},\"hovermode\":\"closest\",\"mapbox\":{\"style\":\"light\"},\"paper_bgcolor\":\"white\",\"plot_bgcolor\":\"white\",\"polar\":{\"angularaxis\":{\"gridcolor\":\"rgb(232,232,232)\",\"linecolor\":\"rgb(36,36,36)\",\"showgrid\":false,\"showline\":true,\"ticks\":\"outside\"},\"bgcolor\":\"white\",\"radialaxis\":{\"gridcolor\":\"rgb(232,232,232)\",\"linecolor\":\"rgb(36,36,36)\",\"showgrid\":false,\"showline\":true,\"ticks\":\"outside\"}},\"scene\":{\"xaxis\":{\"backgroundcolor\":\"white\",\"gridcolor\":\"rgb(232,232,232)\",\"gridwidth\":2,\"linecolor\":\"rgb(36,36,36)\",\"showbackground\":true,\"showgrid\":false,\"showline\":true,\"ticks\":\"outside\",\"zeroline\":false,\"zerolinecolor\":\"rgb(36,36,36)\"},\"yaxis\":{\"backgroundcolor\":\"white\",\"gridcolor\":\"rgb(232,232,232)\",\"gridwidth\":2,\"linecolor\":\"rgb(36,36,36)\",\"showbackground\":true,\"showgrid\":false,\"showline\":true,\"ticks\":\"outside\",\"zeroline\":false,\"zerolinecolor\":\"rgb(36,36,36)\"},\"zaxis\":{\"backgroundcolor\":\"white\",\"gridcolor\":\"rgb(232,232,232)\",\"gridwidth\":2,\"linecolor\":\"rgb(36,36,36)\",\"showbackground\":true,\"showgrid\":false,\"showline\":true,\"ticks\":\"outside\",\"zeroline\":false,\"zerolinecolor\":\"rgb(36,36,36)\"}},\"shapedefaults\":{\"fillcolor\":\"black\",\"line\":{\"width\":0},\"opacity\":0.3},\"ternary\":{\"aaxis\":{\"gridcolor\":\"rgb(232,232,232)\",\"linecolor\":\"rgb(36,36,36)\",\"showgrid\":false,\"showline\":true,\"ticks\":\"outside\"},\"baxis\":{\"gridcolor\":\"rgb(232,232,232)\",\"linecolor\":\"rgb(36,36,36)\",\"showgrid\":false,\"showline\":true,\"ticks\":\"outside\"},\"bgcolor\":\"white\",\"caxis\":{\"gridcolor\":\"rgb(232,232,232)\",\"linecolor\":\"rgb(36,36,36)\",\"showgrid\":false,\"showline\":true,\"ticks\":\"outside\"}},\"title\":{\"x\":0.5,\"xanchor\":\"center\"},\"xaxis\":{\"automargin\":true,\"gridcolor\":\"rgb(232,232,232)\",\"linecolor\":\"rgb(36,36,36)\",\"showgrid\":true,\"showline\":true,\"ticks\":\"outside\",\"title\":{\"standoff\":15},\"zeroline\":false,\"zerolinecolor\":\"rgb(36,36,36)\"},\"yaxis\":{\"automargin\":true,\"gridcolor\":\"rgb(232,232,232)\",\"linecolor\":\"rgb(36,36,36)\",\"showgrid\":true,\"showline\":true,\"ticks\":\"outside\",\"title\":{\"standoff\":15},\"zeroline\":false,\"zerolinecolor\":\"rgb(36,36,36)\"},\"autosize\":true,\"height\":400,\"margin\":{\"b\":30,\"l\":30,\"r\":30,\"t\":30},\"width\":600}},\"xaxis\":{\"anchor\":\"y\",\"domain\":[0.0,1.0],\"title\":{\"text\":\"Duration (minutes)\"}},\"yaxis\":{\"anchor\":\"x\",\"domain\":[0.0,1.0],\"title\":{\"text\":\"count\"}},\"legend\":{\"title\":{\"text\":\"variable\"},\"tracegroupgap\":0},\"title\":{\"text\":\"Outage Duration Distribution\"},\"barmode\":\"relative\",\"width\":800,\"height\":600},                        {\"responsive\": true}                    ).then(function(){\n",
       "                            \n",
       "var gd = document.getElementById('3b68e9a0-48af-4cc9-92d6-daa6721823eb');\n",
       "var x = new MutationObserver(function (mutations, observer) {{\n",
       "        var display = window.getComputedStyle(gd).display;\n",
       "        if (!display || display === 'none') {{\n",
       "            console.log([gd, 'removed!']);\n",
       "            Plotly.purge(gd);\n",
       "            observer.disconnect();\n",
       "        }}\n",
       "}});\n",
       "\n",
       "// Listen for the removal of the full notebook cells\n",
       "var notebookContainer = gd.closest('#notebook-container');\n",
       "if (notebookContainer) {{\n",
       "    x.observe(notebookContainer, {childList: true});\n",
       "}}\n",
       "\n",
       "// Listen for the clearing of the current output cell\n",
       "var outputEl = gd.closest('.output');\n",
       "if (outputEl) {{\n",
       "    x.observe(outputEl, {childList: true});\n",
       "}}\n",
       "\n",
       "                        })                };                });            </script>        </div>"
      ]
     },
     "metadata": {},
     "output_type": "display_data"
    }
   ],
   "source": [
    "fig1 = data_time[\"OUTAGE.DURATION\"]\\\n",
    "    .hist(bins=100, title=\"Outage Duration Distribution\", labels={\"value\": \"Duration (minutes)\", \"index\": \"Frequency\"})\n",
    "fig1.update_layout(width=800, height=600)\n",
    "fig1.show()"
   ]
  },
  {
   "cell_type": "code",
   "execution_count": 104,
   "metadata": {},
   "outputs": [
    {
     "data": {
      "text/html": [
       "<div>                            <div id=\"d31d6e63-f125-4a4e-9075-42f44e7e2d21\" class=\"plotly-graph-div\" style=\"height:600px; width:800px;\"></div>            <script type=\"text/javascript\">                require([\"plotly\"], function(Plotly) {                    window.PLOTLYENV=window.PLOTLYENV || {};                                    if (document.getElementById(\"d31d6e63-f125-4a4e-9075-42f44e7e2d21\")) {                    Plotly.newPlot(                        \"d31d6e63-f125-4a4e-9075-42f44e7e2d21\",                        [{\"alignmentgroup\":\"True\",\"bingroup\":\"x\",\"hovertemplate\":\"variable=OUTAGE.DURATION\\u003cbr\\u003eDuration (minutes)=%{x}\\u003cbr\\u003ecount=%{y}\\u003cextra\\u003e\\u003c\\u002fextra\\u003e\",\"legendgroup\":\"OUTAGE.DURATION\",\"marker\":{\"color\":\"#1F77B4\",\"pattern\":{\"shape\":\"\"}},\"name\":\"OUTAGE.DURATION\",\"offsetgroup\":\"OUTAGE.DURATION\",\"orientation\":\"v\",\"showlegend\":true,\"x\":[420.0,155.0,437.0,247.0,540.0,1135.0,437.0,180.0,171.0,656.0,84.0,202.0,255.0,1054.0,1.0,1254.0,1456.0,177.0,106.0,32.0,2464.0,55.0,144.0,70.0,64.0,8873.0,945.0,null,523.0,56.0,3.0,8472.0,155.0,33.0,749.0,159.0,null,270.0,2790.0,224.0,1470.0,334.0,2050.0,370.0,26.0,797.0,12.0,195.0,1.0,230.0,125.0,15.0,316.0,365.0,1560.0,4740.0,294.0,455.0,2878.0,336.0,295.0,480.0,25.0,null,223.0,2645.0,2016.0,7371.0,360.0,3408.0,3698.0,4890.0,1.0,871.0,2759.0,250.0,3301.0,249.0,164.0,435.0,420.0,854.0,5160.0,133.0,15180.0,2055.0,451.0,140.0,199.0,721.0,179.0,1524.0,78.0,268.0,39.0,1.0,14190.0,47.0,161.0,900.0,6070.0,697.0,234.0,14.0,5910.0,null,34390.0,40.0,166.0,182.0,829.0,15.0,64.0,13.0,245.0,1080.0,null,390.0,47.0,269.0,null,400.0,660.0,213.0,null,761.0,8100.0,180.0,124.0,4320.0,2820.0,3100.0,49427.0,989.0,125.0,44.0,26.0,245.0,null,98.0,1.0,0.0,135.0,50.0,1008.0,53.0,554.0,1260.0,2895.0,89.0,98.0,865.0,128.0,230.0,252.0,130.0,5.0,157.0,6914.0,11.0,13.0,2880.0,270.0,962.0,47.0,null,20.0,108.0,9855.0,75.0,17.0,21.0,1950.0,11867.0,141.0,959.0,1035.0,617.0,1230.0,572.0,324.0,1835.0,6780.0,900.0,null,37.0,72.0,1.0,251.0,620.0,89.0,909.0,236.0,326.0,300.0,751.0,122.0,214.0,193.0,8.0,5227.0,null,1414.0,448.0,4605.0,4080.0,null,1914.0,759.0,1.0],\"xaxis\":\"x\",\"yaxis\":\"y\",\"type\":\"histogram\"}],                        {\"template\":{\"data\":{\"barpolar\":[{\"marker\":{\"line\":{\"color\":\"white\",\"width\":0.5},\"pattern\":{\"fillmode\":\"overlay\",\"size\":10,\"solidity\":0.2}},\"type\":\"barpolar\"}],\"bar\":[{\"error_x\":{\"color\":\"rgb(36,36,36)\"},\"error_y\":{\"color\":\"rgb(36,36,36)\"},\"marker\":{\"line\":{\"color\":\"white\",\"width\":0.5},\"pattern\":{\"fillmode\":\"overlay\",\"size\":10,\"solidity\":0.2}},\"type\":\"bar\"}],\"carpet\":[{\"aaxis\":{\"endlinecolor\":\"rgb(36,36,36)\",\"gridcolor\":\"white\",\"linecolor\":\"white\",\"minorgridcolor\":\"white\",\"startlinecolor\":\"rgb(36,36,36)\"},\"baxis\":{\"endlinecolor\":\"rgb(36,36,36)\",\"gridcolor\":\"white\",\"linecolor\":\"white\",\"minorgridcolor\":\"white\",\"startlinecolor\":\"rgb(36,36,36)\"},\"type\":\"carpet\"}],\"choropleth\":[{\"colorbar\":{\"outlinewidth\":1,\"tickcolor\":\"rgb(36,36,36)\",\"ticks\":\"outside\"},\"type\":\"choropleth\"}],\"contourcarpet\":[{\"colorbar\":{\"outlinewidth\":1,\"tickcolor\":\"rgb(36,36,36)\",\"ticks\":\"outside\"},\"type\":\"contourcarpet\"}],\"contour\":[{\"colorbar\":{\"outlinewidth\":1,\"tickcolor\":\"rgb(36,36,36)\",\"ticks\":\"outside\"},\"colorscale\":[[0.0,\"#440154\"],[0.1111111111111111,\"#482878\"],[0.2222222222222222,\"#3e4989\"],[0.3333333333333333,\"#31688e\"],[0.4444444444444444,\"#26828e\"],[0.5555555555555556,\"#1f9e89\"],[0.6666666666666666,\"#35b779\"],[0.7777777777777778,\"#6ece58\"],[0.8888888888888888,\"#b5de2b\"],[1.0,\"#fde725\"]],\"type\":\"contour\"}],\"heatmapgl\":[{\"colorbar\":{\"outlinewidth\":1,\"tickcolor\":\"rgb(36,36,36)\",\"ticks\":\"outside\"},\"colorscale\":[[0.0,\"#440154\"],[0.1111111111111111,\"#482878\"],[0.2222222222222222,\"#3e4989\"],[0.3333333333333333,\"#31688e\"],[0.4444444444444444,\"#26828e\"],[0.5555555555555556,\"#1f9e89\"],[0.6666666666666666,\"#35b779\"],[0.7777777777777778,\"#6ece58\"],[0.8888888888888888,\"#b5de2b\"],[1.0,\"#fde725\"]],\"type\":\"heatmapgl\"}],\"heatmap\":[{\"colorbar\":{\"outlinewidth\":1,\"tickcolor\":\"rgb(36,36,36)\",\"ticks\":\"outside\"},\"colorscale\":[[0.0,\"#440154\"],[0.1111111111111111,\"#482878\"],[0.2222222222222222,\"#3e4989\"],[0.3333333333333333,\"#31688e\"],[0.4444444444444444,\"#26828e\"],[0.5555555555555556,\"#1f9e89\"],[0.6666666666666666,\"#35b779\"],[0.7777777777777778,\"#6ece58\"],[0.8888888888888888,\"#b5de2b\"],[1.0,\"#fde725\"]],\"type\":\"heatmap\"}],\"histogram2dcontour\":[{\"colorbar\":{\"outlinewidth\":1,\"tickcolor\":\"rgb(36,36,36)\",\"ticks\":\"outside\"},\"colorscale\":[[0.0,\"#440154\"],[0.1111111111111111,\"#482878\"],[0.2222222222222222,\"#3e4989\"],[0.3333333333333333,\"#31688e\"],[0.4444444444444444,\"#26828e\"],[0.5555555555555556,\"#1f9e89\"],[0.6666666666666666,\"#35b779\"],[0.7777777777777778,\"#6ece58\"],[0.8888888888888888,\"#b5de2b\"],[1.0,\"#fde725\"]],\"type\":\"histogram2dcontour\"}],\"histogram2d\":[{\"colorbar\":{\"outlinewidth\":1,\"tickcolor\":\"rgb(36,36,36)\",\"ticks\":\"outside\"},\"colorscale\":[[0.0,\"#440154\"],[0.1111111111111111,\"#482878\"],[0.2222222222222222,\"#3e4989\"],[0.3333333333333333,\"#31688e\"],[0.4444444444444444,\"#26828e\"],[0.5555555555555556,\"#1f9e89\"],[0.6666666666666666,\"#35b779\"],[0.7777777777777778,\"#6ece58\"],[0.8888888888888888,\"#b5de2b\"],[1.0,\"#fde725\"]],\"type\":\"histogram2d\"}],\"histogram\":[{\"marker\":{\"line\":{\"color\":\"white\",\"width\":0.6}},\"type\":\"histogram\"}],\"mesh3d\":[{\"colorbar\":{\"outlinewidth\":1,\"tickcolor\":\"rgb(36,36,36)\",\"ticks\":\"outside\"},\"type\":\"mesh3d\"}],\"parcoords\":[{\"line\":{\"colorbar\":{\"outlinewidth\":1,\"tickcolor\":\"rgb(36,36,36)\",\"ticks\":\"outside\"}},\"type\":\"parcoords\"}],\"pie\":[{\"automargin\":true,\"type\":\"pie\"}],\"scatter3d\":[{\"line\":{\"colorbar\":{\"outlinewidth\":1,\"tickcolor\":\"rgb(36,36,36)\",\"ticks\":\"outside\"}},\"marker\":{\"colorbar\":{\"outlinewidth\":1,\"tickcolor\":\"rgb(36,36,36)\",\"ticks\":\"outside\"}},\"type\":\"scatter3d\"}],\"scattercarpet\":[{\"marker\":{\"colorbar\":{\"outlinewidth\":1,\"tickcolor\":\"rgb(36,36,36)\",\"ticks\":\"outside\"}},\"type\":\"scattercarpet\"}],\"scattergeo\":[{\"marker\":{\"colorbar\":{\"outlinewidth\":1,\"tickcolor\":\"rgb(36,36,36)\",\"ticks\":\"outside\"}},\"type\":\"scattergeo\"}],\"scattergl\":[{\"marker\":{\"colorbar\":{\"outlinewidth\":1,\"tickcolor\":\"rgb(36,36,36)\",\"ticks\":\"outside\"}},\"type\":\"scattergl\"}],\"scattermapbox\":[{\"marker\":{\"colorbar\":{\"outlinewidth\":1,\"tickcolor\":\"rgb(36,36,36)\",\"ticks\":\"outside\"}},\"type\":\"scattermapbox\"}],\"scatterpolargl\":[{\"marker\":{\"colorbar\":{\"outlinewidth\":1,\"tickcolor\":\"rgb(36,36,36)\",\"ticks\":\"outside\"}},\"type\":\"scatterpolargl\"}],\"scatterpolar\":[{\"marker\":{\"colorbar\":{\"outlinewidth\":1,\"tickcolor\":\"rgb(36,36,36)\",\"ticks\":\"outside\"}},\"type\":\"scatterpolar\"}],\"scatter\":[{\"fillpattern\":{\"fillmode\":\"overlay\",\"size\":10,\"solidity\":0.2},\"type\":\"scatter\"}],\"scatterternary\":[{\"marker\":{\"colorbar\":{\"outlinewidth\":1,\"tickcolor\":\"rgb(36,36,36)\",\"ticks\":\"outside\"}},\"type\":\"scatterternary\"}],\"surface\":[{\"colorbar\":{\"outlinewidth\":1,\"tickcolor\":\"rgb(36,36,36)\",\"ticks\":\"outside\"},\"colorscale\":[[0.0,\"#440154\"],[0.1111111111111111,\"#482878\"],[0.2222222222222222,\"#3e4989\"],[0.3333333333333333,\"#31688e\"],[0.4444444444444444,\"#26828e\"],[0.5555555555555556,\"#1f9e89\"],[0.6666666666666666,\"#35b779\"],[0.7777777777777778,\"#6ece58\"],[0.8888888888888888,\"#b5de2b\"],[1.0,\"#fde725\"]],\"type\":\"surface\"}],\"table\":[{\"cells\":{\"fill\":{\"color\":\"rgb(237,237,237)\"},\"line\":{\"color\":\"white\"}},\"header\":{\"fill\":{\"color\":\"rgb(217,217,217)\"},\"line\":{\"color\":\"white\"}},\"type\":\"table\"}]},\"layout\":{\"annotationdefaults\":{\"arrowhead\":0,\"arrowwidth\":1},\"autotypenumbers\":\"strict\",\"coloraxis\":{\"colorbar\":{\"outlinewidth\":1,\"tickcolor\":\"rgb(36,36,36)\",\"ticks\":\"outside\"}},\"colorscale\":{\"diverging\":[[0.0,\"rgb(103,0,31)\"],[0.1,\"rgb(178,24,43)\"],[0.2,\"rgb(214,96,77)\"],[0.3,\"rgb(244,165,130)\"],[0.4,\"rgb(253,219,199)\"],[0.5,\"rgb(247,247,247)\"],[0.6,\"rgb(209,229,240)\"],[0.7,\"rgb(146,197,222)\"],[0.8,\"rgb(67,147,195)\"],[0.9,\"rgb(33,102,172)\"],[1.0,\"rgb(5,48,97)\"]],\"sequential\":[[0.0,\"#440154\"],[0.1111111111111111,\"#482878\"],[0.2222222222222222,\"#3e4989\"],[0.3333333333333333,\"#31688e\"],[0.4444444444444444,\"#26828e\"],[0.5555555555555556,\"#1f9e89\"],[0.6666666666666666,\"#35b779\"],[0.7777777777777778,\"#6ece58\"],[0.8888888888888888,\"#b5de2b\"],[1.0,\"#fde725\"]],\"sequentialminus\":[[0.0,\"#440154\"],[0.1111111111111111,\"#482878\"],[0.2222222222222222,\"#3e4989\"],[0.3333333333333333,\"#31688e\"],[0.4444444444444444,\"#26828e\"],[0.5555555555555556,\"#1f9e89\"],[0.6666666666666666,\"#35b779\"],[0.7777777777777778,\"#6ece58\"],[0.8888888888888888,\"#b5de2b\"],[1.0,\"#fde725\"]]},\"colorway\":[\"#1F77B4\",\"#FF7F0E\",\"#2CA02C\",\"#D62728\",\"#9467BD\",\"#8C564B\",\"#E377C2\",\"#7F7F7F\",\"#BCBD22\",\"#17BECF\"],\"font\":{\"color\":\"rgb(36,36,36)\"},\"geo\":{\"bgcolor\":\"white\",\"lakecolor\":\"white\",\"landcolor\":\"white\",\"showlakes\":true,\"showland\":true,\"subunitcolor\":\"white\"},\"hoverlabel\":{\"align\":\"left\"},\"hovermode\":\"closest\",\"mapbox\":{\"style\":\"light\"},\"paper_bgcolor\":\"white\",\"plot_bgcolor\":\"white\",\"polar\":{\"angularaxis\":{\"gridcolor\":\"rgb(232,232,232)\",\"linecolor\":\"rgb(36,36,36)\",\"showgrid\":false,\"showline\":true,\"ticks\":\"outside\"},\"bgcolor\":\"white\",\"radialaxis\":{\"gridcolor\":\"rgb(232,232,232)\",\"linecolor\":\"rgb(36,36,36)\",\"showgrid\":false,\"showline\":true,\"ticks\":\"outside\"}},\"scene\":{\"xaxis\":{\"backgroundcolor\":\"white\",\"gridcolor\":\"rgb(232,232,232)\",\"gridwidth\":2,\"linecolor\":\"rgb(36,36,36)\",\"showbackground\":true,\"showgrid\":false,\"showline\":true,\"ticks\":\"outside\",\"zeroline\":false,\"zerolinecolor\":\"rgb(36,36,36)\"},\"yaxis\":{\"backgroundcolor\":\"white\",\"gridcolor\":\"rgb(232,232,232)\",\"gridwidth\":2,\"linecolor\":\"rgb(36,36,36)\",\"showbackground\":true,\"showgrid\":false,\"showline\":true,\"ticks\":\"outside\",\"zeroline\":false,\"zerolinecolor\":\"rgb(36,36,36)\"},\"zaxis\":{\"backgroundcolor\":\"white\",\"gridcolor\":\"rgb(232,232,232)\",\"gridwidth\":2,\"linecolor\":\"rgb(36,36,36)\",\"showbackground\":true,\"showgrid\":false,\"showline\":true,\"ticks\":\"outside\",\"zeroline\":false,\"zerolinecolor\":\"rgb(36,36,36)\"}},\"shapedefaults\":{\"fillcolor\":\"black\",\"line\":{\"width\":0},\"opacity\":0.3},\"ternary\":{\"aaxis\":{\"gridcolor\":\"rgb(232,232,232)\",\"linecolor\":\"rgb(36,36,36)\",\"showgrid\":false,\"showline\":true,\"ticks\":\"outside\"},\"baxis\":{\"gridcolor\":\"rgb(232,232,232)\",\"linecolor\":\"rgb(36,36,36)\",\"showgrid\":false,\"showline\":true,\"ticks\":\"outside\"},\"bgcolor\":\"white\",\"caxis\":{\"gridcolor\":\"rgb(232,232,232)\",\"linecolor\":\"rgb(36,36,36)\",\"showgrid\":false,\"showline\":true,\"ticks\":\"outside\"}},\"title\":{\"x\":0.5,\"xanchor\":\"center\"},\"xaxis\":{\"automargin\":true,\"gridcolor\":\"rgb(232,232,232)\",\"linecolor\":\"rgb(36,36,36)\",\"showgrid\":true,\"showline\":true,\"ticks\":\"outside\",\"title\":{\"standoff\":15},\"zeroline\":false,\"zerolinecolor\":\"rgb(36,36,36)\"},\"yaxis\":{\"automargin\":true,\"gridcolor\":\"rgb(232,232,232)\",\"linecolor\":\"rgb(36,36,36)\",\"showgrid\":true,\"showline\":true,\"ticks\":\"outside\",\"title\":{\"standoff\":15},\"zeroline\":false,\"zerolinecolor\":\"rgb(36,36,36)\"},\"autosize\":true,\"height\":400,\"margin\":{\"b\":30,\"l\":30,\"r\":30,\"t\":30},\"width\":600}},\"xaxis\":{\"anchor\":\"y\",\"domain\":[0.0,1.0],\"title\":{\"text\":\"Duration (minutes)\"}},\"yaxis\":{\"anchor\":\"x\",\"domain\":[0.0,1.0],\"title\":{\"text\":\"count\"}},\"legend\":{\"title\":{\"text\":\"variable\"},\"tracegroupgap\":0},\"title\":{\"text\":\"Outage Duration Distribution in California\"},\"barmode\":\"relative\",\"width\":800,\"height\":600},                        {\"responsive\": true}                    ).then(function(){\n",
       "                            \n",
       "var gd = document.getElementById('d31d6e63-f125-4a4e-9075-42f44e7e2d21');\n",
       "var x = new MutationObserver(function (mutations, observer) {{\n",
       "        var display = window.getComputedStyle(gd).display;\n",
       "        if (!display || display === 'none') {{\n",
       "            console.log([gd, 'removed!']);\n",
       "            Plotly.purge(gd);\n",
       "            observer.disconnect();\n",
       "        }}\n",
       "}});\n",
       "\n",
       "// Listen for the removal of the full notebook cells\n",
       "var notebookContainer = gd.closest('#notebook-container');\n",
       "if (notebookContainer) {{\n",
       "    x.observe(notebookContainer, {childList: true});\n",
       "}}\n",
       "\n",
       "// Listen for the clearing of the current output cell\n",
       "var outputEl = gd.closest('.output');\n",
       "if (outputEl) {{\n",
       "    x.observe(outputEl, {childList: true});\n",
       "}}\n",
       "\n",
       "                        })                };                });            </script>        </div>"
      ]
     },
     "metadata": {},
     "output_type": "display_data"
    }
   ],
   "source": [
    "fig2 = data_time.loc[data_time[\"U.S._STATE\"] == \"California\", \"OUTAGE.DURATION\"]\\\n",
    "    .hist(bins=100, title=\"Outage Duration Distribution in California\", labels={\"value\": \"Duration (minutes)\", \"index\": \"Frequency\"})\n",
    "fig2.update_layout(width=800, height=600)\n",
    "fig2.show()"
   ]
  },
  {
   "cell_type": "code",
   "execution_count": 105,
   "metadata": {},
   "outputs": [],
   "source": [
    "fig1.write_html(os.path.join(website_folder, \"uni_1_1.html\"), include_plotlyjs='cdn')\n",
    "fig2.write_html(os.path.join(website_folder, \"uni_1_2.html\"), include_plotlyjs='cdn')"
   ]
  },
  {
   "cell_type": "code",
   "execution_count": 106,
   "metadata": {
    "ExecuteTime": {
     "end_time": "2019-10-31T23:36:28.657068Z",
     "start_time": "2019-10-31T23:36:28.654650Z"
    }
   },
   "outputs": [
    {
     "data": {
      "text/html": [
       "<div>                            <div id=\"dcd743d8-559c-47c2-b196-2c5632bfd73e\" class=\"plotly-graph-div\" style=\"height:600px; width:800px;\"></div>            <script type=\"text/javascript\">                require([\"plotly\"], function(Plotly) {                    window.PLOTLYENV=window.PLOTLYENV || {};                                    if (document.getElementById(\"dcd743d8-559c-47c2-b196-2c5632bfd73e\")) {                    Plotly.newPlot(                        \"dcd743d8-559c-47c2-b196-2c5632bfd73e\",                        [{\"hovertemplate\":\"variable=OUTAGE.DURATION\\u003cbr\\u003eYEAR=%{x}\\u003cbr\\u003evalue=%{y}\\u003cextra\\u003e\\u003c\\u002fextra\\u003e\",\"legendgroup\":\"OUTAGE.DURATION\",\"line\":{\"color\":\"#1F77B4\",\"dash\":\"solid\"},\"marker\":{\"symbol\":\"circle\"},\"mode\":\"lines\",\"name\":\"OUTAGE.DURATION\",\"orientation\":\"v\",\"showlegend\":true,\"x\":[2000,2001,2002,2003,2004,2005,2006,2007,2008,2009,2010,2011,2012,2013,2014,2015,2016],\"xaxis\":\"x\",\"y\":[2843.076923076923,1272.0714285714287,4751.0,4652.434782608696,4368.788732394366,5288.944444444444,3329.530303030303,2336.6666666666665,4184.018181818182,3660.5194805194806,2937.5283018867926,1801.6059479553903,1877.9768786127167,1369.1644736842106,3107.355769230769,935.811320754717,2225.553191489362],\"yaxis\":\"y\",\"type\":\"scatter\"}],                        {\"template\":{\"data\":{\"barpolar\":[{\"marker\":{\"line\":{\"color\":\"white\",\"width\":0.5},\"pattern\":{\"fillmode\":\"overlay\",\"size\":10,\"solidity\":0.2}},\"type\":\"barpolar\"}],\"bar\":[{\"error_x\":{\"color\":\"rgb(36,36,36)\"},\"error_y\":{\"color\":\"rgb(36,36,36)\"},\"marker\":{\"line\":{\"color\":\"white\",\"width\":0.5},\"pattern\":{\"fillmode\":\"overlay\",\"size\":10,\"solidity\":0.2}},\"type\":\"bar\"}],\"carpet\":[{\"aaxis\":{\"endlinecolor\":\"rgb(36,36,36)\",\"gridcolor\":\"white\",\"linecolor\":\"white\",\"minorgridcolor\":\"white\",\"startlinecolor\":\"rgb(36,36,36)\"},\"baxis\":{\"endlinecolor\":\"rgb(36,36,36)\",\"gridcolor\":\"white\",\"linecolor\":\"white\",\"minorgridcolor\":\"white\",\"startlinecolor\":\"rgb(36,36,36)\"},\"type\":\"carpet\"}],\"choropleth\":[{\"colorbar\":{\"outlinewidth\":1,\"tickcolor\":\"rgb(36,36,36)\",\"ticks\":\"outside\"},\"type\":\"choropleth\"}],\"contourcarpet\":[{\"colorbar\":{\"outlinewidth\":1,\"tickcolor\":\"rgb(36,36,36)\",\"ticks\":\"outside\"},\"type\":\"contourcarpet\"}],\"contour\":[{\"colorbar\":{\"outlinewidth\":1,\"tickcolor\":\"rgb(36,36,36)\",\"ticks\":\"outside\"},\"colorscale\":[[0.0,\"#440154\"],[0.1111111111111111,\"#482878\"],[0.2222222222222222,\"#3e4989\"],[0.3333333333333333,\"#31688e\"],[0.4444444444444444,\"#26828e\"],[0.5555555555555556,\"#1f9e89\"],[0.6666666666666666,\"#35b779\"],[0.7777777777777778,\"#6ece58\"],[0.8888888888888888,\"#b5de2b\"],[1.0,\"#fde725\"]],\"type\":\"contour\"}],\"heatmapgl\":[{\"colorbar\":{\"outlinewidth\":1,\"tickcolor\":\"rgb(36,36,36)\",\"ticks\":\"outside\"},\"colorscale\":[[0.0,\"#440154\"],[0.1111111111111111,\"#482878\"],[0.2222222222222222,\"#3e4989\"],[0.3333333333333333,\"#31688e\"],[0.4444444444444444,\"#26828e\"],[0.5555555555555556,\"#1f9e89\"],[0.6666666666666666,\"#35b779\"],[0.7777777777777778,\"#6ece58\"],[0.8888888888888888,\"#b5de2b\"],[1.0,\"#fde725\"]],\"type\":\"heatmapgl\"}],\"heatmap\":[{\"colorbar\":{\"outlinewidth\":1,\"tickcolor\":\"rgb(36,36,36)\",\"ticks\":\"outside\"},\"colorscale\":[[0.0,\"#440154\"],[0.1111111111111111,\"#482878\"],[0.2222222222222222,\"#3e4989\"],[0.3333333333333333,\"#31688e\"],[0.4444444444444444,\"#26828e\"],[0.5555555555555556,\"#1f9e89\"],[0.6666666666666666,\"#35b779\"],[0.7777777777777778,\"#6ece58\"],[0.8888888888888888,\"#b5de2b\"],[1.0,\"#fde725\"]],\"type\":\"heatmap\"}],\"histogram2dcontour\":[{\"colorbar\":{\"outlinewidth\":1,\"tickcolor\":\"rgb(36,36,36)\",\"ticks\":\"outside\"},\"colorscale\":[[0.0,\"#440154\"],[0.1111111111111111,\"#482878\"],[0.2222222222222222,\"#3e4989\"],[0.3333333333333333,\"#31688e\"],[0.4444444444444444,\"#26828e\"],[0.5555555555555556,\"#1f9e89\"],[0.6666666666666666,\"#35b779\"],[0.7777777777777778,\"#6ece58\"],[0.8888888888888888,\"#b5de2b\"],[1.0,\"#fde725\"]],\"type\":\"histogram2dcontour\"}],\"histogram2d\":[{\"colorbar\":{\"outlinewidth\":1,\"tickcolor\":\"rgb(36,36,36)\",\"ticks\":\"outside\"},\"colorscale\":[[0.0,\"#440154\"],[0.1111111111111111,\"#482878\"],[0.2222222222222222,\"#3e4989\"],[0.3333333333333333,\"#31688e\"],[0.4444444444444444,\"#26828e\"],[0.5555555555555556,\"#1f9e89\"],[0.6666666666666666,\"#35b779\"],[0.7777777777777778,\"#6ece58\"],[0.8888888888888888,\"#b5de2b\"],[1.0,\"#fde725\"]],\"type\":\"histogram2d\"}],\"histogram\":[{\"marker\":{\"line\":{\"color\":\"white\",\"width\":0.6}},\"type\":\"histogram\"}],\"mesh3d\":[{\"colorbar\":{\"outlinewidth\":1,\"tickcolor\":\"rgb(36,36,36)\",\"ticks\":\"outside\"},\"type\":\"mesh3d\"}],\"parcoords\":[{\"line\":{\"colorbar\":{\"outlinewidth\":1,\"tickcolor\":\"rgb(36,36,36)\",\"ticks\":\"outside\"}},\"type\":\"parcoords\"}],\"pie\":[{\"automargin\":true,\"type\":\"pie\"}],\"scatter3d\":[{\"line\":{\"colorbar\":{\"outlinewidth\":1,\"tickcolor\":\"rgb(36,36,36)\",\"ticks\":\"outside\"}},\"marker\":{\"colorbar\":{\"outlinewidth\":1,\"tickcolor\":\"rgb(36,36,36)\",\"ticks\":\"outside\"}},\"type\":\"scatter3d\"}],\"scattercarpet\":[{\"marker\":{\"colorbar\":{\"outlinewidth\":1,\"tickcolor\":\"rgb(36,36,36)\",\"ticks\":\"outside\"}},\"type\":\"scattercarpet\"}],\"scattergeo\":[{\"marker\":{\"colorbar\":{\"outlinewidth\":1,\"tickcolor\":\"rgb(36,36,36)\",\"ticks\":\"outside\"}},\"type\":\"scattergeo\"}],\"scattergl\":[{\"marker\":{\"colorbar\":{\"outlinewidth\":1,\"tickcolor\":\"rgb(36,36,36)\",\"ticks\":\"outside\"}},\"type\":\"scattergl\"}],\"scattermapbox\":[{\"marker\":{\"colorbar\":{\"outlinewidth\":1,\"tickcolor\":\"rgb(36,36,36)\",\"ticks\":\"outside\"}},\"type\":\"scattermapbox\"}],\"scatterpolargl\":[{\"marker\":{\"colorbar\":{\"outlinewidth\":1,\"tickcolor\":\"rgb(36,36,36)\",\"ticks\":\"outside\"}},\"type\":\"scatterpolargl\"}],\"scatterpolar\":[{\"marker\":{\"colorbar\":{\"outlinewidth\":1,\"tickcolor\":\"rgb(36,36,36)\",\"ticks\":\"outside\"}},\"type\":\"scatterpolar\"}],\"scatter\":[{\"fillpattern\":{\"fillmode\":\"overlay\",\"size\":10,\"solidity\":0.2},\"type\":\"scatter\"}],\"scatterternary\":[{\"marker\":{\"colorbar\":{\"outlinewidth\":1,\"tickcolor\":\"rgb(36,36,36)\",\"ticks\":\"outside\"}},\"type\":\"scatterternary\"}],\"surface\":[{\"colorbar\":{\"outlinewidth\":1,\"tickcolor\":\"rgb(36,36,36)\",\"ticks\":\"outside\"},\"colorscale\":[[0.0,\"#440154\"],[0.1111111111111111,\"#482878\"],[0.2222222222222222,\"#3e4989\"],[0.3333333333333333,\"#31688e\"],[0.4444444444444444,\"#26828e\"],[0.5555555555555556,\"#1f9e89\"],[0.6666666666666666,\"#35b779\"],[0.7777777777777778,\"#6ece58\"],[0.8888888888888888,\"#b5de2b\"],[1.0,\"#fde725\"]],\"type\":\"surface\"}],\"table\":[{\"cells\":{\"fill\":{\"color\":\"rgb(237,237,237)\"},\"line\":{\"color\":\"white\"}},\"header\":{\"fill\":{\"color\":\"rgb(217,217,217)\"},\"line\":{\"color\":\"white\"}},\"type\":\"table\"}]},\"layout\":{\"annotationdefaults\":{\"arrowhead\":0,\"arrowwidth\":1},\"autotypenumbers\":\"strict\",\"coloraxis\":{\"colorbar\":{\"outlinewidth\":1,\"tickcolor\":\"rgb(36,36,36)\",\"ticks\":\"outside\"}},\"colorscale\":{\"diverging\":[[0.0,\"rgb(103,0,31)\"],[0.1,\"rgb(178,24,43)\"],[0.2,\"rgb(214,96,77)\"],[0.3,\"rgb(244,165,130)\"],[0.4,\"rgb(253,219,199)\"],[0.5,\"rgb(247,247,247)\"],[0.6,\"rgb(209,229,240)\"],[0.7,\"rgb(146,197,222)\"],[0.8,\"rgb(67,147,195)\"],[0.9,\"rgb(33,102,172)\"],[1.0,\"rgb(5,48,97)\"]],\"sequential\":[[0.0,\"#440154\"],[0.1111111111111111,\"#482878\"],[0.2222222222222222,\"#3e4989\"],[0.3333333333333333,\"#31688e\"],[0.4444444444444444,\"#26828e\"],[0.5555555555555556,\"#1f9e89\"],[0.6666666666666666,\"#35b779\"],[0.7777777777777778,\"#6ece58\"],[0.8888888888888888,\"#b5de2b\"],[1.0,\"#fde725\"]],\"sequentialminus\":[[0.0,\"#440154\"],[0.1111111111111111,\"#482878\"],[0.2222222222222222,\"#3e4989\"],[0.3333333333333333,\"#31688e\"],[0.4444444444444444,\"#26828e\"],[0.5555555555555556,\"#1f9e89\"],[0.6666666666666666,\"#35b779\"],[0.7777777777777778,\"#6ece58\"],[0.8888888888888888,\"#b5de2b\"],[1.0,\"#fde725\"]]},\"colorway\":[\"#1F77B4\",\"#FF7F0E\",\"#2CA02C\",\"#D62728\",\"#9467BD\",\"#8C564B\",\"#E377C2\",\"#7F7F7F\",\"#BCBD22\",\"#17BECF\"],\"font\":{\"color\":\"rgb(36,36,36)\"},\"geo\":{\"bgcolor\":\"white\",\"lakecolor\":\"white\",\"landcolor\":\"white\",\"showlakes\":true,\"showland\":true,\"subunitcolor\":\"white\"},\"hoverlabel\":{\"align\":\"left\"},\"hovermode\":\"closest\",\"mapbox\":{\"style\":\"light\"},\"paper_bgcolor\":\"white\",\"plot_bgcolor\":\"white\",\"polar\":{\"angularaxis\":{\"gridcolor\":\"rgb(232,232,232)\",\"linecolor\":\"rgb(36,36,36)\",\"showgrid\":false,\"showline\":true,\"ticks\":\"outside\"},\"bgcolor\":\"white\",\"radialaxis\":{\"gridcolor\":\"rgb(232,232,232)\",\"linecolor\":\"rgb(36,36,36)\",\"showgrid\":false,\"showline\":true,\"ticks\":\"outside\"}},\"scene\":{\"xaxis\":{\"backgroundcolor\":\"white\",\"gridcolor\":\"rgb(232,232,232)\",\"gridwidth\":2,\"linecolor\":\"rgb(36,36,36)\",\"showbackground\":true,\"showgrid\":false,\"showline\":true,\"ticks\":\"outside\",\"zeroline\":false,\"zerolinecolor\":\"rgb(36,36,36)\"},\"yaxis\":{\"backgroundcolor\":\"white\",\"gridcolor\":\"rgb(232,232,232)\",\"gridwidth\":2,\"linecolor\":\"rgb(36,36,36)\",\"showbackground\":true,\"showgrid\":false,\"showline\":true,\"ticks\":\"outside\",\"zeroline\":false,\"zerolinecolor\":\"rgb(36,36,36)\"},\"zaxis\":{\"backgroundcolor\":\"white\",\"gridcolor\":\"rgb(232,232,232)\",\"gridwidth\":2,\"linecolor\":\"rgb(36,36,36)\",\"showbackground\":true,\"showgrid\":false,\"showline\":true,\"ticks\":\"outside\",\"zeroline\":false,\"zerolinecolor\":\"rgb(36,36,36)\"}},\"shapedefaults\":{\"fillcolor\":\"black\",\"line\":{\"width\":0},\"opacity\":0.3},\"ternary\":{\"aaxis\":{\"gridcolor\":\"rgb(232,232,232)\",\"linecolor\":\"rgb(36,36,36)\",\"showgrid\":false,\"showline\":true,\"ticks\":\"outside\"},\"baxis\":{\"gridcolor\":\"rgb(232,232,232)\",\"linecolor\":\"rgb(36,36,36)\",\"showgrid\":false,\"showline\":true,\"ticks\":\"outside\"},\"bgcolor\":\"white\",\"caxis\":{\"gridcolor\":\"rgb(232,232,232)\",\"linecolor\":\"rgb(36,36,36)\",\"showgrid\":false,\"showline\":true,\"ticks\":\"outside\"}},\"title\":{\"x\":0.5,\"xanchor\":\"center\"},\"xaxis\":{\"automargin\":true,\"gridcolor\":\"rgb(232,232,232)\",\"linecolor\":\"rgb(36,36,36)\",\"showgrid\":true,\"showline\":true,\"ticks\":\"outside\",\"title\":{\"standoff\":15},\"zeroline\":false,\"zerolinecolor\":\"rgb(36,36,36)\"},\"yaxis\":{\"automargin\":true,\"gridcolor\":\"rgb(232,232,232)\",\"linecolor\":\"rgb(36,36,36)\",\"showgrid\":true,\"showline\":true,\"ticks\":\"outside\",\"title\":{\"standoff\":15},\"zeroline\":false,\"zerolinecolor\":\"rgb(36,36,36)\"},\"autosize\":true,\"height\":400,\"margin\":{\"b\":30,\"l\":30,\"r\":30,\"t\":30},\"width\":600}},\"xaxis\":{\"anchor\":\"y\",\"domain\":[0.0,1.0],\"title\":{\"text\":\"YEAR\"}},\"yaxis\":{\"anchor\":\"x\",\"domain\":[0.0,1.0],\"title\":{\"text\":\"value\"}},\"legend\":{\"title\":{\"text\":\"variable\"},\"tracegroupgap\":0},\"title\":{\"text\":\"Average Outage Duration by Year\"},\"width\":800,\"height\":600},                        {\"responsive\": true}                    ).then(function(){\n",
       "                            \n",
       "var gd = document.getElementById('dcd743d8-559c-47c2-b196-2c5632bfd73e');\n",
       "var x = new MutationObserver(function (mutations, observer) {{\n",
       "        var display = window.getComputedStyle(gd).display;\n",
       "        if (!display || display === 'none') {{\n",
       "            console.log([gd, 'removed!']);\n",
       "            Plotly.purge(gd);\n",
       "            observer.disconnect();\n",
       "        }}\n",
       "}});\n",
       "\n",
       "// Listen for the removal of the full notebook cells\n",
       "var notebookContainer = gd.closest('#notebook-container');\n",
       "if (notebookContainer) {{\n",
       "    x.observe(notebookContainer, {childList: true});\n",
       "}}\n",
       "\n",
       "// Listen for the clearing of the current output cell\n",
       "var outputEl = gd.closest('.output');\n",
       "if (outputEl) {{\n",
       "    x.observe(outputEl, {childList: true});\n",
       "}}\n",
       "\n",
       "                        })                };                });            </script>        </div>"
      ]
     },
     "metadata": {},
     "output_type": "display_data"
    }
   ],
   "source": [
    "fig = data_time.groupby(\"YEAR\")[\"OUTAGE.DURATION\"].agg(\"mean\")\\\n",
    "    .plot.line(title=\"Average Outage Duration by Year\")\n",
    "fig.update_layout(width=800, height=600)\n",
    "fig.show()"
   ]
  },
  {
   "cell_type": "code",
   "execution_count": 107,
   "metadata": {},
   "outputs": [],
   "source": [
    "fig.write_html(os.path.join(website_folder, \"uni_2_1.html\"), include_plotlyjs='cdn')"
   ]
  },
  {
   "cell_type": "code",
   "execution_count": 108,
   "metadata": {},
   "outputs": [
    {
     "data": {
      "text/html": [
       "<div>                            <div id=\"ffdeaf97-7ed9-4204-a8ab-2f5c2eaf5629\" class=\"plotly-graph-div\" style=\"height:600px; width:800px;\"></div>            <script type=\"text/javascript\">                require([\"plotly\"], function(Plotly) {                    window.PLOTLYENV=window.PLOTLYENV || {};                                    if (document.getElementById(\"ffdeaf97-7ed9-4204-a8ab-2f5c2eaf5629\")) {                    Plotly.newPlot(                        \"ffdeaf97-7ed9-4204-a8ab-2f5c2eaf5629\",                        [{\"hovertemplate\":\"Outage Duration (minutes)=%{x}\\u003cbr\\u003eCustomers Affected=%{y}\\u003cextra\\u003e\\u003c\\u002fextra\\u003e\",\"legendgroup\":\"\",\"marker\":{\"color\":\"#1F77B4\",\"symbol\":\"circle\"},\"mode\":\"markers\",\"name\":\"\",\"showlegend\":false,\"x\":[3060.0,1.0,3000.0,2550.0,1740.0,1860.0,2970.0,3960.0,155.0,3621.0,7740.0,8880.0,0.0,1322.0,60.0,19.0,0.0,21.0,196.0,840.0,935.0,1260.0,null,619.0,150.0,762.0,0.0,660.0,1.0,2700.0,1.0,4921.0,95.0,251.0,4125.0,2550.0,null,1200.0,310.0,2818.0,5054.0,136.0,528.0,150.0,46.0,1.0,1920.0,null,32.0,null,135.0,3000.0,32.0,108653.0,8468.0,960.0,44.0,1605.0,4410.0,388.0,480.0,1219.0,90.0,18660.0,538.0,104.0,60.0,1272.0,60.0,1.0,1000.0,17339.0,9576.0,3090.0,6510.0,5820.0,1078.0,1513.0,4830.0,3051.0,4200.0,2085.0,5730.0,4290.0,2670.0,3540.0,3637.0,1710.0,4320.0,3915.0,3120.0,4590.0,7530.0,5034.0,8160.0,3300.0,4320.0,1770.0,9857.0,4080.0,5670.0,5700.0,1995.0,300.0,5115.0,2670.0,7650.0,4338.0,761.0,5760.0,2820.0,4110.0,3360.0,3015.0,232.0,11525.0,6420.0,46080.0,5700.0,5610.0,78377.0,270.0,4050.0,5865.0,1.0,2325.0,4170.0,4485.0,2694.0,168.0,5580.0,705.0,11850.0,3494.0,4560.0,2760.0,5760.0,8922.0,6030.0,7800.0,4242.0,3120.0,5700.0,900.0,1046.0,7620.0,3630.0,1260.0,5840.0,5790.0,2820.0,600.0,4259.0,2939.0,7080.0,3600.0,1588.0,4260.0,2700.0,200.0,8430.0,85.0,9150.0,1019.0,420.0,1140.0,7440.0,4458.0,373.0,1203.0,868.0,1455.0,206.0,1195.0,1559.0,900.0,2690.0,5115.0,5.0,189.0,2142.0,360.0,null,225.0,2340.0,480.0,9486.0,480.0,3000.0,300.0,3020.0,766.0,null,1335.0,197.0,245.0,3255.0,12180.0,1077.0,600.0,186.0,690.0,27698.0,402.0,2420.0,327.0,1.0,1860.0,220.0,455.0,318.0,757.0,847.0,410.0,215.0,5.0,570.0,12124.0,2655.0,20160.0,1440.0,600.0,39.0,181.0,1185.0,1500.0,0.0,271.0,1860.0,1200.0,2159.0,6300.0,null,1620.0,224.0,70.0,1697.0,95.0,2220.0,null,7809.0,1200.0,121.0,63.0,5595.0,1.0,557.0,240.0,3360.0,685.0,2280.0,210.0,167.0,1920.0,3569.0,3300.0,10.0,1560.0,840.0,240.0,990.0,6000.0,17865.0,1282.0,1080.0,7540.0,1320.0,1110.0,27698.0,130.0,3040.0,394.0,10140.0,20160.0,21540.0,45.0,1.0,1200.0,550.0,900.0,885.0,940.0,null,3050.0,1830.0,6000.0,1500.0,150.0,1955.0,2220.0,330.0,74.0,420.0,1440.0,255.0,1060.0,12240.0,5250.0,4320.0,120.0,233.0,null,65.0,2120.0,96.0,3.0,4320.0,65.0,2146.0,96.0,4032.0,2580.0,6.0,569.0,0.0,15950.0,200.0,1980.0,4045.0,2730.0,3314.0,7319.0,1.0,47.0,1440.0,276.0,0.0,0.0,3646.0,1130.0,2880.0,513.0,35.0,23773.0,10.0,3872.0,23187.0,12240.0,390.0,null,3264.0,1230.0,803.0,77.0,30.0,300.0,1.0,5.0,1450.0,2680.0,null,7609.0,150.0,3000.0,420.0,479.0,1680.0,2700.0,149.0,1110.0,2790.0,659.0,1320.0,1830.0,3000.0,null,870.0,810.0,1336.0,1695.0,360.0,360.0,120.0,3000.0,1290.0,1530.0,2370.0,1200.0,1200.0,90.0,120.0,1200.0,2761.0,720.0,1120.0,2100.0,960.0,450.0,1440.0,1020.0,0.0,2010.0,120.0,9230.0,1240.0,465.0,0.0,2460.0,1183.0,8880.0,394.0,219.0,487.0,19.0,28.0,0.0,1.0,5340.0,8940.0,467.0,0.0,1920.0,0.0,25.0,420.0,2040.0,0.0,1.0,1423.0,60.0,1620.0,3300.0,385.0,663.0,123.0,1276.0,1919.0,null,440.0,6690.0,null,0.0,null,717.0,1204.0,292.0,313.0,1.0,5.0,6276.0,0.0,74.0,0.0,null,248.0,1.0,2700.0,25.0,126.0,1.0,255.0,1207.0,0.0,0.0,245.0,476.0,null,null,null,1.0,2639.0,502.0,548.0,369.0,6480.0,15.0,5.0,null,1.0,0.0,432.0,21.0,1697.0,0.0,2615.0,9630.0,3507.0,2820.0,314.0,5855.0,0.0,0.0,1.0,22769.0,70.0,4285.0,355.0,0.0,2520.0,0.0,180.0,554.0,50.0,70.0,180.0,3842.0,35.0,1.0,189.0,49320.0,4200.0,353.0,1.0,87.0,66.0,null,1.0,227.0,null,1440.0,1.0,2700.0,null,49320.0,2.0,215.0,451.0,418.0,100.0,2021.0,1671.0,3938.0,4470.0,2279.0,4440.0,2760.0,0.0,1.0,0.0,1.0,1840.0,428.0,331.0,1980.0,1.0,1.0,1950.0,3037.0,1.0,1.0,1196.0,5628.0,1440.0,7700.0,2.0,12890.0,4232.0,95.0,2610.0,4320.0,17.0,113.0,0.0,2507.0,0.0,1.0,4920.0,1.0,4080.0,0.0,960.0,185.0,1320.0,1673.0,2855.0,3060.0,565.0,1.0,1.0,7298.0,5790.0,3040.0,11700.0,7987.0,304.0,4517.0,0.0,3058.0,13381.0,2865.0,152.0,380.0,9450.0,7803.0,5579.0,8979.0,4800.0,3060.0,4792.0,3894.0,1757.0,2880.0,2985.0,164.0,3232.0,2319.0,4338.0,2880.0,1714.0,90.0,59.0,4139.0,10530.0,6938.0,930.0,278.0,299.0,5320.0,2880.0,1.0,4260.0,6713.0,5160.0,1440.0,78.0,7523.0,2668.0,1.0,376.0,1324.0,6940.0,2684.0,54.0,100.0,720.0,2880.0,3189.0,2790.0,13679.0,2843.0,13488.0,1642.0,7709.0,7080.0,1440.0,1.0,1680.0,1579.0,652.0,108.0,300.0,1020.0,3570.0,6492.0,23700.0,10499.0,15180.0,0.0,120.0,1.0,1.0,1.0,1.0,1.0,1.0,60.0,113.0,204.0,31.0,57.0,13.0,2.0,11.0,283.0,0.0,1.0,871.0,1631.0,56.0,15.0,15.0,20.0,60.0,1.0,95.0,300.0,1.0,3186.0,575.0,2275.0,15.0,1.0,44.0,21.0,1.0,114.0,1.0,60.0,4920.0,null,4920.0,420.0,0.0,7.0,21.0,340.0,4200.0,805.0,5040.0,7430.0,5490.0,165.0,3630.0,11640.0,1590.0,3137.0,1440.0,7920.0,360.0,0.0,1440.0,1372.0,6480.0,2190.0,285.0,75.0,1843.0,1.0,11531.0,1420.0,0.0,930.0,11420.0,0.0,352.0,0.0,960.0,1733.0,3690.0,10619.0,634.0,11280.0,1440.0,180.0,1574.0,45.0,563.0,388.0,373.0,4510.0,290.0,1950.0,270.0,1355.0,1318.0,2490.0,1265.0,195.0,3120.0,3388.0,1025.0,990.0,240.0,1485.0,129.0,0.0,1528.0,1890.0,2551.0,985.0,405.0,1698.0,167.0,1460.0,182.0,4113.0,null,885.0,15.0,42.0,1050.0,1.0,132.0,4140.0,2880.0,null,11430.0,3599.0,0.0,2941.0,null,6090.0,1365.0,375.0,2520.0,10080.0,76.0,0.0,3720.0,333.0,0.0,353.0,11337.0,0.0,0.0,7020.0,11058.0,null,9360.0,3300.0,3339.0,2880.0,11580.0,9600.0,13201.0,9719.0,488.0,2415.0,180.0,4177.0,7440.0,3480.0,6600.0,300.0,1526.0,60.0,210.0,2.0,1350.0,73.0,1.0,200.0,0.0,null,4380.0,0.0,120.0,2680.0,840.0,989.0,4313.0,214.0,4.0,164.0,91.0,1050.0,838.0,60.0,1.0,1.0,9886.0,2425.0,390.0,14500.0,6660.0,159.0,54.0,30.0,8077.0,855.0,65.0,810.0,4150.0,4740.0,25.0,0.0,null,2070.0,870.0,12652.0,2880.0,120.0,1199.0,null,1470.0,4140.0,15420.0,50.0,0.0,1.0,1.0,0.0,0.0,0.0,457.0,1.0,1.0,0.0,30.0,1.0,1.0,65.0,1.0,0.0,0.0,0.0,1.0,null,1.0,0.0,1.0,1.0,110.0,39.0,1.0,1.0,1.0,1.0,1.0,1.0,507.0,213.0,4254.0,1.0,1.0,53.0,0.0,0.0,251.0,347.0,1637.0,21360.0,2161.0,2880.0,1044.0,8670.0,56.0,93.0,13.0,2089.0,20280.0,14639.0,2880.0,681.0,494.0,1.0,5355.0,0.0,3943.0,3300.0,191.0,0.0,73.0,4680.0,17310.0,10080.0,10726.0,1.0,5.0,2515.0,25920.0,2730.0,9480.0,5400.0,30.0,3584.0,3600.0,5850.0,4710.0,1.0,1732.0,0.0,23040.0,1800.0,6074.0,null,49.0,2299.0,5760.0,420.0,7320.0,2880.0,448.0,2520.0,18717.0,5513.0,21.0,2100.0,3120.0,8221.0,3240.0,2880.0,255.0,2355.0,161.0,50.0,258.0,13140.0,8640.0,18240.0,15492.0,8268.0,0.0,300.0,14400.0,7962.0,2400.0,11296.0,48.0,60480.0,28170.0,300.0,8054.0,2775.0,2775.0,2160.0,2100.0,2775.0,3180.0,2775.0,1440.0,430.0,2129.0,1755.0,null,692.0,732.0,7.0,510.0,420.0,13215.0,557.0,300.0,17812.0,20416.0,6240.0,467.0,3067.0,3060.0,355.0,430.0,300.0,227.0,52.0,null,2880.0,18804.0,1867.0,1690.0,295.0,17.0,240.0,17520.0,8189.0,182.0,5820.0,83.0,230.0,2009.0,720.0,155.0,4320.0,4320.0,480.0,1005.0,221.0,372.0,13430.0,4320.0,91.0,1419.0,3600.0,10080.0,5071.0,152.0,6840.0,221.0,24780.0,38.0,61.0,7560.0,90.0,10380.0,396.0,2040.0,12060.0,1080.0,1680.0,13920.0,14101.0,1099.0,2460.0,540.0,52.0,816.0,420.0,155.0,437.0,247.0,540.0,1135.0,437.0,180.0,171.0,656.0,84.0,202.0,255.0,1054.0,1.0,1254.0,1456.0,177.0,106.0,32.0,2464.0,55.0,144.0,70.0,64.0,8873.0,945.0,null,523.0,56.0,3.0,8472.0,155.0,33.0,749.0,159.0,null,270.0,2790.0,224.0,1470.0,334.0,2050.0,370.0,26.0,797.0,12.0,195.0,1.0,230.0,125.0,15.0,316.0,365.0,1560.0,4740.0,294.0,455.0,2878.0,336.0,295.0,480.0,25.0,null,223.0,2645.0,2016.0,7371.0,360.0,3408.0,3698.0,4890.0,1.0,871.0,2759.0,250.0,3301.0,249.0,164.0,435.0,420.0,854.0,5160.0,133.0,15180.0,2055.0,451.0,140.0,199.0,721.0,179.0,1524.0,78.0,268.0,39.0,1.0,14190.0,47.0,161.0,900.0,6070.0,697.0,234.0,14.0,5910.0,null,34390.0,40.0,166.0,182.0,829.0,15.0,64.0,13.0,245.0,1080.0,null,390.0,47.0,269.0,null,400.0,660.0,213.0,null,761.0,8100.0,180.0,124.0,4320.0,2820.0,3100.0,49427.0,989.0,125.0,44.0,26.0,245.0,null,98.0,1.0,0.0,135.0,50.0,1008.0,53.0,554.0,1260.0,2895.0,89.0,98.0,865.0,128.0,230.0,252.0,130.0,5.0,157.0,6914.0,11.0,13.0,2880.0,270.0,962.0,47.0,null,20.0,108.0,9855.0,75.0,17.0,21.0,1950.0,11867.0,141.0,959.0,1035.0,617.0,1230.0,572.0,324.0,1835.0,6780.0,900.0,null,37.0,72.0,1.0,251.0,620.0,89.0,909.0,236.0,326.0,300.0,751.0,122.0,214.0,193.0,8.0,5227.0,null,1414.0,448.0,4605.0,4080.0,null,1914.0,759.0,1.0,10274.0,3.0,2700.0,105.0,240.0,210.0,1.0,1201.0,30.0,2806.0,1226.0,300.0,206.0,270.0,2880.0,513.0,8160.0,3314.0,414.0,126.0,60.0,285.0,110.0,62.0,2363.0,424.0,180.0,0.0,448.0,2.0,624.0,2435.0,131.0,null,208.0,103.0,1355.0,1523.0,90.0,1205.0,385.0,144.0,235.0,241.0,6787.0,1337.0,1673.0,3366.0,2640.0,1826.0,570.0,1565.0,2691.0,1072.0,115.0,816.0,168.0,30.0,160.0,485.0,1508.0,1301.0,159.0,60.0,4.0,9600.0,106.0,0.0,0.0,1.0,32.0,61.0,314.0,30.0,0.0,92.0,390.0,161.0,60.0,76.0,1.0,1.0,160.0,20.0,1.0,1.0,70.0,50.0,15.0,810.0,1380.0,1800.0,1560.0,2054.0,1452.0,1865.0,1999.0,120.0,1950.0,360.0,1087.0,1200.0,4122.0,360.0,645.0,108.0,0.0,1.0,1440.0,4560.0,1.0,1.0,110.0,210.0,120.0,0.0,4260.0,76.0,210.0,3305.0,5880.0,145.0,60.0,2640.0,1042.0,110.0,11880.0,2245.0,984.0,7200.0,1381.0,148.0,13972.0,null,796.0,300.0,null,2612.0,3000.0,431.0,5310.0,1732.0,0.0,6685.0,3300.0,280.0,117.0,2895.0,480.0,31.0,1.0,0.0,0.0,103.0,4745.0,307.0,1656.0,3525.0,374.0,1068.0,1569.0,114.0,115.0,15.0,2891.0,1.0,1676.0,0.0,0.0,3604.0,195.0,1.0,0.0,2108.0,198.0,3667.0,1037.0,673.0,null,2652.0,300.0,881.0,618.0,1187.0,950.0,2535.0,27.0,108.0,73.0,200.0,5.0,75.0,0.0,77.0,660.0,0.0,92.0,30.0,33.0,1895.0,274.0,1.0,1534.0,1.0,60.0,108.0,2.0,175.0,null,2040.0,2710.0,284.0,105.0,4019.0,1.0,391.0,439.0,5.0,201.0,2140.0,103.0,null,187.0,1406.0,348.0,13650.0,90.0,913.0,null,14040.0,1367.0,174.0,543.0,237.0,1906.0,224.0,0.0,95.0,360.0,1548.0,870.0,0.0,null,220.0,720.0,null,59.0,181.0,null],\"xaxis\":\"x\",\"y\":[70000.0,null,70000.0,68200.0,250000.0,60000.0,63000.0,300000.0,5941.0,400000.0,193000.0,200000.0,0.0,0.0,55951.0,null,null,null,64000.0,57000.0,null,50001.0,0.0,null,null,null,106300.0,63000.0,56475.0,null,null,73000.0,215.0,50000.0,38500.0,105000.0,null,null,null,80000.0,63000.0,136000.0,65904.0,null,null,null,null,0.0,null,null,null,48000.0,7000.0,null,null,52000.0,null,0.0,110000.0,7600.0,63000.0,0.0,null,null,120000.0,null,null,51160.0,null,null,66383.0,208000.0,265000.0,113000.0,53000.0,245000.0,null,145314.0,60000.0,2100000.0,425000.0,78213.0,150000.0,164000.0,140000.0,70793.0,134288.0,60000.0,69000.0,75000.0,105000.0,118000.0,201580.0,325325.0,118000.0,131000.0,160000.0,0.0,50000.0,133777.0,125000.0,248209.0,162000.0,160895.0,210517.0,111000.0,247847.0,68000.0,null,50000.0,285000.0,86915.0,122000.0,65562.0,50114.0,null,252089.0,2.0,137000.0,80000.0,null,53000.0,130000.0,182000.0,0.0,50000.0,60175.0,146500.0,101000.0,null,239663.0,230000.0,150000.0,111393.0,250000.0,138802.0,75000.0,358000.0,127534.0,122600.0,140735.0,66000.0,160000.0,156627.0,0.0,114711.0,99188.0,85000.0,159870.0,75000.0,72520.0,100000.0,99000.0,272355.0,315000.0,190000.0,58156.0,82000.0,168000.0,0.0,197166.0,103000.0,129607.0,138000.0,138000.0,56000.0,105000.0,65000.0,30000.0,null,86013.0,52000.0,3314.0,null,null,119000.0,57000.0,454000.0,null,489478.0,126000.0,79741.0,null,null,118000.0,0.0,108000.0,238000.0,null,96000.0,280982.0,98700.0,null,79000.0,0.0,200000.0,85000.0,200000.0,null,null,68530.0,67000.0,2142678.0,null,130252.0,60000.0,0.0,262000.0,null,null,null,192000.0,71823.0,0.0,73000.0,0.0,64801.0,211266.0,62000.0,null,null,83000.0,100000.0,70000.0,214864.0,80000.0,null,null,219681.0,78000.0,2000000.0,500000.0,null,715000.0,null,100000.0,1069730.0,51404.0,175000.0,43000.0,881000.0,85000.0,68000.0,17311.0,488689.0,null,0.0,0.0,238392.0,340350.0,null,null,24506.0,158000.0,234393.0,89000.0,0.0,73000.0,120377.0,null,null,0.0,63000.0,null,171117.0,0.0,57531.0,123000.0,2504366.0,9000.0,61000.0,0.0,36073.0,null,113247.0,null,null,500000.0,null,82000.0,132000.0,81586.0,70000.0,415103.0,300000.0,800000.0,65000.0,62500.0,100000.0,157019.0,null,null,243000.0,114000.0,null,127000.0,null,135000.0,61705.0,0.0,9700.0,124000.0,9700.0,50000.0,9700.0,null,75065.0,7500.0,201000.0,null,61705.0,56000.0,9800.0,82621.0,0.0,114791.0,61413.0,94345.0,186000.0,86615.0,215387.0,70000.0,null,9600.0,52702.0,null,0.0,null,141000.0,63000.0,null,53000.0,9700.0,53700.0,null,58000.0,null,75000.0,65000.0,160000.0,60000.0,75000.0,111644.0,null,null,10000.0,null,0.0,0.0,300000.0,101830.0,629590.0,109000.0,192106.0,181000.0,190000.0,471932.0,400000.0,51500.0,121000.0,420000.0,245000.0,127000.0,169000.0,320000.0,11000.0,330000.0,109000.0,283451.0,300000.0,72000.0,157000.0,80000.0,653000.0,71500.0,200000.0,65400.0,237000.0,135000.0,115000.0,51000.0,239567.0,null,165000.0,325000.0,127000.0,130000.0,169000.0,170519.0,190000.0,500000.0,125000.0,null,68800.0,null,null,null,92090.0,null,250000.0,null,null,null,null,0.0,null,0.0,145000.0,63992.0,null,null,426000.0,null,null,76300.0,110433.0,null,0.0,null,0.0,null,105000.0,null,null,0.0,null,0.0,0.0,null,140000.0,56000.0,null,500000.0,0.0,93300.0,0.0,0.0,null,0.0,160000.0,0.0,null,null,89000.0,8000.0,null,123535.0,null,0.0,null,null,null,0.0,null,null,null,0.0,300000.0,null,null,175000.0,null,null,null,200000.0,null,null,null,null,null,null,0.0,null,0.0,null,172060.0,123827.0,75000.0,null,50000.0,0.0,null,null,700000.0,null,187000.0,null,null,64000.0,null,null,160000.0,null,null,null,null,47000.0,null,null,null,140000.0,null,null,null,40911.0,0.0,null,2713.0,null,null,null,null,null,null,null,69000.0,null,30000.0,90000.0,60000.0,70000.0,60000.0,108000.0,122000.0,180000.0,87600.0,null,0.0,0.0,0.0,null,0.0,null,108000.0,null,null,104195.0,93000.0,0.0,null,null,55118.0,0.0,297700.0,0.0,650000.0,234326.0,null,70000.0,86390.0,0.0,null,1.0,219000.0,1.0,181000.0,110000.0,0.0,133000.0,0.0,null,65000.0,249408.0,0.0,85091.0,138000.0,null,0.0,0.0,153000.0,155183.0,124000.0,760113.0,600000.0,null,64943.0,null,167564.0,50000.0,120000.0,null,null,57000.0,146721.0,198000.0,400000.0,146094.0,111555.0,52000.0,64500.0,143000.0,200717.0,142315.0,0.0,82861.0,105312.0,185000.0,109335.0,93837.0,200000.0,62000.0,213000.0,850000.0,124596.0,118000.0,null,105000.0,177528.0,264000.0,715000.0,null,160875.0,132000.0,65112.0,55000.0,492955.0,62159.0,null,43903.0,120001.0,144000.0,168449.0,null,0.0,106000.0,284000.0,65000.0,95630.0,312359.0,0.0,270000.0,35000.0,355000.0,223000.0,null,null,78000.0,181700.0,null,110.0,375000.0,76000.0,383000.0,190000.0,0.0,18000.0,3500.0,0.0,0.0,null,null,null,null,null,37.0,0.0,5763.0,85179.0,0.0,0.0,null,null,0.0,null,0.0,null,74031.0,60000.0,0.0,0.0,0.0,null,0.0,null,0.0,0.0,null,0.0,0.0,null,null,null,null,0.0,null,0.0,null,null,281000.0,null,127000.0,null,0.0,0.0,null,null,95000.0,45000.0,134500.0,175000.0,107833.0,67000.0,184000.0,246990.0,122314.0,1203000.0,0.0,211000.0,0.0,null,null,57054.0,150000.0,56000.0,0.0,0.0,50636.0,0.0,564728.0,59106.0,0.0,184000.0,245164.0,2000.0,23000.0,0.0,52747.0,48102.0,86000.0,346000.0,null,100000.0,60000.0,72000.0,220000.0,12000.0,null,70135.0,6100.0,200000.0,1200.0,103776.0,69106.0,203345.0,50718.0,130000.0,null,1200.0,null,340000.0,71000.0,61000.0,51600.0,53000.0,12000.0,29376.0,50000.0,112000.0,136000.0,61377.0,0.0,175000.0,0.0,47000.0,null,285465.0,50000.0,57000.0,320000.0,4196.0,370900.0,0.0,156338.0,100000.0,650000.0,null,197000.0,135000.0,0.0,95400.0,73000.0,248800.0,156729.0,0.0,140000.0,263000.0,50900.0,0.0,130000.0,75654.0,0.0,null,50000.0,0.0,0.0,150000.0,205000.0,null,217000.0,180000.0,67900.0,665000.0,221000.0,null,379000.0,360000.0,125000.0,50465.0,677858.0,120124.0,133000.0,150000.0,81000.0,677858.0,9000.0,2500.0,71000.0,null,null,0.0,null,3.0,null,null,249500.0,null,null,0.0,null,null,111000.0,0.0,null,0.0,null,84500.0,null,0.0,null,null,97651.0,220000.0,76729.0,530000.0,210000.0,52000.0,null,40000.0,425000.0,101003.0,null,83000.0,null,62500.0,null,null,0.0,63000.0,53000.0,20000.0,70000.0,55000.0,0.0,0.0,100000.0,56444.0,95000.0,18400.0,0.0,null,null,0.0,0.0,0.0,0.0,0.0,null,0.0,null,0.0,null,0.0,null,0.0,0.0,0.0,null,null,0.0,0.0,null,null,null,0.0,0.0,0.0,null,null,null,0.0,0.0,0.0,65000.0,null,null,null,0.0,0.0,null,140000.0,null,null,0.0,null,215000.0,21000.0,null,null,null,160000.0,632816.0,818000.0,152261.0,null,null,116000.0,145000.0,0.0,59000.0,300000.0,56645.0,null,0.0,18600.0,null,null,190000.0,null,null,61795.0,null,74300.0,173000.0,60000.0,0.0,54316.0,null,null,68000.0,null,3125350.0,0.0,null,null,50000.0,null,137000.0,100000.0,153000.0,null,55000.0,0.0,200000.0,150000.0,null,null,null,50280.0,18600.0,99700.0,65000.0,180000.0,null,null,0.0,61000.0,0.0,120000.0,50000.0,null,250000.0,371000.0,null,null,null,161151.0,18600.0,25000.0,null,null,null,null,59057.0,null,null,1100000.0,null,null,85000.0,null,287000.0,null,1.0,null,57184.0,143000.0,11000.0,11000.0,null,null,246092.0,null,null,150000.0,50000.0,190000.0,null,95000.0,50000.0,null,null,null,21800.0,28000.0,242910.0,null,125000.0,68018.0,null,null,0.0,440000.0,0.0,0.0,584384.0,430000.0,0.0,25000.0,50000.0,105000.0,150000.0,0.0,0.0,1200000.0,179000.0,42124.0,null,0.0,0.0,53965.0,31000.0,2775093.0,0.0,101950.0,37.0,110000.0,78000.0,84900.0,56000.0,47661.0,722000.0,104498.0,832898.0,32593.0,285300.0,268000.0,3241437.0,26000.0,502000.0,0.0,23000.0,26000.0,87000.0,20900.0,16500.0,null,null,null,null,null,0.0,null,null,128050.0,124000.0,900000.0,null,148000.0,37784.0,null,6810.0,79000.0,null,2500.0,null,150000.0,null,15000.0,null,26000.0,0.0,null,null,150000.0,290000.0,10000.0,850068.0,null,70000.0,null,null,null,10008.0,407440.0,477.0,50000.0,130000.0,null,null,727.0,484.0,0.0,1.0,48400.0,58850.0,94000.0,433.0,null,55655.0,null,442000.0,30000.0,89500.0,null,null,null,null,null,null,4300.0,160000.0,100000.0,1271893.0,0.0,80000.0,0.0,80000.0,null,null,505000.0,null,null,409000.0,65255.0,null,null,null,939000.0,6800.0,2606931.0,null,null,null,null,109750.0,null,null,0.0,7077.0,null,null,1700000.0,255000.0,59458.0,95000.0,147223.0,0.0,50000.0,2035.0,241000.0,426.0,108000.0,null,78164.0,null,null,9956.0,182000.0,null,null,null,430984.0,859554.0,null,null,65000.0,70.0,null,165000.0,null,140000.0,1667316.0,null,280000.0,0.0,385000.0,125000.0,0.0,55677.0,1.0,484.0,127.0,133900.0,32000.0,null,null,0.0,4.0,2650.0,null,5314.0,null,null,73514.0,null,0.0,null,420.0,null,200000.0,54332.0,6635.0,70.0,128000.0,2674.0,null,null,940.0,20345.0,null,0.0,null,70848.0,91690.0,null,300000.0,90323.0,263000.0,null,25000.0,104000.0,638.0,1400000.0,158977.0,null,null,null,1500000.0,null,1400000.0,68780.0,9956.0,0.0,7077.0,123000.0,null,1.0,80000.0,null,null,115500.0,null,0.0,1.0,null,60000.0,null,null,null,0.0,671189.0,null,120000.0,400000.0,null,111818.0,null,215700.0,null,null,64951.0,null,null,null,13000.0,null,7935.0,25159.0,0.0,13000.0,null,43000.0,null,8000.0,50797.0,null,57200.0,9200.0,null,null,115000.0,51580.0,0.0,88000.0,null,88110.0,52739.0,67000.0,37000.0,60000.0,119000.0,150084.0,156000.0,56000.0,175000.0,107000.0,55000.0,81000.0,600000.0,880000.0,null,119000.0,145157.0,217000.0,253800.0,114618.0,233000.0,130000.0,75000.0,80000.0,58500.0,67000.0,null,50000.0,126000.0,283000.0,190000.0,null,126000.0,120212.0,15000.0,35500.0,0.0,0.0,null,null,null,0.0,null,500000.0,null,null,0.0,null,null,null,0.0,0.0,null,null,null,0.0,0.0,0.0,47165.0,82000.0,30689.0,150000.0,218783.0,93828.0,52659.0,186035.0,109000.0,80539.0,83450.0,66445.0,102000.0,373835.0,85455.0,169000.0,null,0.0,null,158000.0,50752.0,null,0.0,56400.0,75000.0,null,0.0,67000.0,50100.0,null,50246.0,224912.0,0.0,null,52000.0,54476.0,0.0,1881134.0,112000.0,14500.0,68705.0,null,null,256663.0,50500.0,96966.0,null,35000.0,54000.0,41306.0,null,127000.0,92748.0,0.0,56874.0,55609.0,1500.0,null,54000.0,80000.0,29250.0,50000.0,0.0,0.0,130000.0,50000.0,null,50000.0,50000.0,380000.0,50500.0,null,null,300000.0,0.0,1.0,0.0,0.0,0.0,0.0,127545.0,null,0.0,0.0,131000.0,63000.0,169757.0,50462.0,60863.0,null,52500.0,0.0,0.0,110000.0,50000.0,117142.0,50000.0,0.0,0.0,0.0,null,0.0,0.0,0.0,null,102568.0,0.0,null,0.0,0.0,0.0,1100.0,0.0,null,null,110000.0,0.0,35230.0,0.0,0.0,204000.0,86058.0,null,null,0.0,null,31000.0,null,30379.0,0.0,65000.0,0.0,270000.0,null,0.0,70000.0,95000.0,0.0,null,110000.0,211000.0,294000.0,62000.0,59886.0,29300.0,291000.0,null,0.0,35000.0,0.0,0.0,null,0.0,0.0,null,34500.0,null,null,null,14273.0],\"yaxis\":\"y\",\"type\":\"scattergl\"}],                        {\"template\":{\"data\":{\"barpolar\":[{\"marker\":{\"line\":{\"color\":\"white\",\"width\":0.5},\"pattern\":{\"fillmode\":\"overlay\",\"size\":10,\"solidity\":0.2}},\"type\":\"barpolar\"}],\"bar\":[{\"error_x\":{\"color\":\"rgb(36,36,36)\"},\"error_y\":{\"color\":\"rgb(36,36,36)\"},\"marker\":{\"line\":{\"color\":\"white\",\"width\":0.5},\"pattern\":{\"fillmode\":\"overlay\",\"size\":10,\"solidity\":0.2}},\"type\":\"bar\"}],\"carpet\":[{\"aaxis\":{\"endlinecolor\":\"rgb(36,36,36)\",\"gridcolor\":\"white\",\"linecolor\":\"white\",\"minorgridcolor\":\"white\",\"startlinecolor\":\"rgb(36,36,36)\"},\"baxis\":{\"endlinecolor\":\"rgb(36,36,36)\",\"gridcolor\":\"white\",\"linecolor\":\"white\",\"minorgridcolor\":\"white\",\"startlinecolor\":\"rgb(36,36,36)\"},\"type\":\"carpet\"}],\"choropleth\":[{\"colorbar\":{\"outlinewidth\":1,\"tickcolor\":\"rgb(36,36,36)\",\"ticks\":\"outside\"},\"type\":\"choropleth\"}],\"contourcarpet\":[{\"colorbar\":{\"outlinewidth\":1,\"tickcolor\":\"rgb(36,36,36)\",\"ticks\":\"outside\"},\"type\":\"contourcarpet\"}],\"contour\":[{\"colorbar\":{\"outlinewidth\":1,\"tickcolor\":\"rgb(36,36,36)\",\"ticks\":\"outside\"},\"colorscale\":[[0.0,\"#440154\"],[0.1111111111111111,\"#482878\"],[0.2222222222222222,\"#3e4989\"],[0.3333333333333333,\"#31688e\"],[0.4444444444444444,\"#26828e\"],[0.5555555555555556,\"#1f9e89\"],[0.6666666666666666,\"#35b779\"],[0.7777777777777778,\"#6ece58\"],[0.8888888888888888,\"#b5de2b\"],[1.0,\"#fde725\"]],\"type\":\"contour\"}],\"heatmapgl\":[{\"colorbar\":{\"outlinewidth\":1,\"tickcolor\":\"rgb(36,36,36)\",\"ticks\":\"outside\"},\"colorscale\":[[0.0,\"#440154\"],[0.1111111111111111,\"#482878\"],[0.2222222222222222,\"#3e4989\"],[0.3333333333333333,\"#31688e\"],[0.4444444444444444,\"#26828e\"],[0.5555555555555556,\"#1f9e89\"],[0.6666666666666666,\"#35b779\"],[0.7777777777777778,\"#6ece58\"],[0.8888888888888888,\"#b5de2b\"],[1.0,\"#fde725\"]],\"type\":\"heatmapgl\"}],\"heatmap\":[{\"colorbar\":{\"outlinewidth\":1,\"tickcolor\":\"rgb(36,36,36)\",\"ticks\":\"outside\"},\"colorscale\":[[0.0,\"#440154\"],[0.1111111111111111,\"#482878\"],[0.2222222222222222,\"#3e4989\"],[0.3333333333333333,\"#31688e\"],[0.4444444444444444,\"#26828e\"],[0.5555555555555556,\"#1f9e89\"],[0.6666666666666666,\"#35b779\"],[0.7777777777777778,\"#6ece58\"],[0.8888888888888888,\"#b5de2b\"],[1.0,\"#fde725\"]],\"type\":\"heatmap\"}],\"histogram2dcontour\":[{\"colorbar\":{\"outlinewidth\":1,\"tickcolor\":\"rgb(36,36,36)\",\"ticks\":\"outside\"},\"colorscale\":[[0.0,\"#440154\"],[0.1111111111111111,\"#482878\"],[0.2222222222222222,\"#3e4989\"],[0.3333333333333333,\"#31688e\"],[0.4444444444444444,\"#26828e\"],[0.5555555555555556,\"#1f9e89\"],[0.6666666666666666,\"#35b779\"],[0.7777777777777778,\"#6ece58\"],[0.8888888888888888,\"#b5de2b\"],[1.0,\"#fde725\"]],\"type\":\"histogram2dcontour\"}],\"histogram2d\":[{\"colorbar\":{\"outlinewidth\":1,\"tickcolor\":\"rgb(36,36,36)\",\"ticks\":\"outside\"},\"colorscale\":[[0.0,\"#440154\"],[0.1111111111111111,\"#482878\"],[0.2222222222222222,\"#3e4989\"],[0.3333333333333333,\"#31688e\"],[0.4444444444444444,\"#26828e\"],[0.5555555555555556,\"#1f9e89\"],[0.6666666666666666,\"#35b779\"],[0.7777777777777778,\"#6ece58\"],[0.8888888888888888,\"#b5de2b\"],[1.0,\"#fde725\"]],\"type\":\"histogram2d\"}],\"histogram\":[{\"marker\":{\"line\":{\"color\":\"white\",\"width\":0.6}},\"type\":\"histogram\"}],\"mesh3d\":[{\"colorbar\":{\"outlinewidth\":1,\"tickcolor\":\"rgb(36,36,36)\",\"ticks\":\"outside\"},\"type\":\"mesh3d\"}],\"parcoords\":[{\"line\":{\"colorbar\":{\"outlinewidth\":1,\"tickcolor\":\"rgb(36,36,36)\",\"ticks\":\"outside\"}},\"type\":\"parcoords\"}],\"pie\":[{\"automargin\":true,\"type\":\"pie\"}],\"scatter3d\":[{\"line\":{\"colorbar\":{\"outlinewidth\":1,\"tickcolor\":\"rgb(36,36,36)\",\"ticks\":\"outside\"}},\"marker\":{\"colorbar\":{\"outlinewidth\":1,\"tickcolor\":\"rgb(36,36,36)\",\"ticks\":\"outside\"}},\"type\":\"scatter3d\"}],\"scattercarpet\":[{\"marker\":{\"colorbar\":{\"outlinewidth\":1,\"tickcolor\":\"rgb(36,36,36)\",\"ticks\":\"outside\"}},\"type\":\"scattercarpet\"}],\"scattergeo\":[{\"marker\":{\"colorbar\":{\"outlinewidth\":1,\"tickcolor\":\"rgb(36,36,36)\",\"ticks\":\"outside\"}},\"type\":\"scattergeo\"}],\"scattergl\":[{\"marker\":{\"colorbar\":{\"outlinewidth\":1,\"tickcolor\":\"rgb(36,36,36)\",\"ticks\":\"outside\"}},\"type\":\"scattergl\"}],\"scattermapbox\":[{\"marker\":{\"colorbar\":{\"outlinewidth\":1,\"tickcolor\":\"rgb(36,36,36)\",\"ticks\":\"outside\"}},\"type\":\"scattermapbox\"}],\"scatterpolargl\":[{\"marker\":{\"colorbar\":{\"outlinewidth\":1,\"tickcolor\":\"rgb(36,36,36)\",\"ticks\":\"outside\"}},\"type\":\"scatterpolargl\"}],\"scatterpolar\":[{\"marker\":{\"colorbar\":{\"outlinewidth\":1,\"tickcolor\":\"rgb(36,36,36)\",\"ticks\":\"outside\"}},\"type\":\"scatterpolar\"}],\"scatter\":[{\"fillpattern\":{\"fillmode\":\"overlay\",\"size\":10,\"solidity\":0.2},\"type\":\"scatter\"}],\"scatterternary\":[{\"marker\":{\"colorbar\":{\"outlinewidth\":1,\"tickcolor\":\"rgb(36,36,36)\",\"ticks\":\"outside\"}},\"type\":\"scatterternary\"}],\"surface\":[{\"colorbar\":{\"outlinewidth\":1,\"tickcolor\":\"rgb(36,36,36)\",\"ticks\":\"outside\"},\"colorscale\":[[0.0,\"#440154\"],[0.1111111111111111,\"#482878\"],[0.2222222222222222,\"#3e4989\"],[0.3333333333333333,\"#31688e\"],[0.4444444444444444,\"#26828e\"],[0.5555555555555556,\"#1f9e89\"],[0.6666666666666666,\"#35b779\"],[0.7777777777777778,\"#6ece58\"],[0.8888888888888888,\"#b5de2b\"],[1.0,\"#fde725\"]],\"type\":\"surface\"}],\"table\":[{\"cells\":{\"fill\":{\"color\":\"rgb(237,237,237)\"},\"line\":{\"color\":\"white\"}},\"header\":{\"fill\":{\"color\":\"rgb(217,217,217)\"},\"line\":{\"color\":\"white\"}},\"type\":\"table\"}]},\"layout\":{\"annotationdefaults\":{\"arrowhead\":0,\"arrowwidth\":1},\"autotypenumbers\":\"strict\",\"coloraxis\":{\"colorbar\":{\"outlinewidth\":1,\"tickcolor\":\"rgb(36,36,36)\",\"ticks\":\"outside\"}},\"colorscale\":{\"diverging\":[[0.0,\"rgb(103,0,31)\"],[0.1,\"rgb(178,24,43)\"],[0.2,\"rgb(214,96,77)\"],[0.3,\"rgb(244,165,130)\"],[0.4,\"rgb(253,219,199)\"],[0.5,\"rgb(247,247,247)\"],[0.6,\"rgb(209,229,240)\"],[0.7,\"rgb(146,197,222)\"],[0.8,\"rgb(67,147,195)\"],[0.9,\"rgb(33,102,172)\"],[1.0,\"rgb(5,48,97)\"]],\"sequential\":[[0.0,\"#440154\"],[0.1111111111111111,\"#482878\"],[0.2222222222222222,\"#3e4989\"],[0.3333333333333333,\"#31688e\"],[0.4444444444444444,\"#26828e\"],[0.5555555555555556,\"#1f9e89\"],[0.6666666666666666,\"#35b779\"],[0.7777777777777778,\"#6ece58\"],[0.8888888888888888,\"#b5de2b\"],[1.0,\"#fde725\"]],\"sequentialminus\":[[0.0,\"#440154\"],[0.1111111111111111,\"#482878\"],[0.2222222222222222,\"#3e4989\"],[0.3333333333333333,\"#31688e\"],[0.4444444444444444,\"#26828e\"],[0.5555555555555556,\"#1f9e89\"],[0.6666666666666666,\"#35b779\"],[0.7777777777777778,\"#6ece58\"],[0.8888888888888888,\"#b5de2b\"],[1.0,\"#fde725\"]]},\"colorway\":[\"#1F77B4\",\"#FF7F0E\",\"#2CA02C\",\"#D62728\",\"#9467BD\",\"#8C564B\",\"#E377C2\",\"#7F7F7F\",\"#BCBD22\",\"#17BECF\"],\"font\":{\"color\":\"rgb(36,36,36)\"},\"geo\":{\"bgcolor\":\"white\",\"lakecolor\":\"white\",\"landcolor\":\"white\",\"showlakes\":true,\"showland\":true,\"subunitcolor\":\"white\"},\"hoverlabel\":{\"align\":\"left\"},\"hovermode\":\"closest\",\"mapbox\":{\"style\":\"light\"},\"paper_bgcolor\":\"white\",\"plot_bgcolor\":\"white\",\"polar\":{\"angularaxis\":{\"gridcolor\":\"rgb(232,232,232)\",\"linecolor\":\"rgb(36,36,36)\",\"showgrid\":false,\"showline\":true,\"ticks\":\"outside\"},\"bgcolor\":\"white\",\"radialaxis\":{\"gridcolor\":\"rgb(232,232,232)\",\"linecolor\":\"rgb(36,36,36)\",\"showgrid\":false,\"showline\":true,\"ticks\":\"outside\"}},\"scene\":{\"xaxis\":{\"backgroundcolor\":\"white\",\"gridcolor\":\"rgb(232,232,232)\",\"gridwidth\":2,\"linecolor\":\"rgb(36,36,36)\",\"showbackground\":true,\"showgrid\":false,\"showline\":true,\"ticks\":\"outside\",\"zeroline\":false,\"zerolinecolor\":\"rgb(36,36,36)\"},\"yaxis\":{\"backgroundcolor\":\"white\",\"gridcolor\":\"rgb(232,232,232)\",\"gridwidth\":2,\"linecolor\":\"rgb(36,36,36)\",\"showbackground\":true,\"showgrid\":false,\"showline\":true,\"ticks\":\"outside\",\"zeroline\":false,\"zerolinecolor\":\"rgb(36,36,36)\"},\"zaxis\":{\"backgroundcolor\":\"white\",\"gridcolor\":\"rgb(232,232,232)\",\"gridwidth\":2,\"linecolor\":\"rgb(36,36,36)\",\"showbackground\":true,\"showgrid\":false,\"showline\":true,\"ticks\":\"outside\",\"zeroline\":false,\"zerolinecolor\":\"rgb(36,36,36)\"}},\"shapedefaults\":{\"fillcolor\":\"black\",\"line\":{\"width\":0},\"opacity\":0.3},\"ternary\":{\"aaxis\":{\"gridcolor\":\"rgb(232,232,232)\",\"linecolor\":\"rgb(36,36,36)\",\"showgrid\":false,\"showline\":true,\"ticks\":\"outside\"},\"baxis\":{\"gridcolor\":\"rgb(232,232,232)\",\"linecolor\":\"rgb(36,36,36)\",\"showgrid\":false,\"showline\":true,\"ticks\":\"outside\"},\"bgcolor\":\"white\",\"caxis\":{\"gridcolor\":\"rgb(232,232,232)\",\"linecolor\":\"rgb(36,36,36)\",\"showgrid\":false,\"showline\":true,\"ticks\":\"outside\"}},\"title\":{\"x\":0.5,\"xanchor\":\"center\"},\"xaxis\":{\"automargin\":true,\"gridcolor\":\"rgb(232,232,232)\",\"linecolor\":\"rgb(36,36,36)\",\"showgrid\":true,\"showline\":true,\"ticks\":\"outside\",\"title\":{\"standoff\":15},\"zeroline\":false,\"zerolinecolor\":\"rgb(36,36,36)\"},\"yaxis\":{\"automargin\":true,\"gridcolor\":\"rgb(232,232,232)\",\"linecolor\":\"rgb(36,36,36)\",\"showgrid\":true,\"showline\":true,\"ticks\":\"outside\",\"title\":{\"standoff\":15},\"zeroline\":false,\"zerolinecolor\":\"rgb(36,36,36)\"},\"autosize\":true,\"height\":400,\"margin\":{\"b\":30,\"l\":30,\"r\":30,\"t\":30},\"width\":600}},\"xaxis\":{\"anchor\":\"y\",\"domain\":[0.0,1.0],\"title\":{\"text\":\"Outage Duration (minutes)\"}},\"yaxis\":{\"anchor\":\"x\",\"domain\":[0.0,1.0],\"title\":{\"text\":\"Customers Affected\"}},\"legend\":{\"tracegroupgap\":0},\"title\":{\"text\":\"Customers Affected vs. Outage Duration\"},\"width\":800,\"height\":600},                        {\"responsive\": true}                    ).then(function(){\n",
       "                            \n",
       "var gd = document.getElementById('ffdeaf97-7ed9-4204-a8ab-2f5c2eaf5629');\n",
       "var x = new MutationObserver(function (mutations, observer) {{\n",
       "        var display = window.getComputedStyle(gd).display;\n",
       "        if (!display || display === 'none') {{\n",
       "            console.log([gd, 'removed!']);\n",
       "            Plotly.purge(gd);\n",
       "            observer.disconnect();\n",
       "        }}\n",
       "}});\n",
       "\n",
       "// Listen for the removal of the full notebook cells\n",
       "var notebookContainer = gd.closest('#notebook-container');\n",
       "if (notebookContainer) {{\n",
       "    x.observe(notebookContainer, {childList: true});\n",
       "}}\n",
       "\n",
       "// Listen for the clearing of the current output cell\n",
       "var outputEl = gd.closest('.output');\n",
       "if (outputEl) {{\n",
       "    x.observe(outputEl, {childList: true});\n",
       "}}\n",
       "\n",
       "                        })                };                });            </script>        </div>"
      ]
     },
     "metadata": {},
     "output_type": "display_data"
    }
   ],
   "source": [
    "# Create the scatter plot\n",
    "fig = px.scatter(data_time, x='OUTAGE.DURATION',\n",
    "                 y='CUSTOMERS.AFFECTED',\n",
    "                 title=\"Customers Affected vs. Outage Duration\",\n",
    "                 labels={'OUTAGE.DURATION': 'Outage Duration (minutes)',\n",
    "                         'CUSTOMERS.AFFECTED': 'Customers Affected'})\n",
    "\n",
    "# Show the plot\n",
    "fig.update_layout(width=800, height=600)\n",
    "fig.show()"
   ]
  },
  {
   "cell_type": "code",
   "execution_count": 109,
   "metadata": {},
   "outputs": [],
   "source": [
    "fig.write_html(os.path.join(website_folder, \"bi_1.html\"), include_plotlyjs='cdn')"
   ]
  },
  {
   "cell_type": "code",
   "execution_count": 110,
   "metadata": {},
   "outputs": [
    {
     "data": {
      "text/html": [
       "<div>                            <div id=\"8f51cee1-d1eb-40cf-a823-6ff6117268da\" class=\"plotly-graph-div\" style=\"height:600px; width:800px;\"></div>            <script type=\"text/javascript\">                require([\"plotly\"], function(Plotly) {                    window.PLOTLYENV=window.PLOTLYENV || {};                                    if (document.getElementById(\"8f51cee1-d1eb-40cf-a823-6ff6117268da\")) {                    Plotly.newPlot(                        \"8f51cee1-d1eb-40cf-a823-6ff6117268da\",                        [{\"hovertemplate\":\"Number of Customers in the State=%{x}\\u003cbr\\u003eCustomers Affected=%{y}\\u003cextra\\u003e\\u003c\\u002fextra\\u003e\",\"legendgroup\":\"\",\"marker\":{\"color\":\"#1F77B4\",\"symbol\":\"circle\"},\"mode\":\"markers\",\"name\":\"\",\"showlegend\":false,\"x\":[2595696,2640737,2586905,2606813,2673531,2586905,2586905,2474912,2673531,2622305,2622305,2474912,2595696,2595696,2640737,3260708,3189570,3260708,3174123,3147939,3260708,3189570,3260708,3209121,3229998,3153916,3174123,3174123,3229998,3189570,3229998,3174123,3260708,3260708,3229998,3174123,3293512,3229998,3260708,3209121,3174123,3153916,3229998,3229998,3174123,3229998,3229998,3293512,3153916,2982802,2982802,2845292,2966058,2982802,2982802,2753247,2982802,3017146,2845292,2937600,2937600,2753247,2982802,2982802,2982802,2966058,2982802,2966058,2982802,1014964,1015713,1016833,1016833,4783420,4807438,4713966,4783420,4855877,4829741,4713966,4713966,4783420,4778219,4808839,4784786,4787403,4829741,4821758,4829741,4787403,4807438,4787403,4807438,4799011,4807438,4713966,4783420,4783420,4799011,4784786,4787403,4767997,4821758,4855877,4821866,4784786,4821866,4821758,4713966,4799011,4778219,4821866,4767997,4787403,4821758,4783420,4826640,4713966,4787403,4778219,4787403,4821866,4784786,4783420,4784786,4808839,4778219,4799011,4713966,4829741,4821866,4821866,4821866,4784786,4767997,4808839,4799011,4821866,4778219,4767997,4799011,4829741,4713966,4799011,4783420,4807438,4799011,4783420,4767997,4829741,4821758,4778219,4787403,4807438,4826640,4682478,4787403,4778219,4821758,4783420,4783420,4783420,4829741,4778219,4799011,4821866,4783420,4783420,11849725,11084145,11084145,12074534,11249644,11672996,11672996,10138864,11849725,11849725,11672996,10731627,11124056,11124056,10748834,11849725,10748834,11084145,10114100,9299829,11849725,11249644,11849725,10748834,11672996,11084145,11084145,10731627,12074534,10398774,11084145,10138864,10114100,10748834,11040962,11672996,11849725,11084145,11849725,11249644,11672996,11849725,10748834,10114100,11040962,11249644,11063939,12074534,11063939,11040962,12074534,11417012,11249644,10731627,10138864,11249644,12074534,11063939,11249644,10731627,11417012,11084145,9299829,11124056,11672996,10398774,11063939,9299829,11084145,10731627,11249644,9299829,11417012,10138864,10731627,11849725,11040962,11849725,11249644,11084145,11040962,11124056,11672996,11063939,9635092,11063939,11040962,11849725,11084145,11063939,11249644,11063939,11672996,11084145,10138864,11249644,11417012,11084145,11849725,10398774,11040962,10731627,11849725,11084145,9635092,11417012,11040962,11672996,11672996,10138864,11849725,10731627,11063939,11124056,11849725,12074534,10748834,11063939,11084145,10138864,11849725,11063939,11063939,11084145,10398774,9635092,11084145,3151466,3093313,2995650,3136356,3173549,3092382,2865343,3093313,3092382,3092382,3151466,3136356,3136356,3106397,3106397,3136356,3151466,3118574,3118574,3106397,3038187,3118574,3103313,3061662,3136356,3106397,3092382,3092382,3083816,3118574,3118574,3118574,3106397,3106397,3092382,3136356,3103313,3092382,3093313,3092382,3092382,3103313,3093313,2537927,2262753,2262753,2262753,2552741,2524639,1504921,1484707,1504921,1512645,5682632,5654819,5282401,5650142,5694834,5654819,5694834,5723781,5595528,5654819,5581420,5682632,5751369,5656559,5484232,5682632,5694834,5282401,5694834,5691210,5723781,5682632,5457799,5723781,5682632,5691210,5682632,5484232,5595528,5650142,5650142,5781840,5457799,5282401,5751369,5691210,5694834,5654819,5457799,5682632,5595528,5682632,5682632,5691210,5682632,5656559,3236484,3219667,3236484,3206587,3297238,3340024,3219667,3236484,3236484,3340024,3236484,3219667,3236484,2957979,3067933,3219667,3219667,3236484,3236484,3340024,3340024,3119436,3236484,3382664,3219667,3219667,3219667,3268677,3219667,3340024,3219667,3219667,3382664,3382664,3219667,3067933,3382664,3219667,3340024,3236484,3188963,3236484,3382664,3268677,3236484,3119436,3219667,3268677,3236484,3340024,3164915,3219667,3206587,3236484,3219667,3268677,3236484,3219667,3219667,3219667,3219667,3219667,3382664,3340024,3340024,3236484,3067933,3236484,3297238,3219667,2895063,3236484,3268677,3382664,3219667,3236484,3219667,3340024,3219667,3219667,3236484,3067933,3067933,3067933,3219667,3067933,3219667,3236484,3297238,3067933,3236484,2957979,3219667,3236484,3340024,3236484,3268677,2888138,3011739,3011739,2947070,2947070,2422954,2947070,2947070,2522274,2851115,2981625,2981625,2981625,2193562,2351763,2981625,3051839,2981625,2947070,2888138,2947070,2193562,2522274,3011739,2888138,2981625,2522274,2422954,2468101,2325877,2386907,2428689,2325877,2386907,2356900,2474909,2468101,2461923,2468101,2492109,2461923,2468101,2461923,2468101,2474909,2295305,2461923,2468101,2474909,2492109,2356900,2468101,2453403,2468101,2295305,2461923,2474909,2386907,2468101,2461923,2474909,2474909,2468101,2474909,2492109,2295305,2468101,2295305,2468101,2474909,2468101,2428689,2548067,2439808,2411240,2461923,2468101,2468101,2295305,2411240,2453403,2461923,2468101,2513563,2356900,2474909,5884746,5959646,5950361,5959646,5986817,5950361,5959646,5935587,5974108,5884746,5884746,5950361,5974108,5838785,5959646,5884746,6055013,5950361,5797045,5747853,5959646,5838785,6018897,6003987,5959646,5974108,5935587,5959646,6055013,5935587,5950361,5959646,6003987,5959646,5935587,5941972,5974108,5902660,5884746,6003987,6003987,5950361,5959646,6003987,5935587,6003987,5959646,5711216,5959646,5974108,5711216,5959646,5959646,5974108,6018897,5950361,5950361,2230399,2244047,2226171,2230399,2226171,2253922,2230455,2230455,2226171,2226171,2230455,2230455,2226171,1078210,1152720,1127996,1107087,1107087,1107087,1127996,1152720,1175934,1152720,1175934,1152720,1078210,1127996,1107087,1078210,1030430,1078210,1107087,1049410,1078210,1078210,1175934,1078210,1152720,1175934,1127996,1078210,1078210,1127996,1078210,1078210,1068383,1059410,1127996,1107087,1175934,1107087,1078210,1152720,1107087,5442401,5261626,5442401,5518733,5505432,5532879,5502168,5505432,5525586,5525586,5397308,5502168,5505432,5502168,5515223,5491254,5508672,5397308,5505432,5491254,5505432,5520663,5397308,5502168,5491254,5525586,5502168,5508672,5510899,5505432,5525586,5518733,5505432,5515223,5525586,5505432,5505432,5505432,5505432,5515223,5505432,5502168,5520663,4105711,4550177,4644192,4857434,4933043,4893389,4857434,4893389,4969674,4893389,5012181,4893389,5106195,4808361,4105711,4969674,4857434,4969674,4365692,4857434,4644192,4550177,4933043,4893389,4841173,4365692,4451055,4857434,4969674,4933043,4933043,5106195,4837857,4969674,4857434,4105711,4808361,4365692,4841173,4969674,4036656,4014202,3847844,3951709,3994528,3951709,3892544,3951709,3957980,4014202,3892544,3892544,3951709,3951709,4014202,4036656,3951709,3847844,3892544,3951709,3994528,3957980,3951709,3951709,3946493,3957980,3994528,3957980,3946493,3951709,3951709,3946493,3957980,3951709,3946493,2208483,2446237,2511089,2511089,2059496,2208483,2059496,2511089,1895763,1895763,1941333,1922316,1909390,1962944,1941333,1873563,1903531,1962944,1827302,1895763,1922316,1962944,1922316,1909390,1827302,1895763,1909390,1895763,1941333,1827302,1909390,1941333,1922316,1941333,254001,255948,254001,225500,255948,261854,265820,261854,258099,254001,3118394,3065216,3065216,3065216,3106319,3090921,3118394,3040008,3067398,3072941,3072941,3072941,3138342,3138342,3090921,3090921,2883323,447341,451908,456040,451908,449716,449716,451908,449716,451908,456040,449716,460573,451908,456040,473473,451908,451908,449716,449716,456040,377219,451908,451908,456040,451908,456040,451908,473473,451908,456040,456040,456040,451908,473473,473473,467089,456040,456040,460573,449716,451908,1580227,1538225,1572284,1580227,1563005,1580227,1538225,1543418,597770,587174,574225,7876995,8057158,8057158,8031854,7634656,8599372,8031854,8031854,8031854,8076230,7962235,8199451,8100268,8199451,7786682,8057158,8001564,7937995,8076230,8141870,8076230,8100268,8076230,8001564,7937995,8031854,7937995,8031854,8031854,7937995,8100268,7876995,8031854,8031854,8076230,8031854,8199451,7962235,8031854,8001564,8031854,8001564,8031854,7843381,8001564,8199451,7876995,8001564,7876995,7786682,8031854,7785517,8031854,8141870,8076230,8141870,7937995,8031854,7843381,8031854,8001564,7843381,8057158,8057158,8076230,8031854,8031854,7786682,7843381,7962235,8100268,2205675,2234720,2169187,2265502,2265502,2175788,2169187,2265502,2368711,2265502,2175788,2265502,2293418,2169187,2368711,2175788,2234720,2274270,2234720,2205675,2205675,2265502,2234720,2205675,2205675,2175788,2265502,2293418,2293418,2205675,2265502,2234720,2311899,2343566,2110768,2265502,2175788,2293418,2274270,2265502,9950085,9823195,9195954,9195954,9629911,9629911,10370275,8533279,9732886,9195954,9629911,8960027,8960027,8960027,8960027,8960027,9674415,9195954,8960027,9629911,9639208,8960027,9195954,9629911,9950085,8960027,8960027,9195954,9629911,9629911,8960027,9950085,8960027,9629911,8960027,8960027,9195954,8960027,8960027,9195954,8960027,8960027,9732886,9732886,8732766,14684071,14826792,14520869,15214454,15079226,15107549,14826792,14520869,14280835,15107549,14280835,14280835,15107549,14826792,15214454,15107549,14894339,14837724,15107549,15214454,14894339,15214454,14837724,14894339,14684071,14894339,14789510,15214454,14826792,14837724,14826792,14520869,14684071,14051183,14826792,14520869,14826792,14826792,14051183,14826792,14837724,14520869,15214454,15079226,15214454,15214454,15214454,15107549,15107549,15107549,14789510,15107549,13530807,14520869,14684071,14280835,14837724,15107549,15010483,13625729,15214454,15107549,15286023,15107549,15286023,14520869,14894339,14520869,15214454,14894339,15107549,14894339,15214454,14837724,14051183,14280835,14684071,14280835,15107549,14684071,15214454,14684071,13625729,14894339,14826792,13530807,14837724,13530807,14837724,13999457,14826792,14837724,15107549,14837724,14837724,15214454,14837724,13625729,14051183,14051183,14837724,15010483,14826792,15010483,13999457,15079226,13999457,14789510,15214454,14684071,14826792,15214454,14051183,14280835,15010483,14789510,13530807,14789510,14837724,14826792,15214454,14789510,14837724,14894339,14789510,14826792,14280835,14520869,14789510,15010483,13625729,15010483,15286023,15214454,13999457,15214454,15010483,14280835,12537831,15214454,15079226,14894339,14837724,14837724,14837724,14894339,13530807,14894339,14837724,14789510,15214454,14826792,14894339,14684071,14826792,14894339,14837724,15214454,14894339,14837724,15010483,15010483,14051183,14684071,14837724,15286023,15010483,13530807,14894339,13530807,14684071,14684071,14051183,14826792,13530807,14684071,14826792,15079226,14684071,14051183,15079226,13530807,13625729,14789510,15079226,14684071,15214454,15214454,14837724,15107549,14789510,14789510,15214454,14789510,14684071,14826792,14837724,14826792,15010483,14280835,14837724,15010483,14051183,15107549,14826792,14684071,14684071,13999457,14826792,15079226,1524435,1541340,1524435,1547905,1557322,1547905,1557322,1541340,1557322,1541340,1580234,1547905,1534205,1541340,1541340,1547905,1390891,1541340,1485960,1459901,1557322,1566538,1557322,1547905,1580234,3578883,3643615,3643615,3699801,3699801,3362199,3764167,3301904,3122909,3643615,3699801,3643615,3671544,3643615,3643615,3544751,3684290,3684290,3183748,3671544,3601861,3671544,3684290,3601861,3578883,3578883,3699801,3247382,3493241,3301904,3544751,3493241,3684290,3643615,3493241,3699801,3671544,1000148,988786,942291,970630,323665,327467,327467,331763,331763,326022,1004932,1012672,853771,1012672,1012672,1012672,1012672,1012672,363264,360456,360456,360456,363609,360009,360456,360009,360456,4264532,4362785,4264532,4264532,4621063,4621063,4362785,4772845,4468925,4594199,4264532,4710070,4623210,4710070,4264532,4621063,4636424,1608712,1609952,1608712,1600308,1609952,1608712,1612646,1609952,1609952,1608712,1624052,1610630,1608712,1610630,1546895,1596183,1609735,1612646,2020012,1965552,1782397,1965552,1950247,1940941,1950247,1940941,1894096,2020012,2033942,1884744,2020012,1950247,1983320,1950247,1983320,1983320,1950247,1825198,2020012,2020012,1965552,1950247,3104435,3109560,3104435,3104435,3109560,2884026,3117211,3109560,3109560,3109560,2955487,3157478,3109560,3117211,2927308,3117211,3117211,3109560,784620,792949,792949,784620,792949,799291,792949,787602,774656,785956,785956,790712,770617,797073,797073,787602,785956,795598,784620,710119,710119,710119,707633,707633,710119,707633,707633,712460,697316,707633,707633,707633,710119,1226846,1256909,1290395,1226846,1240259,1308916,1240259,2544338,2544338,2349921,2506109,2475809,2506109,2607518,2643315,2514407,2493641,2389534,2514407,2514407,2389534,2514407,1379347,1484396,1484396,1484396,1499204,1484396,1461241,1484396,1419554,472025,478272,463615,463615,463615,849763,794925,701140,794925,687334,794925,849763,849763,849763,394394,366037,436229,436229,273530],\"xaxis\":\"x\",\"y\":[70000.0,null,70000.0,68200.0,250000.0,60000.0,63000.0,300000.0,5941.0,400000.0,193000.0,200000.0,0.0,0.0,55951.0,null,null,null,64000.0,57000.0,null,50001.0,0.0,null,null,null,106300.0,63000.0,56475.0,null,null,73000.0,215.0,50000.0,38500.0,105000.0,null,null,null,80000.0,63000.0,136000.0,65904.0,null,null,null,null,0.0,null,null,null,48000.0,7000.0,null,null,52000.0,null,0.0,110000.0,7600.0,63000.0,0.0,null,null,120000.0,null,null,51160.0,null,null,66383.0,208000.0,265000.0,113000.0,53000.0,245000.0,null,145314.0,60000.0,2100000.0,425000.0,78213.0,150000.0,164000.0,140000.0,70793.0,134288.0,60000.0,69000.0,75000.0,105000.0,118000.0,201580.0,325325.0,118000.0,131000.0,160000.0,0.0,50000.0,133777.0,125000.0,248209.0,162000.0,160895.0,210517.0,111000.0,247847.0,68000.0,null,50000.0,285000.0,86915.0,122000.0,65562.0,50114.0,null,252089.0,2.0,137000.0,80000.0,null,53000.0,130000.0,182000.0,0.0,50000.0,60175.0,146500.0,101000.0,null,239663.0,230000.0,150000.0,111393.0,250000.0,138802.0,75000.0,358000.0,127534.0,122600.0,140735.0,66000.0,160000.0,156627.0,0.0,114711.0,99188.0,85000.0,159870.0,75000.0,72520.0,100000.0,99000.0,272355.0,315000.0,190000.0,58156.0,82000.0,168000.0,0.0,197166.0,103000.0,129607.0,138000.0,138000.0,56000.0,105000.0,65000.0,30000.0,null,86013.0,52000.0,3314.0,null,null,119000.0,57000.0,454000.0,null,489478.0,126000.0,79741.0,null,null,118000.0,0.0,108000.0,238000.0,null,96000.0,280982.0,98700.0,null,79000.0,0.0,200000.0,85000.0,200000.0,null,null,68530.0,67000.0,2142678.0,null,130252.0,60000.0,0.0,262000.0,null,null,null,192000.0,71823.0,0.0,73000.0,0.0,64801.0,211266.0,62000.0,null,null,83000.0,100000.0,70000.0,214864.0,80000.0,null,null,219681.0,78000.0,2000000.0,500000.0,null,715000.0,null,100000.0,1069730.0,51404.0,175000.0,43000.0,881000.0,85000.0,68000.0,17311.0,488689.0,null,0.0,0.0,238392.0,340350.0,null,null,24506.0,158000.0,234393.0,89000.0,0.0,73000.0,120377.0,null,null,0.0,63000.0,null,171117.0,0.0,57531.0,123000.0,2504366.0,9000.0,61000.0,0.0,36073.0,null,113247.0,null,null,500000.0,null,82000.0,132000.0,81586.0,70000.0,415103.0,300000.0,800000.0,65000.0,62500.0,100000.0,157019.0,null,null,243000.0,114000.0,null,127000.0,null,135000.0,61705.0,0.0,9700.0,124000.0,9700.0,50000.0,9700.0,null,75065.0,7500.0,201000.0,null,61705.0,56000.0,9800.0,82621.0,0.0,114791.0,61413.0,94345.0,186000.0,86615.0,215387.0,70000.0,null,9600.0,52702.0,null,0.0,null,141000.0,63000.0,null,53000.0,9700.0,53700.0,null,58000.0,null,75000.0,65000.0,160000.0,60000.0,75000.0,111644.0,null,null,10000.0,null,0.0,0.0,300000.0,101830.0,629590.0,109000.0,192106.0,181000.0,190000.0,471932.0,400000.0,51500.0,121000.0,420000.0,245000.0,127000.0,169000.0,320000.0,11000.0,330000.0,109000.0,283451.0,300000.0,72000.0,157000.0,80000.0,653000.0,71500.0,200000.0,65400.0,237000.0,135000.0,115000.0,51000.0,239567.0,null,165000.0,325000.0,127000.0,130000.0,169000.0,170519.0,190000.0,500000.0,125000.0,null,68800.0,null,null,null,92090.0,null,250000.0,null,null,null,null,0.0,null,0.0,145000.0,63992.0,null,null,426000.0,null,null,76300.0,110433.0,null,0.0,null,0.0,null,105000.0,null,null,0.0,null,0.0,0.0,null,140000.0,56000.0,null,500000.0,0.0,93300.0,0.0,0.0,null,0.0,160000.0,0.0,null,null,89000.0,8000.0,null,123535.0,null,0.0,null,null,null,0.0,null,null,null,0.0,300000.0,null,null,175000.0,null,null,null,200000.0,null,null,null,null,null,null,0.0,null,0.0,null,172060.0,123827.0,75000.0,null,50000.0,0.0,null,null,700000.0,null,187000.0,null,null,64000.0,null,null,160000.0,null,null,null,null,47000.0,null,null,null,140000.0,null,null,null,40911.0,0.0,null,2713.0,null,null,null,null,null,null,null,69000.0,null,30000.0,90000.0,60000.0,70000.0,60000.0,108000.0,122000.0,180000.0,87600.0,null,0.0,0.0,0.0,null,0.0,null,108000.0,null,null,104195.0,93000.0,0.0,null,null,55118.0,0.0,297700.0,0.0,650000.0,234326.0,null,70000.0,86390.0,0.0,null,1.0,219000.0,1.0,181000.0,110000.0,0.0,133000.0,0.0,null,65000.0,249408.0,0.0,85091.0,138000.0,null,0.0,0.0,153000.0,155183.0,124000.0,760113.0,600000.0,null,64943.0,null,167564.0,50000.0,120000.0,null,null,57000.0,146721.0,198000.0,400000.0,146094.0,111555.0,52000.0,64500.0,143000.0,200717.0,142315.0,0.0,82861.0,105312.0,185000.0,109335.0,93837.0,200000.0,62000.0,213000.0,850000.0,124596.0,118000.0,null,105000.0,177528.0,264000.0,715000.0,null,160875.0,132000.0,65112.0,55000.0,492955.0,62159.0,null,43903.0,120001.0,144000.0,168449.0,null,0.0,106000.0,284000.0,65000.0,95630.0,312359.0,0.0,270000.0,35000.0,355000.0,223000.0,null,null,78000.0,181700.0,null,110.0,375000.0,76000.0,383000.0,190000.0,0.0,18000.0,3500.0,0.0,0.0,null,null,null,null,null,37.0,0.0,5763.0,85179.0,0.0,0.0,null,null,0.0,null,0.0,null,74031.0,60000.0,0.0,0.0,0.0,null,0.0,null,0.0,0.0,null,0.0,0.0,null,null,null,null,0.0,null,0.0,null,null,281000.0,null,127000.0,null,0.0,0.0,null,null,95000.0,45000.0,134500.0,175000.0,107833.0,67000.0,184000.0,246990.0,122314.0,1203000.0,0.0,211000.0,0.0,null,null,57054.0,150000.0,56000.0,0.0,0.0,50636.0,0.0,564728.0,59106.0,0.0,184000.0,245164.0,2000.0,23000.0,0.0,52747.0,48102.0,86000.0,346000.0,null,100000.0,60000.0,72000.0,220000.0,12000.0,null,70135.0,6100.0,200000.0,1200.0,103776.0,69106.0,203345.0,50718.0,130000.0,null,1200.0,null,340000.0,71000.0,61000.0,51600.0,53000.0,12000.0,29376.0,50000.0,112000.0,136000.0,61377.0,0.0,175000.0,0.0,47000.0,null,285465.0,50000.0,57000.0,320000.0,4196.0,370900.0,0.0,156338.0,100000.0,650000.0,null,197000.0,135000.0,0.0,95400.0,73000.0,248800.0,156729.0,0.0,140000.0,263000.0,50900.0,0.0,130000.0,75654.0,0.0,null,50000.0,0.0,0.0,150000.0,205000.0,null,217000.0,180000.0,67900.0,665000.0,221000.0,null,379000.0,360000.0,125000.0,50465.0,677858.0,120124.0,133000.0,150000.0,81000.0,677858.0,9000.0,2500.0,71000.0,null,null,0.0,null,3.0,null,null,249500.0,null,null,0.0,null,null,111000.0,0.0,null,0.0,null,84500.0,null,0.0,null,null,97651.0,220000.0,76729.0,530000.0,210000.0,52000.0,null,40000.0,425000.0,101003.0,null,83000.0,null,62500.0,null,null,0.0,63000.0,53000.0,20000.0,70000.0,55000.0,0.0,0.0,100000.0,56444.0,95000.0,18400.0,0.0,null,null,0.0,0.0,0.0,0.0,0.0,null,0.0,null,0.0,null,0.0,null,0.0,0.0,0.0,null,null,0.0,0.0,null,null,null,0.0,0.0,0.0,null,null,null,0.0,0.0,0.0,65000.0,null,null,null,0.0,0.0,null,140000.0,null,null,0.0,null,215000.0,21000.0,null,null,null,160000.0,632816.0,818000.0,152261.0,null,null,116000.0,145000.0,0.0,59000.0,300000.0,56645.0,null,0.0,18600.0,null,null,190000.0,null,null,61795.0,null,74300.0,173000.0,60000.0,0.0,54316.0,null,null,68000.0,null,3125350.0,0.0,null,null,50000.0,null,137000.0,100000.0,153000.0,null,55000.0,0.0,200000.0,150000.0,null,null,null,50280.0,18600.0,99700.0,65000.0,180000.0,null,null,0.0,61000.0,0.0,120000.0,50000.0,null,250000.0,371000.0,null,null,null,161151.0,18600.0,25000.0,null,null,null,null,59057.0,null,null,1100000.0,null,null,85000.0,null,287000.0,null,1.0,null,57184.0,143000.0,11000.0,11000.0,null,null,246092.0,null,null,150000.0,50000.0,190000.0,null,95000.0,50000.0,null,null,null,21800.0,28000.0,242910.0,null,125000.0,68018.0,null,null,0.0,440000.0,0.0,0.0,584384.0,430000.0,0.0,25000.0,50000.0,105000.0,150000.0,0.0,0.0,1200000.0,179000.0,42124.0,null,0.0,0.0,53965.0,31000.0,2775093.0,0.0,101950.0,37.0,110000.0,78000.0,84900.0,56000.0,47661.0,722000.0,104498.0,832898.0,32593.0,285300.0,268000.0,3241437.0,26000.0,502000.0,0.0,23000.0,26000.0,87000.0,20900.0,16500.0,null,null,null,null,null,0.0,null,null,128050.0,124000.0,900000.0,null,148000.0,37784.0,null,6810.0,79000.0,null,2500.0,null,150000.0,null,15000.0,null,26000.0,0.0,null,null,150000.0,290000.0,10000.0,850068.0,null,70000.0,null,null,null,10008.0,407440.0,477.0,50000.0,130000.0,null,null,727.0,484.0,0.0,1.0,48400.0,58850.0,94000.0,433.0,null,55655.0,null,442000.0,30000.0,89500.0,null,null,null,null,null,null,4300.0,160000.0,100000.0,1271893.0,0.0,80000.0,0.0,80000.0,null,null,505000.0,null,null,409000.0,65255.0,null,null,null,939000.0,6800.0,2606931.0,null,null,null,null,109750.0,null,null,0.0,7077.0,null,null,1700000.0,255000.0,59458.0,95000.0,147223.0,0.0,50000.0,2035.0,241000.0,426.0,108000.0,null,78164.0,null,null,9956.0,182000.0,null,null,null,430984.0,859554.0,null,null,65000.0,70.0,null,165000.0,null,140000.0,1667316.0,null,280000.0,0.0,385000.0,125000.0,0.0,55677.0,1.0,484.0,127.0,133900.0,32000.0,null,null,0.0,4.0,2650.0,null,5314.0,null,null,73514.0,null,0.0,null,420.0,null,200000.0,54332.0,6635.0,70.0,128000.0,2674.0,null,null,940.0,20345.0,null,0.0,null,70848.0,91690.0,null,300000.0,90323.0,263000.0,null,25000.0,104000.0,638.0,1400000.0,158977.0,null,null,null,1500000.0,null,1400000.0,68780.0,9956.0,0.0,7077.0,123000.0,null,1.0,80000.0,null,null,115500.0,null,0.0,1.0,null,60000.0,null,null,null,0.0,671189.0,null,120000.0,400000.0,null,111818.0,null,215700.0,null,null,64951.0,null,null,null,13000.0,null,7935.0,25159.0,0.0,13000.0,null,43000.0,null,8000.0,50797.0,null,57200.0,9200.0,null,null,115000.0,51580.0,0.0,88000.0,null,88110.0,52739.0,67000.0,37000.0,60000.0,119000.0,150084.0,156000.0,56000.0,175000.0,107000.0,55000.0,81000.0,600000.0,880000.0,null,119000.0,145157.0,217000.0,253800.0,114618.0,233000.0,130000.0,75000.0,80000.0,58500.0,67000.0,null,50000.0,126000.0,283000.0,190000.0,null,126000.0,120212.0,15000.0,35500.0,0.0,0.0,null,null,null,0.0,null,500000.0,null,null,0.0,null,null,null,0.0,0.0,null,null,null,0.0,0.0,0.0,47165.0,82000.0,30689.0,150000.0,218783.0,93828.0,52659.0,186035.0,109000.0,80539.0,83450.0,66445.0,102000.0,373835.0,85455.0,169000.0,null,0.0,null,158000.0,50752.0,null,0.0,56400.0,75000.0,null,0.0,67000.0,50100.0,null,50246.0,224912.0,0.0,null,52000.0,54476.0,0.0,1881134.0,112000.0,14500.0,68705.0,null,null,256663.0,50500.0,96966.0,null,35000.0,54000.0,41306.0,null,127000.0,92748.0,0.0,56874.0,55609.0,1500.0,null,54000.0,80000.0,29250.0,50000.0,0.0,0.0,130000.0,50000.0,null,50000.0,50000.0,380000.0,50500.0,null,null,300000.0,0.0,1.0,0.0,0.0,0.0,0.0,127545.0,null,0.0,0.0,131000.0,63000.0,169757.0,50462.0,60863.0,null,52500.0,0.0,0.0,110000.0,50000.0,117142.0,50000.0,0.0,0.0,0.0,null,0.0,0.0,0.0,null,102568.0,0.0,null,0.0,0.0,0.0,1100.0,0.0,null,null,110000.0,0.0,35230.0,0.0,0.0,204000.0,86058.0,null,null,0.0,null,31000.0,null,30379.0,0.0,65000.0,0.0,270000.0,null,0.0,70000.0,95000.0,0.0,null,110000.0,211000.0,294000.0,62000.0,59886.0,29300.0,291000.0,null,0.0,35000.0,0.0,0.0,null,0.0,0.0,null,34500.0,null,null,null,14273.0],\"yaxis\":\"y\",\"type\":\"scattergl\"}],                        {\"template\":{\"data\":{\"barpolar\":[{\"marker\":{\"line\":{\"color\":\"white\",\"width\":0.5},\"pattern\":{\"fillmode\":\"overlay\",\"size\":10,\"solidity\":0.2}},\"type\":\"barpolar\"}],\"bar\":[{\"error_x\":{\"color\":\"rgb(36,36,36)\"},\"error_y\":{\"color\":\"rgb(36,36,36)\"},\"marker\":{\"line\":{\"color\":\"white\",\"width\":0.5},\"pattern\":{\"fillmode\":\"overlay\",\"size\":10,\"solidity\":0.2}},\"type\":\"bar\"}],\"carpet\":[{\"aaxis\":{\"endlinecolor\":\"rgb(36,36,36)\",\"gridcolor\":\"white\",\"linecolor\":\"white\",\"minorgridcolor\":\"white\",\"startlinecolor\":\"rgb(36,36,36)\"},\"baxis\":{\"endlinecolor\":\"rgb(36,36,36)\",\"gridcolor\":\"white\",\"linecolor\":\"white\",\"minorgridcolor\":\"white\",\"startlinecolor\":\"rgb(36,36,36)\"},\"type\":\"carpet\"}],\"choropleth\":[{\"colorbar\":{\"outlinewidth\":1,\"tickcolor\":\"rgb(36,36,36)\",\"ticks\":\"outside\"},\"type\":\"choropleth\"}],\"contourcarpet\":[{\"colorbar\":{\"outlinewidth\":1,\"tickcolor\":\"rgb(36,36,36)\",\"ticks\":\"outside\"},\"type\":\"contourcarpet\"}],\"contour\":[{\"colorbar\":{\"outlinewidth\":1,\"tickcolor\":\"rgb(36,36,36)\",\"ticks\":\"outside\"},\"colorscale\":[[0.0,\"#440154\"],[0.1111111111111111,\"#482878\"],[0.2222222222222222,\"#3e4989\"],[0.3333333333333333,\"#31688e\"],[0.4444444444444444,\"#26828e\"],[0.5555555555555556,\"#1f9e89\"],[0.6666666666666666,\"#35b779\"],[0.7777777777777778,\"#6ece58\"],[0.8888888888888888,\"#b5de2b\"],[1.0,\"#fde725\"]],\"type\":\"contour\"}],\"heatmapgl\":[{\"colorbar\":{\"outlinewidth\":1,\"tickcolor\":\"rgb(36,36,36)\",\"ticks\":\"outside\"},\"colorscale\":[[0.0,\"#440154\"],[0.1111111111111111,\"#482878\"],[0.2222222222222222,\"#3e4989\"],[0.3333333333333333,\"#31688e\"],[0.4444444444444444,\"#26828e\"],[0.5555555555555556,\"#1f9e89\"],[0.6666666666666666,\"#35b779\"],[0.7777777777777778,\"#6ece58\"],[0.8888888888888888,\"#b5de2b\"],[1.0,\"#fde725\"]],\"type\":\"heatmapgl\"}],\"heatmap\":[{\"colorbar\":{\"outlinewidth\":1,\"tickcolor\":\"rgb(36,36,36)\",\"ticks\":\"outside\"},\"colorscale\":[[0.0,\"#440154\"],[0.1111111111111111,\"#482878\"],[0.2222222222222222,\"#3e4989\"],[0.3333333333333333,\"#31688e\"],[0.4444444444444444,\"#26828e\"],[0.5555555555555556,\"#1f9e89\"],[0.6666666666666666,\"#35b779\"],[0.7777777777777778,\"#6ece58\"],[0.8888888888888888,\"#b5de2b\"],[1.0,\"#fde725\"]],\"type\":\"heatmap\"}],\"histogram2dcontour\":[{\"colorbar\":{\"outlinewidth\":1,\"tickcolor\":\"rgb(36,36,36)\",\"ticks\":\"outside\"},\"colorscale\":[[0.0,\"#440154\"],[0.1111111111111111,\"#482878\"],[0.2222222222222222,\"#3e4989\"],[0.3333333333333333,\"#31688e\"],[0.4444444444444444,\"#26828e\"],[0.5555555555555556,\"#1f9e89\"],[0.6666666666666666,\"#35b779\"],[0.7777777777777778,\"#6ece58\"],[0.8888888888888888,\"#b5de2b\"],[1.0,\"#fde725\"]],\"type\":\"histogram2dcontour\"}],\"histogram2d\":[{\"colorbar\":{\"outlinewidth\":1,\"tickcolor\":\"rgb(36,36,36)\",\"ticks\":\"outside\"},\"colorscale\":[[0.0,\"#440154\"],[0.1111111111111111,\"#482878\"],[0.2222222222222222,\"#3e4989\"],[0.3333333333333333,\"#31688e\"],[0.4444444444444444,\"#26828e\"],[0.5555555555555556,\"#1f9e89\"],[0.6666666666666666,\"#35b779\"],[0.7777777777777778,\"#6ece58\"],[0.8888888888888888,\"#b5de2b\"],[1.0,\"#fde725\"]],\"type\":\"histogram2d\"}],\"histogram\":[{\"marker\":{\"line\":{\"color\":\"white\",\"width\":0.6}},\"type\":\"histogram\"}],\"mesh3d\":[{\"colorbar\":{\"outlinewidth\":1,\"tickcolor\":\"rgb(36,36,36)\",\"ticks\":\"outside\"},\"type\":\"mesh3d\"}],\"parcoords\":[{\"line\":{\"colorbar\":{\"outlinewidth\":1,\"tickcolor\":\"rgb(36,36,36)\",\"ticks\":\"outside\"}},\"type\":\"parcoords\"}],\"pie\":[{\"automargin\":true,\"type\":\"pie\"}],\"scatter3d\":[{\"line\":{\"colorbar\":{\"outlinewidth\":1,\"tickcolor\":\"rgb(36,36,36)\",\"ticks\":\"outside\"}},\"marker\":{\"colorbar\":{\"outlinewidth\":1,\"tickcolor\":\"rgb(36,36,36)\",\"ticks\":\"outside\"}},\"type\":\"scatter3d\"}],\"scattercarpet\":[{\"marker\":{\"colorbar\":{\"outlinewidth\":1,\"tickcolor\":\"rgb(36,36,36)\",\"ticks\":\"outside\"}},\"type\":\"scattercarpet\"}],\"scattergeo\":[{\"marker\":{\"colorbar\":{\"outlinewidth\":1,\"tickcolor\":\"rgb(36,36,36)\",\"ticks\":\"outside\"}},\"type\":\"scattergeo\"}],\"scattergl\":[{\"marker\":{\"colorbar\":{\"outlinewidth\":1,\"tickcolor\":\"rgb(36,36,36)\",\"ticks\":\"outside\"}},\"type\":\"scattergl\"}],\"scattermapbox\":[{\"marker\":{\"colorbar\":{\"outlinewidth\":1,\"tickcolor\":\"rgb(36,36,36)\",\"ticks\":\"outside\"}},\"type\":\"scattermapbox\"}],\"scatterpolargl\":[{\"marker\":{\"colorbar\":{\"outlinewidth\":1,\"tickcolor\":\"rgb(36,36,36)\",\"ticks\":\"outside\"}},\"type\":\"scatterpolargl\"}],\"scatterpolar\":[{\"marker\":{\"colorbar\":{\"outlinewidth\":1,\"tickcolor\":\"rgb(36,36,36)\",\"ticks\":\"outside\"}},\"type\":\"scatterpolar\"}],\"scatter\":[{\"fillpattern\":{\"fillmode\":\"overlay\",\"size\":10,\"solidity\":0.2},\"type\":\"scatter\"}],\"scatterternary\":[{\"marker\":{\"colorbar\":{\"outlinewidth\":1,\"tickcolor\":\"rgb(36,36,36)\",\"ticks\":\"outside\"}},\"type\":\"scatterternary\"}],\"surface\":[{\"colorbar\":{\"outlinewidth\":1,\"tickcolor\":\"rgb(36,36,36)\",\"ticks\":\"outside\"},\"colorscale\":[[0.0,\"#440154\"],[0.1111111111111111,\"#482878\"],[0.2222222222222222,\"#3e4989\"],[0.3333333333333333,\"#31688e\"],[0.4444444444444444,\"#26828e\"],[0.5555555555555556,\"#1f9e89\"],[0.6666666666666666,\"#35b779\"],[0.7777777777777778,\"#6ece58\"],[0.8888888888888888,\"#b5de2b\"],[1.0,\"#fde725\"]],\"type\":\"surface\"}],\"table\":[{\"cells\":{\"fill\":{\"color\":\"rgb(237,237,237)\"},\"line\":{\"color\":\"white\"}},\"header\":{\"fill\":{\"color\":\"rgb(217,217,217)\"},\"line\":{\"color\":\"white\"}},\"type\":\"table\"}]},\"layout\":{\"annotationdefaults\":{\"arrowhead\":0,\"arrowwidth\":1},\"autotypenumbers\":\"strict\",\"coloraxis\":{\"colorbar\":{\"outlinewidth\":1,\"tickcolor\":\"rgb(36,36,36)\",\"ticks\":\"outside\"}},\"colorscale\":{\"diverging\":[[0.0,\"rgb(103,0,31)\"],[0.1,\"rgb(178,24,43)\"],[0.2,\"rgb(214,96,77)\"],[0.3,\"rgb(244,165,130)\"],[0.4,\"rgb(253,219,199)\"],[0.5,\"rgb(247,247,247)\"],[0.6,\"rgb(209,229,240)\"],[0.7,\"rgb(146,197,222)\"],[0.8,\"rgb(67,147,195)\"],[0.9,\"rgb(33,102,172)\"],[1.0,\"rgb(5,48,97)\"]],\"sequential\":[[0.0,\"#440154\"],[0.1111111111111111,\"#482878\"],[0.2222222222222222,\"#3e4989\"],[0.3333333333333333,\"#31688e\"],[0.4444444444444444,\"#26828e\"],[0.5555555555555556,\"#1f9e89\"],[0.6666666666666666,\"#35b779\"],[0.7777777777777778,\"#6ece58\"],[0.8888888888888888,\"#b5de2b\"],[1.0,\"#fde725\"]],\"sequentialminus\":[[0.0,\"#440154\"],[0.1111111111111111,\"#482878\"],[0.2222222222222222,\"#3e4989\"],[0.3333333333333333,\"#31688e\"],[0.4444444444444444,\"#26828e\"],[0.5555555555555556,\"#1f9e89\"],[0.6666666666666666,\"#35b779\"],[0.7777777777777778,\"#6ece58\"],[0.8888888888888888,\"#b5de2b\"],[1.0,\"#fde725\"]]},\"colorway\":[\"#1F77B4\",\"#FF7F0E\",\"#2CA02C\",\"#D62728\",\"#9467BD\",\"#8C564B\",\"#E377C2\",\"#7F7F7F\",\"#BCBD22\",\"#17BECF\"],\"font\":{\"color\":\"rgb(36,36,36)\"},\"geo\":{\"bgcolor\":\"white\",\"lakecolor\":\"white\",\"landcolor\":\"white\",\"showlakes\":true,\"showland\":true,\"subunitcolor\":\"white\"},\"hoverlabel\":{\"align\":\"left\"},\"hovermode\":\"closest\",\"mapbox\":{\"style\":\"light\"},\"paper_bgcolor\":\"white\",\"plot_bgcolor\":\"white\",\"polar\":{\"angularaxis\":{\"gridcolor\":\"rgb(232,232,232)\",\"linecolor\":\"rgb(36,36,36)\",\"showgrid\":false,\"showline\":true,\"ticks\":\"outside\"},\"bgcolor\":\"white\",\"radialaxis\":{\"gridcolor\":\"rgb(232,232,232)\",\"linecolor\":\"rgb(36,36,36)\",\"showgrid\":false,\"showline\":true,\"ticks\":\"outside\"}},\"scene\":{\"xaxis\":{\"backgroundcolor\":\"white\",\"gridcolor\":\"rgb(232,232,232)\",\"gridwidth\":2,\"linecolor\":\"rgb(36,36,36)\",\"showbackground\":true,\"showgrid\":false,\"showline\":true,\"ticks\":\"outside\",\"zeroline\":false,\"zerolinecolor\":\"rgb(36,36,36)\"},\"yaxis\":{\"backgroundcolor\":\"white\",\"gridcolor\":\"rgb(232,232,232)\",\"gridwidth\":2,\"linecolor\":\"rgb(36,36,36)\",\"showbackground\":true,\"showgrid\":false,\"showline\":true,\"ticks\":\"outside\",\"zeroline\":false,\"zerolinecolor\":\"rgb(36,36,36)\"},\"zaxis\":{\"backgroundcolor\":\"white\",\"gridcolor\":\"rgb(232,232,232)\",\"gridwidth\":2,\"linecolor\":\"rgb(36,36,36)\",\"showbackground\":true,\"showgrid\":false,\"showline\":true,\"ticks\":\"outside\",\"zeroline\":false,\"zerolinecolor\":\"rgb(36,36,36)\"}},\"shapedefaults\":{\"fillcolor\":\"black\",\"line\":{\"width\":0},\"opacity\":0.3},\"ternary\":{\"aaxis\":{\"gridcolor\":\"rgb(232,232,232)\",\"linecolor\":\"rgb(36,36,36)\",\"showgrid\":false,\"showline\":true,\"ticks\":\"outside\"},\"baxis\":{\"gridcolor\":\"rgb(232,232,232)\",\"linecolor\":\"rgb(36,36,36)\",\"showgrid\":false,\"showline\":true,\"ticks\":\"outside\"},\"bgcolor\":\"white\",\"caxis\":{\"gridcolor\":\"rgb(232,232,232)\",\"linecolor\":\"rgb(36,36,36)\",\"showgrid\":false,\"showline\":true,\"ticks\":\"outside\"}},\"title\":{\"x\":0.5,\"xanchor\":\"center\"},\"xaxis\":{\"automargin\":true,\"gridcolor\":\"rgb(232,232,232)\",\"linecolor\":\"rgb(36,36,36)\",\"showgrid\":true,\"showline\":true,\"ticks\":\"outside\",\"title\":{\"standoff\":15},\"zeroline\":false,\"zerolinecolor\":\"rgb(36,36,36)\"},\"yaxis\":{\"automargin\":true,\"gridcolor\":\"rgb(232,232,232)\",\"linecolor\":\"rgb(36,36,36)\",\"showgrid\":true,\"showline\":true,\"ticks\":\"outside\",\"title\":{\"standoff\":15},\"zeroline\":false,\"zerolinecolor\":\"rgb(36,36,36)\"},\"autosize\":true,\"height\":400,\"margin\":{\"b\":30,\"l\":30,\"r\":30,\"t\":30},\"width\":600}},\"xaxis\":{\"anchor\":\"y\",\"domain\":[0.0,1.0],\"title\":{\"text\":\"Number of Customers in the State\"}},\"yaxis\":{\"anchor\":\"x\",\"domain\":[0.0,1.0],\"title\":{\"text\":\"Customers Affected\"}},\"legend\":{\"tracegroupgap\":0},\"title\":{\"text\":\"Customers Affected vs. Total Customers\"},\"width\":800,\"height\":600},                        {\"responsive\": true}                    ).then(function(){\n",
       "                            \n",
       "var gd = document.getElementById('8f51cee1-d1eb-40cf-a823-6ff6117268da');\n",
       "var x = new MutationObserver(function (mutations, observer) {{\n",
       "        var display = window.getComputedStyle(gd).display;\n",
       "        if (!display || display === 'none') {{\n",
       "            console.log([gd, 'removed!']);\n",
       "            Plotly.purge(gd);\n",
       "            observer.disconnect();\n",
       "        }}\n",
       "}});\n",
       "\n",
       "// Listen for the removal of the full notebook cells\n",
       "var notebookContainer = gd.closest('#notebook-container');\n",
       "if (notebookContainer) {{\n",
       "    x.observe(notebookContainer, {childList: true});\n",
       "}}\n",
       "\n",
       "// Listen for the clearing of the current output cell\n",
       "var outputEl = gd.closest('.output');\n",
       "if (outputEl) {{\n",
       "    x.observe(outputEl, {childList: true});\n",
       "}}\n",
       "\n",
       "                        })                };                });            </script>        </div>"
      ]
     },
     "metadata": {},
     "output_type": "display_data"
    }
   ],
   "source": [
    "# Create the scatter plot\n",
    "fig = px.scatter(data_time, x='TOTAL.CUSTOMERS',\n",
    "                 y='CUSTOMERS.AFFECTED',\n",
    "                 title=\"Customers Affected vs. Total Customers\",\n",
    "                 labels={'TOTAL.CUSTOMERS': 'Number of Customers in the State',\n",
    "                         'CUSTOMERS.AFFECTED': 'Customers Affected'})\n",
    "\n",
    "# Show the plot\n",
    "fig.update_layout(width=800, height=600)\n",
    "fig.show()"
   ]
  },
  {
   "cell_type": "code",
   "execution_count": 111,
   "metadata": {},
   "outputs": [],
   "source": [
    "fig.write_html(os.path.join(website_folder, \"bi_2.html\"), include_plotlyjs='cdn')"
   ]
  },
  {
   "cell_type": "code",
   "execution_count": 112,
   "metadata": {},
   "outputs": [
    {
     "data": {
      "text/html": [
       "<div>\n",
       "<style scoped>\n",
       "    .dataframe tbody tr th:only-of-type {\n",
       "        vertical-align: middle;\n",
       "    }\n",
       "\n",
       "    .dataframe tbody tr th {\n",
       "        vertical-align: top;\n",
       "    }\n",
       "\n",
       "    .dataframe thead th {\n",
       "        text-align: right;\n",
       "    }\n",
       "</style>\n",
       "<table border=\"1\" class=\"dataframe\">\n",
       "  <thead>\n",
       "    <tr style=\"text-align: right;\">\n",
       "      <th></th>\n",
       "      <th>CUSTOMERS.AFFECTED</th>\n",
       "      <th>DEMAND.LOSS.MW</th>\n",
       "      <th>OUTAGE.DURATION</th>\n",
       "    </tr>\n",
       "    <tr>\n",
       "      <th>U.S._STATE</th>\n",
       "      <th></th>\n",
       "      <th></th>\n",
       "      <th></th>\n",
       "    </tr>\n",
       "  </thead>\n",
       "  <tbody>\n",
       "    <tr>\n",
       "      <th>Alabama</th>\n",
       "      <td>94328.80</td>\n",
       "      <td>291.50</td>\n",
       "      <td>1152.80</td>\n",
       "    </tr>\n",
       "    <tr>\n",
       "      <th>Alaska</th>\n",
       "      <td>14273.00</td>\n",
       "      <td>35.00</td>\n",
       "      <td>NaN</td>\n",
       "    </tr>\n",
       "    <tr>\n",
       "      <th>Arizona</th>\n",
       "      <td>64402.67</td>\n",
       "      <td>1245.70</td>\n",
       "      <td>4552.92</td>\n",
       "    </tr>\n",
       "    <tr>\n",
       "      <th>...</th>\n",
       "      <td>...</td>\n",
       "      <td>...</td>\n",
       "      <td>...</td>\n",
       "    </tr>\n",
       "    <tr>\n",
       "      <th>West Virginia</th>\n",
       "      <td>179794.33</td>\n",
       "      <td>362.00</td>\n",
       "      <td>6979.00</td>\n",
       "    </tr>\n",
       "    <tr>\n",
       "      <th>Wisconsin</th>\n",
       "      <td>45876.00</td>\n",
       "      <td>161.00</td>\n",
       "      <td>7904.11</td>\n",
       "    </tr>\n",
       "    <tr>\n",
       "      <th>Wyoming</th>\n",
       "      <td>11833.33</td>\n",
       "      <td>26.75</td>\n",
       "      <td>33.33</td>\n",
       "    </tr>\n",
       "  </tbody>\n",
       "</table>\n",
       "<p>50 rows × 3 columns</p>\n",
       "</div>"
      ],
      "text/plain": [
       "               CUSTOMERS.AFFECTED  DEMAND.LOSS.MW  OUTAGE.DURATION\n",
       "U.S._STATE                                                        \n",
       "Alabama                  94328.80          291.50          1152.80\n",
       "Alaska                   14273.00           35.00              NaN\n",
       "Arizona                  64402.67         1245.70          4552.92\n",
       "...                           ...             ...              ...\n",
       "West Virginia           179794.33          362.00          6979.00\n",
       "Wisconsin                45876.00          161.00          7904.11\n",
       "Wyoming                  11833.33           26.75            33.33\n",
       "\n",
       "[50 rows x 3 columns]"
      ]
     },
     "execution_count": 112,
     "metadata": {},
     "output_type": "execute_result"
    }
   ],
   "source": [
    "table = pd.pivot_table(data_time, values=['OUTAGE.DURATION',\n",
    "                                          \"CUSTOMERS.AFFECTED\",\n",
    "                                          \"DEMAND.LOSS.MW\"],\n",
    "                         index=[\"U.S._STATE\"],\n",
    "                        aggfunc=\"mean\")\n",
    "table"
   ]
  },
  {
   "cell_type": "code",
   "execution_count": null,
   "metadata": {},
   "outputs": [],
   "source": []
  },
  {
   "cell_type": "markdown",
   "metadata": {},
   "source": [
    "## Step 3: Assessment of Missingness"
   ]
  },
  {
   "cell_type": "code",
   "execution_count": 113,
   "metadata": {
    "ExecuteTime": {
     "end_time": "2019-10-31T23:36:28.662099Z",
     "start_time": "2019-10-31T23:36:28.660016Z"
    }
   },
   "outputs": [
    {
     "data": {
      "text/html": [
       "<div>\n",
       "<style scoped>\n",
       "    .dataframe tbody tr th:only-of-type {\n",
       "        vertical-align: middle;\n",
       "    }\n",
       "\n",
       "    .dataframe tbody tr th {\n",
       "        vertical-align: top;\n",
       "    }\n",
       "\n",
       "    .dataframe thead th {\n",
       "        text-align: right;\n",
       "    }\n",
       "</style>\n",
       "<table border=\"1\" class=\"dataframe\">\n",
       "  <thead>\n",
       "    <tr style=\"text-align: right;\">\n",
       "      <th></th>\n",
       "      <th>YEAR</th>\n",
       "      <th>MONTH</th>\n",
       "      <th>U.S._STATE</th>\n",
       "      <th>POSTAL.CODE</th>\n",
       "      <th>...</th>\n",
       "      <th>PCT_LAND</th>\n",
       "      <th>PCT_WATER_TOT</th>\n",
       "      <th>PCT_WATER_INLAND</th>\n",
       "      <th>MISSING_LABEL</th>\n",
       "    </tr>\n",
       "    <tr>\n",
       "      <th>OBS</th>\n",
       "      <th></th>\n",
       "      <th></th>\n",
       "      <th></th>\n",
       "      <th></th>\n",
       "      <th></th>\n",
       "      <th></th>\n",
       "      <th></th>\n",
       "      <th></th>\n",
       "      <th></th>\n",
       "    </tr>\n",
       "  </thead>\n",
       "  <tbody>\n",
       "    <tr>\n",
       "      <th>1</th>\n",
       "      <td>2011</td>\n",
       "      <td>7.0</td>\n",
       "      <td>Minnesota</td>\n",
       "      <td>MN</td>\n",
       "      <td>...</td>\n",
       "      <td>91.59</td>\n",
       "      <td>8.41</td>\n",
       "      <td>5.48</td>\n",
       "      <td>False</td>\n",
       "    </tr>\n",
       "    <tr>\n",
       "      <th>2</th>\n",
       "      <td>2014</td>\n",
       "      <td>5.0</td>\n",
       "      <td>Minnesota</td>\n",
       "      <td>MN</td>\n",
       "      <td>...</td>\n",
       "      <td>91.59</td>\n",
       "      <td>8.41</td>\n",
       "      <td>5.48</td>\n",
       "      <td>False</td>\n",
       "    </tr>\n",
       "    <tr>\n",
       "      <th>3</th>\n",
       "      <td>2010</td>\n",
       "      <td>10.0</td>\n",
       "      <td>Minnesota</td>\n",
       "      <td>MN</td>\n",
       "      <td>...</td>\n",
       "      <td>91.59</td>\n",
       "      <td>8.41</td>\n",
       "      <td>5.48</td>\n",
       "      <td>False</td>\n",
       "    </tr>\n",
       "    <tr>\n",
       "      <th>...</th>\n",
       "      <td>...</td>\n",
       "      <td>...</td>\n",
       "      <td>...</td>\n",
       "      <td>...</td>\n",
       "      <td>...</td>\n",
       "      <td>...</td>\n",
       "      <td>...</td>\n",
       "      <td>...</td>\n",
       "      <td>...</td>\n",
       "    </tr>\n",
       "    <tr>\n",
       "      <th>1532</th>\n",
       "      <td>2009</td>\n",
       "      <td>8.0</td>\n",
       "      <td>South Dakota</td>\n",
       "      <td>SD</td>\n",
       "      <td>...</td>\n",
       "      <td>98.31</td>\n",
       "      <td>1.69</td>\n",
       "      <td>1.69</td>\n",
       "      <td>False</td>\n",
       "    </tr>\n",
       "    <tr>\n",
       "      <th>1533</th>\n",
       "      <td>2009</td>\n",
       "      <td>8.0</td>\n",
       "      <td>South Dakota</td>\n",
       "      <td>SD</td>\n",
       "      <td>...</td>\n",
       "      <td>98.31</td>\n",
       "      <td>1.69</td>\n",
       "      <td>1.69</td>\n",
       "      <td>False</td>\n",
       "    </tr>\n",
       "    <tr>\n",
       "      <th>1534</th>\n",
       "      <td>2000</td>\n",
       "      <td>NaN</td>\n",
       "      <td>Alaska</td>\n",
       "      <td>AK</td>\n",
       "      <td>...</td>\n",
       "      <td>85.76</td>\n",
       "      <td>14.24</td>\n",
       "      <td>2.90</td>\n",
       "      <td>True</td>\n",
       "    </tr>\n",
       "  </tbody>\n",
       "</table>\n",
       "<p>1534 rows × 56 columns</p>\n",
       "</div>"
      ],
      "text/plain": [
       "      YEAR  MONTH    U.S._STATE POSTAL.CODE  ... PCT_LAND PCT_WATER_TOT  \\\n",
       "OBS                                          ...                          \n",
       "1     2011    7.0     Minnesota          MN  ...    91.59          8.41   \n",
       "2     2014    5.0     Minnesota          MN  ...    91.59          8.41   \n",
       "3     2010   10.0     Minnesota          MN  ...    91.59          8.41   \n",
       "...    ...    ...           ...         ...  ...      ...           ...   \n",
       "1532  2009    8.0  South Dakota          SD  ...    98.31          1.69   \n",
       "1533  2009    8.0  South Dakota          SD  ...    98.31          1.69   \n",
       "1534  2000    NaN        Alaska          AK  ...    85.76         14.24   \n",
       "\n",
       "      PCT_WATER_INLAND MISSING_LABEL  \n",
       "OBS                                   \n",
       "1                 5.48         False  \n",
       "2                 5.48         False  \n",
       "3                 5.48         False  \n",
       "...                ...           ...  \n",
       "1532              1.69         False  \n",
       "1533              1.69         False  \n",
       "1534              2.90          True  \n",
       "\n",
       "[1534 rows x 56 columns]"
      ]
     },
     "execution_count": 113,
     "metadata": {},
     "output_type": "execute_result"
    }
   ],
   "source": [
    "# assess missingness of Outage Duration in realtion to other columns\n",
    "missing_data = data_time.copy()\n",
    "missing_data[\"MISSING_LABEL\"] = (missing_data[\"OUTAGE.DURATION\"].isna()).astype(str)\n",
    "missing_data\n"
   ]
  },
  {
   "cell_type": "code",
   "execution_count": 114,
   "metadata": {},
   "outputs": [
    {
     "data": {
      "text/plain": [
       "np.float64(0.132)"
      ]
     },
     "execution_count": 114,
     "metadata": {},
     "output_type": "execute_result"
    }
   ],
   "source": [
    "# conduct  test againt Month\n",
    "stats, obs = permutation_test(missing_data, 'MONTH', 'MISSING_LABEL', tvd)\n",
    "np.mean(stats >= obs)"
   ]
  },
  {
   "cell_type": "code",
   "execution_count": 115,
   "metadata": {},
   "outputs": [
    {
     "data": {
      "text/html": [
       "<div>                            <div id=\"ecf659cb-2545-4072-9358-6173dee72277\" class=\"plotly-graph-div\" style=\"height:600px; width:800px;\"></div>            <script type=\"text/javascript\">                require([\"plotly\"], function(Plotly) {                    window.PLOTLYENV=window.PLOTLYENV || {};                                    if (document.getElementById(\"ecf659cb-2545-4072-9358-6173dee72277\")) {                    Plotly.newPlot(                        \"ecf659cb-2545-4072-9358-6173dee72277\",                        [{\"alignmentgroup\":\"True\",\"bingroup\":\"x\",\"hovertemplate\":\"variable=0\\u003cbr\\u003evalue=%{x}\\u003cbr\\u003ecount=%{y}\\u003cextra\\u003e\\u003c\\u002fextra\\u003e\",\"legendgroup\":\"0\",\"marker\":{\"color\":\"#1F77B4\",\"pattern\":{\"shape\":\"\"}},\"name\":\"0\",\"offsetgroup\":\"0\",\"orientation\":\"v\",\"showlegend\":true,\"x\":[0.2566814752133136,0.15423218860917193,0.19453259055543803,0.19584890581294218,0.1531980496199627,0.09709000305573187,0.1895964083397974,0.14909620854194577,0.21521754460193215,0.1646921937804104,0.18686975530639588,0.19172366781844252,0.13345523208566373,0.2509461015913311,0.26148837646616363,0.199821357215053,0.17303669228780294,0.21313729638248363,0.2472087064852032,0.18257997790470815,0.20274780810003998,0.1673013186658205,0.13145523352843008,0.1502597372070611,0.21169170016218886,0.2241966951084785,0.21927226570763697,0.18057024657405452,0.14826175869120656,0.1793362010201443,0.18450743953176785,0.2579272735820229,0.20479279787509108,0.18655242930681898,0.22300155596615776,0.19681263662647203,0.14749782572926212,0.24020402886491315,0.20771924876007802,0.21930752415203442,0.25302634981077965,0.1857884963448746,0.2091648449803728,0.19596643396093366,0.12985685071574643,0.20968196883153517,0.23941153974855395,0.17482738500437617,0.23992196130973364,0.19569611922055336,0.1630938109677268,0.11718731636226877,0.2341513292433538,0.13922749653425115,0.1758807782398776,0.18454515034179453,0.20206510827477414,0.1480619608396211,0.146181510471758,0.12255835272547776,0.1488611522459629,0.17976480711315068,0.2140159663463836,0.2971346637519686,0.17729121124509323,0.17261819398632822,0.22195190748184193,0.14538218844113004,0.20259094602992495,0.13633538888092167,0.12925745716099007,0.20936464283195821,0.16381073267047458,0.1542321886091719,0.17496415391486264,0.17804339139223846,0.0579736125053779,0.1695707251780678,0.2139364877888254,0.23839409538584488,0.2062736525397833,0.14673389276731774,0.20360676896601176,0.12680111886796888,0.15676359039190899,0.21357215053005196,0.14906095009754833,0.1924405895211903,0.16384599111487202,0.1790955590611406,0.1454880943986085,0.12568460146205018,0.17965331129047946,0.1312201772324472,0.11926237479334827,0.16001003872078012,0.2643795689067532,0.17147356791951673,0.10490562489716287,0.1799708530192981,0.17944213394521724,0.13486354982018195,0.15574830171826154,0.17119150036433728,0.24347483149290117,0.27620290059469244,0.1687222142549835,0.2242789648120725,0.10298991608490234,0.15230472698211223,0.1723550290294526,0.1806877747220459,0.15158780527936444,0.22134184234428028,0.1675011165174059,0.12215875702230684,0.14071645159015583,0.09528419140494288,0.15062861513456666,0.17219048962226458,0.20583879839221497,0.121030486801589,0.1283642432362551,0.17732646968949062,0.21529981430552614,0.13650894389206217,0.17311896199139692,0.2037115389135698,0.17640975013515736,0.1497778718002962,0.14043438403497638,0.1270949392379475,0.12215875702230686,0.13042098582610534,0.15002468091107818,0.1953670404061773,0.14428930728909575,0.19405803336679575,0.2257875615469191,0.21994359194990204,0.21538208400912018,0.14381662603374923,0.13963519262863455,0.19416825329666454,0.1457048616090635,0.12151235220835392,0.2056742589850269,0.15483158216392828,0.1257827812036904,0.15980302282396636,0.1251674776108878,0.17476435606327712,0.13786509871408767,0.20688271905086067,0.15745255509345574,0.19741203018122838,0.2297322708788755,0.16979291540323904,0.14841770639131888,0.2223576652803671,0.10942205650365697,0.10210845497496651,0.17007498295841852,0.19721223232964297,0.19425052300025858,0.13582728063371174,0.15406764920198385,0.1290576593094046,0.17050983710598688,0.163522318389575,0.20670204120655863,0.1492901190305464,0.1495780739487107,0.20070281832498887,0.09664339609336438,0.10056647067259429,0.16136614719225256,0.20944691253555225,0.15913762608155266,0.15792257245610325,0.22496062807042289,0.16084902334109022,0.2008320992877794,0.16232987800578236,0.15647697623580847,0.15029499565145854,0.15346825564722752,0.21024610394189408,0.1405989234421644,0.17891179616843333,0.11077250346574885,0.13486354982018195,0.1896840193125866,0.22288350303551796,0.26720071963434794,0.13723761840960913,0.1484416081074621,0.15835742660367158,0.12924570434619093,0.2019097471198432,0.22768728110382436,0.26849992829485164,0.2162988035634535,0.15411466046118044,0.1271272974812798,0.14881414098676632,0.19783450451742435,0.15631243682862045,0.17271936628822607,0.09459840631831325,0.24509319982135722,0.2583621277295913,0.1896786780433914,0.1215123522083539,0.1153616329652469,0.20260289688799654,0.1709917025127518,0.11357920221893143,0.15074160261382602,0.19132407211527158,0.16790071222057684,0.23837181509632394,0.1253202642032767,0.20856545142561644,0.14307876736478387,0.17360082739816185,0.21878435871695584,0.12560233175845614,0.2274052135486449,0.24501093011776318,0.19777636744000188,0.15846837802954253,0.15373583823318515,0.18182035470146757,0.2118092283101803,0.18326164116305854,0.17968878546411868,0.14535828672498685,0.13911806877747218,0.09768631387733638,0.17636273887596082,0.1699927132548245,0.1907599370049127,0.24063888301248149,0.14849681498718947,0.14497097054744612,0.17965352701972123,0.16834731918294432,0.11709450738563029,0.13378229085866067,0.1869114202399732,0.12664833227558003,0.2109326449639084,0.19745904144042498,0.11810403591660203,0.1956491079613567,0.15543097571868464,0.1506525168507099,0.1584867075664622,0.18149871894318692,0.2299183117767189,0.19834050255036084,0.14213155504565225,0.1596515129786319,0.22597137014314927,0.21313729638248358,0.12219401546670429,0.15335072749923606,0.18213337094234067,0.1596993164109183,0.1404225823414121,0.2359925788497217,0.17990033613050327,0.1589215617140305,0.1867560590850423,0.18338591710884838,0.16673718355546152,0.2644148273511506,0.19783450451742432,0.15761986710645826,0.1680652516277649,0.16979291540323904,0.15171708624215496,0.20351174106198436,0.18587076604846858,0.2255247631807818,0.1849893049385328,0.21200902616176576,0.14759309718437782,0.13999952988740805,0.1864333859171088,0.22933696639418705,0.15263380579648822,0.1600850903791458,0.14723457144222954,0.15511364971910774,0.15707636979056483,0.15830106601654,0.19874009825353173,0.18053498812965707,0.15864764090061667,0.14497097054744612,0.11180452718426064,0.2076017206120866,0.14503561355705338,0.18490703523493873,0.21545260089791507,0.1138438739901525,0.18751616012034883,0.1575934936417272,0.14997766965188164,0.252074371812049,0.1658557224455257,0.15287537645202923,0.10502414073330463,0.30003824274582913,0.21860509584588173,0.19717697388524552,0.1652210704463719,0.19581364736854479,0.15936816867639803,0.17908939190936232,0.13699080929882707,0.17755389836990298,0.14773288202524504,0.18334391086665258,0.22231624474061534,0.22345595085227987,0.25991928425556743,0.1688775754099144,0.15980302282396636,0.191194791152481,0.14773650748123718,0.2589615212843476,0.2499880491419284,0.14313542712366747,0.14196224995886514,0.13122017723244717,0.1651130551173574,0.18339092212584918,0.20989351949791973,0.17821119556384146,0.1604494276379193,0.14740188345523209,0.14561737536139907,0.08121195026208776,0.15735843734574428,0.24143807441882334,0.21911898274296093,0.1402815974425875,0.18125190983240486,0.15278659238887715,0.1416331711444891,0.18635263145523354,0.1803351902780716,0.23171518715043737,0.1869712146260819,0.23341220899660595,0.18547117034529775,0.26107410288826216,0.21137437416261196,0.17704440213431122,0.13534541522694687,0.17155583762311075,0.1626119455609618,0.15787556119690666,0.11397879792210232,0.15843969630726562,0.06741414568789225,0.2037860318370859,0.13205462708318644,0.1443305129308284,0.1588863032696331,0.2100463060903086,0.16866464518252117,0.19357999904393136,0.1549491103119197,0.16498103666245265,0.16698933983460013,0.2080524881686505,0.2659426932750394,0.2312131255435677,0.18013539242648613,0.11842136191617893,0.11562419199398256,0.19751183134949085,0.12821145664386618,0.17616294102437535,0.14532355499142047,0.19544433290310242,0.20924757397581145,0.10586935571069271,0.19613097336812163,0.1607667536374962,0.17110923066074324,0.16878217333051265,0.21333476743630192,0.22542903580477075,0.21313729638248358,0.14944548018547732,0.1288780534442373,0.16650212725947866,0.11915005497394714,0.18959640833979738,0.18658768775121645,0.1702535559678417,0.16120160778506454,0.11594151799355944,0.15679430223538537,0.21757986037656019,0.1703100392544014,0.18956114989539996,0.2366664316103707,0.16048468608231675,0.17957125731612722,0.15223421009331733,0.16706626236983757,0.15823989845568015,0.232541193615871,0.1662553181486966,0.20030322262181793,0.0924476412100698,0.12087097853625889,0.15379733446160354,0.199903626918647,0.15082387231742,0.13482203637070894,0.14591997705435247,0.13330042545189574,0.20711985520532167,0.17565371193651705,0.14335054256895643,0.16207753716716858,0.16987518510683308,0.16802999318336742,0.1294572550125755,0.15466704275674026,0.21862586089368402,0.19953928965987355,0.17848999835460594,0.18959640833979735,0.1580401006040947,0.1261293560877671,0.11742237265825163,0.10322497238088522,0.1986578285499377,0.21400401548831205,0.18080453176538078,0.18715182286157533,0.20025621136262134,0.10142679171661613,0.19657758033048914,0.2249136168112263,0.24003948945772513,0.28861322242937043,0.17002797169922196,0.14340784617915991,0.19257612696591617,0.11928151441273484,0.12706651755324325,0.16096655148908162,0.1323366946383659,0.12610545437162388,0.20519239357826202,0.10395364689843216,0.13602707848529727,0.17443527724890112,0.21478269045436382,0.15395012105399242,0.17127377006793126,0.13025644641891734,0.18145170768399033,0.239041063148334,0.19950762464744967,0.1381543379639424,0.11898549702653786,0.22780480925181584,0.1748818842112686,0.19328679218672873,0.21347126325002433,0.2614883764661637,0.2389934889406013,0.2516277648496815,0.17403568154573018,0.12884610864302,0.17443527724890112,0.2522731693085675,0.17110923066074324,0.20649887661934124,0.23937568717433916,0.18141644923959288,0.09881766683120606,0.1288108501986226,0.17414790381949424,0.1420797781068566,0.1918457648546144,0.20959969912794113,0.1575934936417272,0.20811884446324896,0.24158659591758685,0.22331523399854267,0.23771243212749452,0.18510683308652423,0.1777212103829055,0.12021954258044802,0.22688808969748253,0.21529466109112128,0.16906424088569216,0.199656817807865,0.17523446865524295,0.20387607832075783,0.21192675645817172,0.09749510014819064,0.19641304092330114,0.14384270032672825,0.2011024140281597,0.19657758033048917,0.22472393517854578,0.17499941235926003,0.20263027995204852,0.188750205674259,0.17723427015462415,0.19292245492795523,0.21162579473206178,0.15102367016900548,0.1539853794983899,0.1793714594645418,0.20104928533868732,0.12352208353900761,0.1542258234141211,0.25852666713677924,0.12235855487389229,0.31277766024962983,0.2398749500505371,0.22865576748410535,0.11605904614155091,0.18875020567425901,0.15514684430613637,0.1348176299058272,0.19308699433514326,0.15016289020713802,0.16292927156053877,0.15735843734574434,0.28222034177185434,0.11770444021343111,0.1418088818777188,0.15185955351594244,0.13542768493054086,0.13378229085866064,0.18851514937827607,0.15472775945312872,0.18233316879392614,0.19170371432668865,0.1187856991749524,0.0961173781970242,0.24645652633805798,0.09171088484153163,0.1652680817055685,0.2831636311487165,0.19865782854993774,0.1627294737089533,0.18718708130597278,0.16542086829795738,0.1432433067719719,0.15493092404034606,0.19440330959264746,0.1316550313800155,0.14420703758550174,0.22286862703617516,0.25367275462473265,0.12942477876106195,0.20379380861716384,0.12063089109841808,0.24671351403030733,0.11817455280539689,0.11882095761934984,0.19962155936346757,0.14964864477269468,0.2521448887008439,0.12287567872505466,0.22801635991820043,0.09268269750605272,0.11180027725990727,0.17539900806243097,0.18053498812965707,0.14195229217457817,0.19749429988482245,0.2218437783832879,0.1498601415038902,0.13736316267508009,0.14172719366288222,0.16645511600028207,0.15278659238887715,0.19745904144042498,0.1565920933122998,0.18711656441717794,0.20238347084126646,0.213901229344428,0.15335072749923612,0.14981313024469362,0.16261194556096187,0.13293608819312225,0.1624121477093764,0.19147685870766049,0.1346503178928247,0.22095291822391466,0.16291409723218125,0.2303669228780293,0.1854030924827385,0.183461439014644,0.13261876219354535,0.16834731918294435,0.1377900007051689,0.1540585114011186,0.1675011165174059,0.20299280365652045,0.1360740897444938,0.1849070352349388,0.12017782876810554,0.15102367016900548,0.1086430200032908,0.18746914886115226,0.14641656676774087,0.22948546176809342,0.2394753543473662,0.13469901041299392,0.11120513362950428,0.1329864825440047,0.12332228568742214,0.15543097571868458,0.1816515055355758,0.21478269045436382,0.2048018547731727,0.15395012105399242,0.17652612457574457,0.13486354982018195,0.18744920885319566,0.14267917166161295,0.20233149532945588,0.202348212396869,0.0924279363258282,0.15728524308045316,0.142843711068801,0.24148508567801985,0.1803351902780716,0.12307547657664011,0.18658768775121645,0.1851068330865242,0.15337731249103684,0.18829771977627993,0.19039559974613918,0.21160943045859487,0.19905742425310863,0.2059210680958089,0.11812228117978871,0.16954610629245703,0.15679430223538537,0.10636263683732491,0.17744399783748205,0.22876854006534564,0.21911898274296096,0.14721575817408272,0.2615206271810316,0.11429057667995723,0.17920692005735375,0.24200220952918225,0.12134781280116587,0.18634087864043442,0.15848974034814745,0.08433822814353789,0.1384716639635193,0.2149354770467527,0.1313996844973469,0.1384716639635193,0.19332205063112617,0.13089109841807117,0.12644853442399456,0.2123308953582867,0.1982229744023694,0.1911595327080836,0.1367557530028442,0.21120983475542393,0.13486354982018195,0.18073478598124249,0.20362926920997576,0.1722716191022515,0.2565610210813136,0.23734809486872108,0.188750205674259,0.10611616482147475,0.14488870084385208,0.17664480643114028,0.12151235220835392,0.14587217362206606,0.19257612696591614,0.23428462163583344,0.1761276825799779,0.1818160449427638,0.17840240929298726,0.20848318172202246,0.18926732952542136,0.24481113226617776,0.19691481085286394,0.16610253155630772,0.16032014667512873,0.15611263897703503,0.15880403356603906,0.12066614954281553,0.18201584279434924,0.14091624944174133,0.18715182286157533,0.19405803336679575,0.20708459676092422,0.19007827374656228,0.20932938438756077,0.15659209331229984,0.1905248807089298,0.12596204407476458,0.17670538744681866,0.0968378029542521,0.11798650776861057,0.1676186446653974,0.16000282067555177,0.15471580859505712,0.1502597372070611,0.16055977819207418,0.21666314082222693,0.18522436123451566,0.16068448393390217,0.12134901285912328,0.1851420915309217,0.21285522882730412,0.18795101426791722,0.13089109841807112,0.1368732811508356,0.16028488823073128,0.15609015727329223,0.18446042827257125,0.2357497120560374,0.17533103876858358,0.1610958324518722,0.1911595327080836,0.1384028873273101,0.15580333667957358,0.12636626472040052,0.16465693533601294,0.19524951225818582,0.1797528562550791,0.10174960562168364,0.18165304268846502,0.10137978045741954,0.13606233692969466,0.27790525359720825,0.18839762123028467,0.10960675081682063,0.1221470042075077,0.20334720165479636,0.23017887784124297,0.17845021272527367,0.2101168229791035,0.23490350939049903,0.16161295630303457,0.24500454132606722,0.11617657428954235,0.2848647251016619,0.13558047152292976,0.22336224525773923,0.17026889040163376,0.19127706085607504,0.22866771834217697,0.15755823519732975,0.1428008030976624,0.18939661048821194,0.19433279270385262,0.16749127587360774,0.23053205220134806,0.1430787673647839,0.14749782572926212,0.14781515172883902,0.09835556192934654,0.21433608349199634,0.17921867287215287,0.11913810411587553,0.14009990917347867,0.14781515172883908,0.23001433843405494,0.17897186376137086,0.1572761676421503,0.18514209153092165,0.11726181939863281,0.20331194321039892,0.1492781681724748,0.11994922784006769,0.22516042592200836,0.1313024469360412,0.18349669745904146,0.17933620102014433,0.209414885988814,0.27713137296382484,0.18951413863620337,0.21929824561403505,0.2116446889029923,0.20086735773217684,0.18846503178928245,0.15867154261675986,0.16955785910725618,0.21024610394189408,0.21361916178924856,0.2303647401883455,0.1499424112074842,0.2111616259846349,0.1714383094751193,0.21638107326704747,0.1766934365887471,0.1588392920104365,0.17503467080365748,0.15366805349881296,0.14048139529417297,0.13287707867353885,0.25707490797839283,0.167169114071769,0.17440001880450368,0.13803241072709022,0.15843969630726562,0.13474602167219046,0.1640928002256541,0.23140446484057553,0.18726935100956676,0.1957721482057765,0.1595562137131843,0.21958959170721387,0.18402557412500292,0.19264038737277578,0.18261523634910562,0.1733187598429824,0.17464983985850185,0.12259361116987517,0.22143478363067953,0.14340784617915991,0.2671414803845521,0.19316926403873724,0.23343611071274917,0.13911806877747224,0.2151871504374014,0.24149081007488088,0.12731249103685643,0.14696894906330066,0.1527513339444797,0.15728792045694945,0.14131584514491224,0.24544578426533153,0.19004301530216489,0.18539366126487883,0.17002797169922196,0.2634158380932234,0.21978938955879934,0.1924758479655877,0.1998541995315264,0.1658557224455257,0.18097184377838327,0.1415979127000917,0.2354558057268512,0.20511012387466798,0.1842253719765884,0.2049573372822791,0.2140398680625269,0.264614625202736,0.13370002115506663,0.17937145946454175,0.2636979056484028,0.14633429706414686,0.2192982456140351,0.20851844016641985,0.20607385468819783,0.14676915121171522,0.2091648449803728,0.1565945043837999,0.19576700607103587,0.12740051242272524,0.19220565036569623,0.10874744724302246,0.199821357215053,0.13466375196859648,0.12372188139059305,0.16141315845144916,0.21247430565514605,0.11507481237152828,0.19170371432668867,0.14119831699692076,0.2033472016547963,0.19385092729708764,0.21365442023364598,0.18707873225297578,0.21247430565514602,0.2322591260606915,0.19108901581928872,0.10187339867898364,0.12681055499784882,0.17245088197332567,0.19971078923466704,0.14196224995886517,0.21299717981133912,0.16361093481888914,0.2040288649131467,0.18743389041675482,0.18750607799280367,0.23177726065392662,0.18638788989963095,0.13867146181510476,0.14079872129374987,0.15986662842392085,0.12647593097184376,0.18301483205227653,0.1862586089368404,0.14781515172883902,0.12664833227558,0.23006134969325154,0.21313729638248363,0.1914768587076605,0.13907105751827564,0.1913451885845404,0.13398208871024608,0.2818207460686834,0.16647545293752092,0.18149871894318692,0.14214350590372388,0.18797504660834644,0.19717697388524552,0.13736316267508006,0.17463507510048654,0.19641304092330114,0.13438168441341702,0.11943210398890537,0.09123710128575795,0.19536704040617725,0.14557036410220248,0.10251142662647086,0.18161624709117835,0.1930541612887805,0.16377455901333712,0.16570293585313683,0.22099526746020365,0.1433255764755659,0.21140963260700935,0.17804339139223846,0.19388618574148508,0.13947065322144653,0.1790893919093623,0.23037867569282844,0.20771786414264543,0.1444420938814846,0.17588087346919584,0.2509813600357286,0.23859389323743035,0.16221234985779093,0.20118468373175374,0.17210821991867054,0.16618480125990176,0.11534212443880311,0.10239052253014598,0.17002797169922196,0.12091295865359754,0.23694849916555016,0.23035278933027392,0.23867616294102434,0.13133770538043862,0.12111275650518298,0.19509775801902576,0.1395529229250405,0.13092635686246856,0.139588181369438,0.1710765332950906,0.1669893398346001,0.23853912710932645,0.21317255482688102,0.1970124344780575,0.13558047152292974,0.2601250499494629,0.20755055212964288,0.23771243212749454,0.2212702442234915,0.25018216862938675,0.25106362973932256,0.16385774392967117,0.2715135274898338,0.14457137484427518,0.09835556192934652,0.19865782854993774,0.2521151414956725,0.20359401076557837,0.19742378299602753,0.24612744752368193,0.14148038455210024,0.22166451551221378,0.1907599370049127,0.17937145946454175,0.1657942540274392,0.19103446627467852,0.1294455021977764,0.22299790799896574],\"xaxis\":\"x\",\"yaxis\":\"y\",\"type\":\"histogram\"}],                        {\"template\":{\"data\":{\"barpolar\":[{\"marker\":{\"line\":{\"color\":\"white\",\"width\":0.5},\"pattern\":{\"fillmode\":\"overlay\",\"size\":10,\"solidity\":0.2}},\"type\":\"barpolar\"}],\"bar\":[{\"error_x\":{\"color\":\"rgb(36,36,36)\"},\"error_y\":{\"color\":\"rgb(36,36,36)\"},\"marker\":{\"line\":{\"color\":\"white\",\"width\":0.5},\"pattern\":{\"fillmode\":\"overlay\",\"size\":10,\"solidity\":0.2}},\"type\":\"bar\"}],\"carpet\":[{\"aaxis\":{\"endlinecolor\":\"rgb(36,36,36)\",\"gridcolor\":\"white\",\"linecolor\":\"white\",\"minorgridcolor\":\"white\",\"startlinecolor\":\"rgb(36,36,36)\"},\"baxis\":{\"endlinecolor\":\"rgb(36,36,36)\",\"gridcolor\":\"white\",\"linecolor\":\"white\",\"minorgridcolor\":\"white\",\"startlinecolor\":\"rgb(36,36,36)\"},\"type\":\"carpet\"}],\"choropleth\":[{\"colorbar\":{\"outlinewidth\":1,\"tickcolor\":\"rgb(36,36,36)\",\"ticks\":\"outside\"},\"type\":\"choropleth\"}],\"contourcarpet\":[{\"colorbar\":{\"outlinewidth\":1,\"tickcolor\":\"rgb(36,36,36)\",\"ticks\":\"outside\"},\"type\":\"contourcarpet\"}],\"contour\":[{\"colorbar\":{\"outlinewidth\":1,\"tickcolor\":\"rgb(36,36,36)\",\"ticks\":\"outside\"},\"colorscale\":[[0.0,\"#440154\"],[0.1111111111111111,\"#482878\"],[0.2222222222222222,\"#3e4989\"],[0.3333333333333333,\"#31688e\"],[0.4444444444444444,\"#26828e\"],[0.5555555555555556,\"#1f9e89\"],[0.6666666666666666,\"#35b779\"],[0.7777777777777778,\"#6ece58\"],[0.8888888888888888,\"#b5de2b\"],[1.0,\"#fde725\"]],\"type\":\"contour\"}],\"heatmapgl\":[{\"colorbar\":{\"outlinewidth\":1,\"tickcolor\":\"rgb(36,36,36)\",\"ticks\":\"outside\"},\"colorscale\":[[0.0,\"#440154\"],[0.1111111111111111,\"#482878\"],[0.2222222222222222,\"#3e4989\"],[0.3333333333333333,\"#31688e\"],[0.4444444444444444,\"#26828e\"],[0.5555555555555556,\"#1f9e89\"],[0.6666666666666666,\"#35b779\"],[0.7777777777777778,\"#6ece58\"],[0.8888888888888888,\"#b5de2b\"],[1.0,\"#fde725\"]],\"type\":\"heatmapgl\"}],\"heatmap\":[{\"colorbar\":{\"outlinewidth\":1,\"tickcolor\":\"rgb(36,36,36)\",\"ticks\":\"outside\"},\"colorscale\":[[0.0,\"#440154\"],[0.1111111111111111,\"#482878\"],[0.2222222222222222,\"#3e4989\"],[0.3333333333333333,\"#31688e\"],[0.4444444444444444,\"#26828e\"],[0.5555555555555556,\"#1f9e89\"],[0.6666666666666666,\"#35b779\"],[0.7777777777777778,\"#6ece58\"],[0.8888888888888888,\"#b5de2b\"],[1.0,\"#fde725\"]],\"type\":\"heatmap\"}],\"histogram2dcontour\":[{\"colorbar\":{\"outlinewidth\":1,\"tickcolor\":\"rgb(36,36,36)\",\"ticks\":\"outside\"},\"colorscale\":[[0.0,\"#440154\"],[0.1111111111111111,\"#482878\"],[0.2222222222222222,\"#3e4989\"],[0.3333333333333333,\"#31688e\"],[0.4444444444444444,\"#26828e\"],[0.5555555555555556,\"#1f9e89\"],[0.6666666666666666,\"#35b779\"],[0.7777777777777778,\"#6ece58\"],[0.8888888888888888,\"#b5de2b\"],[1.0,\"#fde725\"]],\"type\":\"histogram2dcontour\"}],\"histogram2d\":[{\"colorbar\":{\"outlinewidth\":1,\"tickcolor\":\"rgb(36,36,36)\",\"ticks\":\"outside\"},\"colorscale\":[[0.0,\"#440154\"],[0.1111111111111111,\"#482878\"],[0.2222222222222222,\"#3e4989\"],[0.3333333333333333,\"#31688e\"],[0.4444444444444444,\"#26828e\"],[0.5555555555555556,\"#1f9e89\"],[0.6666666666666666,\"#35b779\"],[0.7777777777777778,\"#6ece58\"],[0.8888888888888888,\"#b5de2b\"],[1.0,\"#fde725\"]],\"type\":\"histogram2d\"}],\"histogram\":[{\"marker\":{\"line\":{\"color\":\"white\",\"width\":0.6}},\"type\":\"histogram\"}],\"mesh3d\":[{\"colorbar\":{\"outlinewidth\":1,\"tickcolor\":\"rgb(36,36,36)\",\"ticks\":\"outside\"},\"type\":\"mesh3d\"}],\"parcoords\":[{\"line\":{\"colorbar\":{\"outlinewidth\":1,\"tickcolor\":\"rgb(36,36,36)\",\"ticks\":\"outside\"}},\"type\":\"parcoords\"}],\"pie\":[{\"automargin\":true,\"type\":\"pie\"}],\"scatter3d\":[{\"line\":{\"colorbar\":{\"outlinewidth\":1,\"tickcolor\":\"rgb(36,36,36)\",\"ticks\":\"outside\"}},\"marker\":{\"colorbar\":{\"outlinewidth\":1,\"tickcolor\":\"rgb(36,36,36)\",\"ticks\":\"outside\"}},\"type\":\"scatter3d\"}],\"scattercarpet\":[{\"marker\":{\"colorbar\":{\"outlinewidth\":1,\"tickcolor\":\"rgb(36,36,36)\",\"ticks\":\"outside\"}},\"type\":\"scattercarpet\"}],\"scattergeo\":[{\"marker\":{\"colorbar\":{\"outlinewidth\":1,\"tickcolor\":\"rgb(36,36,36)\",\"ticks\":\"outside\"}},\"type\":\"scattergeo\"}],\"scattergl\":[{\"marker\":{\"colorbar\":{\"outlinewidth\":1,\"tickcolor\":\"rgb(36,36,36)\",\"ticks\":\"outside\"}},\"type\":\"scattergl\"}],\"scattermapbox\":[{\"marker\":{\"colorbar\":{\"outlinewidth\":1,\"tickcolor\":\"rgb(36,36,36)\",\"ticks\":\"outside\"}},\"type\":\"scattermapbox\"}],\"scatterpolargl\":[{\"marker\":{\"colorbar\":{\"outlinewidth\":1,\"tickcolor\":\"rgb(36,36,36)\",\"ticks\":\"outside\"}},\"type\":\"scatterpolargl\"}],\"scatterpolar\":[{\"marker\":{\"colorbar\":{\"outlinewidth\":1,\"tickcolor\":\"rgb(36,36,36)\",\"ticks\":\"outside\"}},\"type\":\"scatterpolar\"}],\"scatter\":[{\"fillpattern\":{\"fillmode\":\"overlay\",\"size\":10,\"solidity\":0.2},\"type\":\"scatter\"}],\"scatterternary\":[{\"marker\":{\"colorbar\":{\"outlinewidth\":1,\"tickcolor\":\"rgb(36,36,36)\",\"ticks\":\"outside\"}},\"type\":\"scatterternary\"}],\"surface\":[{\"colorbar\":{\"outlinewidth\":1,\"tickcolor\":\"rgb(36,36,36)\",\"ticks\":\"outside\"},\"colorscale\":[[0.0,\"#440154\"],[0.1111111111111111,\"#482878\"],[0.2222222222222222,\"#3e4989\"],[0.3333333333333333,\"#31688e\"],[0.4444444444444444,\"#26828e\"],[0.5555555555555556,\"#1f9e89\"],[0.6666666666666666,\"#35b779\"],[0.7777777777777778,\"#6ece58\"],[0.8888888888888888,\"#b5de2b\"],[1.0,\"#fde725\"]],\"type\":\"surface\"}],\"table\":[{\"cells\":{\"fill\":{\"color\":\"rgb(237,237,237)\"},\"line\":{\"color\":\"white\"}},\"header\":{\"fill\":{\"color\":\"rgb(217,217,217)\"},\"line\":{\"color\":\"white\"}},\"type\":\"table\"}]},\"layout\":{\"annotationdefaults\":{\"arrowhead\":0,\"arrowwidth\":1},\"autotypenumbers\":\"strict\",\"coloraxis\":{\"colorbar\":{\"outlinewidth\":1,\"tickcolor\":\"rgb(36,36,36)\",\"ticks\":\"outside\"}},\"colorscale\":{\"diverging\":[[0.0,\"rgb(103,0,31)\"],[0.1,\"rgb(178,24,43)\"],[0.2,\"rgb(214,96,77)\"],[0.3,\"rgb(244,165,130)\"],[0.4,\"rgb(253,219,199)\"],[0.5,\"rgb(247,247,247)\"],[0.6,\"rgb(209,229,240)\"],[0.7,\"rgb(146,197,222)\"],[0.8,\"rgb(67,147,195)\"],[0.9,\"rgb(33,102,172)\"],[1.0,\"rgb(5,48,97)\"]],\"sequential\":[[0.0,\"#440154\"],[0.1111111111111111,\"#482878\"],[0.2222222222222222,\"#3e4989\"],[0.3333333333333333,\"#31688e\"],[0.4444444444444444,\"#26828e\"],[0.5555555555555556,\"#1f9e89\"],[0.6666666666666666,\"#35b779\"],[0.7777777777777778,\"#6ece58\"],[0.8888888888888888,\"#b5de2b\"],[1.0,\"#fde725\"]],\"sequentialminus\":[[0.0,\"#440154\"],[0.1111111111111111,\"#482878\"],[0.2222222222222222,\"#3e4989\"],[0.3333333333333333,\"#31688e\"],[0.4444444444444444,\"#26828e\"],[0.5555555555555556,\"#1f9e89\"],[0.6666666666666666,\"#35b779\"],[0.7777777777777778,\"#6ece58\"],[0.8888888888888888,\"#b5de2b\"],[1.0,\"#fde725\"]]},\"colorway\":[\"#1F77B4\",\"#FF7F0E\",\"#2CA02C\",\"#D62728\",\"#9467BD\",\"#8C564B\",\"#E377C2\",\"#7F7F7F\",\"#BCBD22\",\"#17BECF\"],\"font\":{\"color\":\"rgb(36,36,36)\"},\"geo\":{\"bgcolor\":\"white\",\"lakecolor\":\"white\",\"landcolor\":\"white\",\"showlakes\":true,\"showland\":true,\"subunitcolor\":\"white\"},\"hoverlabel\":{\"align\":\"left\"},\"hovermode\":\"closest\",\"mapbox\":{\"style\":\"light\"},\"paper_bgcolor\":\"white\",\"plot_bgcolor\":\"white\",\"polar\":{\"angularaxis\":{\"gridcolor\":\"rgb(232,232,232)\",\"linecolor\":\"rgb(36,36,36)\",\"showgrid\":false,\"showline\":true,\"ticks\":\"outside\"},\"bgcolor\":\"white\",\"radialaxis\":{\"gridcolor\":\"rgb(232,232,232)\",\"linecolor\":\"rgb(36,36,36)\",\"showgrid\":false,\"showline\":true,\"ticks\":\"outside\"}},\"scene\":{\"xaxis\":{\"backgroundcolor\":\"white\",\"gridcolor\":\"rgb(232,232,232)\",\"gridwidth\":2,\"linecolor\":\"rgb(36,36,36)\",\"showbackground\":true,\"showgrid\":false,\"showline\":true,\"ticks\":\"outside\",\"zeroline\":false,\"zerolinecolor\":\"rgb(36,36,36)\"},\"yaxis\":{\"backgroundcolor\":\"white\",\"gridcolor\":\"rgb(232,232,232)\",\"gridwidth\":2,\"linecolor\":\"rgb(36,36,36)\",\"showbackground\":true,\"showgrid\":false,\"showline\":true,\"ticks\":\"outside\",\"zeroline\":false,\"zerolinecolor\":\"rgb(36,36,36)\"},\"zaxis\":{\"backgroundcolor\":\"white\",\"gridcolor\":\"rgb(232,232,232)\",\"gridwidth\":2,\"linecolor\":\"rgb(36,36,36)\",\"showbackground\":true,\"showgrid\":false,\"showline\":true,\"ticks\":\"outside\",\"zeroline\":false,\"zerolinecolor\":\"rgb(36,36,36)\"}},\"shapedefaults\":{\"fillcolor\":\"black\",\"line\":{\"width\":0},\"opacity\":0.3},\"ternary\":{\"aaxis\":{\"gridcolor\":\"rgb(232,232,232)\",\"linecolor\":\"rgb(36,36,36)\",\"showgrid\":false,\"showline\":true,\"ticks\":\"outside\"},\"baxis\":{\"gridcolor\":\"rgb(232,232,232)\",\"linecolor\":\"rgb(36,36,36)\",\"showgrid\":false,\"showline\":true,\"ticks\":\"outside\"},\"bgcolor\":\"white\",\"caxis\":{\"gridcolor\":\"rgb(232,232,232)\",\"linecolor\":\"rgb(36,36,36)\",\"showgrid\":false,\"showline\":true,\"ticks\":\"outside\"}},\"title\":{\"x\":0.5,\"xanchor\":\"center\"},\"xaxis\":{\"automargin\":true,\"gridcolor\":\"rgb(232,232,232)\",\"linecolor\":\"rgb(36,36,36)\",\"showgrid\":true,\"showline\":true,\"ticks\":\"outside\",\"title\":{\"standoff\":15},\"zeroline\":false,\"zerolinecolor\":\"rgb(36,36,36)\"},\"yaxis\":{\"automargin\":true,\"gridcolor\":\"rgb(232,232,232)\",\"linecolor\":\"rgb(36,36,36)\",\"showgrid\":true,\"showline\":true,\"ticks\":\"outside\",\"title\":{\"standoff\":15},\"zeroline\":false,\"zerolinecolor\":\"rgb(36,36,36)\"},\"autosize\":true,\"height\":400,\"margin\":{\"b\":30,\"l\":30,\"r\":30,\"t\":30},\"width\":600}},\"xaxis\":{\"anchor\":\"y\",\"domain\":[0.0,1.0],\"title\":{\"text\":\"value\"}},\"yaxis\":{\"anchor\":\"x\",\"domain\":[0.0,1.0],\"title\":{\"text\":\"count\"}},\"legend\":{\"title\":{\"text\":\"variable\"},\"tracegroupgap\":0},\"barmode\":\"relative\",\"shapes\":[{\"line\":{\"color\":\"red\",\"dash\":\"dash\",\"width\":3},\"type\":\"line\",\"x0\":0.22267850229522704,\"x1\":0.22267850229522704,\"xref\":\"x\",\"y0\":0,\"y1\":1,\"yref\":\"y domain\"}],\"width\":800,\"height\":600},                        {\"responsive\": true}                    ).then(function(){\n",
       "                            \n",
       "var gd = document.getElementById('ecf659cb-2545-4072-9358-6173dee72277');\n",
       "var x = new MutationObserver(function (mutations, observer) {{\n",
       "        var display = window.getComputedStyle(gd).display;\n",
       "        if (!display || display === 'none') {{\n",
       "            console.log([gd, 'removed!']);\n",
       "            Plotly.purge(gd);\n",
       "            observer.disconnect();\n",
       "        }}\n",
       "}});\n",
       "\n",
       "// Listen for the removal of the full notebook cells\n",
       "var notebookContainer = gd.closest('#notebook-container');\n",
       "if (notebookContainer) {{\n",
       "    x.observe(notebookContainer, {childList: true});\n",
       "}}\n",
       "\n",
       "// Listen for the clearing of the current output cell\n",
       "var outputEl = gd.closest('.output');\n",
       "if (outputEl) {{\n",
       "    x.observe(outputEl, {childList: true});\n",
       "}}\n",
       "\n",
       "                        })                };                });            </script>        </div>"
      ]
     },
     "metadata": {},
     "output_type": "display_data"
    }
   ],
   "source": [
    "fig = px.histogram(stats)\n",
    "fig.add_vline(x=obs, line_width=3, line_dash=\"dash\", line_color=\"red\")\n",
    "fig.update_layout(width=800, height=600)\n",
    "fig.show()"
   ]
  },
  {
   "cell_type": "code",
   "execution_count": 116,
   "metadata": {},
   "outputs": [],
   "source": [
    "fig.write_html(os.path.join(website_folder, \"missing_MCAR.html\"), include_plotlyjs='cdn')"
   ]
  },
  {
   "cell_type": "code",
   "execution_count": 117,
   "metadata": {},
   "outputs": [
    {
     "data": {
      "text/plain": [
       "np.float64(0.001)"
      ]
     },
     "execution_count": 117,
     "metadata": {},
     "output_type": "execute_result"
    }
   ],
   "source": [
    "#\n",
    "stats, obs = permutation_test(missing_data, 'NERC.REGION', 'MISSING_LABEL', tvd)\n",
    "np.mean(stats >= obs)"
   ]
  },
  {
   "cell_type": "code",
   "execution_count": 118,
   "metadata": {},
   "outputs": [
    {
     "data": {
      "text/plain": [
       "np.float64(0.3153910849453322)"
      ]
     },
     "execution_count": 118,
     "metadata": {},
     "output_type": "execute_result"
    }
   ],
   "source": [
    "obs"
   ]
  },
  {
   "cell_type": "code",
   "execution_count": 119,
   "metadata": {},
   "outputs": [
    {
     "data": {
      "text/html": [
       "<div>                            <div id=\"b9ec5bee-a2e4-42bf-a850-944424f6e75c\" class=\"plotly-graph-div\" style=\"height:600px; width:800px;\"></div>            <script type=\"text/javascript\">                require([\"plotly\"], function(Plotly) {                    window.PLOTLYENV=window.PLOTLYENV || {};                                    if (document.getElementById(\"b9ec5bee-a2e4-42bf-a850-944424f6e75c\")) {                    Plotly.newPlot(                        \"b9ec5bee-a2e4-42bf-a850-944424f6e75c\",                        [{\"alignmentgroup\":\"True\",\"bingroup\":\"x\",\"hovertemplate\":\"variable=0\\u003cbr\\u003evalue=%{x}\\u003cbr\\u003ecount=%{y}\\u003cextra\\u003e\\u003c\\u002fextra\\u003e\",\"legendgroup\":\"0\",\"marker\":{\"color\":\"#1F77B4\",\"pattern\":{\"shape\":\"\"}},\"name\":\"0\",\"offsetgroup\":\"0\",\"orientation\":\"v\",\"showlegend\":true,\"x\":[0.06648911316699374,0.12713765068685168,0.19928044108027285,0.12295579852350248,0.1993038033828614,0.11319035604149143,0.14106158302962338,0.07310064479955143,0.17783384730399027,0.11825997570320529,0.09412671712924023,0.1919213157648818,0.07606765722829642,0.12561910101859639,0.15127090926081677,0.17365199514064103,0.1583496869451453,0.10452294178114194,0.08548266517147929,0.12690402766096626,0.15921409214092136,0.09992056817119895,0.12933370713017475,0.09468741239136527,0.15281282123166057,0.15080366320904587,0.16594243528642183,0.14082796000373798,0.09111298009531817,0.17559106625549015,0.06690963461358751,0.20229417811419492,0.07034389309410335,0.12052611905429397,0.07917484347257264,0.13372582001682087,0.12688066535837772,0.09945332211942809,0.2152368937482478,0.17173628632838053,0.1384683674422951,0.10524717316138679,0.06571815718157183,0.14638818801981124,0.12160078497336697,0.10711615736847024,0.1615035977945986,0.16213437996448932,0.143281001775535,0.13683300626109712,0.15963461358751518,0.11690496215306982,0.1010886833006261,0.101041958695449,0.11730212129707505,0.11594710774693952,0.0780534529483226,0.0740584992056817,0.07917484347257264,0.08506214372488556,0.11389122511914775,0.18528642182973554,0.18108120736379774,0.14484627604896738,0.18348752453041772,0.15171479300999907,0.177693673488459,0.16956359218764605,0.12104008971124194,0.15103728623493132,0.11636762919353333,0.2066629286982525,0.13335202317540415,0.14519671058779554,0.15694794878983276,0.1904728530043921,0.11526960097187178,0.053359499112232485,0.16886272310998973,0.06959629941126998,0.14370152322212876,0.09735071488645922,0.12316605924679934,0.15680777497430146,0.09938323521166248,0.13150640127090923,0.1403607139519671,0.1206896551724138,0.0900383141762452,0.12825904121110177,0.10503691243808991,0.19484160358844968,0.1529763573497804,0.12994112699747687,0.12190449490701805,0.09263152976357347,0.1872488552471732,0.15045322867021774,0.10244369685076157,0.14503317446967573,0.13360900850387813,0.15482197925427532,0.08059994393047379,0.13339874778058125,0.2016166713391272,0.1588870199046818,0.10615830296233997,0.15344360340155122,0.09615923745444352,0.17888515092047472,0.17414260349500046,0.14265021960564434,0.14718250630782168,0.16970376600317727,0.19243528642182972,0.10503691243808988,0.20923278198299225,0.20154658443136161,0.14444911690496215,0.1757312400710214,0.13155312587608636,0.1318101112045603,0.14877114288384263,0.1745864872441828,0.114849079525278,0.17573124007102137,0.07039061769928044,0.13706662928698254,0.08945425661153164,0.1655686384450051,0.15823287543220257,0.04660779366414354,0.12641341930660688,0.11034015512568919,0.2267077843192225,0.17764694888328195,0.12012895991028877,0.1166246145220073,0.1849126249883189,0.10270068217923557,0.1166947014297729,0.19696757312400712,0.09038874871507335,0.11496589103822075,0.10650873750116811,0.11019998131015793,0.16227455378002056,0.11389122511914772,0.16150359779459864,0.13982338099243063,0.11854032333426781,0.12344640687786188,0.0868376787216148,0.09153350154191198,0.08994486496589103,0.11428838426315296,0.17535744322960473,0.158723483786562,0.13061863377254462,0.1852864218297355,0.11062050275675168,0.21783010933557612,0.1267171292402579,0.08966451733482853,0.11312026913372583,0.14241659657975886,0.15708812260536398,0.17949257078777686,0.11716194748154378,0.17000747593682836,0.12524530417717972,0.20154658443136156,0.09228109522474535,0.15834968694514534,0.1515512568918793,0.11218577703018412,0.17692271750303712,0.10618166526492849,0.1545416316232128,0.08966451733482853,0.11164844407064758,0.13734697691804504,0.13807120829828987,0.14853751985795718,0.07447902065227549,0.11786281655920008,0.12716101298944024,0.12255863937949725,0.1791888608541258,0.13316512475469586,0.11386786281655922,0.127838519764508,0.17967946920848518,0.1291935333146435,0.11744229511260629,0.1435613494065975,0.13571161573684704,0.16897953462293244,0.12040930754135126,0.27474067844126715,0.12926362022240911,0.10875151854966826,0.12786188206709653,0.16269507522661436,0.18759928978600135,0.1680917671245678,0.22346042425941504,0.1488178674890197,0.11991869918699188,0.1729744883655733,0.16617605831230725,0.11113447341369964,0.12783851976450797,0.13414634146341461,0.13690309316886276,0.15998504812634334,0.11529296327446034,0.12403046444257546,0.1364592094196804,0.09795813475376133,0.15451826932062426,0.10945238762732454,0.18437529202878236,0.12620315858330997,0.13019811232595085,0.18437529202878233,0.10664891131669939,0.16577889916830205,0.1150126156433978,0.2582936174189328,0.11365760209326231,0.18348752453041772,0.06585833099710306,0.11893748247827307,0.1417157275021026,0.22336697504906083,0.13783758527240442,0.1813615549948603,0.20530791514811697,0.14384169703766003,0.1575787309597234,0.18084758433791237,0.08875338753387534,0.10171946547051676,0.11391458742173627,0.11113447341369967,0.381623212783852,0.19731800766283525,0.11657788991683019,0.12050275675170545,0.12337631997009627,0.16750770955985428,0.11218577703018406,0.09779459863564154,0.06938603868797308,0.18552004485562096,0.1485375198579572,0.14881786748901976,0.11543313708999157,0.1472993178207644,0.12031585833099713,0.2171993271656854,0.16645640594336975,0.13811793290346697,0.11737220820484068,0.20696663863190357,0.12132043734230442,0.14930847584337914,0.1926455471451266,0.22488552471731615,0.16271843752920287,0.089384169703766,0.16636295673301554,0.1441921315764882,0.16416690028969258,0.1561069058966452,0.16809176712456775,0.135968601065321,0.10615830296233997,0.09921969909354268,0.10087842257732922,0.14136529296327446,0.11176525558359032,0.11900756938603867,0.1515512568918793,0.14124848145033175,0.16447061022334358,0.06340528922530604,0.07716568544995794,0.08599663582842722,0.18622091393327725,0.1531398934679002,0.20135968601065315,0.07408186150827024,0.1147789926175124,0.09087935706943275,0.23091299878516028,0.15767218017007756,0.14760302775441547,0.09950004672460518,0.10122885711615737,0.16500794318288012,0.1808943089430894,0.05964395850855059,0.09492103541725075,0.10543407158209514,0.1673441734417344,0.16012522194187462,0.11898420708345013,0.125432202597888,0.14786001308288943,0.13010466311559665,0.0813241753107186,0.0980048593589384,0.07840388748715074,0.18089430894308942,0.15356041491449396,0.15781235398560883,0.10452294178114196,0.16608260910195308,0.08288944958415102,0.1561536305018223,0.1287029249602841,0.23357630128025417,0.11604055695729369,0.13286141482104477,0.18762265208858986,0.15783571628819737,0.12176432109148677,0.12489486963835154,0.12255863937949726,0.06896551724137931,0.09202410989627136,0.10136903093168861,0.19115035977945988,0.09242126904027662,0.1301747500233623,0.127838519764508,0.1651013923932343,0.13902906270442014,0.18432856742360526,0.13430987758153443,0.11080740117746003,0.11340061676478833,0.13043173535183628,0.04548640313989346,0.16687692738996357,0.05177086253621157,0.17323147369404726,0.12038594523876275,0.17274086533968785,0.08994486496589103,0.1264367816091954,0.16458742173628632,0.1585132230632651,0.08405756471357817,0.12690402766096626,0.19741145687318942,0.10333146434912623,0.15624707971217644,0.12344640687786188,0.06735351836276982,0.17848799177646946,0.15666760115877018,0.205050929819643,0.10615830296233995,0.20185029436501262,0.10921876460143914,0.10183627698345948,0.10849453322119429,0.1922951126062985,0.13543126810578449,0.20689655172413796,0.1103401551256892,0.15727502102607235,0.18318381459676666,0.1651013923932343,0.1727642276422764,0.07803009064573405,0.1645640594336978,0.0760676572282964,0.11942809083263248,0.24565461171853095,0.1121857770301841,0.09924306139613119,0.09223437061956827,0.11407812353985608,0.19636015325670497,0.07296047098402018,0.10382207270348565,0.10622838987010559,0.07055415381740021,0.13860854125782637,0.19832258667414263,0.11190542939912157,0.13762732454910756,0.226988131950285,0.1778338473039903,0.15636389122511912,0.12566582562377349,0.16334921969909355,0.14220633585646203,0.1103401551256892,0.08270255116344266,0.13664610784038875,0.09844874310812074,0.12564246332118498,0.12225492944584619,0.11298009531819457,0.11821325109802823,0.12174095878889822,0.1725072423138024,0.1539108494533221,0.16736753574432295,0.1711288664610784,0.07543687505840574,0.11984861227922622,0.13718344079992523,0.21378843098775815,0.08669750490608352,0.08405756471357817,0.19853284739743948,0.17033454817306795,0.14828053452948323,0.1568778618820671,0.1566676011587702,0.06968974862162414,0.13400616764788337,0.21299411269974766,0.13159985048126344,0.09765442482011027,0.12082982898794505,0.18995888234744415,0.21212970750397156,0.19895336884403325,0.11253621156901224,0.1018362769834595,0.1769227175030371,0.0999439304737875,0.11730212129707505,0.09473413699654237,0.12646014391178395,0.10244369685076163,0.1554761237267545,0.10555088309503786,0.17559106625549017,0.11524623866928323,0.1532099803756658,0.1206896551724138,0.16526492851135405,0.20717689935520045,0.19694421082141858,0.06681618540323334,0.13473039902812822,0.16566208765535934,0.12104008971124196,0.21899822446500328,0.10650873750116811,0.07996916176058312,0.14131856835809736,0.17797402111952154,0.08940753200635455,0.19771516680684048,0.17963274460330808,0.16944678067470328,0.13473039902812822,0.19967760022427808,0.1398233809924306,0.12174095878889822,0.1701476497523596,0.16872254929445846,0.11283992150266328,0.12132043734230445,0.10389215961125126,0.19582282029716852,0.06078871133538921,0.14113166993738904,0.06443323053920194,0.15377067563779084,0.08858985141575552,0.12132043734230447,0.08875338753387536,0.11821325109802823,0.11557331090552284,0.12550228950565367,0.11669470142977292,0.11347070367255395,0.1552425007008691,0.15227548827212412,0.14433230539201944,0.15192505373329596,0.11015325670498083,0.1040556957293711,0.10169610316792822,0.05013550135501356,0.17596486309690684,0.14206616204093075,0.13954303336136809,0.13755723764134192,0.2036258293617419,0.05707410522381086,0.13456686291000838,0.1252920287823568,0.1246378843098776,0.07223623960377533,0.062447434819175765,0.11449864498644986,0.134893935146248,0.1259928978600131,0.13977665638725356,0.11181198018876742,0.10807401177460049,0.12926362022240911,0.1038921596112513,0.13269787870292493,0.13762732454910756,0.2364732268012335,0.07564713578170265,0.14379497243248296,0.12267545089243993,0.09288851509204749,0.13251098028221664,0.10340155125689188,0.1935566769460798,0.1385851789552378,0.16545182693206242,0.20449023455751797,0.1691897953462293,0.10433604336043362,0.0842911877394636,0.12407718904775254,0.15757873095972338,0.10405569572937112,0.10844780861601717,0.1643070741052238,0.12106345201383048,0.1255022895056537,0.09735071488645922,0.1445892907204934,0.13339874778058125,0.2453509017848799,0.08753854779927107,0.11008316979721522,0.1029109429025325,0.11141482104476215,0.2120362582936174,0.16162040930754135,0.13989346790019624,0.16954022988505746,0.13687973086627417,0.11064386505934026,0.07943182880104664,0.18911783945425664,0.13965984487431082,0.16825530324268756,0.0937762825904121,0.11580693393140828,0.11737220820484068,0.22430146715260255,0.11389122511914772,0.2152602560508364,0.1488178674890197,0.14342117559106626,0.12272217549761703,0.13033828614148213,0.11870385945238762,0.14711241940005607,0.13152976357349783,0.15645734043547332,0.21339127184375292,0.09415007943182882,0.09356602186711524,0.14573404354733202,0.07314736940472852,0.11055041584898605,0.1590038314176245,0.11141482104476214,0.12872628726287266,0.07251658723483786,0.10015419119708438,0.19640687786188207,0.1531398934679002,0.16963367909541163,0.15320998037566586,0.14173908980469116,0.12031585833099709,0.14075787309597235,0.1278151574619194,0.07634800485935893,0.20313522100738252,0.12723109989720588,0.13416970376600318,0.08756191010185965,0.10945238762732454,0.08482852069900008,0.10772357723577233,0.12895991028875803,0.12550228950565367,0.11001308288944957,0.21140547612372673,0.1935099523409027,0.07683861321371833,0.1433510886833006,0.17722642743668815,0.23584244463134288,0.20554153817400245,0.16645640594336975,0.1090085038781422,0.1792589477618914,0.13874871507335765,0.1401738155312588,0.1613400616764788,0.1067657228296421,0.08209513129614057,0.13800112139052426,0.12120362582936176,0.18295019157088122,0.11963835155592936,0.12054948135688254,0.10737314269694422,0.13428651527894592,0.12636669470142978,0.11218577703018408,0.170124287449771,0.14342117559106626,0.14180917671245682,0.1317867489019718,0.14335108868330063,0.1805905990094383,0.10664891131669937,0.15606018129146804,0.12550228950565367,0.13335202317540415,0.17904868703859453,0.143281001775535,0.15921409214092136,0.13183347350714886,0.09924306139613122,0.13599196336790956,0.21432576394729466,0.07499299130922343,0.15178487991776468,0.10099523409027195,0.13381926922717505,0.08447808616017195,0.09520138304831324,0.12688066535837772,0.15594336977852538,0.15652742734323893,0.10419586954490234,0.13923932342771705,0.13650593402485744,0.11825997570320528,0.13965984487431082,0.11293337071301748,0.13786094757499298,0.14286048032894122,0.1727642276422764,0.12566582562377349,0.14356134940659748,0.20696663863190357,0.16269507522661436,0.09952340902719373,0.1601719465470517,0.1575787309597234,0.19016914307074106,0.13951967105877955,0.06634893935146248,0.11260629847677786,0.10587795533127747,0.08711802635267732,0.272754882721241,0.12265208858985144,0.12786188206709653,0.1515512568918793,0.1257826371367162,0.1519951406410616,0.1039155219138398,0.19278572096065785,0.1337024577142323,0.22451172787589943,0.13951967105877955,0.14687879637417062,0.09686010653209981,0.1007616110643865,0.1344033267918886,0.20530791514811703,0.20255116344266888,0.1061816652649285,0.09356602186711524,0.2163115596673208,0.16276516213437994,0.13131950285020091,0.11055041584898607,0.08858985141575554,0.08873002523128679,0.1265535931221381,0.10959256144285581,0.11571348472105411,0.21855434071582094,0.18309036538641246,0.16334921969909355,0.10998972058686106,0.13755723764134192,0.12456779740211193,0.1766657321745631,0.10734978039435566,0.11344734136996543,0.09566862910008411,0.08405756471357816,0.10452294178114195,0.14108494533221197,0.16421362489486965,0.1410615830296234,0.071231660592468,0.17535744322960467,0.08613680964395849,0.08548266517147929,0.08576301280254182,0.1289365479861695,0.09010840108401083,0.18180543874404262,0.177693673488459,0.1401504532286702,0.12575927483412766,0.1540510232688534,0.06686291000841042,0.1955658349686945,0.1283291281188674,0.10681244743481917,0.18762265208858983,0.10970937295579851,0.1466451733482852,0.1938837491823194,0.07763293150172879,0.1350574712643678,0.08952434351929729,0.17472666105971402,0.16393327726380708,0.20624240725165877,0.15968133819269226,0.14970563498738437,0.12751144752826837,0.1433510886833006,0.05705074292122231,0.11431174656574153,0.16136342397906736,0.16449397252593215,0.12977759087935709,0.127838519764508,0.169563592187646,0.10664891131669937,0.1029109429025325,0.16248481450331745,0.15038314176245213,0.08506214372488553,0.1875525651808242,0.12185777030184096,0.1488178674890197,0.11227922624053828,0.06896551724137931,0.2459816839547706,0.2080880291561536,0.1332118493598729,0.1257826371367162,0.12160078497336697,0.12769834594897672,0.14666853565087376,0.1525558359031866,0.10924212690402765,0.17472666105971402,0.08286608728156244,0.08132417531071863,0.13335202317540415,0.10405569572937108,0.1184702364265022,0.12211475563031493,0.23135688253434258,0.18830015886365759,0.20278478646855433,0.11269974768713208,0.11361087748808524,0.15963461358751518,0.1888374918231941,0.15736847023642653,0.07340435473320249,0.26048967386225585,0.14947201196149892,0.18939818708531914,0.1906363891225119,0.11989533688440332,0.15853658536585366,0.1464349126249883,0.1543313708999159,0.10393888421642837,0.1055275207924493,0.10209326231193348,0.12104008971124193,0.16923651995140643,0.13755723764134192,0.11073731426969441,0.15253247360059807,0.1553125876086347,0.147883375385478,0.15099056162975422,0.19016914307074104,0.14694888328193625,0.10552752079244931,0.08966451733482853,0.13830483132417531,0.14500981216708717,0.17846462947388095,0.19082328754322025,0.16383982805345293,0.1201523222128773,0.17346509671993274,0.14711241940005604,0.17874497710494344,0.13968320717689933,0.1910802728716942,0.1594944397719839,0.17376880665358377,0.14615456499392582,0.2110550415848986,0.15580319596299413,0.08408092701616673,0.12225492944584618,0.11571348472105414,0.0898280534529483,0.12949724324829454,0.13916923651995142,0.09583216521820391,0.19904681805438745,0.19023922997850673,0.15968133819269226,0.15241566208765536,0.13414634146341464,0.11737220820484065,0.16970376600317727,0.09562190449490698,0.125432202597888,0.11833006261097095,0.13508083356695638,0.10758340342024111,0.10622838987010558,0.13216054574338848,0.16440052331557797,0.11587702083917391,0.1724371554060368,0.09087935706943277,0.203672553966919,0.1769227175030371,0.11337725446219979,0.15900383141762447,0.15902719372021307,0.11139145874217363,0.09286515278945892,0.18552004485562099,0.15241566208765533,0.16040556957293714,0.2790393421175591,0.14816372301654052,0.16687692738996354,0.0926315297635735,0.08781889543033362,0.1419727128305766,0.14718250630782173,0.18383795906924588,0.1253621156901224,0.117816091954023,0.17365199514064109,0.09643958508550604,0.09802822166152697,0.18528642182973554,0.17482011027006825,0.13036164844407067,0.17295112606298477,0.13781422296981594,0.20278478646855436,0.10786375105130362,0.15874684608915052,0.19350995234090274,0.11055041584898609,0.19082328754322025,0.17059153350154188,0.19904681805438743,0.18112793196897484,0.15867675918138485,0.12685730305578918,0.12926362022240914,0.1375338753387534,0.10277076908700122,0.08873002523128681,0.08735164937856277,0.11148490795252781,0.10795720026165782,0.059714045416316225,0.20621904494907017,0.13762732454910756,0.1746565741519484,0.14687879637417062,0.2108915054667788,0.18038033828614147,0.15575647135781703,0.0838473039902813,0.1277917951593309,0.0888935613494066,0.16297542285767685,0.1262732454910756,0.1578123539856088,0.06943276329315018,0.15337351649378564,0.15636389122511912,0.16056910569105692,0.09249135594804223,0.1631623212783852,0.19327632931501726,0.09473413699654237,0.1859172039996262,0.09548173067937576,0.12407718904775256,0.10284085599476682,0.15666760115877024,0.1580693393140828,0.1347771236333053,0.16218110456966636,0.0626810578450612,0.127838519764508,0.11312026913372583,0.16538174002429679,0.14491636295673305,0.13839828053452946,0.14706569479487897,0.15809270161667136,0.1597747874030464,0.13314176245210724,0.15391084945332215,0.16148023549201007,0.12339968227268479,0.18386132137183442,0.12382020371927858,0.17112886646107842,0.15636389122511915,0.10945238762732454,0.07459583216521821,0.048079618727221746,0.0729604709840202,0.12407718904775254,0.15342024109896268,0.15276609662648352,0.20201383048313237,0.14003364171572752,0.14087468460891506,0.12688066535837772,0.05128025418185215,0.13522100738248763,0.14617792729651438,0.08982805345294834,0.21065788244089337,0.1566676011587702,0.13529109429025327,0.1912905335949911,0.15159798149705636,0.13155312587608634,0.14522007289038408,0.17089524343519297,0.09865900383141762,0.15823287543220257,0.049154284646294746,0.06735351836276983,0.10298102981029811,0.08008597327352585,0.11230258854312683,0.18897766563872537,0.13057190916736755,0.16577889916830202,0.14788337538547797,0.09830856929258948,0.09910288758059996,0.21523689374824784,0.1103401551256892,0.17264741612933368,0.11692832445565837,0.12106345201383051,0.16409681338192694,0.07618446874123913,0.24876179796280723,0.14580413045509763,0.1303850107466592,0.061349406597514256,0.13400616764788337,0.23315577983366043,0.1272310998972059,0.09615923745444352,0.12106345201383048,0.1566676011587702,0.08873002523128681,0.10924212690402768,0.1352910942902532,0.10419586954490236],\"xaxis\":\"x\",\"yaxis\":\"y\",\"type\":\"histogram\"}],                        {\"template\":{\"data\":{\"barpolar\":[{\"marker\":{\"line\":{\"color\":\"white\",\"width\":0.5},\"pattern\":{\"fillmode\":\"overlay\",\"size\":10,\"solidity\":0.2}},\"type\":\"barpolar\"}],\"bar\":[{\"error_x\":{\"color\":\"rgb(36,36,36)\"},\"error_y\":{\"color\":\"rgb(36,36,36)\"},\"marker\":{\"line\":{\"color\":\"white\",\"width\":0.5},\"pattern\":{\"fillmode\":\"overlay\",\"size\":10,\"solidity\":0.2}},\"type\":\"bar\"}],\"carpet\":[{\"aaxis\":{\"endlinecolor\":\"rgb(36,36,36)\",\"gridcolor\":\"white\",\"linecolor\":\"white\",\"minorgridcolor\":\"white\",\"startlinecolor\":\"rgb(36,36,36)\"},\"baxis\":{\"endlinecolor\":\"rgb(36,36,36)\",\"gridcolor\":\"white\",\"linecolor\":\"white\",\"minorgridcolor\":\"white\",\"startlinecolor\":\"rgb(36,36,36)\"},\"type\":\"carpet\"}],\"choropleth\":[{\"colorbar\":{\"outlinewidth\":1,\"tickcolor\":\"rgb(36,36,36)\",\"ticks\":\"outside\"},\"type\":\"choropleth\"}],\"contourcarpet\":[{\"colorbar\":{\"outlinewidth\":1,\"tickcolor\":\"rgb(36,36,36)\",\"ticks\":\"outside\"},\"type\":\"contourcarpet\"}],\"contour\":[{\"colorbar\":{\"outlinewidth\":1,\"tickcolor\":\"rgb(36,36,36)\",\"ticks\":\"outside\"},\"colorscale\":[[0.0,\"#440154\"],[0.1111111111111111,\"#482878\"],[0.2222222222222222,\"#3e4989\"],[0.3333333333333333,\"#31688e\"],[0.4444444444444444,\"#26828e\"],[0.5555555555555556,\"#1f9e89\"],[0.6666666666666666,\"#35b779\"],[0.7777777777777778,\"#6ece58\"],[0.8888888888888888,\"#b5de2b\"],[1.0,\"#fde725\"]],\"type\":\"contour\"}],\"heatmapgl\":[{\"colorbar\":{\"outlinewidth\":1,\"tickcolor\":\"rgb(36,36,36)\",\"ticks\":\"outside\"},\"colorscale\":[[0.0,\"#440154\"],[0.1111111111111111,\"#482878\"],[0.2222222222222222,\"#3e4989\"],[0.3333333333333333,\"#31688e\"],[0.4444444444444444,\"#26828e\"],[0.5555555555555556,\"#1f9e89\"],[0.6666666666666666,\"#35b779\"],[0.7777777777777778,\"#6ece58\"],[0.8888888888888888,\"#b5de2b\"],[1.0,\"#fde725\"]],\"type\":\"heatmapgl\"}],\"heatmap\":[{\"colorbar\":{\"outlinewidth\":1,\"tickcolor\":\"rgb(36,36,36)\",\"ticks\":\"outside\"},\"colorscale\":[[0.0,\"#440154\"],[0.1111111111111111,\"#482878\"],[0.2222222222222222,\"#3e4989\"],[0.3333333333333333,\"#31688e\"],[0.4444444444444444,\"#26828e\"],[0.5555555555555556,\"#1f9e89\"],[0.6666666666666666,\"#35b779\"],[0.7777777777777778,\"#6ece58\"],[0.8888888888888888,\"#b5de2b\"],[1.0,\"#fde725\"]],\"type\":\"heatmap\"}],\"histogram2dcontour\":[{\"colorbar\":{\"outlinewidth\":1,\"tickcolor\":\"rgb(36,36,36)\",\"ticks\":\"outside\"},\"colorscale\":[[0.0,\"#440154\"],[0.1111111111111111,\"#482878\"],[0.2222222222222222,\"#3e4989\"],[0.3333333333333333,\"#31688e\"],[0.4444444444444444,\"#26828e\"],[0.5555555555555556,\"#1f9e89\"],[0.6666666666666666,\"#35b779\"],[0.7777777777777778,\"#6ece58\"],[0.8888888888888888,\"#b5de2b\"],[1.0,\"#fde725\"]],\"type\":\"histogram2dcontour\"}],\"histogram2d\":[{\"colorbar\":{\"outlinewidth\":1,\"tickcolor\":\"rgb(36,36,36)\",\"ticks\":\"outside\"},\"colorscale\":[[0.0,\"#440154\"],[0.1111111111111111,\"#482878\"],[0.2222222222222222,\"#3e4989\"],[0.3333333333333333,\"#31688e\"],[0.4444444444444444,\"#26828e\"],[0.5555555555555556,\"#1f9e89\"],[0.6666666666666666,\"#35b779\"],[0.7777777777777778,\"#6ece58\"],[0.8888888888888888,\"#b5de2b\"],[1.0,\"#fde725\"]],\"type\":\"histogram2d\"}],\"histogram\":[{\"marker\":{\"line\":{\"color\":\"white\",\"width\":0.6}},\"type\":\"histogram\"}],\"mesh3d\":[{\"colorbar\":{\"outlinewidth\":1,\"tickcolor\":\"rgb(36,36,36)\",\"ticks\":\"outside\"},\"type\":\"mesh3d\"}],\"parcoords\":[{\"line\":{\"colorbar\":{\"outlinewidth\":1,\"tickcolor\":\"rgb(36,36,36)\",\"ticks\":\"outside\"}},\"type\":\"parcoords\"}],\"pie\":[{\"automargin\":true,\"type\":\"pie\"}],\"scatter3d\":[{\"line\":{\"colorbar\":{\"outlinewidth\":1,\"tickcolor\":\"rgb(36,36,36)\",\"ticks\":\"outside\"}},\"marker\":{\"colorbar\":{\"outlinewidth\":1,\"tickcolor\":\"rgb(36,36,36)\",\"ticks\":\"outside\"}},\"type\":\"scatter3d\"}],\"scattercarpet\":[{\"marker\":{\"colorbar\":{\"outlinewidth\":1,\"tickcolor\":\"rgb(36,36,36)\",\"ticks\":\"outside\"}},\"type\":\"scattercarpet\"}],\"scattergeo\":[{\"marker\":{\"colorbar\":{\"outlinewidth\":1,\"tickcolor\":\"rgb(36,36,36)\",\"ticks\":\"outside\"}},\"type\":\"scattergeo\"}],\"scattergl\":[{\"marker\":{\"colorbar\":{\"outlinewidth\":1,\"tickcolor\":\"rgb(36,36,36)\",\"ticks\":\"outside\"}},\"type\":\"scattergl\"}],\"scattermapbox\":[{\"marker\":{\"colorbar\":{\"outlinewidth\":1,\"tickcolor\":\"rgb(36,36,36)\",\"ticks\":\"outside\"}},\"type\":\"scattermapbox\"}],\"scatterpolargl\":[{\"marker\":{\"colorbar\":{\"outlinewidth\":1,\"tickcolor\":\"rgb(36,36,36)\",\"ticks\":\"outside\"}},\"type\":\"scatterpolargl\"}],\"scatterpolar\":[{\"marker\":{\"colorbar\":{\"outlinewidth\":1,\"tickcolor\":\"rgb(36,36,36)\",\"ticks\":\"outside\"}},\"type\":\"scatterpolar\"}],\"scatter\":[{\"fillpattern\":{\"fillmode\":\"overlay\",\"size\":10,\"solidity\":0.2},\"type\":\"scatter\"}],\"scatterternary\":[{\"marker\":{\"colorbar\":{\"outlinewidth\":1,\"tickcolor\":\"rgb(36,36,36)\",\"ticks\":\"outside\"}},\"type\":\"scatterternary\"}],\"surface\":[{\"colorbar\":{\"outlinewidth\":1,\"tickcolor\":\"rgb(36,36,36)\",\"ticks\":\"outside\"},\"colorscale\":[[0.0,\"#440154\"],[0.1111111111111111,\"#482878\"],[0.2222222222222222,\"#3e4989\"],[0.3333333333333333,\"#31688e\"],[0.4444444444444444,\"#26828e\"],[0.5555555555555556,\"#1f9e89\"],[0.6666666666666666,\"#35b779\"],[0.7777777777777778,\"#6ece58\"],[0.8888888888888888,\"#b5de2b\"],[1.0,\"#fde725\"]],\"type\":\"surface\"}],\"table\":[{\"cells\":{\"fill\":{\"color\":\"rgb(237,237,237)\"},\"line\":{\"color\":\"white\"}},\"header\":{\"fill\":{\"color\":\"rgb(217,217,217)\"},\"line\":{\"color\":\"white\"}},\"type\":\"table\"}]},\"layout\":{\"annotationdefaults\":{\"arrowhead\":0,\"arrowwidth\":1},\"autotypenumbers\":\"strict\",\"coloraxis\":{\"colorbar\":{\"outlinewidth\":1,\"tickcolor\":\"rgb(36,36,36)\",\"ticks\":\"outside\"}},\"colorscale\":{\"diverging\":[[0.0,\"rgb(103,0,31)\"],[0.1,\"rgb(178,24,43)\"],[0.2,\"rgb(214,96,77)\"],[0.3,\"rgb(244,165,130)\"],[0.4,\"rgb(253,219,199)\"],[0.5,\"rgb(247,247,247)\"],[0.6,\"rgb(209,229,240)\"],[0.7,\"rgb(146,197,222)\"],[0.8,\"rgb(67,147,195)\"],[0.9,\"rgb(33,102,172)\"],[1.0,\"rgb(5,48,97)\"]],\"sequential\":[[0.0,\"#440154\"],[0.1111111111111111,\"#482878\"],[0.2222222222222222,\"#3e4989\"],[0.3333333333333333,\"#31688e\"],[0.4444444444444444,\"#26828e\"],[0.5555555555555556,\"#1f9e89\"],[0.6666666666666666,\"#35b779\"],[0.7777777777777778,\"#6ece58\"],[0.8888888888888888,\"#b5de2b\"],[1.0,\"#fde725\"]],\"sequentialminus\":[[0.0,\"#440154\"],[0.1111111111111111,\"#482878\"],[0.2222222222222222,\"#3e4989\"],[0.3333333333333333,\"#31688e\"],[0.4444444444444444,\"#26828e\"],[0.5555555555555556,\"#1f9e89\"],[0.6666666666666666,\"#35b779\"],[0.7777777777777778,\"#6ece58\"],[0.8888888888888888,\"#b5de2b\"],[1.0,\"#fde725\"]]},\"colorway\":[\"#1F77B4\",\"#FF7F0E\",\"#2CA02C\",\"#D62728\",\"#9467BD\",\"#8C564B\",\"#E377C2\",\"#7F7F7F\",\"#BCBD22\",\"#17BECF\"],\"font\":{\"color\":\"rgb(36,36,36)\"},\"geo\":{\"bgcolor\":\"white\",\"lakecolor\":\"white\",\"landcolor\":\"white\",\"showlakes\":true,\"showland\":true,\"subunitcolor\":\"white\"},\"hoverlabel\":{\"align\":\"left\"},\"hovermode\":\"closest\",\"mapbox\":{\"style\":\"light\"},\"paper_bgcolor\":\"white\",\"plot_bgcolor\":\"white\",\"polar\":{\"angularaxis\":{\"gridcolor\":\"rgb(232,232,232)\",\"linecolor\":\"rgb(36,36,36)\",\"showgrid\":false,\"showline\":true,\"ticks\":\"outside\"},\"bgcolor\":\"white\",\"radialaxis\":{\"gridcolor\":\"rgb(232,232,232)\",\"linecolor\":\"rgb(36,36,36)\",\"showgrid\":false,\"showline\":true,\"ticks\":\"outside\"}},\"scene\":{\"xaxis\":{\"backgroundcolor\":\"white\",\"gridcolor\":\"rgb(232,232,232)\",\"gridwidth\":2,\"linecolor\":\"rgb(36,36,36)\",\"showbackground\":true,\"showgrid\":false,\"showline\":true,\"ticks\":\"outside\",\"zeroline\":false,\"zerolinecolor\":\"rgb(36,36,36)\"},\"yaxis\":{\"backgroundcolor\":\"white\",\"gridcolor\":\"rgb(232,232,232)\",\"gridwidth\":2,\"linecolor\":\"rgb(36,36,36)\",\"showbackground\":true,\"showgrid\":false,\"showline\":true,\"ticks\":\"outside\",\"zeroline\":false,\"zerolinecolor\":\"rgb(36,36,36)\"},\"zaxis\":{\"backgroundcolor\":\"white\",\"gridcolor\":\"rgb(232,232,232)\",\"gridwidth\":2,\"linecolor\":\"rgb(36,36,36)\",\"showbackground\":true,\"showgrid\":false,\"showline\":true,\"ticks\":\"outside\",\"zeroline\":false,\"zerolinecolor\":\"rgb(36,36,36)\"}},\"shapedefaults\":{\"fillcolor\":\"black\",\"line\":{\"width\":0},\"opacity\":0.3},\"ternary\":{\"aaxis\":{\"gridcolor\":\"rgb(232,232,232)\",\"linecolor\":\"rgb(36,36,36)\",\"showgrid\":false,\"showline\":true,\"ticks\":\"outside\"},\"baxis\":{\"gridcolor\":\"rgb(232,232,232)\",\"linecolor\":\"rgb(36,36,36)\",\"showgrid\":false,\"showline\":true,\"ticks\":\"outside\"},\"bgcolor\":\"white\",\"caxis\":{\"gridcolor\":\"rgb(232,232,232)\",\"linecolor\":\"rgb(36,36,36)\",\"showgrid\":false,\"showline\":true,\"ticks\":\"outside\"}},\"title\":{\"x\":0.5,\"xanchor\":\"center\"},\"xaxis\":{\"automargin\":true,\"gridcolor\":\"rgb(232,232,232)\",\"linecolor\":\"rgb(36,36,36)\",\"showgrid\":true,\"showline\":true,\"ticks\":\"outside\",\"title\":{\"standoff\":15},\"zeroline\":false,\"zerolinecolor\":\"rgb(36,36,36)\"},\"yaxis\":{\"automargin\":true,\"gridcolor\":\"rgb(232,232,232)\",\"linecolor\":\"rgb(36,36,36)\",\"showgrid\":true,\"showline\":true,\"ticks\":\"outside\",\"title\":{\"standoff\":15},\"zeroline\":false,\"zerolinecolor\":\"rgb(36,36,36)\"},\"autosize\":true,\"height\":400,\"margin\":{\"b\":30,\"l\":30,\"r\":30,\"t\":30},\"width\":600}},\"xaxis\":{\"anchor\":\"y\",\"domain\":[0.0,1.0],\"title\":{\"text\":\"value\"}},\"yaxis\":{\"anchor\":\"x\",\"domain\":[0.0,1.0],\"title\":{\"text\":\"count\"}},\"legend\":{\"title\":{\"text\":\"variable\"},\"tracegroupgap\":0},\"barmode\":\"relative\",\"shapes\":[{\"line\":{\"color\":\"red\",\"dash\":\"dash\",\"width\":3},\"type\":\"line\",\"x0\":0.3153910849453322,\"x1\":0.3153910849453322,\"xref\":\"x\",\"y0\":0,\"y1\":1,\"yref\":\"y domain\"}],\"width\":800,\"height\":600},                        {\"responsive\": true}                    ).then(function(){\n",
       "                            \n",
       "var gd = document.getElementById('b9ec5bee-a2e4-42bf-a850-944424f6e75c');\n",
       "var x = new MutationObserver(function (mutations, observer) {{\n",
       "        var display = window.getComputedStyle(gd).display;\n",
       "        if (!display || display === 'none') {{\n",
       "            console.log([gd, 'removed!']);\n",
       "            Plotly.purge(gd);\n",
       "            observer.disconnect();\n",
       "        }}\n",
       "}});\n",
       "\n",
       "// Listen for the removal of the full notebook cells\n",
       "var notebookContainer = gd.closest('#notebook-container');\n",
       "if (notebookContainer) {{\n",
       "    x.observe(notebookContainer, {childList: true});\n",
       "}}\n",
       "\n",
       "// Listen for the clearing of the current output cell\n",
       "var outputEl = gd.closest('.output');\n",
       "if (outputEl) {{\n",
       "    x.observe(outputEl, {childList: true});\n",
       "}}\n",
       "\n",
       "                        })                };                });            </script>        </div>"
      ]
     },
     "metadata": {},
     "output_type": "display_data"
    }
   ],
   "source": [
    "fig = px.histogram(stats)\n",
    "fig.add_vline(x=obs, line_width=3, line_dash=\"dash\", line_color=\"red\")\n",
    "fig.update_layout(width=800, height=600)\n",
    "fig.show()"
   ]
  },
  {
   "cell_type": "code",
   "execution_count": 120,
   "metadata": {},
   "outputs": [],
   "source": [
    "fig.write_html(os.path.join(website_folder, \"missing_MAR.html\"), include_plotlyjs='cdn')"
   ]
  },
  {
   "cell_type": "code",
   "execution_count": null,
   "metadata": {},
   "outputs": [],
   "source": []
  },
  {
   "cell_type": "code",
   "execution_count": 121,
   "metadata": {},
   "outputs": [
    {
     "data": {
      "text/html": [
       "<div>\n",
       "<style scoped>\n",
       "    .dataframe tbody tr th:only-of-type {\n",
       "        vertical-align: middle;\n",
       "    }\n",
       "\n",
       "    .dataframe tbody tr th {\n",
       "        vertical-align: top;\n",
       "    }\n",
       "\n",
       "    .dataframe thead th {\n",
       "        text-align: right;\n",
       "    }\n",
       "</style>\n",
       "<table border=\"1\" class=\"dataframe\">\n",
       "  <thead>\n",
       "    <tr style=\"text-align: right;\">\n",
       "      <th></th>\n",
       "      <th>YEAR</th>\n",
       "      <th>MONTH</th>\n",
       "      <th>U.S._STATE</th>\n",
       "      <th>POSTAL.CODE</th>\n",
       "      <th>...</th>\n",
       "      <th>PCT_LAND</th>\n",
       "      <th>PCT_WATER_TOT</th>\n",
       "      <th>PCT_WATER_INLAND</th>\n",
       "      <th>MISSING_LABEL</th>\n",
       "    </tr>\n",
       "    <tr>\n",
       "      <th>OBS</th>\n",
       "      <th></th>\n",
       "      <th></th>\n",
       "      <th></th>\n",
       "      <th></th>\n",
       "      <th></th>\n",
       "      <th></th>\n",
       "      <th></th>\n",
       "      <th></th>\n",
       "      <th></th>\n",
       "    </tr>\n",
       "  </thead>\n",
       "  <tbody>\n",
       "    <tr>\n",
       "      <th>1</th>\n",
       "      <td>2011</td>\n",
       "      <td>7.0</td>\n",
       "      <td>Minnesota</td>\n",
       "      <td>MN</td>\n",
       "      <td>...</td>\n",
       "      <td>91.59</td>\n",
       "      <td>8.41</td>\n",
       "      <td>5.48</td>\n",
       "      <td>False</td>\n",
       "    </tr>\n",
       "    <tr>\n",
       "      <th>2</th>\n",
       "      <td>2014</td>\n",
       "      <td>5.0</td>\n",
       "      <td>Minnesota</td>\n",
       "      <td>MN</td>\n",
       "      <td>...</td>\n",
       "      <td>91.59</td>\n",
       "      <td>8.41</td>\n",
       "      <td>5.48</td>\n",
       "      <td>False</td>\n",
       "    </tr>\n",
       "    <tr>\n",
       "      <th>3</th>\n",
       "      <td>2010</td>\n",
       "      <td>10.0</td>\n",
       "      <td>Minnesota</td>\n",
       "      <td>MN</td>\n",
       "      <td>...</td>\n",
       "      <td>91.59</td>\n",
       "      <td>8.41</td>\n",
       "      <td>5.48</td>\n",
       "      <td>False</td>\n",
       "    </tr>\n",
       "    <tr>\n",
       "      <th>...</th>\n",
       "      <td>...</td>\n",
       "      <td>...</td>\n",
       "      <td>...</td>\n",
       "      <td>...</td>\n",
       "      <td>...</td>\n",
       "      <td>...</td>\n",
       "      <td>...</td>\n",
       "      <td>...</td>\n",
       "      <td>...</td>\n",
       "    </tr>\n",
       "    <tr>\n",
       "      <th>1532</th>\n",
       "      <td>2009</td>\n",
       "      <td>8.0</td>\n",
       "      <td>South Dakota</td>\n",
       "      <td>SD</td>\n",
       "      <td>...</td>\n",
       "      <td>98.31</td>\n",
       "      <td>1.69</td>\n",
       "      <td>1.69</td>\n",
       "      <td>False</td>\n",
       "    </tr>\n",
       "    <tr>\n",
       "      <th>1533</th>\n",
       "      <td>2009</td>\n",
       "      <td>8.0</td>\n",
       "      <td>South Dakota</td>\n",
       "      <td>SD</td>\n",
       "      <td>...</td>\n",
       "      <td>98.31</td>\n",
       "      <td>1.69</td>\n",
       "      <td>1.69</td>\n",
       "      <td>False</td>\n",
       "    </tr>\n",
       "    <tr>\n",
       "      <th>1534</th>\n",
       "      <td>2000</td>\n",
       "      <td>NaN</td>\n",
       "      <td>Alaska</td>\n",
       "      <td>AK</td>\n",
       "      <td>...</td>\n",
       "      <td>85.76</td>\n",
       "      <td>14.24</td>\n",
       "      <td>2.90</td>\n",
       "      <td>True</td>\n",
       "    </tr>\n",
       "  </tbody>\n",
       "</table>\n",
       "<p>1534 rows × 56 columns</p>\n",
       "</div>"
      ],
      "text/plain": [
       "      YEAR  MONTH    U.S._STATE POSTAL.CODE  ... PCT_LAND PCT_WATER_TOT  \\\n",
       "OBS                                          ...                          \n",
       "1     2011    7.0     Minnesota          MN  ...    91.59          8.41   \n",
       "2     2014    5.0     Minnesota          MN  ...    91.59          8.41   \n",
       "3     2010   10.0     Minnesota          MN  ...    91.59          8.41   \n",
       "...    ...    ...           ...         ...  ...      ...           ...   \n",
       "1532  2009    8.0  South Dakota          SD  ...    98.31          1.69   \n",
       "1533  2009    8.0  South Dakota          SD  ...    98.31          1.69   \n",
       "1534  2000    NaN        Alaska          AK  ...    85.76         14.24   \n",
       "\n",
       "      PCT_WATER_INLAND MISSING_LABEL  \n",
       "OBS                                   \n",
       "1                 5.48         False  \n",
       "2                 5.48         False  \n",
       "3                 5.48         False  \n",
       "...                ...           ...  \n",
       "1532              1.69         False  \n",
       "1533              1.69         False  \n",
       "1534              2.90          True  \n",
       "\n",
       "[1534 rows x 56 columns]"
      ]
     },
     "execution_count": 121,
     "metadata": {},
     "output_type": "execute_result"
    }
   ],
   "source": [
    "missing_data"
   ]
  },
  {
   "cell_type": "markdown",
   "metadata": {},
   "source": [
    "## Step 4: Hypothesis Testing\n",
    "\n",
    "diff_medians is a custom function found in one of the auxilary python scripts that takes the difference in the medians of a value column grouped by a 2 label label column."
   ]
  },
  {
   "cell_type": "code",
   "execution_count": 122,
   "metadata": {
    "ExecuteTime": {
     "end_time": "2019-10-31T23:36:28.666489Z",
     "start_time": "2019-10-31T23:36:28.664381Z"
    }
   },
   "outputs": [],
   "source": [
    "permutation_data = data_time.copy()\n",
    "permutation_data[\"Is_California\"] = (permutation_data[\"U.S._STATE\"] == \"California\").astype(str)\n"
   ]
  },
  {
   "cell_type": "code",
   "execution_count": 123,
   "metadata": {},
   "outputs": [
    {
     "data": {
      "text/plain": [
       "np.float64(-581.5)"
      ]
     },
     "execution_count": 123,
     "metadata": {},
     "output_type": "execute_result"
    }
   ],
   "source": [
    "diff_medians(permutation_data, \"OUTAGE.DURATION\", \"Is_California\")"
   ]
  },
  {
   "cell_type": "code",
   "execution_count": 124,
   "metadata": {},
   "outputs": [
    {
     "data": {
      "text/plain": [
       "np.float64(0.0)"
      ]
     },
     "execution_count": 124,
     "metadata": {},
     "output_type": "execute_result"
    }
   ],
   "source": [
    "n = 1000\n",
    "medians_diff = []\n",
    "observed_diff = diff_medians(permutation_data, \"OUTAGE.DURATION\", \"Is_California\")\n",
    "for _ in range(n):\n",
    "    permutation_data[\"shuffled_labels\"] = np.random.permutation(permutation_data[\"Is_California\"])\n",
    "    medians_diff.append(diff_medians(permutation_data, \"OUTAGE.DURATION\", \"shuffled_labels\"))\n",
    "\n",
    "np.mean([diff <= observed_diff for diff in medians_diff])"
   ]
  },
  {
   "cell_type": "code",
   "execution_count": 125,
   "metadata": {},
   "outputs": [
    {
     "data": {
      "text/html": [
       "<div>                            <div id=\"a704ab60-b5a7-4eb5-b13f-d8417c11312d\" class=\"plotly-graph-div\" style=\"height:600px; width:800px;\"></div>            <script type=\"text/javascript\">                require([\"plotly\"], function(Plotly) {                    window.PLOTLYENV=window.PLOTLYENV || {};                                    if (document.getElementById(\"a704ab60-b5a7-4eb5-b13f-d8417c11312d\")) {                    Plotly.newPlot(                        \"a704ab60-b5a7-4eb5-b13f-d8417c11312d\",                        [{\"alignmentgroup\":\"True\",\"bingroup\":\"x\",\"hovertemplate\":\"variable=median differences\\u003cbr\\u003eDifference in Medians=%{x}\\u003cbr\\u003ecount=%{y}\\u003cextra\\u003e\\u003c\\u002fextra\\u003e\",\"legendgroup\":\"median differences\",\"marker\":{\"color\":\"#1F77B4\",\"pattern\":{\"shape\":\"\"}},\"name\":\"median differences\",\"offsetgroup\":\"median differences\",\"orientation\":\"v\",\"showlegend\":true,\"x\":[88.5,128.0,-184.5,77.0,-125.0,-80.5,-343.0,-124.5,-247.0,-288.5,28.0,224.0,72.5,148.5,247.5,-11.0,-173.5,-155.5,137.5,-151.0,-163.0,-117.5,64.0,24.0,-240.0,65.0,-151.0,372.5,-252.0,172.5,-192.5,-271.0,245.0,-410.0,181.0,-274.0,23.0,28.0,-184.0,29.0,23.0,562.0,-171.0,132.0,-214.0,392.0,67.0,-370.0,-278.0,155.0,-160.5,377.0,167.0,81.0,-247.0,-271.0,157.0,-55.5,-166.0,20.0,69.0,217.0,-206.5,69.0,-57.0,-356.0,-126.0,-376.5,-386.0,-281.0,72.0,-208.0,160.0,115.0,49.5,-157.0,369.0,285.0,8.0,155.0,-96.0,-68.0,412.5,-241.0,302.0,-177.5,613.0,370.5,-310.5,-57.0,-266.0,-89.5,-99.0,207.0,189.0,275.0,182.5,176.0,-103.0,-284.0,-331.0,302.5,28.0,24.0,-151.0,429.5,491.0,-406.5,150.0,-281.0,474.0,-120.0,-45.5,-148.0,-247.0,-8.0,-290.0,174.0,-46.0,-57.0,229.0,200.0,304.0,-100.0,339.0,-60.0,-402.0,325.0,-184.0,179.0,-8.0,118.0,-152.5,-210.0,-270.0,328.0,533.5,144.0,8.0,76.0,198.0,23.0,-102.0,-98.0,-163.5,6.0,360.0,-309.0,74.5,-356.5,49.5,329.0,-311.0,116.5,53.5,94.5,368.5,166.0,-170.5,219.0,290.0,23.0,52.0,-60.0,-225.5,-57.0,240.0,-278.5,96.0,122.0,-155.0,290.5,-347.0,-105.0,113.0,426.0,-32.5,153.0,68.0,23.0,-341.0,282.5,54.0,172.0,-292.0,-219.0,-61.0,186.5,195.0,171.0,178.0,-205.0,-0.5,-370.0,-60.0,-208.0,25.5,338.5,-57.0,-103.0,67.0,135.0,-250.0,9.0,-194.5,-166.0,-293.0,-120.0,131.0,-172.5,-0.5,-226.0,95.0,71.0,-333.0,-344.0,-15.0,280.0,40.0,-33.0,-192.0,-20.0,262.0,-286.0,124.0,-45.0,-159.0,-46.0,338.0,189.0,-280.5,-291.0,-253.0,-15.0,-120.0,-69.0,-24.5,240.0,-282.0,-236.0,-100.5,-204.0,349.0,-62.0,193.0,-8.0,566.0,74.0,326.0,256.0,-304.0,-395.5,-252.0,260.0,163.0,197.0,314.5,-276.0,5.0,-366.5,25.5,-137.5,143.0,394.5,-58.0,308.0,306.0,-47.0,371.0,157.0,94.5,-125.0,-192.0,-73.5,265.5,34.0,-224.5,-32.5,240.5,-125.5,544.5,1.5,330.0,43.5,-170.0,120.0,-163.0,-163.0,-242.0,-110.0,213.5,-86.0,-150.0,329.0,-155.0,-108.0,-341.0,360.5,-58.0,362.5,-75.0,-148.0,111.0,-186.0,-286.0,173.0,-436.5,-288.0,-316.0,156.0,-241.0,175.0,-218.0,174.5,-207.5,-98.0,-120.0,25.5,-24.0,25.0,371.0,-160.0,-65.0,123.5,-169.0,-13.0,72.0,40.5,208.0,-321.0,173.0,-367.5,251.0,153.0,-182.0,-109.5,-166.0,-75.0,-106.5,274.5,-35.0,49.5,28.0,-113.0,-299.0,80.5,-301.0,178.0,178.0,-313.0,23.0,780.0,-201.0,-260.5,93.5,139.0,-236.5,-267.0,-318.5,-341.0,-301.0,-54.0,-393.0,-83.0,-307.0,125.0,-13.0,71.0,31.5,65.0,81.0,-57.0,-124.0,-324.5,-48.5,-157.0,-269.0,-356.0,25.0,-415.0,-68.0,473.5,-177.0,-101.5,-294.5,-305.0,191.0,65.0,-357.0,-298.0,92.0,181.5,232.0,-311.0,25.0,398.0,194.5,99.0,-38.0,-163.0,54.0,289.0,290.0,-210.0,-120.0,271.0,-309.0,-320.0,0.0,120.0,59.5,442.5,125.0,584.0,-8.0,-118.5,186.5,-20.0,59.0,201.5,-222.5,180.0,-53.0,153.0,336.0,23.0,159.0,-64.0,118.5,-214.0,183.0,38.5,8.5,-8.0,-351.5,-293.0,-102.0,253.0,307.0,47.0,-143.5,217.5,8.0,240.0,106.0,178.5,-128.5,23.0,-145.0,161.0,105.0,111.5,287.0,-307.0,-288.0,-103.5,-241.0,-280.5,370.0,275.0,-151.0,164.5,314.0,-99.0,-33.0,-163.0,-42.0,-53.0,46.0,-117.0,135.0,-312.0,-214.5,-46.0,180.0,-306.0,-409.0,-341.0,-198.0,-156.5,-147.5,-120.0,53.0,-166.0,284.0,-152.0,18.0,41.0,422.0,-196.0,250.0,69.0,315.0,-225.0,184.0,362.5,240.0,-60.0,-11.0,133.0,-238.0,-40.0,-17.5,-253.0,-119.0,-177.5,-178.0,-364.0,-0.5,278.0,541.0,47.0,-264.5,23.0,64.0,248.0,-102.0,240.0,69.0,242.5,-13.0,-236.0,118.0,392.0,559.5,377.0,187.5,300.0,194.5,115.0,-281.5,-198.5,77.0,25.5,23.0,-241.0,-209.0,-454.0,-269.0,-208.5,137.0,-54.0,189.0,-269.0,232.0,-80.5,285.0,16.5,568.0,-186.0,69.0,210.0,-54.0,240.5,109.5,345.0,233.0,304.0,85.5,24.0,-192.0,408.0,-300.0,563.0,-156.5,240.0,-100.0,-11.0,135.0,90.5,-57.5,215.5,160.5,-273.5,-85.5,-151.0,127.0,334.0,-322.0,-164.5,57.0,-34.0,-151.0,287.5,148.0,-38.5,-42.5,118.0,40.0,64.0,321.5,-203.5,288.0,8.5,-311.0,270.5,348.0,376.5,279.0,640.5,143.0,-155.0,240.0,211.5,181.0,218.0,-137.5,-255.0,-43.0,-45.0,137.0,-46.0,-311.0,-105.0,39.0,177.0,-341.5,434.0,-20.0,-36.0,287.0,300.0,-282.0,-195.0,-208.0,43.5,-13.0,5.0,-38.0,608.0,212.0,-54.0,-194.5,-372.0,-310.0,126.0,-25.0,-120.0,-214.0,169.0,-252.0,-276.0,385.0,308.0,-100.0,245.0,-218.0,-171.5,-52.0,-124.0,24.0,165.0,-241.0,126.5,-401.0,71.0,-5.0,-101.0,-96.0,76.0,556.0,467.5,64.0,-167.5,151.5,104.0,-210.0,-295.5,-333.5,134.0,119.0,67.5,-262.0,-209.0,237.0,210.0,173.0,-262.5,139.0,-177.0,-294.0,-91.5,337.5,154.5,391.0,344.5,-320.0,-111.0,-369.5,-189.0,-171.5,-166.5,478.0,-269.0,221.0,124.0,122.0,132.5,-31.0,272.5,-292.5,-241.0,38.5,74.0,125.0,69.0,263.0,-314.0,-120.0,8.0,-57.0,30.0,181.0,-66.0,-81.0,-244.0,61.0,48.5,348.0,237.0,249.5,-326.0,368.0,-37.5,-184.0,-163.0,-57.0,202.5,71.0,162.0,-210.5,45.5,-342.0,-102.0,112.0,173.0,-132.5,-60.0,-331.0,-266.0,25.5,113.0,102.0,-184.0,-304.0,-366.0,218.5,206.5,247.0,-214.0,-135.0,-126.5,20.0,-172.0,-290.5,-25.0,-255.0,28.0,-58.0,381.0,300.0,-199.0,8.0,318.0,180.0,116.5,262.0,119.0,-164.0,-304.0,-370.5,103.5,-300.0,-197.5,101.0,-267.5,40.0,-280.5,109.0,-281.0,253.0,-166.5,197.5,-327.0,-152.0,331.5,-265.0,286.0,63.0,-120.5,-253.0,463.0,-13.0,132.0,-207.5,104.0,150.5,20.0,-81.5,-327.0,180.0,240.5,-41.0,182.5,-321.0,-234.0,582.0,328.5,-166.0,52.5,-93.0,193.5,165.0,-39.0,-100.0,131.0,-120.0,137.0,-12.5,-170.0,-101.0,-187.0,-178.0,-86.0,270.0,26.0,-229.0,-244.0,-100.0,-212.0,216.5,-371.5,216.5,242.5,-99.0,32.5,-93.0,40.0,187.0,23.0,-279.0,-175.0,-245.0,177.5,-361.0,125.0,120.0,210.0,-310.0,-60.0,72.5,-85.5,-121.0,210.0,-96.0,227.0,-120.0,-206.5,70.0,-65.0,326.0,-384.0,-46.0,-209.0,197.0,-160.0,424.5,137.0,215.5,-20.0,406.5,184.5,-172.0,-53.0,-101.0,-149.0,99.5,-264.0,301.0,-100.0,210.0,219.5,258.5,339.0,-266.0,180.0,-104.0,79.5,356.0,307.0,64.0,-18.5,220.5,101.5,189.0,-180.0,-364.5,338.0,155.0,-180.0,290.0,-253.0,-218.0,225.0,511.0,-361.0,69.0,-316.0,232.0,23.0,348.0,107.5,-57.0,-341.5,-420.0,125.0,318.0,177.0,-167.0,-44.0,160.5,142.5,-297.0,-280.5,-24.5,185.0,358.0,257.0,-282.0,25.5,297.5,501.0,-269.0,52.0,303.0,136.0,172.0,-431.0,-163.0,-42.5,-173.5,542.5,-60.0,-89.0,81.5,-85.5,-156.0,-110.5,-194.0,193.0,-367.0,-242.0,52.0,359.0,302.5,28.0,-218.0,-372.5,-135.0,35.5,205.0,345.0,153.0,153.0,541.0,25.5,-88.0,465.0,23.0,-32.0,8.0,-8.0,270.0,21.5,174.0,271.5,284.0,-235.0,-147.5,363.0,421.5,92.0,-145.0,242.5,-120.0,296.0,-190.0,-348.0,241.5,-250.5,210.0,64.0,-240.0,144.5,-145.0,177.5,-232.0,-233.0,-213.0,44.0],\"xaxis\":\"x\",\"yaxis\":\"y\",\"type\":\"histogram\"}],                        {\"template\":{\"data\":{\"barpolar\":[{\"marker\":{\"line\":{\"color\":\"white\",\"width\":0.5},\"pattern\":{\"fillmode\":\"overlay\",\"size\":10,\"solidity\":0.2}},\"type\":\"barpolar\"}],\"bar\":[{\"error_x\":{\"color\":\"rgb(36,36,36)\"},\"error_y\":{\"color\":\"rgb(36,36,36)\"},\"marker\":{\"line\":{\"color\":\"white\",\"width\":0.5},\"pattern\":{\"fillmode\":\"overlay\",\"size\":10,\"solidity\":0.2}},\"type\":\"bar\"}],\"carpet\":[{\"aaxis\":{\"endlinecolor\":\"rgb(36,36,36)\",\"gridcolor\":\"white\",\"linecolor\":\"white\",\"minorgridcolor\":\"white\",\"startlinecolor\":\"rgb(36,36,36)\"},\"baxis\":{\"endlinecolor\":\"rgb(36,36,36)\",\"gridcolor\":\"white\",\"linecolor\":\"white\",\"minorgridcolor\":\"white\",\"startlinecolor\":\"rgb(36,36,36)\"},\"type\":\"carpet\"}],\"choropleth\":[{\"colorbar\":{\"outlinewidth\":1,\"tickcolor\":\"rgb(36,36,36)\",\"ticks\":\"outside\"},\"type\":\"choropleth\"}],\"contourcarpet\":[{\"colorbar\":{\"outlinewidth\":1,\"tickcolor\":\"rgb(36,36,36)\",\"ticks\":\"outside\"},\"type\":\"contourcarpet\"}],\"contour\":[{\"colorbar\":{\"outlinewidth\":1,\"tickcolor\":\"rgb(36,36,36)\",\"ticks\":\"outside\"},\"colorscale\":[[0.0,\"#440154\"],[0.1111111111111111,\"#482878\"],[0.2222222222222222,\"#3e4989\"],[0.3333333333333333,\"#31688e\"],[0.4444444444444444,\"#26828e\"],[0.5555555555555556,\"#1f9e89\"],[0.6666666666666666,\"#35b779\"],[0.7777777777777778,\"#6ece58\"],[0.8888888888888888,\"#b5de2b\"],[1.0,\"#fde725\"]],\"type\":\"contour\"}],\"heatmapgl\":[{\"colorbar\":{\"outlinewidth\":1,\"tickcolor\":\"rgb(36,36,36)\",\"ticks\":\"outside\"},\"colorscale\":[[0.0,\"#440154\"],[0.1111111111111111,\"#482878\"],[0.2222222222222222,\"#3e4989\"],[0.3333333333333333,\"#31688e\"],[0.4444444444444444,\"#26828e\"],[0.5555555555555556,\"#1f9e89\"],[0.6666666666666666,\"#35b779\"],[0.7777777777777778,\"#6ece58\"],[0.8888888888888888,\"#b5de2b\"],[1.0,\"#fde725\"]],\"type\":\"heatmapgl\"}],\"heatmap\":[{\"colorbar\":{\"outlinewidth\":1,\"tickcolor\":\"rgb(36,36,36)\",\"ticks\":\"outside\"},\"colorscale\":[[0.0,\"#440154\"],[0.1111111111111111,\"#482878\"],[0.2222222222222222,\"#3e4989\"],[0.3333333333333333,\"#31688e\"],[0.4444444444444444,\"#26828e\"],[0.5555555555555556,\"#1f9e89\"],[0.6666666666666666,\"#35b779\"],[0.7777777777777778,\"#6ece58\"],[0.8888888888888888,\"#b5de2b\"],[1.0,\"#fde725\"]],\"type\":\"heatmap\"}],\"histogram2dcontour\":[{\"colorbar\":{\"outlinewidth\":1,\"tickcolor\":\"rgb(36,36,36)\",\"ticks\":\"outside\"},\"colorscale\":[[0.0,\"#440154\"],[0.1111111111111111,\"#482878\"],[0.2222222222222222,\"#3e4989\"],[0.3333333333333333,\"#31688e\"],[0.4444444444444444,\"#26828e\"],[0.5555555555555556,\"#1f9e89\"],[0.6666666666666666,\"#35b779\"],[0.7777777777777778,\"#6ece58\"],[0.8888888888888888,\"#b5de2b\"],[1.0,\"#fde725\"]],\"type\":\"histogram2dcontour\"}],\"histogram2d\":[{\"colorbar\":{\"outlinewidth\":1,\"tickcolor\":\"rgb(36,36,36)\",\"ticks\":\"outside\"},\"colorscale\":[[0.0,\"#440154\"],[0.1111111111111111,\"#482878\"],[0.2222222222222222,\"#3e4989\"],[0.3333333333333333,\"#31688e\"],[0.4444444444444444,\"#26828e\"],[0.5555555555555556,\"#1f9e89\"],[0.6666666666666666,\"#35b779\"],[0.7777777777777778,\"#6ece58\"],[0.8888888888888888,\"#b5de2b\"],[1.0,\"#fde725\"]],\"type\":\"histogram2d\"}],\"histogram\":[{\"marker\":{\"line\":{\"color\":\"white\",\"width\":0.6}},\"type\":\"histogram\"}],\"mesh3d\":[{\"colorbar\":{\"outlinewidth\":1,\"tickcolor\":\"rgb(36,36,36)\",\"ticks\":\"outside\"},\"type\":\"mesh3d\"}],\"parcoords\":[{\"line\":{\"colorbar\":{\"outlinewidth\":1,\"tickcolor\":\"rgb(36,36,36)\",\"ticks\":\"outside\"}},\"type\":\"parcoords\"}],\"pie\":[{\"automargin\":true,\"type\":\"pie\"}],\"scatter3d\":[{\"line\":{\"colorbar\":{\"outlinewidth\":1,\"tickcolor\":\"rgb(36,36,36)\",\"ticks\":\"outside\"}},\"marker\":{\"colorbar\":{\"outlinewidth\":1,\"tickcolor\":\"rgb(36,36,36)\",\"ticks\":\"outside\"}},\"type\":\"scatter3d\"}],\"scattercarpet\":[{\"marker\":{\"colorbar\":{\"outlinewidth\":1,\"tickcolor\":\"rgb(36,36,36)\",\"ticks\":\"outside\"}},\"type\":\"scattercarpet\"}],\"scattergeo\":[{\"marker\":{\"colorbar\":{\"outlinewidth\":1,\"tickcolor\":\"rgb(36,36,36)\",\"ticks\":\"outside\"}},\"type\":\"scattergeo\"}],\"scattergl\":[{\"marker\":{\"colorbar\":{\"outlinewidth\":1,\"tickcolor\":\"rgb(36,36,36)\",\"ticks\":\"outside\"}},\"type\":\"scattergl\"}],\"scattermapbox\":[{\"marker\":{\"colorbar\":{\"outlinewidth\":1,\"tickcolor\":\"rgb(36,36,36)\",\"ticks\":\"outside\"}},\"type\":\"scattermapbox\"}],\"scatterpolargl\":[{\"marker\":{\"colorbar\":{\"outlinewidth\":1,\"tickcolor\":\"rgb(36,36,36)\",\"ticks\":\"outside\"}},\"type\":\"scatterpolargl\"}],\"scatterpolar\":[{\"marker\":{\"colorbar\":{\"outlinewidth\":1,\"tickcolor\":\"rgb(36,36,36)\",\"ticks\":\"outside\"}},\"type\":\"scatterpolar\"}],\"scatter\":[{\"fillpattern\":{\"fillmode\":\"overlay\",\"size\":10,\"solidity\":0.2},\"type\":\"scatter\"}],\"scatterternary\":[{\"marker\":{\"colorbar\":{\"outlinewidth\":1,\"tickcolor\":\"rgb(36,36,36)\",\"ticks\":\"outside\"}},\"type\":\"scatterternary\"}],\"surface\":[{\"colorbar\":{\"outlinewidth\":1,\"tickcolor\":\"rgb(36,36,36)\",\"ticks\":\"outside\"},\"colorscale\":[[0.0,\"#440154\"],[0.1111111111111111,\"#482878\"],[0.2222222222222222,\"#3e4989\"],[0.3333333333333333,\"#31688e\"],[0.4444444444444444,\"#26828e\"],[0.5555555555555556,\"#1f9e89\"],[0.6666666666666666,\"#35b779\"],[0.7777777777777778,\"#6ece58\"],[0.8888888888888888,\"#b5de2b\"],[1.0,\"#fde725\"]],\"type\":\"surface\"}],\"table\":[{\"cells\":{\"fill\":{\"color\":\"rgb(237,237,237)\"},\"line\":{\"color\":\"white\"}},\"header\":{\"fill\":{\"color\":\"rgb(217,217,217)\"},\"line\":{\"color\":\"white\"}},\"type\":\"table\"}]},\"layout\":{\"annotationdefaults\":{\"arrowhead\":0,\"arrowwidth\":1},\"autotypenumbers\":\"strict\",\"coloraxis\":{\"colorbar\":{\"outlinewidth\":1,\"tickcolor\":\"rgb(36,36,36)\",\"ticks\":\"outside\"}},\"colorscale\":{\"diverging\":[[0.0,\"rgb(103,0,31)\"],[0.1,\"rgb(178,24,43)\"],[0.2,\"rgb(214,96,77)\"],[0.3,\"rgb(244,165,130)\"],[0.4,\"rgb(253,219,199)\"],[0.5,\"rgb(247,247,247)\"],[0.6,\"rgb(209,229,240)\"],[0.7,\"rgb(146,197,222)\"],[0.8,\"rgb(67,147,195)\"],[0.9,\"rgb(33,102,172)\"],[1.0,\"rgb(5,48,97)\"]],\"sequential\":[[0.0,\"#440154\"],[0.1111111111111111,\"#482878\"],[0.2222222222222222,\"#3e4989\"],[0.3333333333333333,\"#31688e\"],[0.4444444444444444,\"#26828e\"],[0.5555555555555556,\"#1f9e89\"],[0.6666666666666666,\"#35b779\"],[0.7777777777777778,\"#6ece58\"],[0.8888888888888888,\"#b5de2b\"],[1.0,\"#fde725\"]],\"sequentialminus\":[[0.0,\"#440154\"],[0.1111111111111111,\"#482878\"],[0.2222222222222222,\"#3e4989\"],[0.3333333333333333,\"#31688e\"],[0.4444444444444444,\"#26828e\"],[0.5555555555555556,\"#1f9e89\"],[0.6666666666666666,\"#35b779\"],[0.7777777777777778,\"#6ece58\"],[0.8888888888888888,\"#b5de2b\"],[1.0,\"#fde725\"]]},\"colorway\":[\"#1F77B4\",\"#FF7F0E\",\"#2CA02C\",\"#D62728\",\"#9467BD\",\"#8C564B\",\"#E377C2\",\"#7F7F7F\",\"#BCBD22\",\"#17BECF\"],\"font\":{\"color\":\"rgb(36,36,36)\"},\"geo\":{\"bgcolor\":\"white\",\"lakecolor\":\"white\",\"landcolor\":\"white\",\"showlakes\":true,\"showland\":true,\"subunitcolor\":\"white\"},\"hoverlabel\":{\"align\":\"left\"},\"hovermode\":\"closest\",\"mapbox\":{\"style\":\"light\"},\"paper_bgcolor\":\"white\",\"plot_bgcolor\":\"white\",\"polar\":{\"angularaxis\":{\"gridcolor\":\"rgb(232,232,232)\",\"linecolor\":\"rgb(36,36,36)\",\"showgrid\":false,\"showline\":true,\"ticks\":\"outside\"},\"bgcolor\":\"white\",\"radialaxis\":{\"gridcolor\":\"rgb(232,232,232)\",\"linecolor\":\"rgb(36,36,36)\",\"showgrid\":false,\"showline\":true,\"ticks\":\"outside\"}},\"scene\":{\"xaxis\":{\"backgroundcolor\":\"white\",\"gridcolor\":\"rgb(232,232,232)\",\"gridwidth\":2,\"linecolor\":\"rgb(36,36,36)\",\"showbackground\":true,\"showgrid\":false,\"showline\":true,\"ticks\":\"outside\",\"zeroline\":false,\"zerolinecolor\":\"rgb(36,36,36)\"},\"yaxis\":{\"backgroundcolor\":\"white\",\"gridcolor\":\"rgb(232,232,232)\",\"gridwidth\":2,\"linecolor\":\"rgb(36,36,36)\",\"showbackground\":true,\"showgrid\":false,\"showline\":true,\"ticks\":\"outside\",\"zeroline\":false,\"zerolinecolor\":\"rgb(36,36,36)\"},\"zaxis\":{\"backgroundcolor\":\"white\",\"gridcolor\":\"rgb(232,232,232)\",\"gridwidth\":2,\"linecolor\":\"rgb(36,36,36)\",\"showbackground\":true,\"showgrid\":false,\"showline\":true,\"ticks\":\"outside\",\"zeroline\":false,\"zerolinecolor\":\"rgb(36,36,36)\"}},\"shapedefaults\":{\"fillcolor\":\"black\",\"line\":{\"width\":0},\"opacity\":0.3},\"ternary\":{\"aaxis\":{\"gridcolor\":\"rgb(232,232,232)\",\"linecolor\":\"rgb(36,36,36)\",\"showgrid\":false,\"showline\":true,\"ticks\":\"outside\"},\"baxis\":{\"gridcolor\":\"rgb(232,232,232)\",\"linecolor\":\"rgb(36,36,36)\",\"showgrid\":false,\"showline\":true,\"ticks\":\"outside\"},\"bgcolor\":\"white\",\"caxis\":{\"gridcolor\":\"rgb(232,232,232)\",\"linecolor\":\"rgb(36,36,36)\",\"showgrid\":false,\"showline\":true,\"ticks\":\"outside\"}},\"title\":{\"x\":0.5,\"xanchor\":\"center\"},\"xaxis\":{\"automargin\":true,\"gridcolor\":\"rgb(232,232,232)\",\"linecolor\":\"rgb(36,36,36)\",\"showgrid\":true,\"showline\":true,\"ticks\":\"outside\",\"title\":{\"standoff\":15},\"zeroline\":false,\"zerolinecolor\":\"rgb(36,36,36)\"},\"yaxis\":{\"automargin\":true,\"gridcolor\":\"rgb(232,232,232)\",\"linecolor\":\"rgb(36,36,36)\",\"showgrid\":true,\"showline\":true,\"ticks\":\"outside\",\"title\":{\"standoff\":15},\"zeroline\":false,\"zerolinecolor\":\"rgb(36,36,36)\"},\"autosize\":true,\"height\":400,\"margin\":{\"b\":30,\"l\":30,\"r\":30,\"t\":30},\"width\":600}},\"xaxis\":{\"anchor\":\"y\",\"domain\":[0.0,1.0],\"title\":{\"text\":\"Difference in Medians\"}},\"yaxis\":{\"anchor\":\"x\",\"domain\":[0.0,1.0],\"title\":{\"text\":\"count\"}},\"legend\":{\"title\":{\"text\":\"variable\"},\"tracegroupgap\":0},\"title\":{\"text\":\"Permutation Test for Difference in Medians\"},\"barmode\":\"relative\",\"shapes\":[{\"line\":{\"color\":\"red\",\"dash\":\"dash\",\"width\":3},\"type\":\"line\",\"x0\":-581.5,\"x1\":-581.5,\"xref\":\"x\",\"y0\":0,\"y1\":1,\"yref\":\"y domain\"}],\"width\":800,\"height\":600},                        {\"responsive\": true}                    ).then(function(){\n",
       "                            \n",
       "var gd = document.getElementById('a704ab60-b5a7-4eb5-b13f-d8417c11312d');\n",
       "var x = new MutationObserver(function (mutations, observer) {{\n",
       "        var display = window.getComputedStyle(gd).display;\n",
       "        if (!display || display === 'none') {{\n",
       "            console.log([gd, 'removed!']);\n",
       "            Plotly.purge(gd);\n",
       "            observer.disconnect();\n",
       "        }}\n",
       "}});\n",
       "\n",
       "// Listen for the removal of the full notebook cells\n",
       "var notebookContainer = gd.closest('#notebook-container');\n",
       "if (notebookContainer) {{\n",
       "    x.observe(notebookContainer, {childList: true});\n",
       "}}\n",
       "\n",
       "// Listen for the clearing of the current output cell\n",
       "var outputEl = gd.closest('.output');\n",
       "if (outputEl) {{\n",
       "    x.observe(outputEl, {childList: true});\n",
       "}}\n",
       "\n",
       "                        })                };                });            </script>        </div>"
      ]
     },
     "metadata": {},
     "output_type": "display_data"
    }
   ],
   "source": [
    "plot_ser = pd.Series(medians_diff)\n",
    "plot_ser.name = \"median differences\"\n",
    "fig = px.histogram(plot_ser, title=\"Permutation Test for Difference in Medians\", labels={\"value\": \"Difference in Medians\", \"0\": \"Median Difference\"})\n",
    "fig.add_vline(x=observed_diff, line_width=3, line_dash=\"dash\", line_color=\"red\")\n",
    "fig.update_layout(width=800, height=600)\n",
    "fig.show()"
   ]
  },
  {
   "cell_type": "code",
   "execution_count": 126,
   "metadata": {},
   "outputs": [],
   "source": [
    "fig.write_html(os.path.join(website_folder, \"hypothesis_test.html\"), include_plotlyjs='cdn')"
   ]
  },
  {
   "cell_type": "markdown",
   "metadata": {},
   "source": [
    "## Step 5: Framing a Prediction Problem"
   ]
  },
  {
   "cell_type": "markdown",
   "metadata": {
    "ExecuteTime": {
     "end_time": "2019-10-31T23:36:28.657068Z",
     "start_time": "2019-10-31T23:36:28.654650Z"
    }
   },
   "source": [
    "While Outage Duration is a good classifier for how extreme an outage is, most companies would be more interested in the effects it has on customers and how whether they are more likely to complain. Thus, we will be using the given data and predicting how many customers are affected. This will help the companies to identify events that are more likely to affect more people. From there, the companies may seek to create new methods to counter act on these specific predictive variables. \n",
    "\n",
    "Looking at inital models, I saw that much of the data seems very much skewed by extremely low values that happen very often and a few outlier high values. This has resulted in very high RMSE values and overall a bad predictor for what is creates a high amount of affected customers. To remedy this, I will do a classification model and define a new variable \"High_Risk_Customers\" as a Binary classification of whether a certain event will have more than a certain number of affected customers thus the model will focus on identifying these communities and risk factors rather than trying to accurately predicting the values."
   ]
  },
  {
   "cell_type": "markdown",
   "metadata": {},
   "source": [
    "## Step 6: Baseline Model"
   ]
  },
  {
   "cell_type": "code",
   "execution_count": 127,
   "metadata": {},
   "outputs": [],
   "source": [
    "base_pred_model = data_time.copy()\n",
    "base_pred_model = base_pred_model[[\"NERC.REGION\",\n",
    "                                   \"MONTH\",\n",
    "                                   \"CLIMATE.REGION\",\n",
    "                                   \"CLIMATE.CATEGORY\",\n",
    "                                   \"ANOMALY.LEVEL\",\n",
    "                                   \"CAUSE.CATEGORY\",\n",
    "                                   \"RES.PERCEN\",\n",
    "                                   \"COM.PERCEN\",\n",
    "                                   \"IND.PERCEN\",\n",
    "                                   \"RES.CUSTOMERS\",\n",
    "                                   \"COM.CUSTOMERS\",\n",
    "                                   \"IND.CUSTOMERS\",\n",
    "                                   \"POPULATION\",\n",
    "                                   \"POPPCT_URBAN\",\n",
    "                                   \"CUSTOMERS.AFFECTED\"]]\n",
    "base_pred_model.dropna(inplace=True)\n",
    "base_pred_model[\"CUSTOMERS.AFFECTED\"] = base_pred_model[\"CUSTOMERS.AFFECTED\"].apply(lambda x: int(x>150_000))"
   ]
  },
  {
   "cell_type": "code",
   "execution_count": 128,
   "metadata": {},
   "outputs": [
    {
     "data": {
      "text/plain": [
       "np.int64(261)"
      ]
     },
     "execution_count": 128,
     "metadata": {},
     "output_type": "execute_result"
    }
   ],
   "source": [
    "base_pred_model[\"CUSTOMERS.AFFECTED\"].sum()"
   ]
  },
  {
   "cell_type": "code",
   "execution_count": 129,
   "metadata": {},
   "outputs": [
    {
     "data": {
      "text/html": [
       "<div>                            <div id=\"4219e387-d8c3-4e67-95bf-0debd3b86cc7\" class=\"plotly-graph-div\" style=\"height:400px; width:600px;\"></div>            <script type=\"text/javascript\">                require([\"plotly\"], function(Plotly) {                    window.PLOTLYENV=window.PLOTLYENV || {};                                    if (document.getElementById(\"4219e387-d8c3-4e67-95bf-0debd3b86cc7\")) {                    Plotly.newPlot(                        \"4219e387-d8c3-4e67-95bf-0debd3b86cc7\",                        [{\"hovertemplate\":\"RES.PERCEN=%{x}\\u003cbr\\u003eCUSTOMERS.AFFECTED=%{y}\\u003cextra\\u003e\\u003c\\u002fextra\\u003e\",\"legendgroup\":\"\",\"marker\":{\"color\":\"#1F77B4\",\"symbol\":\"circle\"},\"mode\":\"markers\",\"name\":\"\",\"showlegend\":false,\"x\":[35.5490726123501,30.0324872247258,28.0976715185951,31.9940992530928,33.982576198772,31.1927839751403,34.3146557572744,33.5861733700128,32.9369159955039,30.7545526188156,30.7545526188156,31.0765348349027,35.5490726123501,29.805110259663,31.4548984198808,41.1778651780899,44.9519040749125,41.1778651780899,38.3248107859853,44.8820434645201,48.7254535243985,45.7883843620355,45.1079298833934,40.4478151766547,50.2138718565874,45.6121531675046,42.8857528544705,38.3248107859853,40.0081835183132,40.8203342530456,40.0081835183132,38.3248107859853,35.6845317009522,50.1694326807975,40.0081835183132,38.3248107859853,null,50.2138718565874,48.0280266873606,46.3593995985059,38.3248107859853,41.254126852912,44.2794036601133,50.2138718565874,38.3248107859853,40.0081835183132,50.2138718565874,37.1439538055809,48.3079005604517,29.6469424729398,37.1513679100397,30.5767714668469,31.4153271365561,37.1513679100397,30.4269382511882,32.919422463778,37.1513679100397,35.6282561956177,29.9858494463552,34.4709235037158,28.7060235196431,29.4951250334522,37.1513679100397,32.8403628663612,29.6469424729398,31.4153271365561,37.1513679100397,31.4153271365561,37.1513679100397,39.8519648199416,32.4259725948732,30.2811012232814,33.6688157927533,29.0774784157404,31.7147589686051,28.576132678635,36.9574010254423,33.4749534858473,34.9214545887908,34.0479119797003,27.4372863513858,29.0774784157404,33.4777191251038,30.2048609655444,31.6673941987129,32.151621195226,35.809497380354,31.1723296437417,34.9214545887908,29.8686336904599,33.2100428527097,31.2378307756251,33.2100428527097,32.0335284718721,29.0447628796284,33.3797649685982,34.7210141008724,36.9631122691444,36.469962601901,27.2157898551191,32.151621195226,27.5288987495713,34.5483051245347,null,37.3813244789572,39.6918116811549,37.3813244789572,29.8902336983171,30.1035456775116,32.0335284718721,27.2400869755565,36.0737818574294,27.574447741934,36.2610132472515,32.8029131782836,31.2410521238838,30.7528594724779,27.0195836002424,34.6876325469153,37.4824518222757,34.8949160053002,30.5147329593824,31.6673941987129,36.9574010254423,31.6673941987129,30.2048609655444,35.5508653721686,37.281292613374,34.0479119797003,30.5917408907601,36.2186265099416,37.3813244789572,30.5147329593824,28.351157211094,27.5288987495713,31.7194296474161,30.1485459954077,30.5147329593824,38.477519022766,27.5288987495713,36.469962601901,28.7201887964902,28.576132678635,37.4607242901682,36.3427761670632,33.2100428527097,30.7844153334148,36.9574010254423,27.574447741934,37.6955044242697,34.5483051245347,33.4777191251038,31.2378307756251,29.0447628796284,37.2073877310593,31.7055302162382,34.6876325469153,38.477519022766,34.2374631042777,29.0774784157404,36.9574010254423,36.9574010254423,35.4322438127877,31.3640286797403,30.2899756221144,36.2186265099416,28.4467166010272,37.0529189134571,41.399482612908,41.4518972510553,41.4518972510553,null,43.1654515598071,39.2167339815507,40.5505113924005,33.5133203137478,30.4197541917671,32.5370661883019,37.0560563331341,33.0558930298621,40.5207103385121,40.5207103385121,40.118863547784,42.4786978417482,40.118863547784,44.8513501251918,42.7269512023799,32.7195732645677,37.1813636334754,32.8101538699204,30.4197541917671,36.9007260192728,29.4452021181219,44.6890391014815,44.6890391014815,33.0558930298621,33.4448106817468,42.8923818866284,32.5632140754095,42.1674311589763,32.2826784496102,33.2316266033571,39.2001267210943,39.2167339815507,34.5873446812281,41.4518972510553,41.3082909521831,35.5310133096522,39.2167339815507,34.5873446812281,40.118863547784,36.9572618081662,42.0153500042025,38.3559022135048,42.9912736794705,30.0615245171822,36.7707795214018,41.1443860037452,null,38.5049316931908,32.291168589944,31.4254964882817,33.3967198880181,42.7906544964832,30.0615245171822,42.9912736794705,38.3559022135048,33.8977157297962,41.8175505774152,41.4763317093835,32.7195732645677,40.1865305693471,37.0560563331341,42.8923818866284,40.665808554387,29.7542316668691,41.4518972510553,33.0558930298621,41.0505237648833,null,38.5049316931908,31.3052945647089,33.0558930298621,41.399482612908,31.3564672346546,37.8602980594424,35.6196169698285,41.4763317093835,39.2001267210943,40.2221965407655,33.8241941475638,44.4201293772587,37.4530648151718,30.6473721596821,39.8898691332831,30.4197541917671,40.3037945022978,44.4201293772587,32.9054026656518,42.9912736794705,39.2167339815507,44.6890391014815,33.3967198880181,32.8101538699204,34.187857101841,44.6890391014815,32.5370661883019,33.0362637101957,39.2001267210943,33.0558930298621,32.5370661883019,41.4763317093835,37.4530648151718,38.5049316931908,39.2001267210943,40.5505113924005,37.0560563331341,40.1888266300112,41.399482612908,33.0558930298621,33.0553631828752,42.7557510730899,34.3477382406338,30.0615245171822,33.0980935658088,40.665808554387,41.2671766916738,34.496094759353,42.4786978417482,39.1563788179728,44.4201293772587,32.5632140754095,33.0362637101957,32.5238464457327,36.9644869968295,30.4185655771982,41.0870005761375,32.6724606369312,30.0416500869353,28.2002677981961,24.075575865354,31.6511277460179,41.0870005761375,38.6478821623557,30.7575470727236,26.1445902195975,30.0416500869353,30.0416500869353,37.8049695354151,25.3485737972639,30.0416500869353,26.1445902195975,26.2715879914019,38.0386242341906,28.8298840761742,36.3042623677626,33.6733059798871,33.3789304340915,26.2705274030367,30.0894778713855,27.4803600059094,24.075575865354,30.7575470727236,32.0399157718646,38.0386242341906,24.5500612478658,33.6733059798871,37.8049695354151,27.4803600059094,33.1663890596221,30.0416500869353,33.3789304340915,38.6478821623557,41.0870005761375,30.7575470727236,33.9545568491017,33.3789304340915,41.0870005761375,36.2349006545969,null,39.0465723762589,38.871752850598,40.0189850954353,31.0801373077743,37.2644217000009,34.3488870173102,31.8788411778939,32.2962989284129,29.1507877246473,34.5831125518187,25.6874835278541,38.407844552404796,35.1748916774913,27.5159408732598,40.4814807092934,31.8872763128549,28.6596794727162,34.5831125518187,33.1295948545345,33.3668477062578,33.5076244239428,34.0379136414572,32.9633552528087,40.0495825660164,40.4814807092934,null,40.4814807092934,27.1258809825886,32.6791485553512,33.3668477062578,36.4139988159752,35.2567065640313,28.9601807871373,34.50960010126,36.4667125628388,34.6189139035801,31.2043235228761,36.4104030193296,36.9067963217852,35.8558174670763,28.815580566078,31.0845927885934,36.0992897167645,33.3698657435916,36.6123349098277,27.5159408732598,36.4139988159752,33.3668477062578,39.7713033886429,34.2896071527421,40.0495825660164,33.3698657435916,40.0495825660164,28.2917895711419,44.8828505008023,43.9811651727859,44.8828505008023,44.5244891853485,46.3461861709095,33.9508333726234,33.1169035682946,39.8455235183193,39.8455235183193,35.2410427340885,42.652060097077,33.4973460695092,32.8867473861102,50.2201535085618,42.6222124441886,32.0276822597261,43.9811651727859,45.3910743809009,43.7178409261909,34.8162995297738,45.2956203130931,50.0086867876515,43.7178409261909,null,32.0276822597261,38.7688762752649,43.9811651727859,38.6135698216313,33.1169035682946,39.9318784372958,40.4459582288264,32.0276822597261,42.5655481988553,42.5655481988553,33.0683213022153,45.5088914944708,42.5655481988553,33.0683213022153,33.9508333726234,44.8828505008023,43.0481942866804,39.8455235183193,37.9456435924164,33.4564631768606,42.652060097077,37.2226642362265,44.1100338572603,46.5205065229565,45.3910743809009,40.1327465378923,34.6892066501652,33.0683213022153,38.1174625797563,44.8828505008023,44.1100338572603,32.5698701856435,33.3831874131044,32.0276822597261,33.4973460695092,33.4973460695092,32.0276822597261,32.4453801765337,42.5655481988553,40.1327465378923,34.8162995297738,34.2439260491091,47.5275071951841,39.8455235183193,32.4766099053264,33.1169035682946,46.6485197940753,35.8644654568679,33.4564631768606,34.5892367416035,43.9811651727859,45.3910743809009,43.9811651727859,33.5915770238776,32.0276822597261,33.4973460695092,39.8455235183193,47.5275071951841,45.5088914944708,47.5275071951841,33.0683213022153,42.6222124441886,33.4973460695092,45.3910743809009,42.7126983116913,47.5275071951841,35.8644654568679,41.5265093845461,33.1169035682946,45.3910743809009,33.9508333726234,45.3910743809009,35.8909695356709,46.7630101947203,36.2908900131859,36.2908900131859,41.9111430834019,51.1280334587068,49.3926891336828,37.4419805894739,49.1138312217953,48.9691695946351,42.7701805072535,40.2801574739311,41.4430051145895,41.4430051145895,43.0500289462527,35.1169292665055,47.8810798685402,37.7852491259121,41.4430051145895,41.9111430834019,37.5826580518374,41.9111430834019,37.0503668083151,48.9691695946351,36.2908900131859,41.6222541182765,35.2367648019314,44.9964527847732,49.3926891336828,40.6308260555507,46.3733378897993,46.4954173706578,40.3426197894117,45.2236022183576,46.4954173706578,42.9509371318884,48.4674546902675,38.7752031229437,47.7340644888474,38.7752031229437,52.2080348037107,38.2266049697298,41.202002771598,44.9298652666012,38.7752031229437,45.9877954504334,32.924028481513,47.7340644888474,44.7886282166772,48.0710715082965,52.2080348037107,42.9509371318884,42.1428972065048,47.4405363942324,38.7752031229437,36.2995629555127,50.0871561732982,40.8267370272647,39.7954253150274,40.6308260555507,36.0733285508307,45.9877954504334,48.0710715082965,38.7752031229437,48.0710715082965,52.1903349677203,32.924028481513,38.7752031229437,38.3562334917854,40.6308260555507,40.8267370272647,42.1428972065048,40.3426197894117,41.1780731794938,39.6291256817301,40.8898055491042,43.8273232103223,38.7752031229437,38.7752031229437,38.3562334917854,50.5242687825627,47.4405363942324,44.9298652666012,40.6308260555507,40.833736257499,42.9509371318884,48.4674546902675,38.0198492874212,32.0671368622423,32.1917402398168,32.2822082470438,34.5393421776113,42.035656544098,32.0671368622423,34.1486432401333,32.1973722598255,32.1070389682195,32.853456586446,34.2058550230428,39.1851534208571,33.5582283510336,38.7308948334379,39.8757580776079,40.5308850901891,34.2058550230428,38.5426851821515,36.1090693775227,32.0671368622423,38.364585968977,35.0793057988343,43.0659441378296,40.6994428283927,32.1973722598255,32.5326457655203,40.6994428283927,null,32.5326457655203,36.8251345805209,38.7308948334379,42.4316584527164,39.4517741050919,32.5326457655203,41.9187967083019,39.1851534208571,37.0738612251,38.0198492874212,42.4316584527164,43.0659441378296,39.3101934527011,32.2822082470438,42.4316584527164,37.8164896969476,43.0659441378296,32.0671368622423,38.9742735548809,38.7308948334379,39.1851534208571,38.9742735548809,32.0671368622423,32.0671368622423,32.1973722598255,32.0833146133531,35.8127931208896,42.035656544098,35.9851190610676,42.6951417139648,34.5276956061117,36.0758331667365,25.4165979285181,34.1618050585558,28.3456225262032,32.7937865957781,35.549392565935,35.549392565935,32.7937865957781,28.3456225262032,35.549392565935,29.4744333891519,28.1757191894308,26.3997036841326,27.4196410594173,27.4196410594173,33.0776482974447,31.2789484827237,25.9272947487744,32.0891235680042,25.9272947487744,26.5467378730097,28.1757191894308,36.0683287051871,31.2789484827237,33.0776482974447,28.5129494019398,38.0466132445594,25.9447112226877,27.4196410594173,28.8037059311564,32.8879458404171,28.5129494019398,33.7331135993563,30.9494247127624,26.9479613729031,26.9737346718223,28.3062490887806,34.9341679487252,31.0417290297521,28.3062490887806,28.7712788915248,28.5129494019398,36.7148100019553,36.7160360141006,26.3997036841326,36.4849926917978,29.9746036635603,27.4196410594173,25.9447112226877,24.5126623614138,33.7047240336789,26.7916909297532,27.4686658459194,26.7916909297532,37.5519370690526,37.8028521035833,32.0554572526561,29.8076065658332,33.3366914652595,30.3764952772836,38.7702211402627,35.8178699762647,34.452266357305,37.8028521035833,39.2451692902646,38.9595244854762,38.17788282333,36.7636443970278,34.2822614806648,38.2005178649022,29.469071577345,38.387743412596,41.6406088842413,39.7201682629842,39.2451692902646,29.469071577345,35.3285108842462,29.8076065658332,37.2768764190294,34.3625320928487,31.3616362694971,30.3764952772836,37.0882453269005,38.387743412596,38.9595244854762,30.3764952772836,27.2733645996255,38.387743412596,37.8028521035833,34.0306267004218,39.0431695761099,30.4469784900063,28.554355859836,41.6406088842413,33.5171843404244,43.1894326121566,41.3986710951579,38.3833920732673,49.9841880608722,43.9625800409747,46.6141290074281,48.2453168983654,51.0155457069843,46.3436304119898,49.1013223399855,48.2453168983654,null,45.8755827156163,39.2577661650076,52.6418431273269,47.2725388444826,37.3158476587776,47.0479608253085,36.2008282261438,42.3067406344142,43.6297553137456,42.0892635192833,46.3436304119898,37.6810278161517,41.6451334375602,39.1880325226592,47.2725388444826,45.5414605141931,35.8718923504128,42.0892635192833,null,47.6618575005156,52.6418431273269,47.2725388444826,null,41.612228549874,41.6451334375602,44.1136287172646,45.5414605141931,40.5478384695989,40.504098361895,34.5618700818978,42.9308303435053,40.573270249721,33.2824537510795,32.6518239686404,33.2824537510795,45.5989194847277,40.504098361895,38.8685063498083,36.8223460413242,39.3988680230238,42.9308303435053,40.504098361895,39.3351623153274,39.3988680230238,36.0232503958726,38.8685063498083,32.8018180656445,40.573270249721,33.6508125711499,33.2824537510795,39.3988680230238,41.4661344064681,40.4966838473188,40.573270249721,33.6508125711499,34.3652699863269,44.9586563183886,42.9308303435053,37.5662675734509,33.6508125711499,33.2824537510795,34.3652699863269,36.1835867975868,41.1409072998775,44.2746042305677,43.842578867396,36.4497484309195,41.790929256129,36.4497484309195,44.2746042305677,44.9743591946944,48.1174072741261,40.3567317656602,38.4395310313141,33.9485584704834,43.949102225721,46.4359859508325,49.8242402790046,45.587885451746,43.949102225721,46.7754872754818,35.1999047757601,45.6878190212241,null,47.6785297586944,34.3725853301134,46.7754872754818,39.4381322392788,33.9485584704834,35.1999047757601,46.4359859508325,46.7754872754818,35.7949622873161,35.3562790728358,45.6878190212241,34.2459195942641,20.0586001999145,22.1099386055223,20.2662353073221,16.5394291521758,22.5787165027803,21.3457695814222,21.7614167281151,17.2597987387206,17.9111405437525,20.2662353073221,43.6011387083426,36.2607379239357,48.8029068400996,48.8029068400996,50.2912275253873,43.2033236918974,43.6011387083426,46.3255433347458,47.6528780549326,36.6653334035566,36.6653334035566,36.4815456187168,37.4681531648222,37.4681531648222,36.1510419118486,44.4913312946016,46.220012901078,45.2848244079678,43.1518172646453,32.3305472438555,37.9515709331287,38.3776540115502,39.8932895746148,38.2392861732203,47.5242960787386,34.3185606389975,36.9934583027725,45.3517559920275,39.120015281256,29.3773925117396,41.0757805566382,46.5986380098961,44.9924024053728,38.1183295266074,39.8932895746148,39.8932895746148,41.4160414244954,null,34.3185606389975,38.1183295266074,32.3305472438555,37.9515709331287,41.4160414244954,29.3773925117396,40.2629342146706,37.9515709331287,36.9934583027725,37.9929829428138,32.3305472438555,34.3185606389975,null,45.745570461644,42.0694763491738,37.9929829428138,37.9105851866002,48.3501423232722,47.5242960787386,43.1518172646453,32.6472602818413,35.4068340885607,37.1384452492436,32.6472602818413,26.3793338967505,32.6472602818413,35.4068340885607,28.5895198234699,40.7357747558001,29.1232518035318,30.0954057719302,31.6920094898562,32.2470105460607,32.2470105460607,38.1850554366569,27.8623306538146,28.4301112140674,38.1850554366569,32.9520357721702,33.2766724805629,35.5259566640631,36.1781592623139,31.0821769835949,35.3857944132837,31.0821769835949,34.8294069782841,38.5609097983043,38.2993734590852,35.1050463023642,32.0283549719157,31.1299156189586,32.0283549719157,35.8289047971819,37.8539065902522,34.8660335655963,35.1050463023642,33.2766724805629,36.1984283027619,37.9658230875889,35.0206501730084,33.2849343780995,35.3857944132837,34.5649722669883,37.9658230875889,38.1850554366569,37.8539065902522,32.9520357721702,34.3962758101582,32.6665125207831,38.1850554366569,34.8660335655963,37.9260133334554,35.5121457409421,33.2766724805629,35.0357508841992,35.5121457409421,31.0821769835949,34.5649722669883,34.2678996247537,31.2859971679651,34.8294069782841,38.1850554366569,31.7269846083318,38.1850554366569,35.4000919043003,37.8539065902522,35.6440076983553,33.2849343780995,35.9256567075176,33.1864782548215,38.1850554366569,36.4868274988368,33.1864782548215,32.2470105460607,34.3273628143687,36.4844052781909,35.0206501730084,32.9520357721702,33.9482302892215,35.5098922106723,32.6665125207831,35.8289047971819,41.3641780408678,44.8203494568808,38.0279017735957,43.449214255137,43.449214255137,43.0944021658784,37.1597869343028,43.449214255137,30.1491591541048,43.449214255137,42.7362502760588,39.3228539558203,36.5402018217547,40.7049994934789,30.1491591541048,43.0944021658784,32.1414425093462,31.0026754367328,38.8187880094988,37.0365815846411,38.3437306367022,39.3228539558203,44.8203494568808,38.3437306367022,38.3437306367022,41.0978735158118,39.3228539558203,40.8093820194009,40.8093820194009,32.2974768029713,39.3228539558203,44.8203494568808,29.9828809381502,28.3027247988328,35.552448518164,43.6190085666462,41.0978735158118,40.8093820194009,31.0026754367328,30.7224263580344,49.5982917188035,54.9673074387122,55.0151555920505,54.7310069527259,48.9044669507839,53.479268072049,48.4777670701599,54.3163595471544,47.2647743787781,51.7590905516654,48.9044669507839,48.1604311678974,48.1604311678974,53.9581028988291,46.3495552859318,54.4364903389294,57.3962369252145,55.0151555920505,48.1604311678974,48.9044669507839,50.5975633734263,53.254988035736,54.7310069527259,53.479268072049,51.9072307519545,53.254988035736,53.9581028988291,51.7590905516654,48.9044669507839,48.9044669507839,53.254988035736,53.8660287875197,53.254988035736,52.3900391550802,53.254988035736,53.254988035736,51.7590905516654,53.254988035736,53.9581028988291,55.0151555920505,53.9581028988291,53.254988035736,47.2647743787781,55.9126532033681,50.671243315826,35.8271923473217,30.6510252934381,31.6611217686045,34.9187714367632,33.4254823486481,31.0973066156294,37.9149069530349,37.7764030775793,34.385488183232,34.6083244013362,33.8464345364125,37.2036633564529,32.429179049553,35.5065599293744,33.8084501790616,35.3206202724525,34.3897698336197,34.3967144779432,36.1070785408161,37.4028059262863,31.5811489902042,36.6720478367492,34.3967144779432,35.07442961827,35.5077456293441,34.4183610433149,31.9550335003335,32.8382061328192,37.9149069530349,34.0016850483881,35.1901382249909,34.9202960856789,30.8398666144945,33.5101323492964,35.9307114788307,34.9202960856789,35.5065599293744,35.9307114788307,31.5453416336647,32.353036778494,37.6650748287881,31.4023099986802,32.8382061328192,33.4254823486481,32.8382061328192,32.8382061328192,30.3521498821221,31.0973066156294,30.9355506093687,33.6393156010557,33.45661472208,31.7016064783516,30.5707693576569,31.6611217686045,35.5077456293441,37.3539842920546,37.6650748287881,30.9355506093687,32.9100721778543,33.6522588059557,32.5167797956037,36.1070785408161,31.231546573051,30.9636655091004,35.2389088508247,33.6260500304096,35.512760996199,37.7764030775793,36.6720478367492,34.4183610433149,31.0973066156294,34.4183610433149,36.5259933918454,30.8218207822733,34.9756270262913,37.2036633564529,34.5696854822958,37.2036633564529,32.429179049553,35.5077456293441,32.8382061328192,30.8311792456419,32.7645665273701,34.3897698336197,37.9149069530349,33.2773570216071,35.3816569352728,27.8972727016874,32.8262777251256,35.9951915635505,35.5065599293744,35.7214022402505,36.1070785408161,35.7214022402505,34.0016850483881,33.8084501790616,37.6650748287881,34.5868730302693,31.5453416336647,33.0638230490493,37.6650748287881,32.9100721778543,35.2109139832392,34.3909004503093,35.9951915635505,30.8924723099828,32.2959709838829,33.45661472208,36.6720478367492,30.8398666144945,35.9307114788307,36.5259933918454,34.5560074865462,31.1733232842439,32.4707318471316,36.7517521447586,30.5707693576569,33.45661472208,34.3206311942623,35.5065599293744,33.8084501790616,32.4180215679554,34.5450144825387,34.3897698336197,31.9222259274397,30.8093922016112,34.3070797780956,37.7764030775793,31.9222259274397,34.8753718017974,32.9495755547637,35.1172696931225,32.1865893287676,34.9187714367632,35.0434511921451,36.6720478367492,37.289162723543,34.385488183232,32.0650023692985,32.5167797956037,30.8924723099828,31.2259463829717,31.7456745852317,31.4667765686732,34.3967144779432,31.2259463829717,30.5707693576569,34.4183610433149,32.8262777251256,36.2152756492709,32.8382061328192,35.1901382249909,31.2259463829717,30.8398666144945,35.5065599293744,34.3897698336197,35.7214022402505,36.6720478367492,34.3897698336197,32.8262777251256,35.1172696931225,32.4707318471316,31.0671049869478,31.2259500088409,34.3206311942623,35.2389088508247,34.3909004503093,27.8972727016874,35.512760996199,27.8972727016874,31.2259500088409,31.2259500088409,37.0933647332198,35.2109139832392,30.5707693576569,31.2259500088409,35.2109139832392,30.8924723099828,30.8311792456419,34.9756270262913,33.4254823486481,33.2773570216071,32.9495755547637,32.4180215679554,30.8924723099828,31.2259500088409,36.5259933918454,30.7619282599314,31.7456745852317,36.1070785408161,34.5967194177424,35.5932703931994,30.3521498821221,36.7517521447586,35.8271923473217,30.8093922016112,31.4667765686732,35.9307114788307,35.2965017282072,31.6711394963259,31.7456745852317,36.8560207010109,33.2536328167166,31.7016064783516,35.5065599293744,35.3890534928369,31.9410626965956,35.9951915635505,30.8093922016112,30.9680566981151,45.8472341974111,44.6420175111328,45.8472341974111,35.9401001669258,35.0176448169245,40.483192374896,40.3286566777133,33.5368951081055,33.1801960814194,33.5368951081055,42.1292062773827,38.807985223866,38.9559834433567,43.8448146598946,39.0397244728054,39.8562922673814,36.1174022907854,39.0397244728054,39.8473312525957,41.6446372274976,40.029656539104,34.1760344722882,35.0176448169245,42.8661253549527,32.0880658929689,39.4217948179932,42.774660266498,43.9493643064675,46.7367082427392,33.7704394179827,41.6475873739898,42.7799996830342,36.9561634074612,null,44.0523591589109,47.0468185452499,51.4857417309865,33.9548090321443,41.9573895029653,34.646049770476,41.7309189049963,44.8785210982254,44.8785210982254,40.8362690359864,38.4099975361934,43.6626564765633,38.5023759161381,43.9400074630415,43.6626564765633,39.4217948179932,43.8618536473774,43.720690571865,45.6397799067444,42.0796112202058,40.9745021177566,42.3850492859699,42.0796112202058,39.2564474059323,46.0936526455466,42.1310000990645,39.076544616655,38.4099975361934,35.6597544908308,30.2713074181142,31.4759374730226,38.2658063589057,13.9301136155034,15.534163477369,14.0967982566014,14.9265153911953,12.4281590817227,15.3468780971259,29.0264883740738,32.2741022630151,25.6870217591958,31.4651301600583,32.2741022630151,34.1373706968023,32.2741022630151,26.3522869089153,34.1824111812524,37.6342476868361,38.9076632096021,38.378186379751,42.3882172834292,38.3761350880511,37.5084584259732,36.300417872791,35.2921770070674,42.4956590110954,42.5847654554183,44.6129917616623,39.4429010314799,37.0220062567363,44.9692730036797,42.5077596542281,46.3581654491981,36.2916346901093,35.6933785343881,33.073915005625,46.4587281086296,43.4612424427503,46.4587281086296,39.4429010314799,44.9692730036797,35.5828202890231,38.308566262599,42.6240150409128,44.9707180414992,38.947076725919,42.6630577589025,44.4523251308522,36.1352345456297,47.879930790596,45.8781880740295,41.1680255622715,33.9226272326293,46.5034157511728,41.1680255622715,42.4498436368445,40.7364674745046,44.7969046386379,46.9916958529713,35.0954442834518,38.149012227504,40.9096884840677,43.7324862730588,35.5678409844426,47.5579202030191,47.8315127278433,47.5579202030191,43.5238798277967,40.0838895314995,38.149012227504,null,46.6012057332267,30.5555936254867,47.5579202030191,32.8033564258855,47.5579202030191,32.8033564258855,43.4524777808202,48.4325367638144,40.8703449682801,30.5555936254867,38.149012227504,40.9096884840677,34.9944843162732,40.7956295438417,35.3675655046442,38.8823452658801,40.7956295438417,33.1888997871399,36.2377424042731,39.1146192902273,33.1888997871399,33.5579741816319,33.5579741816319,35.9469600511889,36.6434943846227,33.6968425975175,38.3124008920643,37.0830266556384,40.5047804995449,39.1146192902273,35.4915522747529,40.6487369554098,37.7414750536827,38.0485177956891,37.2386061030214,37.7414750536827,40.7619242057941,37.7414750536827,41.201345283021,37.7988694961406,41.8540495317246,38.9203204838718,37.7049782079919,32.5941473399365,43.4802061857584,35.7535676838538,37.4158936301793,36.979179016075,36.2723539488237,37.2386061030214,37.2758263108335,40.1911199552565,42.991825595167,40.8582197503017,42.7830873491443,37.2758263108335,38.5726650808815,38.5726650808815,37.5490878572589,39.343994129785,38.5726650808815,42.7830873491443,39.7042932368227,40.1911199552565,34.8284009512575,40.2286582838193,32.5631561128015,28.4481238335779,29.9046436895546,28.2935876354358,35.0553019169496,31.7177043100068,32.0930140866589,32.654711194725,31.5657734347989,35.2645690069053,36.1385343804177,34.5314893871834,33.2835129117861,31.8621132278628,33.814703770937,35.4737204995279,33.3829062184007,31.8621132278628,30.4134146699444,35.0739354256356,null,31.77233441305,33.6438585626998,26.2813355965922,34.9990002451998,33.6438585626998,38.0035316776661,36.565747528245,36.1518763868875,30.3595262178225,29.256471775258,29.7545277734136,29.7756791314296,29.7545277734136,null,46.2625970265775,24.836108730888,46.3662488470418,24.1437274653698,28.5477385576438,40.9308610917559,40.9308610917559,null,37.2125437131474,null,36.5644320497462,36.5644320497462,null],\"xaxis\":\"x\",\"y\":[70000.0,null,70000.0,68200.0,250000.0,60000.0,63000.0,300000.0,5941.0,400000.0,193000.0,200000.0,0.0,0.0,55951.0,null,null,null,64000.0,57000.0,null,50001.0,0.0,null,null,null,106300.0,63000.0,56475.0,null,null,73000.0,215.0,50000.0,38500.0,105000.0,null,null,null,80000.0,63000.0,136000.0,65904.0,null,null,null,null,0.0,null,null,null,48000.0,7000.0,null,null,52000.0,null,0.0,110000.0,7600.0,63000.0,0.0,null,null,120000.0,null,null,51160.0,null,null,66383.0,208000.0,265000.0,113000.0,53000.0,245000.0,null,145314.0,60000.0,2100000.0,425000.0,78213.0,150000.0,164000.0,140000.0,70793.0,134288.0,60000.0,69000.0,75000.0,105000.0,118000.0,201580.0,325325.0,118000.0,131000.0,160000.0,0.0,50000.0,133777.0,125000.0,248209.0,162000.0,160895.0,210517.0,111000.0,247847.0,68000.0,null,50000.0,285000.0,86915.0,122000.0,65562.0,50114.0,null,252089.0,2.0,137000.0,80000.0,null,53000.0,130000.0,182000.0,0.0,50000.0,60175.0,146500.0,101000.0,null,239663.0,230000.0,150000.0,111393.0,250000.0,138802.0,75000.0,358000.0,127534.0,122600.0,140735.0,66000.0,160000.0,156627.0,0.0,114711.0,99188.0,85000.0,159870.0,75000.0,72520.0,100000.0,99000.0,272355.0,315000.0,190000.0,58156.0,82000.0,168000.0,0.0,197166.0,103000.0,129607.0,138000.0,138000.0,56000.0,105000.0,65000.0,30000.0,null,86013.0,52000.0,3314.0,null,null,119000.0,57000.0,454000.0,null,489478.0,126000.0,79741.0,null,null,118000.0,0.0,108000.0,238000.0,null,96000.0,280982.0,98700.0,null,79000.0,0.0,200000.0,85000.0,200000.0,null,null,68530.0,67000.0,2142678.0,null,130252.0,60000.0,0.0,262000.0,null,null,null,192000.0,71823.0,0.0,73000.0,0.0,64801.0,211266.0,62000.0,null,null,83000.0,100000.0,70000.0,214864.0,80000.0,null,null,219681.0,78000.0,2000000.0,500000.0,null,715000.0,null,100000.0,1069730.0,51404.0,175000.0,43000.0,881000.0,85000.0,68000.0,17311.0,488689.0,null,0.0,0.0,238392.0,340350.0,null,null,24506.0,158000.0,234393.0,89000.0,0.0,73000.0,120377.0,null,null,0.0,63000.0,null,171117.0,0.0,57531.0,123000.0,2504366.0,9000.0,61000.0,0.0,36073.0,null,113247.0,null,null,500000.0,null,82000.0,132000.0,81586.0,70000.0,415103.0,300000.0,800000.0,65000.0,62500.0,100000.0,157019.0,null,null,243000.0,114000.0,null,127000.0,null,135000.0,61705.0,0.0,9700.0,124000.0,9700.0,50000.0,9700.0,null,75065.0,7500.0,201000.0,null,61705.0,56000.0,9800.0,82621.0,0.0,114791.0,61413.0,94345.0,186000.0,86615.0,215387.0,70000.0,null,9600.0,52702.0,null,0.0,null,141000.0,63000.0,null,53000.0,9700.0,53700.0,null,58000.0,null,75000.0,65000.0,160000.0,60000.0,75000.0,111644.0,null,null,10000.0,null,0.0,0.0,300000.0,101830.0,629590.0,109000.0,192106.0,181000.0,190000.0,471932.0,400000.0,51500.0,121000.0,420000.0,245000.0,127000.0,169000.0,320000.0,11000.0,330000.0,109000.0,283451.0,300000.0,72000.0,157000.0,80000.0,653000.0,71500.0,200000.0,65400.0,237000.0,135000.0,115000.0,51000.0,239567.0,null,165000.0,325000.0,127000.0,130000.0,169000.0,170519.0,190000.0,500000.0,125000.0,null,68800.0,null,null,null,92090.0,null,250000.0,null,null,null,null,0.0,null,0.0,145000.0,63992.0,null,null,426000.0,null,null,76300.0,110433.0,null,0.0,null,0.0,null,105000.0,null,null,0.0,null,0.0,0.0,null,140000.0,56000.0,null,500000.0,0.0,93300.0,0.0,0.0,null,0.0,160000.0,0.0,null,null,89000.0,8000.0,null,123535.0,null,0.0,null,null,null,0.0,null,null,null,0.0,300000.0,null,null,175000.0,null,null,null,200000.0,null,null,null,null,null,null,0.0,null,0.0,null,172060.0,123827.0,75000.0,null,50000.0,0.0,null,null,700000.0,null,187000.0,null,null,64000.0,null,null,160000.0,null,null,null,null,47000.0,null,null,null,140000.0,null,null,null,40911.0,0.0,null,2713.0,null,null,null,null,null,null,null,69000.0,null,30000.0,90000.0,60000.0,70000.0,60000.0,108000.0,122000.0,180000.0,87600.0,null,0.0,0.0,0.0,null,0.0,null,108000.0,null,null,104195.0,93000.0,0.0,null,null,55118.0,0.0,297700.0,0.0,650000.0,234326.0,null,70000.0,86390.0,0.0,null,1.0,219000.0,1.0,181000.0,110000.0,0.0,133000.0,0.0,null,65000.0,249408.0,0.0,85091.0,138000.0,null,0.0,0.0,153000.0,155183.0,124000.0,760113.0,600000.0,null,64943.0,null,167564.0,50000.0,120000.0,null,null,57000.0,146721.0,198000.0,400000.0,146094.0,111555.0,52000.0,64500.0,143000.0,200717.0,142315.0,0.0,82861.0,105312.0,185000.0,109335.0,93837.0,200000.0,62000.0,213000.0,850000.0,124596.0,118000.0,null,105000.0,177528.0,264000.0,715000.0,null,160875.0,132000.0,65112.0,55000.0,492955.0,62159.0,null,43903.0,120001.0,144000.0,168449.0,null,0.0,106000.0,284000.0,65000.0,95630.0,312359.0,0.0,270000.0,35000.0,355000.0,223000.0,null,null,78000.0,181700.0,null,110.0,375000.0,76000.0,383000.0,190000.0,0.0,18000.0,3500.0,0.0,0.0,null,null,null,null,null,37.0,0.0,5763.0,85179.0,0.0,0.0,null,null,0.0,null,0.0,null,74031.0,60000.0,0.0,0.0,0.0,null,0.0,null,0.0,0.0,null,0.0,0.0,null,null,null,null,0.0,null,0.0,null,null,281000.0,null,127000.0,null,0.0,0.0,null,null,95000.0,45000.0,134500.0,175000.0,107833.0,67000.0,184000.0,246990.0,122314.0,1203000.0,0.0,211000.0,0.0,null,null,57054.0,150000.0,56000.0,0.0,0.0,50636.0,0.0,564728.0,59106.0,0.0,184000.0,245164.0,2000.0,23000.0,0.0,52747.0,48102.0,86000.0,346000.0,null,100000.0,60000.0,72000.0,220000.0,12000.0,null,70135.0,6100.0,200000.0,1200.0,103776.0,69106.0,203345.0,50718.0,130000.0,null,1200.0,null,340000.0,71000.0,61000.0,51600.0,53000.0,12000.0,29376.0,50000.0,112000.0,136000.0,61377.0,0.0,175000.0,0.0,47000.0,null,285465.0,50000.0,57000.0,320000.0,4196.0,370900.0,0.0,156338.0,100000.0,650000.0,null,197000.0,135000.0,0.0,95400.0,73000.0,248800.0,156729.0,0.0,140000.0,263000.0,50900.0,0.0,130000.0,75654.0,0.0,null,50000.0,0.0,0.0,150000.0,205000.0,null,217000.0,180000.0,67900.0,665000.0,221000.0,null,379000.0,360000.0,125000.0,50465.0,677858.0,120124.0,133000.0,150000.0,81000.0,677858.0,9000.0,2500.0,71000.0,null,null,0.0,null,3.0,null,null,249500.0,null,null,0.0,null,null,111000.0,0.0,null,0.0,null,84500.0,null,0.0,null,null,97651.0,220000.0,76729.0,530000.0,210000.0,52000.0,null,40000.0,425000.0,101003.0,null,83000.0,null,62500.0,null,null,0.0,63000.0,53000.0,20000.0,70000.0,55000.0,0.0,0.0,100000.0,56444.0,95000.0,18400.0,0.0,null,null,0.0,0.0,0.0,0.0,0.0,null,0.0,null,0.0,null,0.0,null,0.0,0.0,0.0,null,null,0.0,0.0,null,null,null,0.0,0.0,0.0,null,null,null,0.0,0.0,0.0,65000.0,null,null,null,0.0,0.0,null,140000.0,null,null,0.0,null,215000.0,21000.0,null,null,null,160000.0,632816.0,818000.0,152261.0,null,null,116000.0,145000.0,0.0,59000.0,300000.0,56645.0,null,0.0,18600.0,null,null,190000.0,null,null,61795.0,null,74300.0,173000.0,60000.0,0.0,54316.0,null,null,68000.0,null,3125350.0,0.0,null,null,50000.0,null,137000.0,100000.0,153000.0,null,55000.0,0.0,200000.0,150000.0,null,null,null,50280.0,18600.0,99700.0,65000.0,180000.0,null,null,0.0,61000.0,0.0,120000.0,50000.0,null,250000.0,371000.0,null,null,null,161151.0,18600.0,25000.0,null,null,null,null,59057.0,null,null,1100000.0,null,null,85000.0,null,287000.0,null,1.0,null,57184.0,143000.0,11000.0,11000.0,null,null,246092.0,null,null,150000.0,50000.0,190000.0,null,95000.0,50000.0,null,null,null,21800.0,28000.0,242910.0,null,125000.0,68018.0,null,null,0.0,440000.0,0.0,0.0,584384.0,430000.0,0.0,25000.0,50000.0,105000.0,150000.0,0.0,0.0,1200000.0,179000.0,42124.0,null,0.0,0.0,53965.0,31000.0,2775093.0,0.0,101950.0,37.0,110000.0,78000.0,84900.0,56000.0,47661.0,722000.0,104498.0,832898.0,32593.0,285300.0,268000.0,3241437.0,26000.0,502000.0,0.0,23000.0,26000.0,87000.0,20900.0,16500.0,null,null,null,null,null,0.0,null,null,128050.0,124000.0,900000.0,null,148000.0,37784.0,null,6810.0,79000.0,null,2500.0,null,150000.0,null,15000.0,null,26000.0,0.0,null,null,150000.0,290000.0,10000.0,850068.0,null,70000.0,null,null,null,10008.0,407440.0,477.0,50000.0,130000.0,null,null,727.0,484.0,0.0,1.0,48400.0,58850.0,94000.0,433.0,null,55655.0,null,442000.0,30000.0,89500.0,null,null,null,null,null,null,4300.0,160000.0,100000.0,1271893.0,0.0,80000.0,0.0,80000.0,null,null,505000.0,null,null,409000.0,65255.0,null,null,null,939000.0,6800.0,2606931.0,null,null,null,null,109750.0,null,null,0.0,7077.0,null,null,1700000.0,255000.0,59458.0,95000.0,147223.0,0.0,50000.0,2035.0,241000.0,426.0,108000.0,null,78164.0,null,null,9956.0,182000.0,null,null,null,430984.0,859554.0,null,null,65000.0,70.0,null,165000.0,null,140000.0,1667316.0,null,280000.0,0.0,385000.0,125000.0,0.0,55677.0,1.0,484.0,127.0,133900.0,32000.0,null,null,0.0,4.0,2650.0,null,5314.0,null,null,73514.0,null,0.0,null,420.0,null,200000.0,54332.0,6635.0,70.0,128000.0,2674.0,null,null,940.0,20345.0,null,0.0,null,70848.0,91690.0,null,300000.0,90323.0,263000.0,null,25000.0,104000.0,638.0,1400000.0,158977.0,null,null,null,1500000.0,null,1400000.0,68780.0,9956.0,0.0,7077.0,123000.0,null,1.0,80000.0,null,null,115500.0,null,0.0,1.0,null,60000.0,null,null,null,0.0,671189.0,null,120000.0,400000.0,null,111818.0,null,215700.0,null,null,64951.0,null,null,null,13000.0,null,7935.0,25159.0,0.0,13000.0,null,43000.0,null,8000.0,50797.0,null,57200.0,9200.0,null,null,115000.0,51580.0,0.0,88000.0,null,88110.0,52739.0,67000.0,37000.0,60000.0,119000.0,150084.0,156000.0,56000.0,175000.0,107000.0,55000.0,81000.0,600000.0,880000.0,null,119000.0,145157.0,217000.0,253800.0,114618.0,233000.0,130000.0,75000.0,80000.0,58500.0,67000.0,null,50000.0,126000.0,283000.0,190000.0,null,126000.0,120212.0,15000.0,35500.0,0.0,0.0,null,null,null,0.0,null,500000.0,null,null,0.0,null,null,null,0.0,0.0,null,null,null,0.0,0.0,0.0,47165.0,82000.0,30689.0,150000.0,218783.0,93828.0,52659.0,186035.0,109000.0,80539.0,83450.0,66445.0,102000.0,373835.0,85455.0,169000.0,null,0.0,null,158000.0,50752.0,null,0.0,56400.0,75000.0,null,0.0,67000.0,50100.0,null,50246.0,224912.0,0.0,null,52000.0,54476.0,0.0,1881134.0,112000.0,14500.0,68705.0,null,null,256663.0,50500.0,96966.0,null,35000.0,54000.0,41306.0,null,127000.0,92748.0,0.0,56874.0,55609.0,1500.0,null,54000.0,80000.0,29250.0,50000.0,0.0,0.0,130000.0,50000.0,null,50000.0,50000.0,380000.0,50500.0,null,null,300000.0,0.0,1.0,0.0,0.0,0.0,0.0,127545.0,null,0.0,0.0,131000.0,63000.0,169757.0,50462.0,60863.0,null,52500.0,0.0,0.0,110000.0,50000.0,117142.0,50000.0,0.0,0.0,0.0,null,0.0,0.0,0.0,null,102568.0,0.0,null,0.0,0.0,0.0,1100.0,0.0,null,null,110000.0,0.0,35230.0,0.0,0.0,204000.0,86058.0,null,null,0.0,null,31000.0,null,30379.0,0.0,65000.0,0.0,270000.0,null,0.0,70000.0,95000.0,0.0,null,110000.0,211000.0,294000.0,62000.0,59886.0,29300.0,291000.0,null,0.0,35000.0,0.0,0.0,null,0.0,0.0,null,34500.0,null,null,null,14273.0],\"yaxis\":\"y\",\"type\":\"scattergl\"}],                        {\"template\":{\"data\":{\"barpolar\":[{\"marker\":{\"line\":{\"color\":\"white\",\"width\":0.5},\"pattern\":{\"fillmode\":\"overlay\",\"size\":10,\"solidity\":0.2}},\"type\":\"barpolar\"}],\"bar\":[{\"error_x\":{\"color\":\"rgb(36,36,36)\"},\"error_y\":{\"color\":\"rgb(36,36,36)\"},\"marker\":{\"line\":{\"color\":\"white\",\"width\":0.5},\"pattern\":{\"fillmode\":\"overlay\",\"size\":10,\"solidity\":0.2}},\"type\":\"bar\"}],\"carpet\":[{\"aaxis\":{\"endlinecolor\":\"rgb(36,36,36)\",\"gridcolor\":\"white\",\"linecolor\":\"white\",\"minorgridcolor\":\"white\",\"startlinecolor\":\"rgb(36,36,36)\"},\"baxis\":{\"endlinecolor\":\"rgb(36,36,36)\",\"gridcolor\":\"white\",\"linecolor\":\"white\",\"minorgridcolor\":\"white\",\"startlinecolor\":\"rgb(36,36,36)\"},\"type\":\"carpet\"}],\"choropleth\":[{\"colorbar\":{\"outlinewidth\":1,\"tickcolor\":\"rgb(36,36,36)\",\"ticks\":\"outside\"},\"type\":\"choropleth\"}],\"contourcarpet\":[{\"colorbar\":{\"outlinewidth\":1,\"tickcolor\":\"rgb(36,36,36)\",\"ticks\":\"outside\"},\"type\":\"contourcarpet\"}],\"contour\":[{\"colorbar\":{\"outlinewidth\":1,\"tickcolor\":\"rgb(36,36,36)\",\"ticks\":\"outside\"},\"colorscale\":[[0.0,\"#440154\"],[0.1111111111111111,\"#482878\"],[0.2222222222222222,\"#3e4989\"],[0.3333333333333333,\"#31688e\"],[0.4444444444444444,\"#26828e\"],[0.5555555555555556,\"#1f9e89\"],[0.6666666666666666,\"#35b779\"],[0.7777777777777778,\"#6ece58\"],[0.8888888888888888,\"#b5de2b\"],[1.0,\"#fde725\"]],\"type\":\"contour\"}],\"heatmapgl\":[{\"colorbar\":{\"outlinewidth\":1,\"tickcolor\":\"rgb(36,36,36)\",\"ticks\":\"outside\"},\"colorscale\":[[0.0,\"#440154\"],[0.1111111111111111,\"#482878\"],[0.2222222222222222,\"#3e4989\"],[0.3333333333333333,\"#31688e\"],[0.4444444444444444,\"#26828e\"],[0.5555555555555556,\"#1f9e89\"],[0.6666666666666666,\"#35b779\"],[0.7777777777777778,\"#6ece58\"],[0.8888888888888888,\"#b5de2b\"],[1.0,\"#fde725\"]],\"type\":\"heatmapgl\"}],\"heatmap\":[{\"colorbar\":{\"outlinewidth\":1,\"tickcolor\":\"rgb(36,36,36)\",\"ticks\":\"outside\"},\"colorscale\":[[0.0,\"#440154\"],[0.1111111111111111,\"#482878\"],[0.2222222222222222,\"#3e4989\"],[0.3333333333333333,\"#31688e\"],[0.4444444444444444,\"#26828e\"],[0.5555555555555556,\"#1f9e89\"],[0.6666666666666666,\"#35b779\"],[0.7777777777777778,\"#6ece58\"],[0.8888888888888888,\"#b5de2b\"],[1.0,\"#fde725\"]],\"type\":\"heatmap\"}],\"histogram2dcontour\":[{\"colorbar\":{\"outlinewidth\":1,\"tickcolor\":\"rgb(36,36,36)\",\"ticks\":\"outside\"},\"colorscale\":[[0.0,\"#440154\"],[0.1111111111111111,\"#482878\"],[0.2222222222222222,\"#3e4989\"],[0.3333333333333333,\"#31688e\"],[0.4444444444444444,\"#26828e\"],[0.5555555555555556,\"#1f9e89\"],[0.6666666666666666,\"#35b779\"],[0.7777777777777778,\"#6ece58\"],[0.8888888888888888,\"#b5de2b\"],[1.0,\"#fde725\"]],\"type\":\"histogram2dcontour\"}],\"histogram2d\":[{\"colorbar\":{\"outlinewidth\":1,\"tickcolor\":\"rgb(36,36,36)\",\"ticks\":\"outside\"},\"colorscale\":[[0.0,\"#440154\"],[0.1111111111111111,\"#482878\"],[0.2222222222222222,\"#3e4989\"],[0.3333333333333333,\"#31688e\"],[0.4444444444444444,\"#26828e\"],[0.5555555555555556,\"#1f9e89\"],[0.6666666666666666,\"#35b779\"],[0.7777777777777778,\"#6ece58\"],[0.8888888888888888,\"#b5de2b\"],[1.0,\"#fde725\"]],\"type\":\"histogram2d\"}],\"histogram\":[{\"marker\":{\"line\":{\"color\":\"white\",\"width\":0.6}},\"type\":\"histogram\"}],\"mesh3d\":[{\"colorbar\":{\"outlinewidth\":1,\"tickcolor\":\"rgb(36,36,36)\",\"ticks\":\"outside\"},\"type\":\"mesh3d\"}],\"parcoords\":[{\"line\":{\"colorbar\":{\"outlinewidth\":1,\"tickcolor\":\"rgb(36,36,36)\",\"ticks\":\"outside\"}},\"type\":\"parcoords\"}],\"pie\":[{\"automargin\":true,\"type\":\"pie\"}],\"scatter3d\":[{\"line\":{\"colorbar\":{\"outlinewidth\":1,\"tickcolor\":\"rgb(36,36,36)\",\"ticks\":\"outside\"}},\"marker\":{\"colorbar\":{\"outlinewidth\":1,\"tickcolor\":\"rgb(36,36,36)\",\"ticks\":\"outside\"}},\"type\":\"scatter3d\"}],\"scattercarpet\":[{\"marker\":{\"colorbar\":{\"outlinewidth\":1,\"tickcolor\":\"rgb(36,36,36)\",\"ticks\":\"outside\"}},\"type\":\"scattercarpet\"}],\"scattergeo\":[{\"marker\":{\"colorbar\":{\"outlinewidth\":1,\"tickcolor\":\"rgb(36,36,36)\",\"ticks\":\"outside\"}},\"type\":\"scattergeo\"}],\"scattergl\":[{\"marker\":{\"colorbar\":{\"outlinewidth\":1,\"tickcolor\":\"rgb(36,36,36)\",\"ticks\":\"outside\"}},\"type\":\"scattergl\"}],\"scattermapbox\":[{\"marker\":{\"colorbar\":{\"outlinewidth\":1,\"tickcolor\":\"rgb(36,36,36)\",\"ticks\":\"outside\"}},\"type\":\"scattermapbox\"}],\"scatterpolargl\":[{\"marker\":{\"colorbar\":{\"outlinewidth\":1,\"tickcolor\":\"rgb(36,36,36)\",\"ticks\":\"outside\"}},\"type\":\"scatterpolargl\"}],\"scatterpolar\":[{\"marker\":{\"colorbar\":{\"outlinewidth\":1,\"tickcolor\":\"rgb(36,36,36)\",\"ticks\":\"outside\"}},\"type\":\"scatterpolar\"}],\"scatter\":[{\"fillpattern\":{\"fillmode\":\"overlay\",\"size\":10,\"solidity\":0.2},\"type\":\"scatter\"}],\"scatterternary\":[{\"marker\":{\"colorbar\":{\"outlinewidth\":1,\"tickcolor\":\"rgb(36,36,36)\",\"ticks\":\"outside\"}},\"type\":\"scatterternary\"}],\"surface\":[{\"colorbar\":{\"outlinewidth\":1,\"tickcolor\":\"rgb(36,36,36)\",\"ticks\":\"outside\"},\"colorscale\":[[0.0,\"#440154\"],[0.1111111111111111,\"#482878\"],[0.2222222222222222,\"#3e4989\"],[0.3333333333333333,\"#31688e\"],[0.4444444444444444,\"#26828e\"],[0.5555555555555556,\"#1f9e89\"],[0.6666666666666666,\"#35b779\"],[0.7777777777777778,\"#6ece58\"],[0.8888888888888888,\"#b5de2b\"],[1.0,\"#fde725\"]],\"type\":\"surface\"}],\"table\":[{\"cells\":{\"fill\":{\"color\":\"rgb(237,237,237)\"},\"line\":{\"color\":\"white\"}},\"header\":{\"fill\":{\"color\":\"rgb(217,217,217)\"},\"line\":{\"color\":\"white\"}},\"type\":\"table\"}]},\"layout\":{\"annotationdefaults\":{\"arrowhead\":0,\"arrowwidth\":1},\"autotypenumbers\":\"strict\",\"coloraxis\":{\"colorbar\":{\"outlinewidth\":1,\"tickcolor\":\"rgb(36,36,36)\",\"ticks\":\"outside\"}},\"colorscale\":{\"diverging\":[[0.0,\"rgb(103,0,31)\"],[0.1,\"rgb(178,24,43)\"],[0.2,\"rgb(214,96,77)\"],[0.3,\"rgb(244,165,130)\"],[0.4,\"rgb(253,219,199)\"],[0.5,\"rgb(247,247,247)\"],[0.6,\"rgb(209,229,240)\"],[0.7,\"rgb(146,197,222)\"],[0.8,\"rgb(67,147,195)\"],[0.9,\"rgb(33,102,172)\"],[1.0,\"rgb(5,48,97)\"]],\"sequential\":[[0.0,\"#440154\"],[0.1111111111111111,\"#482878\"],[0.2222222222222222,\"#3e4989\"],[0.3333333333333333,\"#31688e\"],[0.4444444444444444,\"#26828e\"],[0.5555555555555556,\"#1f9e89\"],[0.6666666666666666,\"#35b779\"],[0.7777777777777778,\"#6ece58\"],[0.8888888888888888,\"#b5de2b\"],[1.0,\"#fde725\"]],\"sequentialminus\":[[0.0,\"#440154\"],[0.1111111111111111,\"#482878\"],[0.2222222222222222,\"#3e4989\"],[0.3333333333333333,\"#31688e\"],[0.4444444444444444,\"#26828e\"],[0.5555555555555556,\"#1f9e89\"],[0.6666666666666666,\"#35b779\"],[0.7777777777777778,\"#6ece58\"],[0.8888888888888888,\"#b5de2b\"],[1.0,\"#fde725\"]]},\"colorway\":[\"#1F77B4\",\"#FF7F0E\",\"#2CA02C\",\"#D62728\",\"#9467BD\",\"#8C564B\",\"#E377C2\",\"#7F7F7F\",\"#BCBD22\",\"#17BECF\"],\"font\":{\"color\":\"rgb(36,36,36)\"},\"geo\":{\"bgcolor\":\"white\",\"lakecolor\":\"white\",\"landcolor\":\"white\",\"showlakes\":true,\"showland\":true,\"subunitcolor\":\"white\"},\"hoverlabel\":{\"align\":\"left\"},\"hovermode\":\"closest\",\"mapbox\":{\"style\":\"light\"},\"paper_bgcolor\":\"white\",\"plot_bgcolor\":\"white\",\"polar\":{\"angularaxis\":{\"gridcolor\":\"rgb(232,232,232)\",\"linecolor\":\"rgb(36,36,36)\",\"showgrid\":false,\"showline\":true,\"ticks\":\"outside\"},\"bgcolor\":\"white\",\"radialaxis\":{\"gridcolor\":\"rgb(232,232,232)\",\"linecolor\":\"rgb(36,36,36)\",\"showgrid\":false,\"showline\":true,\"ticks\":\"outside\"}},\"scene\":{\"xaxis\":{\"backgroundcolor\":\"white\",\"gridcolor\":\"rgb(232,232,232)\",\"gridwidth\":2,\"linecolor\":\"rgb(36,36,36)\",\"showbackground\":true,\"showgrid\":false,\"showline\":true,\"ticks\":\"outside\",\"zeroline\":false,\"zerolinecolor\":\"rgb(36,36,36)\"},\"yaxis\":{\"backgroundcolor\":\"white\",\"gridcolor\":\"rgb(232,232,232)\",\"gridwidth\":2,\"linecolor\":\"rgb(36,36,36)\",\"showbackground\":true,\"showgrid\":false,\"showline\":true,\"ticks\":\"outside\",\"zeroline\":false,\"zerolinecolor\":\"rgb(36,36,36)\"},\"zaxis\":{\"backgroundcolor\":\"white\",\"gridcolor\":\"rgb(232,232,232)\",\"gridwidth\":2,\"linecolor\":\"rgb(36,36,36)\",\"showbackground\":true,\"showgrid\":false,\"showline\":true,\"ticks\":\"outside\",\"zeroline\":false,\"zerolinecolor\":\"rgb(36,36,36)\"}},\"shapedefaults\":{\"fillcolor\":\"black\",\"line\":{\"width\":0},\"opacity\":0.3},\"ternary\":{\"aaxis\":{\"gridcolor\":\"rgb(232,232,232)\",\"linecolor\":\"rgb(36,36,36)\",\"showgrid\":false,\"showline\":true,\"ticks\":\"outside\"},\"baxis\":{\"gridcolor\":\"rgb(232,232,232)\",\"linecolor\":\"rgb(36,36,36)\",\"showgrid\":false,\"showline\":true,\"ticks\":\"outside\"},\"bgcolor\":\"white\",\"caxis\":{\"gridcolor\":\"rgb(232,232,232)\",\"linecolor\":\"rgb(36,36,36)\",\"showgrid\":false,\"showline\":true,\"ticks\":\"outside\"}},\"title\":{\"x\":0.5,\"xanchor\":\"center\"},\"xaxis\":{\"automargin\":true,\"gridcolor\":\"rgb(232,232,232)\",\"linecolor\":\"rgb(36,36,36)\",\"showgrid\":true,\"showline\":true,\"ticks\":\"outside\",\"title\":{\"standoff\":15},\"zeroline\":false,\"zerolinecolor\":\"rgb(36,36,36)\"},\"yaxis\":{\"automargin\":true,\"gridcolor\":\"rgb(232,232,232)\",\"linecolor\":\"rgb(36,36,36)\",\"showgrid\":true,\"showline\":true,\"ticks\":\"outside\",\"title\":{\"standoff\":15},\"zeroline\":false,\"zerolinecolor\":\"rgb(36,36,36)\"},\"autosize\":true,\"height\":400,\"margin\":{\"b\":30,\"l\":30,\"r\":30,\"t\":30},\"width\":600}},\"xaxis\":{\"anchor\":\"y\",\"domain\":[0.0,1.0],\"title\":{\"text\":\"RES.PERCEN\"}},\"yaxis\":{\"anchor\":\"x\",\"domain\":[0.0,1.0],\"title\":{\"text\":\"CUSTOMERS.AFFECTED\"}},\"legend\":{\"tracegroupgap\":0}},                        {\"responsive\": true}                    ).then(function(){\n",
       "                            \n",
       "var gd = document.getElementById('4219e387-d8c3-4e67-95bf-0debd3b86cc7');\n",
       "var x = new MutationObserver(function (mutations, observer) {{\n",
       "        var display = window.getComputedStyle(gd).display;\n",
       "        if (!display || display === 'none') {{\n",
       "            console.log([gd, 'removed!']);\n",
       "            Plotly.purge(gd);\n",
       "            observer.disconnect();\n",
       "        }}\n",
       "}});\n",
       "\n",
       "// Listen for the removal of the full notebook cells\n",
       "var notebookContainer = gd.closest('#notebook-container');\n",
       "if (notebookContainer) {{\n",
       "    x.observe(notebookContainer, {childList: true});\n",
       "}}\n",
       "\n",
       "// Listen for the clearing of the current output cell\n",
       "var outputEl = gd.closest('.output');\n",
       "if (outputEl) {{\n",
       "    x.observe(outputEl, {childList: true});\n",
       "}}\n",
       "\n",
       "                        })                };                });            </script>        </div>"
      ]
     },
     "metadata": {},
     "output_type": "display_data"
    }
   ],
   "source": [
    "data_time.plot.scatter(x=\"RES.PERCEN\", y=\"CUSTOMERS.AFFECTED\")"
   ]
  },
  {
   "cell_type": "code",
   "execution_count": 130,
   "metadata": {},
   "outputs": [
    {
     "data": {
      "text/html": [
       "<div>                            <div id=\"d8c589ca-7320-4254-90a7-594bab3ce752\" class=\"plotly-graph-div\" style=\"height:400px; width:600px;\"></div>            <script type=\"text/javascript\">                require([\"plotly\"], function(Plotly) {                    window.PLOTLYENV=window.PLOTLYENV || {};                                    if (document.getElementById(\"d8c589ca-7320-4254-90a7-594bab3ce752\")) {                    Plotly.newPlot(                        \"d8c589ca-7320-4254-90a7-594bab3ce752\",                        [{\"hovertemplate\":\"ANOMALY.LEVEL=%{x}\\u003cbr\\u003eCUSTOMERS.AFFECTED=%{y}\\u003cextra\\u003e\\u003c\\u002fextra\\u003e\",\"legendgroup\":\"\",\"marker\":{\"color\":\"#1F77B4\",\"symbol\":\"circle\"},\"mode\":\"markers\",\"name\":\"\",\"showlegend\":false,\"x\":[-0.3,-0.1,-1.5,-0.1,1.2,-1.4,-0.9,0.2,0.6,-0.2,-0.2,0.0,-0.3,-0.4,0.0,1.0,0.3,1.0,-0.5,-1.3,0.6,0.1,1.2,-0.2,-0.5,0.5,-0.3,-0.5,0.0,-0.1,0.0,-0.5,0.8,0.5,0.0,-0.5,-0.3,-0.5,0.6,-0.4,-0.5,0.4,-0.4,-0.5,-0.5,0.0,-0.5,1.1,-0.7,0.0,-0.5,-0.5,-0.3,-0.5,-0.2,0.1,-0.5,2.2,0.0,-1.2,-1.5,0.0,-0.5,-0.4,0.0,-0.3,-0.5,-0.3,-0.5,0.6,0.0,0.3,-0.1,-0.4,0.0,0.3,-0.3,2.0,-0.4,0.2,0.0,-0.4,-0.4,-0.2,-0.4,-0.1,-1.3,2.2,-0.4,0.9,0.2,0.4,0.2,-0.3,-0.5,0.1,-1.0,-1.3,-0.3,0.3,-0.1,0.2,1.4,-0.3,-0.7,0.1,-0.7,1.0,0.2,-0.3,-1.5,-1.4,0.7,1.3,1.7,-0.5,-0.6,-0.2,0.5,-1.2,-0.4,-0.5,-0.4,-0.3,-0.4,-0.2,-1.4,-0.4,0.2,-0.9,-0.4,-0.7,-0.5,-0.4,0.2,0.0,-0.2,-0.5,-0.9,0.2,-0.3,-0.2,0.3,-0.3,-0.9,0.2,-0.2,-0.3,0.7,-0.6,1.4,-0.4,0.4,-0.5,0.1,0.1,0.5,-0.9,2.3,-0.4,-0.3,-0.3,0.7,-1.4,-0.2,-0.4,-0.8,-0.6,1.2,-1.0,-1.0,-0.3,0.3,-0.5,-0.5,0.6,0.7,0.8,0.0,-0.2,-0.4,-0.4,-0.9,1.4,-0.9,-0.3,0.1,-0.7,1.0,-0.4,0.7,-0.3,-0.2,-0.6,-0.6,-0.2,0.6,0.0,-0.7,0.6,0.0,0.1,-0.3,-0.5,2.0,-1.0,0.6,-0.2,-0.5,2.0,-0.9,-0.2,-0.3,-0.7,0.5,1.1,-0.6,-0.4,-0.3,-0.3,0.1,0.9,0.2,0.1,1.1,0.5,-0.7,0.7,-0.3,-0.3,-0.7,1.2,0.0,0.0,0.4,-1.1,-1.0,-0.2,-0.1,null,-0.3,0.1,-0.2,1.2,-0.9,0.5,-0.5,-0.3,-0.3,-1.4,-0.4,0.5,-0.1,-0.1,-0.5,0.7,-1.3,0.5,-0.4,0.5,-0.5,-0.6,0.2,-0.4,-0.3,-0.6,0.8,0.3,-0.3,-0.2,0.8,-0.3,-0.1,-0.3,-0.3,-0.5,0.0,0.3,1.2,-0.2,-0.4,-1.2,2.3,1.1,-0.2,0.4,-0.8,0.2,1.4,-0.7,0.5,-0.7,0.3,-0.4,-0.9,0.0,-0.7,0.5,-0.3,2.2,-0.7,-0.5,-0.7,-0.7,-0.5,-0.1,-0.3,-0.3,-0.3,-0.9,-0.3,-0.1,0.3,0.1,-1.0,0.7,0.3,-0.4,-0.2,-0.2,-0.4,-0.7,-0.5,-0.9,0.1,-0.4,0.3,-0.3,-0.4,-0.3,-0.3,-0.4,-0.7,-0.7,-0.5,-0.4,-0.4,-0.7,0.0,null,-0.8,-0.5,1.2,-0.2,0.0,-0.4,-0.1,0.8,-0.4,-0.4,-0.7,-0.6,-0.1,-1.5,0.1,-0.3,0.7,-0.4,0.2,-0.3,0.0,0.4,0.6,-0.3,0.1,null,0.1,-0.7,-0.2,-0.3,0.1,-0.3,-0.5,-0.3,-0.6,0.5,-0.4,-1.3,-0.4,1.4,0.3,-0.5,-0.5,-0.5,0.3,-1.5,0.1,-0.3,0.1,-1.0,-0.3,-0.5,-0.3,0.2,-0.5,-0.9,-0.5,-1.4,-0.5,1.4,-0.6,-0.4,-0.4,0.8,-0.2,-0.3,0.3,0.3,0.9,-0.8,-0.9,-0.7,-0.4,1.2,2.3,0.7,-0.4,-0.3,-0.8,-1.0,-0.9,-0.3,-0.6,0.6,-0.5,-0.8,1.6,1.6,-0.3,-0.6,1.6,-0.3,1.4,-0.5,-0.1,-0.4,1.1,-0.3,-0.2,-1.1,-1.0,-0.4,-0.7,2.2,-0.3,-0.3,-1.4,-0.5,-1.0,-0.3,0.3,-0.8,-0.3,-0.3,-0.8,-0.9,1.6,2.2,1.2,0.1,0.9,-0.4,0.0,-0.6,0.3,-0.3,-0.3,0.6,-0.9,-0.7,-0.9,1.0,-0.8,-0.3,-0.4,0.9,-0.6,0.9,-0.3,0.9,-0.3,-0.7,-0.4,0.9,-0.3,0.1,-0.6,-0.7,1.4,-0.7,-0.2,-0.3,0.5,0.5,-0.3,-0.3,0.1,-0.3,-0.3,0.5,1.3,-0.1,-0.5,-0.5,-0.7,0.2,0.0,2.0,-0.5,-0.3,-0.5,-0.3,-0.7,0.5,0.5,-1.0,-0.4,0.3,0.1,-0.1,0.3,-0.6,-0.5,0.7,-0.6,0.0,-0.4,0.3,-1.0,0.3,-0.5,-0.9,-0.4,-0.6,0.3,-0.3,0.3,-1.0,0.1,-0.4,-0.5,0.0,0.3,-0.9,0.3,0.2,-1.3,-0.2,0.0,-0.1,-0.4,-0.3,-0.4,0.3,-0.4,-0.5,0.3,0.3,0.2,-0.1,-0.2,0.3,-0.5,1.1,0.4,-0.1,-0.7,0.3,0.3,0.2,0.4,-0.9,-0.6,-0.1,0.7,0.0,-0.4,0.1,-0.9,0.5,-0.4,-0.2,1.2,-0.9,-0.5,0.3,0.5,0.0,-1.4,0.1,0.2,-0.6,-0.7,2.2,-1.4,0.7,0.1,-0.9,0.0,1.0,-0.5,-1.0,0.3,-0.3,-1.0,-0.3,-0.3,0.9,-0.6,-0.5,-0.3,-0.3,-0.6,0.1,-0.6,0.1,-0.5,-0.5,-0.9,-0.4,-0.5,-1.1,-0.5,-0.9,1.1,-0.6,0.1,1.1,-0.9,-0.9,0.3,2.0,-0.4,1.2,-0.3,-0.5,-0.6,-0.6,0.2,1.0,-0.3,-1.3,-0.7,-0.7,-1.3,-0.3,-0.7,-0.9,2.0,-0.1,-0.3,-0.3,-0.3,-0.5,0.7,2.2,0.7,0.6,2.0,-0.3,-0.5,-0.3,-0.5,-0.4,-0.4,-0.3,-1.3,-0.9,-0.5,0.1,-1.0,0.5,1.1,-0.4,-0.6,-0.8,-0.4,-0.7,-0.5,-0.9,0.5,-0.1,-0.3,2.0,-0.3,-0.4,0.8,-0.3,0.2,-0.7,0.2,0.3,-0.6,2.2,-0.3,-0.7,-0.3,-1.4,0.1,-0.1,-0.6,0.1,-0.6,0.7,-0.3,0.2,-0.9,0.5,-0.3,-0.5,0.9,0.1,0.5,-0.4,-0.3,-0.4,-0.4,-0.8,-0.3,0.9,-0.3,-0.6,-0.3,-0.9,-0.3,-0.6,-0.3,1.3,-0.5,0.3,-0.5,-0.7,0.0,0.0,-0.5,-0.4,-0.5,-0.3,0.1,-0.5,-0.2,0.5,0.1,-0.3,-1.3,-0.5,-0.5,-0.6,-0.1,0.7,-0.4,0.5,0.5,-0.2,-0.2,0.5,0.2,0.7,-0.6,-0.4,-0.3,-0.2,-0.3,1.3,-0.5,-0.6,null,-0.3,0.2,-0.4,-0.4,0.1,1.0,0.5,-0.6,-0.5,-0.9,-0.7,-0.9,0.1,1.0,-0.5,-0.7,-0.8,-0.6,1.0,2.2,-0.8,-0.6,-0.5,-1.0,-0.5,0.3,-0.9,-0.8,-0.4,-0.1,-0.5,0.3,0.9,-0.3,-0.6,1.2,0.3,-0.9,0.9,0.6,-0.3,-0.5,-0.5,-1.6,0.3,-1.6,-0.5,-0.7,-0.9,0.6,-0.2,-0.3,2.0,0.6,-0.7,-0.5,2.0,0.9,-0.6,-0.5,-0.3,-0.5,-0.2,0.9,-0.4,-0.3,-0.6,0.6,0.9,-0.2,2.0,-0.5,1.7,1.2,-0.6,-1.2,0.2,-1.3,-0.4,-0.5,-0.2,-0.1,-1.2,2.3,0.2,-0.7,-0.7,-0.5,-0.3,2.3,-0.6,-0.7,-0.4,-0.4,-0.5,0.6,0.6,-0.2,-0.4,-0.2,-0.9,-0.7,-0.2,0.1,-0.5,-0.8,-0.1,-1.3,-0.4,-0.2,-1.0,-0.2,0.3,-0.3,2.0,0.1,-0.4,-0.8,-0.8,-0.3,null,-0.4,-0.4,-0.2,0.1,-0.3,0.3,0.1,0.1,-0.2,-0.2,-0.2,-0.4,-0.3,2.2,1.0,-0.2,-0.3,-0.5,-1.3,-0.7,-0.4,0.4,-0.4,-0.4,-0.4,-0.4,0.4,-0.5,-0.4,-0.2,-0.4,0.0,0.3,0.3,-0.6,-0.7,-0.1,-0.6,-0.9,-0.4,-0.3,-0.4,0.6,-0.4,0.6,0.3,0.1,-1.2,-0.7,-0.2,2.2,-0.2,-0.5,-0.3,0.9,-0.7,-0.4,-1.4,-1.3,-0.7,-0.5,-0.4,0.2,-1.3,-0.6,-0.3,-0.9,2.0,-0.3,-0.6,0.9,-0.3,1.2,-0.4,-0.6,1.2,0.6,0.2,-0.4,0.3,0.3,-0.6,0.2,-0.6,1.2,-0.3,1.7,-0.5,-0.8,0.7,-0.6,-1.4,0.7,0.3,-0.1,-0.3,-0.7,-0.9,0.3,0.1,-0.3,-0.5,-0.3,0.5,0.3,-1.2,-1.2,-0.1,0.7,-1.2,0.6,-1.2,0.0,-0.4,-0.7,0.5,0.6,-0.1,-0.1,-0.5,0.4,-0.4,-0.3,-0.4,0.5,-0.3,-0.3,0.0,-0.4,0.3,0.3,-0.7,-0.4,0.5,-0.2,-0.2,1.1,1.3,0.0,0.3,-0.5,0.5,-0.3,0.3,-0.1,0.0,-1.3,-0.3,1.1,0.8,-0.7,-0.2,-1.3,0.2,0.2,0.6,0.1,0.5,1.3,-0.1,0.2,-1.3,-0.7,0.7,0.0,-0.3,-0.2,0.7,0.6,-0.2,-1.3,-1.3,0.7,-0.3,0.7,-0.5,0.7,0.7,-0.2,0.7,0.6,-0.1,0.6,0.7,-0.7,-1.3,0.3,-0.9,-0.7,0.0,2.0,-0.5,-0.2,-1.4,0.1,0.0,-0.3,0.0,-0.1,-0.2,-0.4,0.5,-0.4,-0.7,-1.4,-0.3,1.7,-1.0,1.2,-1.4,-0.3,-0.6,-1.0,1.1,1.0,-1.4,0.9,-0.3,0.9,-0.2,0.2,-1.3,0.9,-0.4,-1.3,0.7,-0.5,1.3,0.7,1.0,-0.5,1.0,1.0,0.7,-0.2,-0.3,-0.3,0.9,-0.3,-0.4,0.0,-0.6,0.7,1.3,-0.3,-0.4,0.8,0.6,-0.3,1.1,-0.2,2.0,-0.6,-0.9,0.1,1.2,-1.0,-0.2,-1.0,2.3,0.0,0.3,-0.1,-0.4,-0.1,-0.2,-0.6,1.0,-0.1,1.2,-0.7,-1.4,-0.7,1.2,-0.2,-1.5,0.3,-0.4,-1.4,-0.3,-1.4,0.9,0.5,1.3,0.0,0.7,0.7,1.3,-0.4,-0.7,0.3,0.3,-0.1,0.3,0.9,1.2,-0.2,-1.3,2.3,0.6,-0.5,-0.1,1.3,-0.4,0.9,-0.9,-0.4,0.5,0.4,-1.2,-0.7,-0.1,-0.6,-0.7,0.1,-0.1,0.1,1.1,-0.2,1.6,2.0,0.1,1.2,0.3,0.0,-0.7,0.6,-0.1,-0.3,-1.4,-0.4,-1.4,-0.3,-0.4,-1.0,-1.5,0.5,1.0,-0.3,-0.3,-0.2,-0.4,-0.7,-1.4,1.2,-0.7,-1.5,-0.2,-0.1,0.2,-1.1,-0.9,2.0,0.3,-0.2,-0.9,-0.2,-1.1,-1.1,0.3,-0.7,-0.4,-1.1,-0.7,-0.1,-0.1,0.3,-0.5,-0.7,1.1,0.4,-0.1,-1.1,2.3,0.8,-1.4,-0.3,-0.4,0.5,0.7,1.3,-0.9,-0.6,-0.4,-1.3,-0.5,0.5,-1.4,0.3,0.5,-0.3,-0.4,0.4,-0.3,0.3,-0.6,-0.2,-0.7,-1.0,-0.7,-0.4,-0.3,0.3,-0.3,-0.5,-0.2,-0.5,1.2,-0.1,-0.4,-0.6,-0.3,-0.5,1.1,-0.3,0.1,-0.1,-0.2,-0.2,-0.3,0.1,2.2,-0.5,-0.3,-0.6,-0.3,-0.2,0.5,1.2,0.3,null,-0.9,-0.4,-1.3,0.3,-0.3,-0.4,-0.4,-0.9,-0.9,-0.1,-0.1,-0.4,0.3,-1.2,-0.4,-0.5,-1.3,-0.3,1.1,0.1,0.1,-0.6,0.1,-1.4,-1.0,-0.6,-0.2,-0.1,-1.2,-0.5,0.3,0.9,0.9,-1.0,-0.4,-0.3,-0.2,-1.4,-0.1,-0.4,-1.1,-0.3,-0.4,-0.4,-0.4,-0.3,-0.2,0.3,0.1,-0.4,-0.5,-0.3,-0.3,-0.3,-0.4,0.3,0.7,0.3,0.7,-0.4,-0.3,-0.7,0.5,0.9,-0.7,0.6,-0.5,0.4,-0.5,0.7,-0.3,-0.4,-0.4,-0.3,-0.6,0.4,-0.2,-0.3,-0.7,-0.4,-0.3,-0.8,-0.2,-0.9,-0.8,0.9,1.2,0.1,-0.7,-0.4,2.3,-0.7,-0.2,-0.3,-0.6,1.3,-0.6,1.2,-1.3,2.3,-0.3,0.3,2.2,-0.6,-0.2,-0.6,-0.2,-0.3,-0.3,0.3,2.2,2.3,-0.7,-0.4,-1.3,-0.1,-0.6,-1.3,-0.4,-0.4,-0.4,-0.4,0.3,0.3,0.6,1.6,-0.3,-0.3,0.3,-0.3,-0.4,0.1,-1.3,-0.3,-0.6,-0.1,-0.3,2.3,-0.3,-0.6,-0.7,-0.7,-1.3,-1.4,-1.1,-0.3,-0.2,0.5,-0.4,0.3,-0.1,0.3,0.1,-0.5,-0.3,-0.7,0.3,-0.4,-0.4,-0.2,-0.1,-0.4,-0.7,-1.0,0.1,-1.3,-0.2,2.3,-0.4,0.3,1.6,-0.7,-0.2,-0.2,0.2,-0.9,0.5,-0.3,0.5,1.6,0.3,-0.4,-0.6,-0.1,0.3,0.7,-0.5,null,0.6,2.3,0.7,-1.3,2.3,-0.3,1.0,0.7,-0.7,-0.4,0.7,0.0,0.7,-0.3,-0.9,0.3,-1.3,-0.1,-0.3,1.6,1.6,-0.3,-0.9,null,0.5,0.5,null],\"xaxis\":\"x\",\"y\":[70000.0,null,70000.0,68200.0,250000.0,60000.0,63000.0,300000.0,5941.0,400000.0,193000.0,200000.0,0.0,0.0,55951.0,null,null,null,64000.0,57000.0,null,50001.0,0.0,null,null,null,106300.0,63000.0,56475.0,null,null,73000.0,215.0,50000.0,38500.0,105000.0,null,null,null,80000.0,63000.0,136000.0,65904.0,null,null,null,null,0.0,null,null,null,48000.0,7000.0,null,null,52000.0,null,0.0,110000.0,7600.0,63000.0,0.0,null,null,120000.0,null,null,51160.0,null,null,66383.0,208000.0,265000.0,113000.0,53000.0,245000.0,null,145314.0,60000.0,2100000.0,425000.0,78213.0,150000.0,164000.0,140000.0,70793.0,134288.0,60000.0,69000.0,75000.0,105000.0,118000.0,201580.0,325325.0,118000.0,131000.0,160000.0,0.0,50000.0,133777.0,125000.0,248209.0,162000.0,160895.0,210517.0,111000.0,247847.0,68000.0,null,50000.0,285000.0,86915.0,122000.0,65562.0,50114.0,null,252089.0,2.0,137000.0,80000.0,null,53000.0,130000.0,182000.0,0.0,50000.0,60175.0,146500.0,101000.0,null,239663.0,230000.0,150000.0,111393.0,250000.0,138802.0,75000.0,358000.0,127534.0,122600.0,140735.0,66000.0,160000.0,156627.0,0.0,114711.0,99188.0,85000.0,159870.0,75000.0,72520.0,100000.0,99000.0,272355.0,315000.0,190000.0,58156.0,82000.0,168000.0,0.0,197166.0,103000.0,129607.0,138000.0,138000.0,56000.0,105000.0,65000.0,30000.0,null,86013.0,52000.0,3314.0,null,null,119000.0,57000.0,454000.0,null,489478.0,126000.0,79741.0,null,null,118000.0,0.0,108000.0,238000.0,null,96000.0,280982.0,98700.0,null,79000.0,0.0,200000.0,85000.0,200000.0,null,null,68530.0,67000.0,2142678.0,null,130252.0,60000.0,0.0,262000.0,null,null,null,192000.0,71823.0,0.0,73000.0,0.0,64801.0,211266.0,62000.0,null,null,83000.0,100000.0,70000.0,214864.0,80000.0,null,null,219681.0,78000.0,2000000.0,500000.0,null,715000.0,null,100000.0,1069730.0,51404.0,175000.0,43000.0,881000.0,85000.0,68000.0,17311.0,488689.0,null,0.0,0.0,238392.0,340350.0,null,null,24506.0,158000.0,234393.0,89000.0,0.0,73000.0,120377.0,null,null,0.0,63000.0,null,171117.0,0.0,57531.0,123000.0,2504366.0,9000.0,61000.0,0.0,36073.0,null,113247.0,null,null,500000.0,null,82000.0,132000.0,81586.0,70000.0,415103.0,300000.0,800000.0,65000.0,62500.0,100000.0,157019.0,null,null,243000.0,114000.0,null,127000.0,null,135000.0,61705.0,0.0,9700.0,124000.0,9700.0,50000.0,9700.0,null,75065.0,7500.0,201000.0,null,61705.0,56000.0,9800.0,82621.0,0.0,114791.0,61413.0,94345.0,186000.0,86615.0,215387.0,70000.0,null,9600.0,52702.0,null,0.0,null,141000.0,63000.0,null,53000.0,9700.0,53700.0,null,58000.0,null,75000.0,65000.0,160000.0,60000.0,75000.0,111644.0,null,null,10000.0,null,0.0,0.0,300000.0,101830.0,629590.0,109000.0,192106.0,181000.0,190000.0,471932.0,400000.0,51500.0,121000.0,420000.0,245000.0,127000.0,169000.0,320000.0,11000.0,330000.0,109000.0,283451.0,300000.0,72000.0,157000.0,80000.0,653000.0,71500.0,200000.0,65400.0,237000.0,135000.0,115000.0,51000.0,239567.0,null,165000.0,325000.0,127000.0,130000.0,169000.0,170519.0,190000.0,500000.0,125000.0,null,68800.0,null,null,null,92090.0,null,250000.0,null,null,null,null,0.0,null,0.0,145000.0,63992.0,null,null,426000.0,null,null,76300.0,110433.0,null,0.0,null,0.0,null,105000.0,null,null,0.0,null,0.0,0.0,null,140000.0,56000.0,null,500000.0,0.0,93300.0,0.0,0.0,null,0.0,160000.0,0.0,null,null,89000.0,8000.0,null,123535.0,null,0.0,null,null,null,0.0,null,null,null,0.0,300000.0,null,null,175000.0,null,null,null,200000.0,null,null,null,null,null,null,0.0,null,0.0,null,172060.0,123827.0,75000.0,null,50000.0,0.0,null,null,700000.0,null,187000.0,null,null,64000.0,null,null,160000.0,null,null,null,null,47000.0,null,null,null,140000.0,null,null,null,40911.0,0.0,null,2713.0,null,null,null,null,null,null,null,69000.0,null,30000.0,90000.0,60000.0,70000.0,60000.0,108000.0,122000.0,180000.0,87600.0,null,0.0,0.0,0.0,null,0.0,null,108000.0,null,null,104195.0,93000.0,0.0,null,null,55118.0,0.0,297700.0,0.0,650000.0,234326.0,null,70000.0,86390.0,0.0,null,1.0,219000.0,1.0,181000.0,110000.0,0.0,133000.0,0.0,null,65000.0,249408.0,0.0,85091.0,138000.0,null,0.0,0.0,153000.0,155183.0,124000.0,760113.0,600000.0,null,64943.0,null,167564.0,50000.0,120000.0,null,null,57000.0,146721.0,198000.0,400000.0,146094.0,111555.0,52000.0,64500.0,143000.0,200717.0,142315.0,0.0,82861.0,105312.0,185000.0,109335.0,93837.0,200000.0,62000.0,213000.0,850000.0,124596.0,118000.0,null,105000.0,177528.0,264000.0,715000.0,null,160875.0,132000.0,65112.0,55000.0,492955.0,62159.0,null,43903.0,120001.0,144000.0,168449.0,null,0.0,106000.0,284000.0,65000.0,95630.0,312359.0,0.0,270000.0,35000.0,355000.0,223000.0,null,null,78000.0,181700.0,null,110.0,375000.0,76000.0,383000.0,190000.0,0.0,18000.0,3500.0,0.0,0.0,null,null,null,null,null,37.0,0.0,5763.0,85179.0,0.0,0.0,null,null,0.0,null,0.0,null,74031.0,60000.0,0.0,0.0,0.0,null,0.0,null,0.0,0.0,null,0.0,0.0,null,null,null,null,0.0,null,0.0,null,null,281000.0,null,127000.0,null,0.0,0.0,null,null,95000.0,45000.0,134500.0,175000.0,107833.0,67000.0,184000.0,246990.0,122314.0,1203000.0,0.0,211000.0,0.0,null,null,57054.0,150000.0,56000.0,0.0,0.0,50636.0,0.0,564728.0,59106.0,0.0,184000.0,245164.0,2000.0,23000.0,0.0,52747.0,48102.0,86000.0,346000.0,null,100000.0,60000.0,72000.0,220000.0,12000.0,null,70135.0,6100.0,200000.0,1200.0,103776.0,69106.0,203345.0,50718.0,130000.0,null,1200.0,null,340000.0,71000.0,61000.0,51600.0,53000.0,12000.0,29376.0,50000.0,112000.0,136000.0,61377.0,0.0,175000.0,0.0,47000.0,null,285465.0,50000.0,57000.0,320000.0,4196.0,370900.0,0.0,156338.0,100000.0,650000.0,null,197000.0,135000.0,0.0,95400.0,73000.0,248800.0,156729.0,0.0,140000.0,263000.0,50900.0,0.0,130000.0,75654.0,0.0,null,50000.0,0.0,0.0,150000.0,205000.0,null,217000.0,180000.0,67900.0,665000.0,221000.0,null,379000.0,360000.0,125000.0,50465.0,677858.0,120124.0,133000.0,150000.0,81000.0,677858.0,9000.0,2500.0,71000.0,null,null,0.0,null,3.0,null,null,249500.0,null,null,0.0,null,null,111000.0,0.0,null,0.0,null,84500.0,null,0.0,null,null,97651.0,220000.0,76729.0,530000.0,210000.0,52000.0,null,40000.0,425000.0,101003.0,null,83000.0,null,62500.0,null,null,0.0,63000.0,53000.0,20000.0,70000.0,55000.0,0.0,0.0,100000.0,56444.0,95000.0,18400.0,0.0,null,null,0.0,0.0,0.0,0.0,0.0,null,0.0,null,0.0,null,0.0,null,0.0,0.0,0.0,null,null,0.0,0.0,null,null,null,0.0,0.0,0.0,null,null,null,0.0,0.0,0.0,65000.0,null,null,null,0.0,0.0,null,140000.0,null,null,0.0,null,215000.0,21000.0,null,null,null,160000.0,632816.0,818000.0,152261.0,null,null,116000.0,145000.0,0.0,59000.0,300000.0,56645.0,null,0.0,18600.0,null,null,190000.0,null,null,61795.0,null,74300.0,173000.0,60000.0,0.0,54316.0,null,null,68000.0,null,3125350.0,0.0,null,null,50000.0,null,137000.0,100000.0,153000.0,null,55000.0,0.0,200000.0,150000.0,null,null,null,50280.0,18600.0,99700.0,65000.0,180000.0,null,null,0.0,61000.0,0.0,120000.0,50000.0,null,250000.0,371000.0,null,null,null,161151.0,18600.0,25000.0,null,null,null,null,59057.0,null,null,1100000.0,null,null,85000.0,null,287000.0,null,1.0,null,57184.0,143000.0,11000.0,11000.0,null,null,246092.0,null,null,150000.0,50000.0,190000.0,null,95000.0,50000.0,null,null,null,21800.0,28000.0,242910.0,null,125000.0,68018.0,null,null,0.0,440000.0,0.0,0.0,584384.0,430000.0,0.0,25000.0,50000.0,105000.0,150000.0,0.0,0.0,1200000.0,179000.0,42124.0,null,0.0,0.0,53965.0,31000.0,2775093.0,0.0,101950.0,37.0,110000.0,78000.0,84900.0,56000.0,47661.0,722000.0,104498.0,832898.0,32593.0,285300.0,268000.0,3241437.0,26000.0,502000.0,0.0,23000.0,26000.0,87000.0,20900.0,16500.0,null,null,null,null,null,0.0,null,null,128050.0,124000.0,900000.0,null,148000.0,37784.0,null,6810.0,79000.0,null,2500.0,null,150000.0,null,15000.0,null,26000.0,0.0,null,null,150000.0,290000.0,10000.0,850068.0,null,70000.0,null,null,null,10008.0,407440.0,477.0,50000.0,130000.0,null,null,727.0,484.0,0.0,1.0,48400.0,58850.0,94000.0,433.0,null,55655.0,null,442000.0,30000.0,89500.0,null,null,null,null,null,null,4300.0,160000.0,100000.0,1271893.0,0.0,80000.0,0.0,80000.0,null,null,505000.0,null,null,409000.0,65255.0,null,null,null,939000.0,6800.0,2606931.0,null,null,null,null,109750.0,null,null,0.0,7077.0,null,null,1700000.0,255000.0,59458.0,95000.0,147223.0,0.0,50000.0,2035.0,241000.0,426.0,108000.0,null,78164.0,null,null,9956.0,182000.0,null,null,null,430984.0,859554.0,null,null,65000.0,70.0,null,165000.0,null,140000.0,1667316.0,null,280000.0,0.0,385000.0,125000.0,0.0,55677.0,1.0,484.0,127.0,133900.0,32000.0,null,null,0.0,4.0,2650.0,null,5314.0,null,null,73514.0,null,0.0,null,420.0,null,200000.0,54332.0,6635.0,70.0,128000.0,2674.0,null,null,940.0,20345.0,null,0.0,null,70848.0,91690.0,null,300000.0,90323.0,263000.0,null,25000.0,104000.0,638.0,1400000.0,158977.0,null,null,null,1500000.0,null,1400000.0,68780.0,9956.0,0.0,7077.0,123000.0,null,1.0,80000.0,null,null,115500.0,null,0.0,1.0,null,60000.0,null,null,null,0.0,671189.0,null,120000.0,400000.0,null,111818.0,null,215700.0,null,null,64951.0,null,null,null,13000.0,null,7935.0,25159.0,0.0,13000.0,null,43000.0,null,8000.0,50797.0,null,57200.0,9200.0,null,null,115000.0,51580.0,0.0,88000.0,null,88110.0,52739.0,67000.0,37000.0,60000.0,119000.0,150084.0,156000.0,56000.0,175000.0,107000.0,55000.0,81000.0,600000.0,880000.0,null,119000.0,145157.0,217000.0,253800.0,114618.0,233000.0,130000.0,75000.0,80000.0,58500.0,67000.0,null,50000.0,126000.0,283000.0,190000.0,null,126000.0,120212.0,15000.0,35500.0,0.0,0.0,null,null,null,0.0,null,500000.0,null,null,0.0,null,null,null,0.0,0.0,null,null,null,0.0,0.0,0.0,47165.0,82000.0,30689.0,150000.0,218783.0,93828.0,52659.0,186035.0,109000.0,80539.0,83450.0,66445.0,102000.0,373835.0,85455.0,169000.0,null,0.0,null,158000.0,50752.0,null,0.0,56400.0,75000.0,null,0.0,67000.0,50100.0,null,50246.0,224912.0,0.0,null,52000.0,54476.0,0.0,1881134.0,112000.0,14500.0,68705.0,null,null,256663.0,50500.0,96966.0,null,35000.0,54000.0,41306.0,null,127000.0,92748.0,0.0,56874.0,55609.0,1500.0,null,54000.0,80000.0,29250.0,50000.0,0.0,0.0,130000.0,50000.0,null,50000.0,50000.0,380000.0,50500.0,null,null,300000.0,0.0,1.0,0.0,0.0,0.0,0.0,127545.0,null,0.0,0.0,131000.0,63000.0,169757.0,50462.0,60863.0,null,52500.0,0.0,0.0,110000.0,50000.0,117142.0,50000.0,0.0,0.0,0.0,null,0.0,0.0,0.0,null,102568.0,0.0,null,0.0,0.0,0.0,1100.0,0.0,null,null,110000.0,0.0,35230.0,0.0,0.0,204000.0,86058.0,null,null,0.0,null,31000.0,null,30379.0,0.0,65000.0,0.0,270000.0,null,0.0,70000.0,95000.0,0.0,null,110000.0,211000.0,294000.0,62000.0,59886.0,29300.0,291000.0,null,0.0,35000.0,0.0,0.0,null,0.0,0.0,null,34500.0,null,null,null,14273.0],\"yaxis\":\"y\",\"type\":\"scattergl\"}],                        {\"template\":{\"data\":{\"barpolar\":[{\"marker\":{\"line\":{\"color\":\"white\",\"width\":0.5},\"pattern\":{\"fillmode\":\"overlay\",\"size\":10,\"solidity\":0.2}},\"type\":\"barpolar\"}],\"bar\":[{\"error_x\":{\"color\":\"rgb(36,36,36)\"},\"error_y\":{\"color\":\"rgb(36,36,36)\"},\"marker\":{\"line\":{\"color\":\"white\",\"width\":0.5},\"pattern\":{\"fillmode\":\"overlay\",\"size\":10,\"solidity\":0.2}},\"type\":\"bar\"}],\"carpet\":[{\"aaxis\":{\"endlinecolor\":\"rgb(36,36,36)\",\"gridcolor\":\"white\",\"linecolor\":\"white\",\"minorgridcolor\":\"white\",\"startlinecolor\":\"rgb(36,36,36)\"},\"baxis\":{\"endlinecolor\":\"rgb(36,36,36)\",\"gridcolor\":\"white\",\"linecolor\":\"white\",\"minorgridcolor\":\"white\",\"startlinecolor\":\"rgb(36,36,36)\"},\"type\":\"carpet\"}],\"choropleth\":[{\"colorbar\":{\"outlinewidth\":1,\"tickcolor\":\"rgb(36,36,36)\",\"ticks\":\"outside\"},\"type\":\"choropleth\"}],\"contourcarpet\":[{\"colorbar\":{\"outlinewidth\":1,\"tickcolor\":\"rgb(36,36,36)\",\"ticks\":\"outside\"},\"type\":\"contourcarpet\"}],\"contour\":[{\"colorbar\":{\"outlinewidth\":1,\"tickcolor\":\"rgb(36,36,36)\",\"ticks\":\"outside\"},\"colorscale\":[[0.0,\"#440154\"],[0.1111111111111111,\"#482878\"],[0.2222222222222222,\"#3e4989\"],[0.3333333333333333,\"#31688e\"],[0.4444444444444444,\"#26828e\"],[0.5555555555555556,\"#1f9e89\"],[0.6666666666666666,\"#35b779\"],[0.7777777777777778,\"#6ece58\"],[0.8888888888888888,\"#b5de2b\"],[1.0,\"#fde725\"]],\"type\":\"contour\"}],\"heatmapgl\":[{\"colorbar\":{\"outlinewidth\":1,\"tickcolor\":\"rgb(36,36,36)\",\"ticks\":\"outside\"},\"colorscale\":[[0.0,\"#440154\"],[0.1111111111111111,\"#482878\"],[0.2222222222222222,\"#3e4989\"],[0.3333333333333333,\"#31688e\"],[0.4444444444444444,\"#26828e\"],[0.5555555555555556,\"#1f9e89\"],[0.6666666666666666,\"#35b779\"],[0.7777777777777778,\"#6ece58\"],[0.8888888888888888,\"#b5de2b\"],[1.0,\"#fde725\"]],\"type\":\"heatmapgl\"}],\"heatmap\":[{\"colorbar\":{\"outlinewidth\":1,\"tickcolor\":\"rgb(36,36,36)\",\"ticks\":\"outside\"},\"colorscale\":[[0.0,\"#440154\"],[0.1111111111111111,\"#482878\"],[0.2222222222222222,\"#3e4989\"],[0.3333333333333333,\"#31688e\"],[0.4444444444444444,\"#26828e\"],[0.5555555555555556,\"#1f9e89\"],[0.6666666666666666,\"#35b779\"],[0.7777777777777778,\"#6ece58\"],[0.8888888888888888,\"#b5de2b\"],[1.0,\"#fde725\"]],\"type\":\"heatmap\"}],\"histogram2dcontour\":[{\"colorbar\":{\"outlinewidth\":1,\"tickcolor\":\"rgb(36,36,36)\",\"ticks\":\"outside\"},\"colorscale\":[[0.0,\"#440154\"],[0.1111111111111111,\"#482878\"],[0.2222222222222222,\"#3e4989\"],[0.3333333333333333,\"#31688e\"],[0.4444444444444444,\"#26828e\"],[0.5555555555555556,\"#1f9e89\"],[0.6666666666666666,\"#35b779\"],[0.7777777777777778,\"#6ece58\"],[0.8888888888888888,\"#b5de2b\"],[1.0,\"#fde725\"]],\"type\":\"histogram2dcontour\"}],\"histogram2d\":[{\"colorbar\":{\"outlinewidth\":1,\"tickcolor\":\"rgb(36,36,36)\",\"ticks\":\"outside\"},\"colorscale\":[[0.0,\"#440154\"],[0.1111111111111111,\"#482878\"],[0.2222222222222222,\"#3e4989\"],[0.3333333333333333,\"#31688e\"],[0.4444444444444444,\"#26828e\"],[0.5555555555555556,\"#1f9e89\"],[0.6666666666666666,\"#35b779\"],[0.7777777777777778,\"#6ece58\"],[0.8888888888888888,\"#b5de2b\"],[1.0,\"#fde725\"]],\"type\":\"histogram2d\"}],\"histogram\":[{\"marker\":{\"line\":{\"color\":\"white\",\"width\":0.6}},\"type\":\"histogram\"}],\"mesh3d\":[{\"colorbar\":{\"outlinewidth\":1,\"tickcolor\":\"rgb(36,36,36)\",\"ticks\":\"outside\"},\"type\":\"mesh3d\"}],\"parcoords\":[{\"line\":{\"colorbar\":{\"outlinewidth\":1,\"tickcolor\":\"rgb(36,36,36)\",\"ticks\":\"outside\"}},\"type\":\"parcoords\"}],\"pie\":[{\"automargin\":true,\"type\":\"pie\"}],\"scatter3d\":[{\"line\":{\"colorbar\":{\"outlinewidth\":1,\"tickcolor\":\"rgb(36,36,36)\",\"ticks\":\"outside\"}},\"marker\":{\"colorbar\":{\"outlinewidth\":1,\"tickcolor\":\"rgb(36,36,36)\",\"ticks\":\"outside\"}},\"type\":\"scatter3d\"}],\"scattercarpet\":[{\"marker\":{\"colorbar\":{\"outlinewidth\":1,\"tickcolor\":\"rgb(36,36,36)\",\"ticks\":\"outside\"}},\"type\":\"scattercarpet\"}],\"scattergeo\":[{\"marker\":{\"colorbar\":{\"outlinewidth\":1,\"tickcolor\":\"rgb(36,36,36)\",\"ticks\":\"outside\"}},\"type\":\"scattergeo\"}],\"scattergl\":[{\"marker\":{\"colorbar\":{\"outlinewidth\":1,\"tickcolor\":\"rgb(36,36,36)\",\"ticks\":\"outside\"}},\"type\":\"scattergl\"}],\"scattermapbox\":[{\"marker\":{\"colorbar\":{\"outlinewidth\":1,\"tickcolor\":\"rgb(36,36,36)\",\"ticks\":\"outside\"}},\"type\":\"scattermapbox\"}],\"scatterpolargl\":[{\"marker\":{\"colorbar\":{\"outlinewidth\":1,\"tickcolor\":\"rgb(36,36,36)\",\"ticks\":\"outside\"}},\"type\":\"scatterpolargl\"}],\"scatterpolar\":[{\"marker\":{\"colorbar\":{\"outlinewidth\":1,\"tickcolor\":\"rgb(36,36,36)\",\"ticks\":\"outside\"}},\"type\":\"scatterpolar\"}],\"scatter\":[{\"fillpattern\":{\"fillmode\":\"overlay\",\"size\":10,\"solidity\":0.2},\"type\":\"scatter\"}],\"scatterternary\":[{\"marker\":{\"colorbar\":{\"outlinewidth\":1,\"tickcolor\":\"rgb(36,36,36)\",\"ticks\":\"outside\"}},\"type\":\"scatterternary\"}],\"surface\":[{\"colorbar\":{\"outlinewidth\":1,\"tickcolor\":\"rgb(36,36,36)\",\"ticks\":\"outside\"},\"colorscale\":[[0.0,\"#440154\"],[0.1111111111111111,\"#482878\"],[0.2222222222222222,\"#3e4989\"],[0.3333333333333333,\"#31688e\"],[0.4444444444444444,\"#26828e\"],[0.5555555555555556,\"#1f9e89\"],[0.6666666666666666,\"#35b779\"],[0.7777777777777778,\"#6ece58\"],[0.8888888888888888,\"#b5de2b\"],[1.0,\"#fde725\"]],\"type\":\"surface\"}],\"table\":[{\"cells\":{\"fill\":{\"color\":\"rgb(237,237,237)\"},\"line\":{\"color\":\"white\"}},\"header\":{\"fill\":{\"color\":\"rgb(217,217,217)\"},\"line\":{\"color\":\"white\"}},\"type\":\"table\"}]},\"layout\":{\"annotationdefaults\":{\"arrowhead\":0,\"arrowwidth\":1},\"autotypenumbers\":\"strict\",\"coloraxis\":{\"colorbar\":{\"outlinewidth\":1,\"tickcolor\":\"rgb(36,36,36)\",\"ticks\":\"outside\"}},\"colorscale\":{\"diverging\":[[0.0,\"rgb(103,0,31)\"],[0.1,\"rgb(178,24,43)\"],[0.2,\"rgb(214,96,77)\"],[0.3,\"rgb(244,165,130)\"],[0.4,\"rgb(253,219,199)\"],[0.5,\"rgb(247,247,247)\"],[0.6,\"rgb(209,229,240)\"],[0.7,\"rgb(146,197,222)\"],[0.8,\"rgb(67,147,195)\"],[0.9,\"rgb(33,102,172)\"],[1.0,\"rgb(5,48,97)\"]],\"sequential\":[[0.0,\"#440154\"],[0.1111111111111111,\"#482878\"],[0.2222222222222222,\"#3e4989\"],[0.3333333333333333,\"#31688e\"],[0.4444444444444444,\"#26828e\"],[0.5555555555555556,\"#1f9e89\"],[0.6666666666666666,\"#35b779\"],[0.7777777777777778,\"#6ece58\"],[0.8888888888888888,\"#b5de2b\"],[1.0,\"#fde725\"]],\"sequentialminus\":[[0.0,\"#440154\"],[0.1111111111111111,\"#482878\"],[0.2222222222222222,\"#3e4989\"],[0.3333333333333333,\"#31688e\"],[0.4444444444444444,\"#26828e\"],[0.5555555555555556,\"#1f9e89\"],[0.6666666666666666,\"#35b779\"],[0.7777777777777778,\"#6ece58\"],[0.8888888888888888,\"#b5de2b\"],[1.0,\"#fde725\"]]},\"colorway\":[\"#1F77B4\",\"#FF7F0E\",\"#2CA02C\",\"#D62728\",\"#9467BD\",\"#8C564B\",\"#E377C2\",\"#7F7F7F\",\"#BCBD22\",\"#17BECF\"],\"font\":{\"color\":\"rgb(36,36,36)\"},\"geo\":{\"bgcolor\":\"white\",\"lakecolor\":\"white\",\"landcolor\":\"white\",\"showlakes\":true,\"showland\":true,\"subunitcolor\":\"white\"},\"hoverlabel\":{\"align\":\"left\"},\"hovermode\":\"closest\",\"mapbox\":{\"style\":\"light\"},\"paper_bgcolor\":\"white\",\"plot_bgcolor\":\"white\",\"polar\":{\"angularaxis\":{\"gridcolor\":\"rgb(232,232,232)\",\"linecolor\":\"rgb(36,36,36)\",\"showgrid\":false,\"showline\":true,\"ticks\":\"outside\"},\"bgcolor\":\"white\",\"radialaxis\":{\"gridcolor\":\"rgb(232,232,232)\",\"linecolor\":\"rgb(36,36,36)\",\"showgrid\":false,\"showline\":true,\"ticks\":\"outside\"}},\"scene\":{\"xaxis\":{\"backgroundcolor\":\"white\",\"gridcolor\":\"rgb(232,232,232)\",\"gridwidth\":2,\"linecolor\":\"rgb(36,36,36)\",\"showbackground\":true,\"showgrid\":false,\"showline\":true,\"ticks\":\"outside\",\"zeroline\":false,\"zerolinecolor\":\"rgb(36,36,36)\"},\"yaxis\":{\"backgroundcolor\":\"white\",\"gridcolor\":\"rgb(232,232,232)\",\"gridwidth\":2,\"linecolor\":\"rgb(36,36,36)\",\"showbackground\":true,\"showgrid\":false,\"showline\":true,\"ticks\":\"outside\",\"zeroline\":false,\"zerolinecolor\":\"rgb(36,36,36)\"},\"zaxis\":{\"backgroundcolor\":\"white\",\"gridcolor\":\"rgb(232,232,232)\",\"gridwidth\":2,\"linecolor\":\"rgb(36,36,36)\",\"showbackground\":true,\"showgrid\":false,\"showline\":true,\"ticks\":\"outside\",\"zeroline\":false,\"zerolinecolor\":\"rgb(36,36,36)\"}},\"shapedefaults\":{\"fillcolor\":\"black\",\"line\":{\"width\":0},\"opacity\":0.3},\"ternary\":{\"aaxis\":{\"gridcolor\":\"rgb(232,232,232)\",\"linecolor\":\"rgb(36,36,36)\",\"showgrid\":false,\"showline\":true,\"ticks\":\"outside\"},\"baxis\":{\"gridcolor\":\"rgb(232,232,232)\",\"linecolor\":\"rgb(36,36,36)\",\"showgrid\":false,\"showline\":true,\"ticks\":\"outside\"},\"bgcolor\":\"white\",\"caxis\":{\"gridcolor\":\"rgb(232,232,232)\",\"linecolor\":\"rgb(36,36,36)\",\"showgrid\":false,\"showline\":true,\"ticks\":\"outside\"}},\"title\":{\"x\":0.5,\"xanchor\":\"center\"},\"xaxis\":{\"automargin\":true,\"gridcolor\":\"rgb(232,232,232)\",\"linecolor\":\"rgb(36,36,36)\",\"showgrid\":true,\"showline\":true,\"ticks\":\"outside\",\"title\":{\"standoff\":15},\"zeroline\":false,\"zerolinecolor\":\"rgb(36,36,36)\"},\"yaxis\":{\"automargin\":true,\"gridcolor\":\"rgb(232,232,232)\",\"linecolor\":\"rgb(36,36,36)\",\"showgrid\":true,\"showline\":true,\"ticks\":\"outside\",\"title\":{\"standoff\":15},\"zeroline\":false,\"zerolinecolor\":\"rgb(36,36,36)\"},\"autosize\":true,\"height\":400,\"margin\":{\"b\":30,\"l\":30,\"r\":30,\"t\":30},\"width\":600}},\"xaxis\":{\"anchor\":\"y\",\"domain\":[0.0,1.0],\"title\":{\"text\":\"ANOMALY.LEVEL\"}},\"yaxis\":{\"anchor\":\"x\",\"domain\":[0.0,1.0],\"title\":{\"text\":\"CUSTOMERS.AFFECTED\"}},\"legend\":{\"tracegroupgap\":0}},                        {\"responsive\": true}                    ).then(function(){\n",
       "                            \n",
       "var gd = document.getElementById('d8c589ca-7320-4254-90a7-594bab3ce752');\n",
       "var x = new MutationObserver(function (mutations, observer) {{\n",
       "        var display = window.getComputedStyle(gd).display;\n",
       "        if (!display || display === 'none') {{\n",
       "            console.log([gd, 'removed!']);\n",
       "            Plotly.purge(gd);\n",
       "            observer.disconnect();\n",
       "        }}\n",
       "}});\n",
       "\n",
       "// Listen for the removal of the full notebook cells\n",
       "var notebookContainer = gd.closest('#notebook-container');\n",
       "if (notebookContainer) {{\n",
       "    x.observe(notebookContainer, {childList: true});\n",
       "}}\n",
       "\n",
       "// Listen for the clearing of the current output cell\n",
       "var outputEl = gd.closest('.output');\n",
       "if (outputEl) {{\n",
       "    x.observe(outputEl, {childList: true});\n",
       "}}\n",
       "\n",
       "                        })                };                });            </script>        </div>"
      ]
     },
     "metadata": {},
     "output_type": "display_data"
    }
   ],
   "source": [
    "data_time.plot.scatter(x=\"ANOMALY.LEVEL\", y=\"CUSTOMERS.AFFECTED\")"
   ]
  },
  {
   "cell_type": "code",
   "execution_count": 131,
   "metadata": {
    "ExecuteTime": {
     "end_time": "2019-10-31T23:36:28.662099Z",
     "start_time": "2019-10-31T23:36:28.660016Z"
    }
   },
   "outputs": [
    {
     "data": {
      "text/plain": [
       "np.float64(0.7276119402985075)"
      ]
     },
     "execution_count": 131,
     "metadata": {},
     "output_type": "execute_result"
    }
   ],
   "source": [
    "def RMSE(y_true, y_pred):\n",
    "    return np.sqrt(np.mean((y_true - y_pred) ** 2))\n",
    "\n",
    "\n",
    "from sklearn.linear_model import LinearRegression\n",
    "from sklearn.model_selection import train_test_split\n",
    "from sklearn.linear_model import LinearRegression\n",
    "from sklearn.tree import DecisionTreeClassifier\n",
    "from sklearn.neighbors import KNeighborsClassifier\n",
    "from sklearn.svm import SVC\n",
    "from sklearn.preprocessing import FunctionTransformer\n",
    "from sklearn.preprocessing import OneHotEncoder\n",
    "from sklearn.pipeline import Pipeline\n",
    "from sklearn.compose import ColumnTransformer\n",
    "\n",
    "import random\n",
    "random.seed(10)\n",
    "\n",
    "X = base_pred_model.drop(\"CUSTOMERS.AFFECTED\", axis=1)\n",
    "y = base_pred_model[\"CUSTOMERS.AFFECTED\"]\n",
    "\n",
    "X_train, X_test, y_train, y_test = train_test_split(X, y, test_size=0.25)\n",
    "\n",
    "model = DecisionTreeClassifier(max_depth = 4)\n",
    "log_transformer = FunctionTransformer(np.log)\n",
    "exp_transformer = FunctionTransformer(np.exp)\n",
    "square_transformer = FunctionTransformer(np.square)\n",
    "preproc = ColumnTransformer(\n",
    "    transformers=[\n",
    "        ('cat', OneHotEncoder(), ['NERC.REGION',\n",
    "                                  'MONTH', 'CLIMATE.REGION',\n",
    "                                  'CLIMATE.CATEGORY', 'CAUSE.CATEGORY'])\n",
    "    ],\n",
    "    remainder='passthrough',\n",
    "    force_int_remainder_cols=False,\n",
    ")\n",
    "\n",
    "pipe = Pipeline([('preproc', preproc),\n",
    "                  ('model', model)])\n",
    "\n",
    "pipe.fit(X_train, y_train)\n",
    "(pipe.predict(X_test) == y_test).mean()"
   ]
  },
  {
   "cell_type": "code",
   "execution_count": 132,
   "metadata": {},
   "outputs": [
    {
     "data": {
      "text/plain": [
       "0.2857142857142857"
      ]
     },
     "execution_count": 132,
     "metadata": {},
     "output_type": "execute_result"
    }
   ],
   "source": [
    "y_pred = pipe.predict(X_test)\n",
    "\n",
    "TP = 0\n",
    "FP = 0\n",
    "\n",
    "for i in range (len(y_test)):\n",
    "    if y_pred[i] == 1:\n",
    "        if y_test.iloc[i] == 1:\n",
    "            TP += 1\n",
    "        else:\n",
    "            FP += 1\n",
    "\n",
    "TP/(TP+FP)"
   ]
  },
  {
   "cell_type": "markdown",
   "metadata": {},
   "source": [
    "## Step 7: Final Model"
   ]
  },
  {
   "cell_type": "markdown",
   "metadata": {
    "ExecuteTime": {
     "end_time": "2019-10-31T23:36:28.662099Z",
     "start_time": "2019-10-31T23:36:28.660016Z"
    }
   },
   "source": [
    "For this final Model, let us try to use a SVC model and see it can do better than our base model. We will apply some column transformations to some of the columns as there may be some information to gain by changing them. One of the columns changed is the Anomoly Level which is now squared. This is due to the extremes of the anaomoly level not having any high values and thus are squared so that there can be an easier split in the middle rather than at the sides where there might need to be multiple splits. We will also apply an exponential transformer to separate the higher values of the percentages which are where there are more high customers affected but there is still a lot of low class points there too so we are hoping to introduce changes within that axis so that there are greater distances in the higher values are more spread and thus will allow the support vector to split the data at a higher value so that we can get more True Positives and less False Positives.\n",
    "\n",
    "We will also search along the tolerance levels of the model to observe what tolerances fit the model the best and to see if increasing the tolerance will affect the models performance"
   ]
  },
  {
   "cell_type": "code",
   "execution_count": 144,
   "metadata": {},
   "outputs": [],
   "source": [
    "log_transformer = FunctionTransformer(np.log)\n",
    "exp_transformer = FunctionTransformer(np.exp)\n",
    "square_transformer = FunctionTransformer(np.square)\n",
    "preproc = ColumnTransformer(\n",
    "    transformers=[\n",
    "        ('num', exp_transformer, ['RES.PERCEN']),\n",
    "        ('square', square_transformer, ['ANOMALY.LEVEL']),\n",
    "        ('cat', OneHotEncoder(), ['NERC.REGION',\n",
    "                                  'MONTH', 'CLIMATE.REGION',\n",
    "                                  'CLIMATE.CATEGORY', 'CAUSE.CATEGORY'])\n",
    "    ],\n",
    "    remainder='passthrough',\n",
    "    force_int_remainder_cols=False,\n",
    ")\n",
    "\n",
    "hyper_param = {}\n",
    "\n",
    "for j in range(1000):\n",
    "    model = SVC(degree = 3, gamma = 'auto', tol = 1e-3 * (1 + 50*j))\n",
    "    pipe = Pipeline([('preproc', preproc),\n",
    "                      ('model', model)])\n",
    "\n",
    "    pipe.fit(X_train, y_train)\n",
    "\n",
    "    y_pred = pipe.predict(X_test)\n",
    "\n",
    "    y_pred = pipe.predict(X_test)\n",
    "\n",
    "    TP = 0\n",
    "    FP = 0\n",
    "\n",
    "    for i in range (len(y_test)):\n",
    "        if y_pred[i] == 1:\n",
    "            if y_test.iloc[i] == 1:\n",
    "                TP += 1\n",
    "            else:\n",
    "                FP += 1\n",
    "\n",
    "    hyper_param[j] = ((pipe.predict(X_test) == y_test).mean() , TP/(TP+FP))\n",
    "\n",
    "# hyper_param"
   ]
  },
  {
   "cell_type": "code",
   "execution_count": 134,
   "metadata": {},
   "outputs": [
    {
     "data": {
      "text/plain": [
       "0.5714285714285714"
      ]
     },
     "execution_count": 134,
     "metadata": {},
     "output_type": "execute_result"
    }
   ],
   "source": [
    "# Final model\n",
    "\n",
    "model = SVC(degree = 3, gamma = 'auto', tol = 1e-3)\n",
    "pipe = Pipeline([('preproc', preproc),\n",
    "                      ('model', model)])\n",
    "\n",
    "pipe.fit(X_train, y_train)\n",
    "\n",
    "y_pred = pipe.predict(X_test)\n",
    "\n",
    "TP = 0\n",
    "FP = 0\n",
    "\n",
    "for i in range (len(y_test)):\n",
    "    if y_pred[i] == 1:\n",
    "        if y_test.iloc[i] == 1:\n",
    "            TP += 1\n",
    "        else:\n",
    "            FP += 1\n",
    "\n",
    "TP/(TP+FP)"
   ]
  },
  {
   "cell_type": "markdown",
   "metadata": {},
   "source": [
    "## Step 8: Fairness Analysis"
   ]
  },
  {
   "cell_type": "markdown",
   "metadata": {},
   "source": [
    "Let us now look at the fairness of the model. To do this we will be looking at the if the model predicts similarly across region in the US. We will divide the data set into 2 lables, \"True\" for states in the West and \"False\" for the States in the East and then run a permutation test seeing if the difference in the precision is statistically different between the 2 groups."
   ]
  },
  {
   "cell_type": "markdown",
   "metadata": {},
   "source": [
    "• Null Hypothesis: Our model is fair. Its precision for East and West States are roughly the same, and any differences are due to random chance.\n",
    "• Alternative Hypothesis: Our model is unfair. Its precision for West States is not the same as its precision for East States."
   ]
  },
  {
   "cell_type": "code",
   "execution_count": 135,
   "metadata": {
    "ExecuteTime": {
     "end_time": "2019-10-31T23:36:28.666489Z",
     "start_time": "2019-10-31T23:36:28.664381Z"
    }
   },
   "outputs": [],
   "source": [
    "# prep the data set\n",
    "base_pred_model = data_time.copy()\n",
    "base_pred_model = base_pred_model[[\"U.S._STATE\",\n",
    "                                   \"NERC.REGION\",\n",
    "                                   \"MONTH\",\n",
    "                                   \"CLIMATE.REGION\",\n",
    "                                   \"CLIMATE.CATEGORY\",\n",
    "                                   \"ANOMALY.LEVEL\",\n",
    "                                   \"CAUSE.CATEGORY\",\n",
    "                                   \"RES.PERCEN\",\n",
    "                                   \"COM.PERCEN\",\n",
    "                                   \"IND.PERCEN\",\n",
    "                                   \"RES.CUSTOMERS\",\n",
    "                                   \"COM.CUSTOMERS\",\n",
    "                                   \"IND.CUSTOMERS\",\n",
    "                                   \"POPULATION\",\n",
    "                                   \"POPPCT_URBAN\",\n",
    "                                   \"CUSTOMERS.AFFECTED\"]]\n",
    "base_pred_model.dropna(inplace=True)\n",
    "base_pred_model[\"CUSTOMERS.AFFECTED\"] = base_pred_model[\"CUSTOMERS.AFFECTED\"].apply(lambda x: int(x>150_000))"
   ]
  },
  {
   "cell_type": "code",
   "execution_count": 136,
   "metadata": {},
   "outputs": [],
   "source": [
    "# Categorize the states as in West or not\n",
    "base_pred_model[\"Is_West_Missippi\"] = (base_pred_model[\"U.S._STATE\"].isin([\n",
    "                                                                   \"Alaska\",\n",
    "                                                                   \"Arizona\",\n",
    "                                                                   \"Arkansas\",\n",
    "                                                                   \"California\",\n",
    "                                                                   \"Colorado\",\n",
    "                                                                   \"Hawaii\",\n",
    "                                                                   \"Idaho\",\n",
    "                                                                   \"Iowa\",\n",
    "                                                                   \"Kansas\",\n",
    "                                                                   \"Louisiana\",\n",
    "                                                                   \"Minnesota\",\n",
    "                                                                   \"Missouri\",\n",
    "                                                                   \"Montana\",\n",
    "                                                                   \"Nebraska\",\n",
    "                                                                   \"Nevada\",\n",
    "                                                                   \"New Mexico\",\n",
    "                                                                   \"North Dakota\",\n",
    "                                                                   \"Oklahoma\",\n",
    "                                                                   \"Oregon\",\n",
    "                                                                   \"South Dakota\",\n",
    "                                                                   \"Texas\",\n",
    "                                                                   \"Utah\",\n",
    "                                                                   \"Washington\",\n",
    "                                                                   \"Wyoming\"\n",
    "                                                                  ]))\n",
    "base_pred_model.drop(\"U.S._STATE\", axis=1, inplace=True)"
   ]
  },
  {
   "cell_type": "code",
   "execution_count": 137,
   "metadata": {},
   "outputs": [],
   "source": [
    "X_data = base_pred_model.drop(\"CUSTOMERS.AFFECTED\", axis=1)\n",
    "y_data = base_pred_model[\"CUSTOMERS.AFFECTED\"]"
   ]
  },
  {
   "cell_type": "code",
   "execution_count": 138,
   "metadata": {},
   "outputs": [
    {
     "data": {
      "text/plain": [
       "0.0565656565656566"
      ]
     },
     "execution_count": 138,
     "metadata": {},
     "output_type": "execute_result"
    }
   ],
   "source": [
    "def split_data(X, y):\n",
    "    True_data_X = X[X[\"Is_West_Missippi\"] == True]\n",
    "    True_data_y = y[X[\"Is_West_Missippi\"] == True]\n",
    "    False_data_X = X[X[\"Is_West_Missippi\"] == False]\n",
    "    False_data_y = y[X[\"Is_West_Missippi\"] == False]\n",
    "    return True_data_X, True_data_y, False_data_X, False_data_y\n",
    "\n",
    "def get_precision (y_test, y_pred):\n",
    "    TP = 0\n",
    "    FP = 0\n",
    "\n",
    "    for i in range (len(y_test)):\n",
    "        if y_pred[i] == 1:\n",
    "            if y_test.iloc[i] == 1:\n",
    "                TP += 1\n",
    "            else:\n",
    "                FP += 1\n",
    "    if TP == 0 and FP == 0:\n",
    "        return 0\n",
    "\n",
    "    return TP/(TP+FP)\n",
    "\n",
    "def find_diff_precision(True_data_X, True_data_y, False_data_X, False_data_y):\n",
    "    True_data_y_pred = pipe.predict(True_data_X)\n",
    "    False_data_y_pred = pipe.predict(False_data_X)\n",
    "\n",
    "    True_data_precision = get_precision(True_data_y, True_data_y_pred)\n",
    "    False_data_precision = get_precision(False_data_y, False_data_y_pred)\n",
    "\n",
    "    return abs(True_data_precision - False_data_precision)\n",
    "\n",
    "\n",
    "\n",
    "True_data_X, True_data_y, False_data_X, False_data_y = split_data(X_data, y_data)\n",
    "observed_diff = find_diff_precision(True_data_X, True_data_y, False_data_X, False_data_y)\n",
    "observed_diff"
   ]
  },
  {
   "cell_type": "code",
   "execution_count": 139,
   "metadata": {},
   "outputs": [
    {
     "data": {
      "text/plain": [
       "np.float64(0.25)"
      ]
     },
     "execution_count": 139,
     "metadata": {},
     "output_type": "execute_result"
    }
   ],
   "source": [
    "# Premutation test\n",
    "\n",
    "permutation_inner_data = X_data.copy()\n",
    "stats = []\n",
    "\n",
    "for _ in range(100):\n",
    "    permutation_inner_data[\"Is_West_Missippi\"] = \\\n",
    "        np.random.permutation(permutation_inner_data[\"Is_West_Missippi\"])\n",
    "\n",
    "    True_data_X, True_data_y, False_data_X, False_data_y = \\\n",
    "        split_data(permutation_inner_data, y_data)\n",
    "\n",
    "    stats.append(find_diff_precision(True_data_X,\n",
    "                                     True_data_y,\n",
    "                                     False_data_X,\n",
    "                                     False_data_y))\n",
    "\n",
    "(np.array(stats) > observed_diff).mean()"
   ]
  },
  {
   "cell_type": "code",
   "execution_count": 140,
   "metadata": {},
   "outputs": [
    {
     "data": {
      "text/html": [
       "<div>                            <div id=\"4419ae51-b613-4261-b4a1-ff3a9d907917\" class=\"plotly-graph-div\" style=\"height:400px; width:600px;\"></div>            <script type=\"text/javascript\">                require([\"plotly\"], function(Plotly) {                    window.PLOTLYENV=window.PLOTLYENV || {};                                    if (document.getElementById(\"4419ae51-b613-4261-b4a1-ff3a9d907917\")) {                    Plotly.newPlot(                        \"4419ae51-b613-4261-b4a1-ff3a9d907917\",                        [{\"alignmentgroup\":\"True\",\"bingroup\":\"x\",\"hovertemplate\":\"variable=0\\u003cbr\\u003eDifference in Precision=%{x}\\u003cbr\\u003ecount=%{y}\\u003cextra\\u003e\\u003c\\u002fextra\\u003e\",\"legendgroup\":\"0\",\"marker\":{\"color\":\"#1F77B4\",\"pattern\":{\"shape\":\"\"}},\"name\":\"0\",\"offsetgroup\":\"0\",\"orientation\":\"v\",\"showlegend\":true,\"x\":[0.06919504643962848,0.010125361620057838,0.05181818181818176,0.05972532737144687,0.11507936507936511,0.03391921060746228,0.07825679475164016,0.04861111111111116,0.006063756063756087,0.028566919191919227,0.03797262059973916,0.028959276018099556,0.036589099816288995,0.022885101010100994,0.025757575757575757,0.01163502755664414,0.03173374613003099,0.01873065015479869,0.0018744142455482393,0.005238095238095264,0.026059654631083173,0.06252009000321446,0.011408083441981742,0.024803387779794295,0.08219814241486068,0.056965944272445834,0.028566919191919227,0.06846673095467692,0.0016835016835016203,0.03797262059973916,0.039016897081413204,0.09634551495016619,0.0018744142455482393,0.05164835164835169,0.03899676375404537,0.009031198686371145,0.009031198686371145,0.09174757281553403,0.04226936676309867,0.025757575757575757,0.04439476205685078,0.018364739699776367,0.004706954145156428,0.011408083441981742,0.03632272581163609,0.029456422714849717,0.09996875976257413,0.07723704866562009,0.018364739699776367,0.10188383045525906,0.036098310291858726,0.040445665445665524,0.0028409090909090606,0.10371758825367072,0.0632271892222902,0.00437405731523377,0.033695305014372456,0.009031198686371145,0.03827311696264546,0.07743658210947935,0.016072002571520416,0.06256157635467985,0.022272727272727333,0.09174757281553403,0.03359814630916913,0.03632272581163609,0.027335207747578805,0.08392796466190966,0.01634289238359543,0.04861111111111116,0.008788159111933314,0.024803387779794295,0.027335207747578805,0.0016835016835016203,0.05972532737144687,0.01231884057971011,0.016072002571520416,0.0008494733265375087,0.05429292929292928,0.00047095761381477086,0.0028409090909090606,0.08001893939393945,0.08001893939393945,0.024528301886792447,0.010125361620057838,0.013754045307443286,0.04648631840796025,0.018364739699776367,0.06660499537465314,0.027335207747578805,0.03430353430353439,0.12826878517047335,0.041473943879124175,0.017733990147783207,0.018364739699776367,0.0028409090909090606,0.01634289238359543,0.033695305014372456,0.05972532737144687,0.004197761194029814],\"xaxis\":\"x\",\"yaxis\":\"y\",\"type\":\"histogram\"}],                        {\"template\":{\"data\":{\"barpolar\":[{\"marker\":{\"line\":{\"color\":\"white\",\"width\":0.5},\"pattern\":{\"fillmode\":\"overlay\",\"size\":10,\"solidity\":0.2}},\"type\":\"barpolar\"}],\"bar\":[{\"error_x\":{\"color\":\"rgb(36,36,36)\"},\"error_y\":{\"color\":\"rgb(36,36,36)\"},\"marker\":{\"line\":{\"color\":\"white\",\"width\":0.5},\"pattern\":{\"fillmode\":\"overlay\",\"size\":10,\"solidity\":0.2}},\"type\":\"bar\"}],\"carpet\":[{\"aaxis\":{\"endlinecolor\":\"rgb(36,36,36)\",\"gridcolor\":\"white\",\"linecolor\":\"white\",\"minorgridcolor\":\"white\",\"startlinecolor\":\"rgb(36,36,36)\"},\"baxis\":{\"endlinecolor\":\"rgb(36,36,36)\",\"gridcolor\":\"white\",\"linecolor\":\"white\",\"minorgridcolor\":\"white\",\"startlinecolor\":\"rgb(36,36,36)\"},\"type\":\"carpet\"}],\"choropleth\":[{\"colorbar\":{\"outlinewidth\":1,\"tickcolor\":\"rgb(36,36,36)\",\"ticks\":\"outside\"},\"type\":\"choropleth\"}],\"contourcarpet\":[{\"colorbar\":{\"outlinewidth\":1,\"tickcolor\":\"rgb(36,36,36)\",\"ticks\":\"outside\"},\"type\":\"contourcarpet\"}],\"contour\":[{\"colorbar\":{\"outlinewidth\":1,\"tickcolor\":\"rgb(36,36,36)\",\"ticks\":\"outside\"},\"colorscale\":[[0.0,\"#440154\"],[0.1111111111111111,\"#482878\"],[0.2222222222222222,\"#3e4989\"],[0.3333333333333333,\"#31688e\"],[0.4444444444444444,\"#26828e\"],[0.5555555555555556,\"#1f9e89\"],[0.6666666666666666,\"#35b779\"],[0.7777777777777778,\"#6ece58\"],[0.8888888888888888,\"#b5de2b\"],[1.0,\"#fde725\"]],\"type\":\"contour\"}],\"heatmapgl\":[{\"colorbar\":{\"outlinewidth\":1,\"tickcolor\":\"rgb(36,36,36)\",\"ticks\":\"outside\"},\"colorscale\":[[0.0,\"#440154\"],[0.1111111111111111,\"#482878\"],[0.2222222222222222,\"#3e4989\"],[0.3333333333333333,\"#31688e\"],[0.4444444444444444,\"#26828e\"],[0.5555555555555556,\"#1f9e89\"],[0.6666666666666666,\"#35b779\"],[0.7777777777777778,\"#6ece58\"],[0.8888888888888888,\"#b5de2b\"],[1.0,\"#fde725\"]],\"type\":\"heatmapgl\"}],\"heatmap\":[{\"colorbar\":{\"outlinewidth\":1,\"tickcolor\":\"rgb(36,36,36)\",\"ticks\":\"outside\"},\"colorscale\":[[0.0,\"#440154\"],[0.1111111111111111,\"#482878\"],[0.2222222222222222,\"#3e4989\"],[0.3333333333333333,\"#31688e\"],[0.4444444444444444,\"#26828e\"],[0.5555555555555556,\"#1f9e89\"],[0.6666666666666666,\"#35b779\"],[0.7777777777777778,\"#6ece58\"],[0.8888888888888888,\"#b5de2b\"],[1.0,\"#fde725\"]],\"type\":\"heatmap\"}],\"histogram2dcontour\":[{\"colorbar\":{\"outlinewidth\":1,\"tickcolor\":\"rgb(36,36,36)\",\"ticks\":\"outside\"},\"colorscale\":[[0.0,\"#440154\"],[0.1111111111111111,\"#482878\"],[0.2222222222222222,\"#3e4989\"],[0.3333333333333333,\"#31688e\"],[0.4444444444444444,\"#26828e\"],[0.5555555555555556,\"#1f9e89\"],[0.6666666666666666,\"#35b779\"],[0.7777777777777778,\"#6ece58\"],[0.8888888888888888,\"#b5de2b\"],[1.0,\"#fde725\"]],\"type\":\"histogram2dcontour\"}],\"histogram2d\":[{\"colorbar\":{\"outlinewidth\":1,\"tickcolor\":\"rgb(36,36,36)\",\"ticks\":\"outside\"},\"colorscale\":[[0.0,\"#440154\"],[0.1111111111111111,\"#482878\"],[0.2222222222222222,\"#3e4989\"],[0.3333333333333333,\"#31688e\"],[0.4444444444444444,\"#26828e\"],[0.5555555555555556,\"#1f9e89\"],[0.6666666666666666,\"#35b779\"],[0.7777777777777778,\"#6ece58\"],[0.8888888888888888,\"#b5de2b\"],[1.0,\"#fde725\"]],\"type\":\"histogram2d\"}],\"histogram\":[{\"marker\":{\"line\":{\"color\":\"white\",\"width\":0.6}},\"type\":\"histogram\"}],\"mesh3d\":[{\"colorbar\":{\"outlinewidth\":1,\"tickcolor\":\"rgb(36,36,36)\",\"ticks\":\"outside\"},\"type\":\"mesh3d\"}],\"parcoords\":[{\"line\":{\"colorbar\":{\"outlinewidth\":1,\"tickcolor\":\"rgb(36,36,36)\",\"ticks\":\"outside\"}},\"type\":\"parcoords\"}],\"pie\":[{\"automargin\":true,\"type\":\"pie\"}],\"scatter3d\":[{\"line\":{\"colorbar\":{\"outlinewidth\":1,\"tickcolor\":\"rgb(36,36,36)\",\"ticks\":\"outside\"}},\"marker\":{\"colorbar\":{\"outlinewidth\":1,\"tickcolor\":\"rgb(36,36,36)\",\"ticks\":\"outside\"}},\"type\":\"scatter3d\"}],\"scattercarpet\":[{\"marker\":{\"colorbar\":{\"outlinewidth\":1,\"tickcolor\":\"rgb(36,36,36)\",\"ticks\":\"outside\"}},\"type\":\"scattercarpet\"}],\"scattergeo\":[{\"marker\":{\"colorbar\":{\"outlinewidth\":1,\"tickcolor\":\"rgb(36,36,36)\",\"ticks\":\"outside\"}},\"type\":\"scattergeo\"}],\"scattergl\":[{\"marker\":{\"colorbar\":{\"outlinewidth\":1,\"tickcolor\":\"rgb(36,36,36)\",\"ticks\":\"outside\"}},\"type\":\"scattergl\"}],\"scattermapbox\":[{\"marker\":{\"colorbar\":{\"outlinewidth\":1,\"tickcolor\":\"rgb(36,36,36)\",\"ticks\":\"outside\"}},\"type\":\"scattermapbox\"}],\"scatterpolargl\":[{\"marker\":{\"colorbar\":{\"outlinewidth\":1,\"tickcolor\":\"rgb(36,36,36)\",\"ticks\":\"outside\"}},\"type\":\"scatterpolargl\"}],\"scatterpolar\":[{\"marker\":{\"colorbar\":{\"outlinewidth\":1,\"tickcolor\":\"rgb(36,36,36)\",\"ticks\":\"outside\"}},\"type\":\"scatterpolar\"}],\"scatter\":[{\"fillpattern\":{\"fillmode\":\"overlay\",\"size\":10,\"solidity\":0.2},\"type\":\"scatter\"}],\"scatterternary\":[{\"marker\":{\"colorbar\":{\"outlinewidth\":1,\"tickcolor\":\"rgb(36,36,36)\",\"ticks\":\"outside\"}},\"type\":\"scatterternary\"}],\"surface\":[{\"colorbar\":{\"outlinewidth\":1,\"tickcolor\":\"rgb(36,36,36)\",\"ticks\":\"outside\"},\"colorscale\":[[0.0,\"#440154\"],[0.1111111111111111,\"#482878\"],[0.2222222222222222,\"#3e4989\"],[0.3333333333333333,\"#31688e\"],[0.4444444444444444,\"#26828e\"],[0.5555555555555556,\"#1f9e89\"],[0.6666666666666666,\"#35b779\"],[0.7777777777777778,\"#6ece58\"],[0.8888888888888888,\"#b5de2b\"],[1.0,\"#fde725\"]],\"type\":\"surface\"}],\"table\":[{\"cells\":{\"fill\":{\"color\":\"rgb(237,237,237)\"},\"line\":{\"color\":\"white\"}},\"header\":{\"fill\":{\"color\":\"rgb(217,217,217)\"},\"line\":{\"color\":\"white\"}},\"type\":\"table\"}]},\"layout\":{\"annotationdefaults\":{\"arrowhead\":0,\"arrowwidth\":1},\"autotypenumbers\":\"strict\",\"coloraxis\":{\"colorbar\":{\"outlinewidth\":1,\"tickcolor\":\"rgb(36,36,36)\",\"ticks\":\"outside\"}},\"colorscale\":{\"diverging\":[[0.0,\"rgb(103,0,31)\"],[0.1,\"rgb(178,24,43)\"],[0.2,\"rgb(214,96,77)\"],[0.3,\"rgb(244,165,130)\"],[0.4,\"rgb(253,219,199)\"],[0.5,\"rgb(247,247,247)\"],[0.6,\"rgb(209,229,240)\"],[0.7,\"rgb(146,197,222)\"],[0.8,\"rgb(67,147,195)\"],[0.9,\"rgb(33,102,172)\"],[1.0,\"rgb(5,48,97)\"]],\"sequential\":[[0.0,\"#440154\"],[0.1111111111111111,\"#482878\"],[0.2222222222222222,\"#3e4989\"],[0.3333333333333333,\"#31688e\"],[0.4444444444444444,\"#26828e\"],[0.5555555555555556,\"#1f9e89\"],[0.6666666666666666,\"#35b779\"],[0.7777777777777778,\"#6ece58\"],[0.8888888888888888,\"#b5de2b\"],[1.0,\"#fde725\"]],\"sequentialminus\":[[0.0,\"#440154\"],[0.1111111111111111,\"#482878\"],[0.2222222222222222,\"#3e4989\"],[0.3333333333333333,\"#31688e\"],[0.4444444444444444,\"#26828e\"],[0.5555555555555556,\"#1f9e89\"],[0.6666666666666666,\"#35b779\"],[0.7777777777777778,\"#6ece58\"],[0.8888888888888888,\"#b5de2b\"],[1.0,\"#fde725\"]]},\"colorway\":[\"#1F77B4\",\"#FF7F0E\",\"#2CA02C\",\"#D62728\",\"#9467BD\",\"#8C564B\",\"#E377C2\",\"#7F7F7F\",\"#BCBD22\",\"#17BECF\"],\"font\":{\"color\":\"rgb(36,36,36)\"},\"geo\":{\"bgcolor\":\"white\",\"lakecolor\":\"white\",\"landcolor\":\"white\",\"showlakes\":true,\"showland\":true,\"subunitcolor\":\"white\"},\"hoverlabel\":{\"align\":\"left\"},\"hovermode\":\"closest\",\"mapbox\":{\"style\":\"light\"},\"paper_bgcolor\":\"white\",\"plot_bgcolor\":\"white\",\"polar\":{\"angularaxis\":{\"gridcolor\":\"rgb(232,232,232)\",\"linecolor\":\"rgb(36,36,36)\",\"showgrid\":false,\"showline\":true,\"ticks\":\"outside\"},\"bgcolor\":\"white\",\"radialaxis\":{\"gridcolor\":\"rgb(232,232,232)\",\"linecolor\":\"rgb(36,36,36)\",\"showgrid\":false,\"showline\":true,\"ticks\":\"outside\"}},\"scene\":{\"xaxis\":{\"backgroundcolor\":\"white\",\"gridcolor\":\"rgb(232,232,232)\",\"gridwidth\":2,\"linecolor\":\"rgb(36,36,36)\",\"showbackground\":true,\"showgrid\":false,\"showline\":true,\"ticks\":\"outside\",\"zeroline\":false,\"zerolinecolor\":\"rgb(36,36,36)\"},\"yaxis\":{\"backgroundcolor\":\"white\",\"gridcolor\":\"rgb(232,232,232)\",\"gridwidth\":2,\"linecolor\":\"rgb(36,36,36)\",\"showbackground\":true,\"showgrid\":false,\"showline\":true,\"ticks\":\"outside\",\"zeroline\":false,\"zerolinecolor\":\"rgb(36,36,36)\"},\"zaxis\":{\"backgroundcolor\":\"white\",\"gridcolor\":\"rgb(232,232,232)\",\"gridwidth\":2,\"linecolor\":\"rgb(36,36,36)\",\"showbackground\":true,\"showgrid\":false,\"showline\":true,\"ticks\":\"outside\",\"zeroline\":false,\"zerolinecolor\":\"rgb(36,36,36)\"}},\"shapedefaults\":{\"fillcolor\":\"black\",\"line\":{\"width\":0},\"opacity\":0.3},\"ternary\":{\"aaxis\":{\"gridcolor\":\"rgb(232,232,232)\",\"linecolor\":\"rgb(36,36,36)\",\"showgrid\":false,\"showline\":true,\"ticks\":\"outside\"},\"baxis\":{\"gridcolor\":\"rgb(232,232,232)\",\"linecolor\":\"rgb(36,36,36)\",\"showgrid\":false,\"showline\":true,\"ticks\":\"outside\"},\"bgcolor\":\"white\",\"caxis\":{\"gridcolor\":\"rgb(232,232,232)\",\"linecolor\":\"rgb(36,36,36)\",\"showgrid\":false,\"showline\":true,\"ticks\":\"outside\"}},\"title\":{\"x\":0.5,\"xanchor\":\"center\"},\"xaxis\":{\"automargin\":true,\"gridcolor\":\"rgb(232,232,232)\",\"linecolor\":\"rgb(36,36,36)\",\"showgrid\":true,\"showline\":true,\"ticks\":\"outside\",\"title\":{\"standoff\":15},\"zeroline\":false,\"zerolinecolor\":\"rgb(36,36,36)\"},\"yaxis\":{\"automargin\":true,\"gridcolor\":\"rgb(232,232,232)\",\"linecolor\":\"rgb(36,36,36)\",\"showgrid\":true,\"showline\":true,\"ticks\":\"outside\",\"title\":{\"standoff\":15},\"zeroline\":false,\"zerolinecolor\":\"rgb(36,36,36)\"},\"autosize\":true,\"height\":400,\"margin\":{\"b\":30,\"l\":30,\"r\":30,\"t\":30},\"width\":600}},\"xaxis\":{\"anchor\":\"y\",\"domain\":[0.0,1.0],\"title\":{\"text\":\"Difference in Precision\"}},\"yaxis\":{\"anchor\":\"x\",\"domain\":[0.0,1.0],\"title\":{\"text\":\"count\"}},\"legend\":{\"title\":{\"text\":\"variable\"},\"tracegroupgap\":0},\"barmode\":\"relative\",\"shapes\":[{\"line\":{\"color\":\"red\",\"dash\":\"dash\",\"width\":3},\"type\":\"line\",\"x0\":0.0565656565656566,\"x1\":0.0565656565656566,\"xref\":\"x\",\"y0\":0,\"y1\":1,\"yref\":\"y domain\"}]},                        {\"responsive\": true}                    ).then(function(){\n",
       "                            \n",
       "var gd = document.getElementById('4419ae51-b613-4261-b4a1-ff3a9d907917');\n",
       "var x = new MutationObserver(function (mutations, observer) {{\n",
       "        var display = window.getComputedStyle(gd).display;\n",
       "        if (!display || display === 'none') {{\n",
       "            console.log([gd, 'removed!']);\n",
       "            Plotly.purge(gd);\n",
       "            observer.disconnect();\n",
       "        }}\n",
       "}});\n",
       "\n",
       "// Listen for the removal of the full notebook cells\n",
       "var notebookContainer = gd.closest('#notebook-container');\n",
       "if (notebookContainer) {{\n",
       "    x.observe(notebookContainer, {childList: true});\n",
       "}}\n",
       "\n",
       "// Listen for the clearing of the current output cell\n",
       "var outputEl = gd.closest('.output');\n",
       "if (outputEl) {{\n",
       "    x.observe(outputEl, {childList: true});\n",
       "}}\n",
       "\n",
       "                        })                };                });            </script>        </div>"
      ]
     },
     "metadata": {},
     "output_type": "display_data"
    }
   ],
   "source": [
    "fig = px.histogram(stats, labels={\"value\": \"Difference in Precision\",\n",
    "                                  \"count\": \"Frequency\"})\n",
    "fig.add_vline(x=observed_diff, line_width=3, line_dash=\"dash\", line_color=\"red\")\n",
    "fig.show()"
   ]
  },
  {
   "cell_type": "code",
   "execution_count": 141,
   "metadata": {},
   "outputs": [],
   "source": [
    "fig.write_html(os.path.join(website_folder, \"fairness_analysis.html\"), include_plotlyjs='cdn')\n"
   ]
  },
  {
   "cell_type": "markdown",
   "metadata": {},
   "source": [
    "# Auxilary Code in python files"
   ]
  },
  {
   "cell_type": "code",
   "execution_count": 142,
   "metadata": {},
   "outputs": [],
   "source": [
    "################################################################################\n",
    "# Functions used in Project\n",
    "################################################################################\n",
    "import numpy as np\n",
    "import pandas as pd\n",
    "from plotly import express as px\n",
    "\n",
    "def time_date_to_timestamp(data:pd.DataFrame) -> pd.DataFrame:\n",
    "    data = data.copy()\n",
    "    data[\"OUTAGE.START.TIME\"] = pd.to_timedelta(data[\"OUTAGE.START.TIME\"],)\n",
    "    data[\"OUTAGE.RESTORATION.TIME\"] = pd.to_timedelta(data[\"OUTAGE.RESTORATION.TIME\"])\n",
    "    return data\n",
    "\n",
    "def time_to_datetime(data:pd.DataFrame) -> pd.DataFrame:\n",
    "    data = time_date_to_timestamp(data)\n",
    "    data[\"OUTAGE.START.DATE\"] = data[\"OUTAGE.START.DATE\"] + data[\"OUTAGE.START.TIME\"]\n",
    "    data[\"OUTAGE.RESTORATION.DATE\"] = data[\"OUTAGE.RESTORATION.DATE\"] + data[\"OUTAGE.RESTORATION.TIME\"]\n",
    "    return data\n",
    "\n",
    "def diff_medians(data:pd.DataFrame, val_col: str, label_col :str) -> float:\n",
    "    return data.groupby(label_col)[val_col].median().diff().iloc[-1]\n"
   ]
  },
  {
   "cell_type": "code",
   "execution_count": 143,
   "metadata": {},
   "outputs": [],
   "source": [
    "\"\"\"\n",
    "Imports and helpful functions that we use in DSC 80 lectures. Use `make\n",
    "setup-lec` to copy this (and custom-rise-styles.css) to the lecture folders.\n",
    "\n",
    "Usage:\n",
    "\n",
    "from dsc80_utils import *\n",
    "\"\"\"\n",
    "import pandas as pd\n",
    "import numpy as np\n",
    "import matplotlib.pyplot as plt\n",
    "import seaborn as sns\n",
    "from matplotlib_inline.backend_inline import set_matplotlib_formats\n",
    "from IPython.display import display, IFrame, HTML\n",
    "\n",
    "import plotly\n",
    "import plotly.figure_factory as ff\n",
    "import plotly.graph_objects as go\n",
    "import plotly.express as px\n",
    "from plotly.subplots import make_subplots\n",
    "import plotly.io as pio\n",
    "pio.renderers.default = \"notebook\"\n",
    "\n",
    "# DSC 80 preferred styles\n",
    "pio.templates[\"dsc80\"] = go.layout.Template(\n",
    "    layout=dict(\n",
    "        margin=dict(l=30, r=30, t=30, b=30),\n",
    "        autosize=True,\n",
    "        width=600,\n",
    "        height=400,\n",
    "        xaxis=dict(showgrid=True),\n",
    "        yaxis=dict(showgrid=True),\n",
    "        title=dict(x=0.5, xanchor=\"center\"),\n",
    "    )\n",
    ")\n",
    "pio.templates.default = \"simple_white+dsc80\"\n",
    "\n",
    "set_matplotlib_formats(\"svg\")\n",
    "sns.set_context(\"poster\")\n",
    "sns.set_style(\"whitegrid\")\n",
    "plt.rcParams[\"figure.figsize\"] = (10, 5)\n",
    "\n",
    "# display options for numpy and pandas\n",
    "np.set_printoptions(threshold=20, precision=2, suppress=True)\n",
    "pd.set_option(\"display.max_rows\", 7)\n",
    "pd.set_option(\"display.max_columns\", 8)\n",
    "pd.set_option(\"display.precision\", 2)\n",
    "\n",
    "# Use plotly as default plotting engine\n",
    "pd.options.plotting.backend = \"plotly\"\n",
    "\n",
    "\n",
    "def display_df(\n",
    "    df, rows=pd.options.display.max_rows, cols=pd.options.display.max_columns\n",
    "):\n",
    "    \"\"\"Displays n rows and cols from df\"\"\"\n",
    "    with pd.option_context(\n",
    "        \"display.max_rows\", rows, \"display.max_columns\", cols\n",
    "    ):\n",
    "        display(df)\n",
    "\n",
    "\n",
    "def dfs_side_by_side(*dfs):\n",
    "    \"\"\"\n",
    "    Displays two or more dataframes side by side.\n",
    "    \"\"\"\n",
    "    display(\n",
    "        HTML(\n",
    "            f\"\"\"\n",
    "        <div style=\"display: flex; gap: 1rem;\">\n",
    "        {''.join(df.to_html() for df in dfs)}\n",
    "        </div>\n",
    "    \"\"\"\n",
    "        )\n",
    "    )\n",
    "\n",
    "from pathlib import Path\n",
    "\n",
    "# The stuff below is for Lecture 7/8.\n",
    "def create_kde_plotly(df, group_col, group1, group2, vals_col, title=''):\n",
    "    fig = ff.create_distplot(\n",
    "        hist_data=[df.loc[df[group_col] == group1, vals_col], df.loc[df[group_col] == group2, vals_col]],\n",
    "        group_labels=[group1, group2],\n",
    "        show_rug=False, show_hist=False\n",
    "    )\n",
    "    return fig.update_layout(title=title)\n",
    "\n",
    "def multiple_hists(df_map, histnorm=\"probability\", title=\"\"):\n",
    "    values = [df_map[df_name][\"child\"].dropna() for df_name in df_map]\n",
    "    all_sets = pd.concat(values, keys=list(df_map.keys()))\n",
    "    all_sets = all_sets.reset_index()[[\"level_0\", \"child\"]].rename(\n",
    "        columns={\"level_0\": \"dataset\"}\n",
    "    )\n",
    "    fig = px.histogram(\n",
    "        all_sets,\n",
    "        color=\"dataset\",\n",
    "        x=\"child\",\n",
    "        barmode=\"overlay\",\n",
    "        histnorm=histnorm,\n",
    "    )\n",
    "    fig.update_layout(title=title)\n",
    "    return fig\n",
    "\n",
    "\n",
    "def multiple_kdes(df_map, title=\"\"):\n",
    "    values = [df_map[key][\"child\"].dropna() for key in df_map]\n",
    "    labels = list(df_map.keys())\n",
    "    fig = ff.create_distplot(\n",
    "        hist_data=values,\n",
    "        group_labels=labels,\n",
    "        show_rug=False,\n",
    "        show_hist=False,\n",
    "        colors=px.colors.qualitative.Dark2[: len(df_map)],\n",
    "    )\n",
    "    return fig.update_layout(title=title).update_xaxes(title=\"child\")\n",
    "\n",
    "def multiple_describe(df_map):\n",
    "    out = pd.DataFrame(\n",
    "        columns=[\"Dataset\", \"Mean\", \"Standard Deviation\"]\n",
    "    ).set_index(\"Dataset\")\n",
    "    for key in df_map:\n",
    "        out.loc[key] = df_map[key][\"child\"].apply([\"mean\", \"std\"]).to_numpy()\n",
    "    return out\n",
    "\n",
    "def make_mcar(data, col, pct=0.5):\n",
    "    \"\"\"Create MCAR from complete data\"\"\"\n",
    "    missing = data.copy()\n",
    "    idx = data.sample(frac=pct, replace=False).index\n",
    "    missing.loc[idx, col] = np.NaN\n",
    "    return missing\n",
    "\n",
    "\n",
    "def make_mar_on_cat(data, col, dep_col, pct=0.5):\n",
    "    \"\"\"Create MAR from complete data. The dependency is\n",
    "    created on dep_col, which is assumed to be categorical.\n",
    "    This is only *one* of many ways to create MAR data.\n",
    "    For the lecture examples only.\"\"\"\n",
    "\n",
    "    missing = data.copy()\n",
    "    # pick one value to blank out a lot\n",
    "    high_val = np.random.choice(missing[dep_col].unique())\n",
    "    weights = missing[dep_col].apply(lambda x: 0.9 if x == high_val else 0.1)\n",
    "    idx = data.sample(frac=pct, replace=False, weights=weights).index\n",
    "    missing.loc[idx, col] = np.NaN\n",
    "\n",
    "    return missing\n",
    "\n",
    "\n",
    "def make_mar_on_num(data, col, dep_col, pct=0.5):\n",
    "    \"\"\"Create MAR from complete data. The dependency is\n",
    "    created on dep_col, which is assumed to be numeric.\n",
    "    This is only *one* of many ways to create MAR data.\n",
    "    For the lecture examples only.\"\"\"\n",
    "\n",
    "    thresh = np.percentile(data[dep_col], 50)\n",
    "\n",
    "    def blank_above_middle(val):\n",
    "        if val >= thresh:\n",
    "            return 0.75\n",
    "        else:\n",
    "            return 0.25\n",
    "\n",
    "    missing = data.copy()\n",
    "    weights = missing[dep_col].apply(blank_above_middle)\n",
    "    idx = missing.sample(frac=pct, replace=False, weights=weights).index\n",
    "\n",
    "    missing.loc[idx, col] = np.NaN\n",
    "    return missing\n",
    "\n",
    "def permutation_test(data, col, group_col, test_statistic, N=1000):\n",
    "    \"\"\"\n",
    "    Conduct a permutation test to compare two groups based on a given test\n",
    "    statistic.\n",
    "\n",
    "    This function computes the observed test statistic for the two groups in the\n",
    "    dataset, and then generates a distribution of permuted test statistics by\n",
    "    repeatedly shuffling the group labels and calculating the test statistic on\n",
    "    the shuffled data. The result is a distribution of permuted statistics and\n",
    "    the observed statistic for comparison.\n",
    "\n",
    "    Parameters\n",
    "    ----------\n",
    "    data : pd.DataFrame\n",
    "        The input DataFrame containing the data to be tested, along with the\n",
    "        group labels.\n",
    "    col : str\n",
    "        The name of the column in `data` that contains the data values to be\n",
    "        compared between the two groups.\n",
    "    group_col : str\n",
    "        The name of the column in `data` that contains the group labels. There\n",
    "        should be exactly two unique groups in this column.\n",
    "    test_statistic : function\n",
    "        A function that calculates the test statistic based on the data column\n",
    "        and the group column. This function must accept three arguments: the\n",
    "        data DataFrame, the name of the data column, and the name of the group\n",
    "        column.\n",
    "    N : int, optional (default=1000)\n",
    "        The number of permutations to perform in the test.\n",
    "\n",
    "    Returns\n",
    "    -------\n",
    "    shuffled_stats : np.ndarray\n",
    "        An array of test statistics computed from the permuted datasets.\n",
    "    obs : np.floating\n",
    "        The observed test statistic calculated from the original data.\n",
    "\n",
    "    Example\n",
    "    -------\n",
    "    >>> import numpy as np\n",
    "    >>> import pandas as pd\n",
    "    >>> def mean_diff(data, col, group_col):\n",
    "    ...     group_means = data.groupby(group_col)[col].mean()\n",
    "    ...     return np.abs(group_means.iloc[0] - group_means.iloc[1])\n",
    "    >>> data = pd.DataFrame({\n",
    "    ...     'value': [1, 2, 3, 4, 5, 6],\n",
    "    ...     'group': ['A', 'A', 'A', 'B', 'B', 'B']\n",
    "    ... })\n",
    "    >>> perm_stats, obs_stat = permutation_test(data, 'value', 'group', mean_diff)\n",
    "    \"\"\"\n",
    "    obs = test_statistic(data, col, group_col)\n",
    "    shuffled = data.copy()\n",
    "\n",
    "    shuffled_stats = []\n",
    "    for _ in range(N):\n",
    "        shuffled[col] = np.random.permutation(shuffled[col])\n",
    "        shuffled_stat = test_statistic(shuffled, col, group_col)\n",
    "        shuffled_stats.append(shuffled_stat)\n",
    "\n",
    "    shuffled_stats = np.array(shuffled_stats)\n",
    "\n",
    "    return shuffled_stats, obs\n",
    "\n",
    "def diff_in_means(data, col, group_col):\n",
    "    \"\"\"\n",
    "    Compute the difference in means between two groups.\n",
    "\n",
    "    This function calculates the difference in means of the values in the\n",
    "    specified column between two groups defined by the group column.\n",
    "\n",
    "    Parameters\n",
    "    ----------\n",
    "    data : pandas.DataFrame\n",
    "        The input DataFrame containing the data and group labels.\n",
    "    col : str\n",
    "        The name of the column in `data` that contains the numeric data for\n",
    "        which the mean will be computed.\n",
    "    group_col : str\n",
    "        The name of the column in `data` that contains the group labels. There\n",
    "        should be exactly two unique groups in this column.\n",
    "\n",
    "    Returns\n",
    "    -------\n",
    "    float\n",
    "        The difference in means between the two groups. The result is\n",
    "        calculated as mean(group2) - mean(group1), where the group ordering is\n",
    "        based on their appearance in the DataFrame.\n",
    "\n",
    "    Example\n",
    "    -------\n",
    "    >>> import pandas as pd\n",
    "    >>> data = pd.DataFrame({\n",
    "    ...     'value': [1, 2, 3, 4, 5, 6],\n",
    "    ...     'group': ['A', 'A', 'A', 'B', 'B', 'B']\n",
    "    ... })\n",
    "    >>> diff_in_means(data, 'value', 'group')\n",
    "    np.float64(3.0)\n",
    "    \"\"\"\n",
    "    return data.groupby(group_col)[col].mean().diff().iloc[-1]\n",
    "\n",
    "\n",
    "def tvd(data, col, group_col):\n",
    "    \"\"\"\n",
    "    Compute the Total Variation Distance (TVD) between two categorical\n",
    "    distributions.\n",
    "\n",
    "    The Total Variation Distance (TVD) measures the difference between the\n",
    "    distributions of a categorical variable across two groups. It is defined as\n",
    "    half the sum of the absolute differences between the group-wise proportions\n",
    "    for each category.\n",
    "\n",
    "    Parameters\n",
    "    ----------\n",
    "    data : pandas.DataFrame\n",
    "        The input DataFrame containing the data and group labels.\n",
    "    col : str\n",
    "        The name of the column in `data` that contains the categorical data.\n",
    "    group_col : str\n",
    "        The name of the column in `data` that contains the group labels. There\n",
    "        should be exactly two unique groups in this column.\n",
    "\n",
    "    Returns\n",
    "    -------\n",
    "    float\n",
    "        The Total Variation Distance (TVD) between the two distributions. A\n",
    "        value of 0 indicates that the distributions are identical, while a value\n",
    "        of 1 indicates that they are completely disjoint.\n",
    "\n",
    "    Example\n",
    "    -------\n",
    "    >>> import pandas as pd\n",
    "    >>> data = pd.DataFrame({\n",
    "    ...     'category': ['X', 'X', 'Y', 'Y', 'Z', 'Z'],\n",
    "    ...     'group': ['A', 'A', 'B', 'B', 'B', 'A']\n",
    "    ... })\n",
    "    >>> tvd(data, 'category', 'group')\n",
    "    np.float64(0.6666666666666666)\n",
    "    \"\"\"\n",
    "\n",
    "    tvd = (\n",
    "        data.pivot_table(\n",
    "            index=col, columns=group_col, aggfunc=\"size\", fill_value=0\n",
    "        )\n",
    "        .apply(lambda x: x / x.sum())\n",
    "        .diff(axis=1)\n",
    "        .iloc[:, -1]\n",
    "        .abs()\n",
    "        .sum()\n",
    "        / 2\n",
    "    )\n",
    "\n",
    "    return tvd\n",
    "\n",
    "\n",
    "def ks(data, col, group_col):\n",
    "    \"\"\"\n",
    "    Compute the Kolmogorov-Smirnov (KS) statistic between two distributions.\n",
    "\n",
    "    The Kolmogorov-Smirnov (KS) statistic is used to measure the distance\n",
    "    between the empirical distribution functions of two samples. This function\n",
    "    applies the KS test to compare the distributions of a numeric column between\n",
    "    two groups.\n",
    "\n",
    "    Parameters\n",
    "    ----------\n",
    "    data : pandas.DataFrame\n",
    "        The input DataFrame containing the data and group labels.\n",
    "    col : str\n",
    "        The name of the column in `data` that contains the numeric data to\n",
    "        compare.\n",
    "    group_col : str\n",
    "        The name of the column in `data` that contains the group labels. There\n",
    "        should be exactly two unique groups in this column.\n",
    "\n",
    "    Returns\n",
    "    -------\n",
    "    float\n",
    "        The Kolmogorov-Smirnov (KS) statistic, which measures the maximum\n",
    "        distance between the two empirical cumulative distribution functions. A\n",
    "        higher value indicates greater dissimilarity between the distributions.\n",
    "\n",
    "    Example\n",
    "    -------\n",
    "    >>> import pandas as pd\n",
    "    >>> data = pd.DataFrame({\n",
    "    ...     'value': [1, 2, 3, 4, 5, 6],\n",
    "    ...     'group': ['A', 'A', 'A', 'B', 'B', 'B']\n",
    "    ... })\n",
    "    >>> ks(data, 'value', 'group')\n",
    "    np.float64(0.6666666666666666)\n",
    "    \"\"\"\n",
    "\n",
    "    from scipy.stats import ks_2samp\n",
    "\n",
    "    # should have only two values in column\n",
    "    valA, valB = data[group_col].unique()\n",
    "    ks, _ = ks_2samp(\n",
    "        data.loc[data[group_col] == valA, col],\n",
    "        data.loc[data[group_col] == valB, col],\n",
    "    )\n",
    "\n",
    "    return ks\n",
    "\n"
   ]
  }
 ],
 "metadata": {
  "kernelspec": {
   "display_name": "final_project",
   "language": "python",
   "name": "python3"
  },
  "language_info": {
   "codemirror_mode": {
    "name": "ipython",
    "version": 3
   },
   "file_extension": ".py",
   "mimetype": "text/x-python",
   "name": "python",
   "nbconvert_exporter": "python",
   "pygments_lexer": "ipython3",
   "version": "3.12.8"
  }
 },
 "nbformat": 4,
 "nbformat_minor": 2
}
